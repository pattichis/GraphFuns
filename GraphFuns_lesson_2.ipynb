{
 "cells": [
  {
   "cell_type": "markdown",
   "metadata": {},
   "source": [
    "# Setup\n",
    "The following code sets up the system by downloading the library from the web."
   ]
  },
  {
   "cell_type": "code",
   "execution_count": 1,
   "metadata": {},
   "outputs": [
    {
     "name": "stdout",
     "output_type": "stream",
     "text": [
      "File ‘equations.py’ already there; not retrieving.\n",
      "\n"
     ]
    }
   ],
   "source": [
    "# Remove existing files\n",
    "import os\n",
    "\n",
    "# os.chdir(\"/content/\")\n",
    "# !find './' -maxdepth 1 -type f -delete\n",
    "\n",
    "!wget -nc 'https://raw.githubusercontent.com/ugeshe/lineart/fall_2023/symbolic_graphs.py'\n",
    "\n",
    "# Import plotting functions\n",
    "from symbolic_graphs import graph_funs\n",
    "import numpy as np\n",
    "from sympy import sympify\n",
    "\n",
    "from sympy.interactive.printing import init_printing\n",
    "init_printing()"
   ]
  },
  {
   "cell_type": "markdown",
   "metadata": {},
   "source": [
    "# Object Oriented Programming using symbolic functions in Python\n",
    "In Python, you can do symbolic math by using the <tt>sympy</tt> library.<br>\n",
    "A library contains many functions that we can use. <br>\n",
    "We introduce the library using:\n",
    "```\n",
    "import sympy as sp\n",
    "```\n",
    "We can then define a symbolic variable using:\n",
    "```\n",
    "x = sp.symbols('x')\n",
    "```\n",
    "We can then define <b>symbolic equations</b> using <tt>x</tt>.\n",
    "A linear function is defined using:\n",
    "```\n",
    "f = 2*x - 3\n",
    "```\n",
    "We note that <tt>f</tt> is an <b>object</b>.<br>\n",
    "This means that it has a set of <b>functions</b> and data associated with it.<br>\n",
    "We can evaluate the function at different values using its <tt>subs</tt> function.<br>\n",
    "\n",
    "To see this, we first introduce a numerical variable:\n",
    "```\n",
    "x_val = 2\n",
    "```\n",
    "We then substitute the value using <tt>f.subs()</tt> as follows:\n",
    "```\n",
    "y = f.subs(x, x_val)\n",
    "```\n",
    "## Assignment: Learn about symbolic functions\n",
    "Run the code below and study it carefully.<br>\n",
    "Then do the following:\n",
    "1. Evaluate the function at 0.\n",
    "2. Modify the function to become <tt>5*x+3</tt> and evaluate the function at <tt>x=5</tt>."
   ]
  },
  {
   "cell_type": "code",
   "execution_count": 2,
   "metadata": {},
   "outputs": [
    {
     "name": "stdout",
     "output_type": "stream",
     "text": [
      "y= -3 for x= 0\n"
     ]
    }
   ],
   "source": [
    "# Import the library:\n",
    "import sympy as sp \n",
    "\n",
    "# Define x as a symbolic variable\n",
    "x = sp.symbols('x')\n",
    "\n",
    "# You can define an equation using x:\n",
    "f = 2*x - 3\n",
    "\n",
    "# Evaluate at different points:\n",
    "x_val = 0\n",
    "y = f.subs(x, x_val)\n",
    "\n",
    "print(\"y=\", y, \"for x=\", x_val)"
   ]
  },
  {
   "cell_type": "markdown",
   "metadata": {},
   "source": [
    "# Exponential Functions\n",
    "We define an exponential function using:\n",
    "  $$ y = a b^x \\quad\\text{where}\\quad a \\not= 0, \\quad b>0, \\quad b\\not= 1. $$\n",
    "In code, we can define the right-hand side variables symbolically using:\n",
    "```\n",
    "a, b, x = sp.symbols('a b x')\n",
    "```\n",
    "We can define the general exponential function using:\n",
    "```\n",
    "f = a*(b)**x\n",
    "```\n",
    "Please note that <tt>**</tt> is used to raise <tt>b</tt> to the <tt>x</tt> power.\n",
    "\n",
    "We can define a specific function by <b>substituting</b> specific\n",
    "  values to <tt>a</tt> and <tt>b</tt>.</br>\n",
    "We can do this by substituting one value at a time as given by:\n",
    "```\n",
    "f1 = f.subs(a, 2)    # f1 has a=2\n",
    "f1 = f1.subs(b, 3)   # f1 has b=3 and a=2\n",
    "```\n",
    "This creates a new function <tt>f1</tt> with the fixed values.<br>\n",
    "\n",
    "As before, we can evaluate <tt>f1</tt> at a given value using:\n",
    "```\n",
    "y = f1.subs(x, 2)\n",
    "```\n",
    "\n",
    "## Assignment:\n",
    "Study the code below and then modify it to produce the following functions:\n",
    "1. Modify the code to plot the following function:\n",
    "    $$ y = 4^x. $$\n",
    "2. Evaluate the new function for $x=0, 1, 2, 3$.\n",
    "2. Modify the code to plot the following function:\n",
    "    $$ y = \\left( \\frac{1}{2} \\right)^x. $$"
   ]
  },
  {
   "cell_type": "code",
   "execution_count": 3,
   "metadata": {},
   "outputs": [
    {
     "name": "stdout",
     "output_type": "stream",
     "text": [
      "y= 18  for x_val= 2\n"
     ]
    }
   ],
   "source": [
    "# DO NOT MODIFY THIS WORKING EXAMPLE (see below)\n",
    "\n",
    "# Create symbols\n",
    "a, b, x = sp.symbols('a b x')\n",
    "\n",
    "# Define exponential function\n",
    "f = a*(b)**x\n",
    "\n",
    "# Create a specific instance:\n",
    "f1 = f.subs(a, 2)    # f1 has a=2\n",
    "f1 = f1.subs(b, 3)   # f1 has b=3 and a=2\n",
    "\n",
    "# Evaluate function at x=2\n",
    "x_val = 2\n",
    "y_val = f1.subs(x, x_val)\n",
    "\n",
    "print(\"y=\", y_val, \" for x_val=\", x_val)\n"
   ]
  },
  {
   "cell_type": "code",
   "execution_count": 4,
   "metadata": {},
   "outputs": [
    {
     "name": "stdout",
     "output_type": "stream",
     "text": [
      "y= 18  for x_val= 2\n"
     ]
    }
   ],
   "source": [
    "# MODIFY this example to create y = 4**x\n",
    "\n",
    "# Create symbols\n",
    "a, b, x = sp.symbols('a b x')\n",
    "\n",
    "# Define exponential function\n",
    "f = a*(b)**x\n",
    "\n",
    "# Create a specific instance:\n",
    "f1 = f.subs(a, 2)    # f1 has a=2\n",
    "f1 = f1.subs(b, 3)   # f1 has b=3 and a=2\n",
    "\n",
    "# Evaluate function at x=2\n",
    "x_val = 2\n",
    "y_val = f1.subs(x, x_val)\n",
    "\n",
    "print(\"y=\", y_val, \" for x_val=\", x_val)\n"
   ]
  },
  {
   "cell_type": "code",
   "execution_count": 5,
   "metadata": {},
   "outputs": [
    {
     "name": "stdout",
     "output_type": "stream",
     "text": [
      "y= 18  for x_val= 2\n"
     ]
    }
   ],
   "source": [
    "# MODIFY this example to create y = (1/2)**x\n",
    "\n",
    "# Create symbols\n",
    "a, b, x = sp.symbols('a b x')\n",
    "\n",
    "# Define exponential function\n",
    "f = a*(b)**x\n",
    "\n",
    "# Create a specific instance:\n",
    "f1 = f.subs(a, 2)    # f1 has a=2\n",
    "f1 = f1.subs(b, 3)   # f1 has b=3 and a=2\n",
    "\n",
    "# Evaluate function at x=2\n",
    "x_val = 2\n",
    "y_val = f1.subs(x, x_val)\n",
    "\n",
    "print(\"y=\", y_val, \" for x_val=\", x_val)\n"
   ]
  },
  {
   "cell_type": "markdown",
   "metadata": {},
   "source": [
    "# Plotting functions\n",
    "To plot a function, you need to specify a range of values for x.<br>\n",
    "This is can be done using:\n",
    "```\n",
    "x_values = [0, 1, 2, 3]\n",
    "```\n",
    "As before, define the function:\n",
    "```\n",
    "f = 2*(3)**x\n",
    "```\n",
    "You can create a plot object using:\n",
    "```\n",
    "plot = graph_funs()\n",
    "```\n",
    "You then need to add the function to the object using:\n",
    "```\n",
    "plot.add_fun(f)\n",
    "```\n",
    "You can then plot the graph using:\n",
    "```\n",
    "plot.plot_functions_list(x_values=x_values)\n",
    "```\n",
    "## Assignment: Plotting a function\n",
    "Study the code below and then modify it to produce the following functions:\n",
    "1. Modify the code to plot the following function:\n",
    "    $$ y = 4^x. $$\n",
    "2. Modify the code to plot the following function:\n",
    "    $$ y = \\left( \\frac{1}{2} \\right)^x. $$\n"
   ]
  },
  {
   "cell_type": "code",
   "execution_count": 6,
   "metadata": {},
   "outputs": [
    {
     "data": {
      "application/vnd.plotly.v1+json": {
       "config": {
        "plotlyServerURL": "https://plot.ly"
       },
       "data": [
        {
         "mode": "lines+markers",
         "name": "2*3^x",
         "showlegend": true,
         "type": "scatter",
         "x": [
          0,
          1,
          2,
          3
         ],
         "y": [
          2,
          6,
          18,
          54
         ]
        }
       ],
       "layout": {
        "autosize": false,
        "template": {
         "data": {
          "bar": [
           {
            "error_x": {
             "color": "#2a3f5f"
            },
            "error_y": {
             "color": "#2a3f5f"
            },
            "marker": {
             "line": {
              "color": "#E5ECF6",
              "width": 0.5
             },
             "pattern": {
              "fillmode": "overlay",
              "size": 10,
              "solidity": 0.2
             }
            },
            "type": "bar"
           }
          ],
          "barpolar": [
           {
            "marker": {
             "line": {
              "color": "#E5ECF6",
              "width": 0.5
             },
             "pattern": {
              "fillmode": "overlay",
              "size": 10,
              "solidity": 0.2
             }
            },
            "type": "barpolar"
           }
          ],
          "carpet": [
           {
            "aaxis": {
             "endlinecolor": "#2a3f5f",
             "gridcolor": "white",
             "linecolor": "white",
             "minorgridcolor": "white",
             "startlinecolor": "#2a3f5f"
            },
            "baxis": {
             "endlinecolor": "#2a3f5f",
             "gridcolor": "white",
             "linecolor": "white",
             "minorgridcolor": "white",
             "startlinecolor": "#2a3f5f"
            },
            "type": "carpet"
           }
          ],
          "choropleth": [
           {
            "colorbar": {
             "outlinewidth": 0,
             "ticks": ""
            },
            "type": "choropleth"
           }
          ],
          "contour": [
           {
            "colorbar": {
             "outlinewidth": 0,
             "ticks": ""
            },
            "colorscale": [
             [
              0,
              "#0d0887"
             ],
             [
              0.1111111111111111,
              "#46039f"
             ],
             [
              0.2222222222222222,
              "#7201a8"
             ],
             [
              0.3333333333333333,
              "#9c179e"
             ],
             [
              0.4444444444444444,
              "#bd3786"
             ],
             [
              0.5555555555555556,
              "#d8576b"
             ],
             [
              0.6666666666666666,
              "#ed7953"
             ],
             [
              0.7777777777777778,
              "#fb9f3a"
             ],
             [
              0.8888888888888888,
              "#fdca26"
             ],
             [
              1,
              "#f0f921"
             ]
            ],
            "type": "contour"
           }
          ],
          "contourcarpet": [
           {
            "colorbar": {
             "outlinewidth": 0,
             "ticks": ""
            },
            "type": "contourcarpet"
           }
          ],
          "heatmap": [
           {
            "colorbar": {
             "outlinewidth": 0,
             "ticks": ""
            },
            "colorscale": [
             [
              0,
              "#0d0887"
             ],
             [
              0.1111111111111111,
              "#46039f"
             ],
             [
              0.2222222222222222,
              "#7201a8"
             ],
             [
              0.3333333333333333,
              "#9c179e"
             ],
             [
              0.4444444444444444,
              "#bd3786"
             ],
             [
              0.5555555555555556,
              "#d8576b"
             ],
             [
              0.6666666666666666,
              "#ed7953"
             ],
             [
              0.7777777777777778,
              "#fb9f3a"
             ],
             [
              0.8888888888888888,
              "#fdca26"
             ],
             [
              1,
              "#f0f921"
             ]
            ],
            "type": "heatmap"
           }
          ],
          "heatmapgl": [
           {
            "colorbar": {
             "outlinewidth": 0,
             "ticks": ""
            },
            "colorscale": [
             [
              0,
              "#0d0887"
             ],
             [
              0.1111111111111111,
              "#46039f"
             ],
             [
              0.2222222222222222,
              "#7201a8"
             ],
             [
              0.3333333333333333,
              "#9c179e"
             ],
             [
              0.4444444444444444,
              "#bd3786"
             ],
             [
              0.5555555555555556,
              "#d8576b"
             ],
             [
              0.6666666666666666,
              "#ed7953"
             ],
             [
              0.7777777777777778,
              "#fb9f3a"
             ],
             [
              0.8888888888888888,
              "#fdca26"
             ],
             [
              1,
              "#f0f921"
             ]
            ],
            "type": "heatmapgl"
           }
          ],
          "histogram": [
           {
            "marker": {
             "pattern": {
              "fillmode": "overlay",
              "size": 10,
              "solidity": 0.2
             }
            },
            "type": "histogram"
           }
          ],
          "histogram2d": [
           {
            "colorbar": {
             "outlinewidth": 0,
             "ticks": ""
            },
            "colorscale": [
             [
              0,
              "#0d0887"
             ],
             [
              0.1111111111111111,
              "#46039f"
             ],
             [
              0.2222222222222222,
              "#7201a8"
             ],
             [
              0.3333333333333333,
              "#9c179e"
             ],
             [
              0.4444444444444444,
              "#bd3786"
             ],
             [
              0.5555555555555556,
              "#d8576b"
             ],
             [
              0.6666666666666666,
              "#ed7953"
             ],
             [
              0.7777777777777778,
              "#fb9f3a"
             ],
             [
              0.8888888888888888,
              "#fdca26"
             ],
             [
              1,
              "#f0f921"
             ]
            ],
            "type": "histogram2d"
           }
          ],
          "histogram2dcontour": [
           {
            "colorbar": {
             "outlinewidth": 0,
             "ticks": ""
            },
            "colorscale": [
             [
              0,
              "#0d0887"
             ],
             [
              0.1111111111111111,
              "#46039f"
             ],
             [
              0.2222222222222222,
              "#7201a8"
             ],
             [
              0.3333333333333333,
              "#9c179e"
             ],
             [
              0.4444444444444444,
              "#bd3786"
             ],
             [
              0.5555555555555556,
              "#d8576b"
             ],
             [
              0.6666666666666666,
              "#ed7953"
             ],
             [
              0.7777777777777778,
              "#fb9f3a"
             ],
             [
              0.8888888888888888,
              "#fdca26"
             ],
             [
              1,
              "#f0f921"
             ]
            ],
            "type": "histogram2dcontour"
           }
          ],
          "mesh3d": [
           {
            "colorbar": {
             "outlinewidth": 0,
             "ticks": ""
            },
            "type": "mesh3d"
           }
          ],
          "parcoords": [
           {
            "line": {
             "colorbar": {
              "outlinewidth": 0,
              "ticks": ""
             }
            },
            "type": "parcoords"
           }
          ],
          "pie": [
           {
            "automargin": true,
            "type": "pie"
           }
          ],
          "scatter": [
           {
            "fillpattern": {
             "fillmode": "overlay",
             "size": 10,
             "solidity": 0.2
            },
            "type": "scatter"
           }
          ],
          "scatter3d": [
           {
            "line": {
             "colorbar": {
              "outlinewidth": 0,
              "ticks": ""
             }
            },
            "marker": {
             "colorbar": {
              "outlinewidth": 0,
              "ticks": ""
             }
            },
            "type": "scatter3d"
           }
          ],
          "scattercarpet": [
           {
            "marker": {
             "colorbar": {
              "outlinewidth": 0,
              "ticks": ""
             }
            },
            "type": "scattercarpet"
           }
          ],
          "scattergeo": [
           {
            "marker": {
             "colorbar": {
              "outlinewidth": 0,
              "ticks": ""
             }
            },
            "type": "scattergeo"
           }
          ],
          "scattergl": [
           {
            "marker": {
             "colorbar": {
              "outlinewidth": 0,
              "ticks": ""
             }
            },
            "type": "scattergl"
           }
          ],
          "scattermapbox": [
           {
            "marker": {
             "colorbar": {
              "outlinewidth": 0,
              "ticks": ""
             }
            },
            "type": "scattermapbox"
           }
          ],
          "scatterpolar": [
           {
            "marker": {
             "colorbar": {
              "outlinewidth": 0,
              "ticks": ""
             }
            },
            "type": "scatterpolar"
           }
          ],
          "scatterpolargl": [
           {
            "marker": {
             "colorbar": {
              "outlinewidth": 0,
              "ticks": ""
             }
            },
            "type": "scatterpolargl"
           }
          ],
          "scatterternary": [
           {
            "marker": {
             "colorbar": {
              "outlinewidth": 0,
              "ticks": ""
             }
            },
            "type": "scatterternary"
           }
          ],
          "surface": [
           {
            "colorbar": {
             "outlinewidth": 0,
             "ticks": ""
            },
            "colorscale": [
             [
              0,
              "#0d0887"
             ],
             [
              0.1111111111111111,
              "#46039f"
             ],
             [
              0.2222222222222222,
              "#7201a8"
             ],
             [
              0.3333333333333333,
              "#9c179e"
             ],
             [
              0.4444444444444444,
              "#bd3786"
             ],
             [
              0.5555555555555556,
              "#d8576b"
             ],
             [
              0.6666666666666666,
              "#ed7953"
             ],
             [
              0.7777777777777778,
              "#fb9f3a"
             ],
             [
              0.8888888888888888,
              "#fdca26"
             ],
             [
              1,
              "#f0f921"
             ]
            ],
            "type": "surface"
           }
          ],
          "table": [
           {
            "cells": {
             "fill": {
              "color": "#EBF0F8"
             },
             "line": {
              "color": "white"
             }
            },
            "header": {
             "fill": {
              "color": "#C8D4E3"
             },
             "line": {
              "color": "white"
             }
            },
            "type": "table"
           }
          ]
         },
         "layout": {
          "annotationdefaults": {
           "arrowcolor": "#2a3f5f",
           "arrowhead": 0,
           "arrowwidth": 1
          },
          "autotypenumbers": "strict",
          "coloraxis": {
           "colorbar": {
            "outlinewidth": 0,
            "ticks": ""
           }
          },
          "colorscale": {
           "diverging": [
            [
             0,
             "#8e0152"
            ],
            [
             0.1,
             "#c51b7d"
            ],
            [
             0.2,
             "#de77ae"
            ],
            [
             0.3,
             "#f1b6da"
            ],
            [
             0.4,
             "#fde0ef"
            ],
            [
             0.5,
             "#f7f7f7"
            ],
            [
             0.6,
             "#e6f5d0"
            ],
            [
             0.7,
             "#b8e186"
            ],
            [
             0.8,
             "#7fbc41"
            ],
            [
             0.9,
             "#4d9221"
            ],
            [
             1,
             "#276419"
            ]
           ],
           "sequential": [
            [
             0,
             "#0d0887"
            ],
            [
             0.1111111111111111,
             "#46039f"
            ],
            [
             0.2222222222222222,
             "#7201a8"
            ],
            [
             0.3333333333333333,
             "#9c179e"
            ],
            [
             0.4444444444444444,
             "#bd3786"
            ],
            [
             0.5555555555555556,
             "#d8576b"
            ],
            [
             0.6666666666666666,
             "#ed7953"
            ],
            [
             0.7777777777777778,
             "#fb9f3a"
            ],
            [
             0.8888888888888888,
             "#fdca26"
            ],
            [
             1,
             "#f0f921"
            ]
           ],
           "sequentialminus": [
            [
             0,
             "#0d0887"
            ],
            [
             0.1111111111111111,
             "#46039f"
            ],
            [
             0.2222222222222222,
             "#7201a8"
            ],
            [
             0.3333333333333333,
             "#9c179e"
            ],
            [
             0.4444444444444444,
             "#bd3786"
            ],
            [
             0.5555555555555556,
             "#d8576b"
            ],
            [
             0.6666666666666666,
             "#ed7953"
            ],
            [
             0.7777777777777778,
             "#fb9f3a"
            ],
            [
             0.8888888888888888,
             "#fdca26"
            ],
            [
             1,
             "#f0f921"
            ]
           ]
          },
          "colorway": [
           "#636efa",
           "#EF553B",
           "#00cc96",
           "#ab63fa",
           "#FFA15A",
           "#19d3f3",
           "#FF6692",
           "#B6E880",
           "#FF97FF",
           "#FECB52"
          ],
          "font": {
           "color": "#2a3f5f"
          },
          "geo": {
           "bgcolor": "white",
           "lakecolor": "white",
           "landcolor": "#E5ECF6",
           "showlakes": true,
           "showland": true,
           "subunitcolor": "white"
          },
          "hoverlabel": {
           "align": "left"
          },
          "hovermode": "closest",
          "mapbox": {
           "style": "light"
          },
          "paper_bgcolor": "white",
          "plot_bgcolor": "#E5ECF6",
          "polar": {
           "angularaxis": {
            "gridcolor": "white",
            "linecolor": "white",
            "ticks": ""
           },
           "bgcolor": "#E5ECF6",
           "radialaxis": {
            "gridcolor": "white",
            "linecolor": "white",
            "ticks": ""
           }
          },
          "scene": {
           "xaxis": {
            "backgroundcolor": "#E5ECF6",
            "gridcolor": "white",
            "gridwidth": 2,
            "linecolor": "white",
            "showbackground": true,
            "ticks": "",
            "zerolinecolor": "white"
           },
           "yaxis": {
            "backgroundcolor": "#E5ECF6",
            "gridcolor": "white",
            "gridwidth": 2,
            "linecolor": "white",
            "showbackground": true,
            "ticks": "",
            "zerolinecolor": "white"
           },
           "zaxis": {
            "backgroundcolor": "#E5ECF6",
            "gridcolor": "white",
            "gridwidth": 2,
            "linecolor": "white",
            "showbackground": true,
            "ticks": "",
            "zerolinecolor": "white"
           }
          },
          "shapedefaults": {
           "line": {
            "color": "#2a3f5f"
           }
          },
          "ternary": {
           "aaxis": {
            "gridcolor": "white",
            "linecolor": "white",
            "ticks": ""
           },
           "baxis": {
            "gridcolor": "white",
            "linecolor": "white",
            "ticks": ""
           },
           "bgcolor": "#E5ECF6",
           "caxis": {
            "gridcolor": "white",
            "linecolor": "white",
            "ticks": ""
           }
          },
          "title": {
           "x": 0.05
          },
          "xaxis": {
           "automargin": true,
           "gridcolor": "white",
           "linecolor": "white",
           "ticks": "",
           "title": {
            "standoff": 15
           },
           "zerolinecolor": "white",
           "zerolinewidth": 2
          },
          "yaxis": {
           "automargin": true,
           "gridcolor": "white",
           "linecolor": "white",
           "ticks": "",
           "title": {
            "standoff": 15
           },
           "zerolinecolor": "white",
           "zerolinewidth": 2
          }
         }
        },
        "title": {
         "text": " ",
         "x": 0.5,
         "xanchor": "center",
         "y": 0.95,
         "yanchor": "top"
        },
        "xaxis": {
         "title": {
          "text": "x"
         }
        },
        "yaxis": {
         "title": {
          "text": "y"
         }
        }
       }
      }
     },
     "metadata": {},
     "output_type": "display_data"
    }
   ],
   "source": [
    "# Generate the list of numbers\n",
    "x_values = [0, 1, 2, 3]\n",
    "\n",
    "# Define exponential function\n",
    "f = 2*(3)**x\n",
    "\n",
    "# Create a graph object\n",
    "plot = graph_funs() \n",
    "\n",
    "# Add to the list of functions:\n",
    "plot.add_fun(f)\n",
    "plot.plot_functions_list(x_values=x_values)\n"
   ]
  },
  {
   "cell_type": "markdown",
   "metadata": {},
   "source": [
    "# Plotting functions using many points\n",
    "To plot a function, you need to specify a range of values for x.<br>\n",
    "This is done using:\n",
    "```\n",
    "min_x = 0.0 \n",
    "max_x = 5.0\n",
    "num_points = 5\n",
    "x_values = np.linspace(min_x, max_x, num_points)\n",
    "```\n",
    "## Assignment: plotting with many points\n",
    "Study the code below.<br>\n",
    "1. Modify the code to increase the number of points to 40.<br>\n",
    "2. Do you think the graph looks better?\n",
    "3. Move the cursor over the points"
   ]
  },
  {
   "cell_type": "code",
   "execution_count": 7,
   "metadata": {},
   "outputs": [
    {
     "data": {
      "application/vnd.plotly.v1+json": {
       "config": {
        "plotlyServerURL": "https://plot.ly"
       },
       "data": [
        {
         "mode": "lines+markers",
         "name": "2*3^x",
         "showlegend": true,
         "type": "scatter",
         "x": [
          0,
          1.25,
          2.5,
          3.75,
          5
         ],
         "y": [
          2,
          7.896444077714955,
          31.176914536239792,
          123.093381075558,
          486
         ]
        }
       ],
       "layout": {
        "autosize": false,
        "template": {
         "data": {
          "bar": [
           {
            "error_x": {
             "color": "#2a3f5f"
            },
            "error_y": {
             "color": "#2a3f5f"
            },
            "marker": {
             "line": {
              "color": "#E5ECF6",
              "width": 0.5
             },
             "pattern": {
              "fillmode": "overlay",
              "size": 10,
              "solidity": 0.2
             }
            },
            "type": "bar"
           }
          ],
          "barpolar": [
           {
            "marker": {
             "line": {
              "color": "#E5ECF6",
              "width": 0.5
             },
             "pattern": {
              "fillmode": "overlay",
              "size": 10,
              "solidity": 0.2
             }
            },
            "type": "barpolar"
           }
          ],
          "carpet": [
           {
            "aaxis": {
             "endlinecolor": "#2a3f5f",
             "gridcolor": "white",
             "linecolor": "white",
             "minorgridcolor": "white",
             "startlinecolor": "#2a3f5f"
            },
            "baxis": {
             "endlinecolor": "#2a3f5f",
             "gridcolor": "white",
             "linecolor": "white",
             "minorgridcolor": "white",
             "startlinecolor": "#2a3f5f"
            },
            "type": "carpet"
           }
          ],
          "choropleth": [
           {
            "colorbar": {
             "outlinewidth": 0,
             "ticks": ""
            },
            "type": "choropleth"
           }
          ],
          "contour": [
           {
            "colorbar": {
             "outlinewidth": 0,
             "ticks": ""
            },
            "colorscale": [
             [
              0,
              "#0d0887"
             ],
             [
              0.1111111111111111,
              "#46039f"
             ],
             [
              0.2222222222222222,
              "#7201a8"
             ],
             [
              0.3333333333333333,
              "#9c179e"
             ],
             [
              0.4444444444444444,
              "#bd3786"
             ],
             [
              0.5555555555555556,
              "#d8576b"
             ],
             [
              0.6666666666666666,
              "#ed7953"
             ],
             [
              0.7777777777777778,
              "#fb9f3a"
             ],
             [
              0.8888888888888888,
              "#fdca26"
             ],
             [
              1,
              "#f0f921"
             ]
            ],
            "type": "contour"
           }
          ],
          "contourcarpet": [
           {
            "colorbar": {
             "outlinewidth": 0,
             "ticks": ""
            },
            "type": "contourcarpet"
           }
          ],
          "heatmap": [
           {
            "colorbar": {
             "outlinewidth": 0,
             "ticks": ""
            },
            "colorscale": [
             [
              0,
              "#0d0887"
             ],
             [
              0.1111111111111111,
              "#46039f"
             ],
             [
              0.2222222222222222,
              "#7201a8"
             ],
             [
              0.3333333333333333,
              "#9c179e"
             ],
             [
              0.4444444444444444,
              "#bd3786"
             ],
             [
              0.5555555555555556,
              "#d8576b"
             ],
             [
              0.6666666666666666,
              "#ed7953"
             ],
             [
              0.7777777777777778,
              "#fb9f3a"
             ],
             [
              0.8888888888888888,
              "#fdca26"
             ],
             [
              1,
              "#f0f921"
             ]
            ],
            "type": "heatmap"
           }
          ],
          "heatmapgl": [
           {
            "colorbar": {
             "outlinewidth": 0,
             "ticks": ""
            },
            "colorscale": [
             [
              0,
              "#0d0887"
             ],
             [
              0.1111111111111111,
              "#46039f"
             ],
             [
              0.2222222222222222,
              "#7201a8"
             ],
             [
              0.3333333333333333,
              "#9c179e"
             ],
             [
              0.4444444444444444,
              "#bd3786"
             ],
             [
              0.5555555555555556,
              "#d8576b"
             ],
             [
              0.6666666666666666,
              "#ed7953"
             ],
             [
              0.7777777777777778,
              "#fb9f3a"
             ],
             [
              0.8888888888888888,
              "#fdca26"
             ],
             [
              1,
              "#f0f921"
             ]
            ],
            "type": "heatmapgl"
           }
          ],
          "histogram": [
           {
            "marker": {
             "pattern": {
              "fillmode": "overlay",
              "size": 10,
              "solidity": 0.2
             }
            },
            "type": "histogram"
           }
          ],
          "histogram2d": [
           {
            "colorbar": {
             "outlinewidth": 0,
             "ticks": ""
            },
            "colorscale": [
             [
              0,
              "#0d0887"
             ],
             [
              0.1111111111111111,
              "#46039f"
             ],
             [
              0.2222222222222222,
              "#7201a8"
             ],
             [
              0.3333333333333333,
              "#9c179e"
             ],
             [
              0.4444444444444444,
              "#bd3786"
             ],
             [
              0.5555555555555556,
              "#d8576b"
             ],
             [
              0.6666666666666666,
              "#ed7953"
             ],
             [
              0.7777777777777778,
              "#fb9f3a"
             ],
             [
              0.8888888888888888,
              "#fdca26"
             ],
             [
              1,
              "#f0f921"
             ]
            ],
            "type": "histogram2d"
           }
          ],
          "histogram2dcontour": [
           {
            "colorbar": {
             "outlinewidth": 0,
             "ticks": ""
            },
            "colorscale": [
             [
              0,
              "#0d0887"
             ],
             [
              0.1111111111111111,
              "#46039f"
             ],
             [
              0.2222222222222222,
              "#7201a8"
             ],
             [
              0.3333333333333333,
              "#9c179e"
             ],
             [
              0.4444444444444444,
              "#bd3786"
             ],
             [
              0.5555555555555556,
              "#d8576b"
             ],
             [
              0.6666666666666666,
              "#ed7953"
             ],
             [
              0.7777777777777778,
              "#fb9f3a"
             ],
             [
              0.8888888888888888,
              "#fdca26"
             ],
             [
              1,
              "#f0f921"
             ]
            ],
            "type": "histogram2dcontour"
           }
          ],
          "mesh3d": [
           {
            "colorbar": {
             "outlinewidth": 0,
             "ticks": ""
            },
            "type": "mesh3d"
           }
          ],
          "parcoords": [
           {
            "line": {
             "colorbar": {
              "outlinewidth": 0,
              "ticks": ""
             }
            },
            "type": "parcoords"
           }
          ],
          "pie": [
           {
            "automargin": true,
            "type": "pie"
           }
          ],
          "scatter": [
           {
            "fillpattern": {
             "fillmode": "overlay",
             "size": 10,
             "solidity": 0.2
            },
            "type": "scatter"
           }
          ],
          "scatter3d": [
           {
            "line": {
             "colorbar": {
              "outlinewidth": 0,
              "ticks": ""
             }
            },
            "marker": {
             "colorbar": {
              "outlinewidth": 0,
              "ticks": ""
             }
            },
            "type": "scatter3d"
           }
          ],
          "scattercarpet": [
           {
            "marker": {
             "colorbar": {
              "outlinewidth": 0,
              "ticks": ""
             }
            },
            "type": "scattercarpet"
           }
          ],
          "scattergeo": [
           {
            "marker": {
             "colorbar": {
              "outlinewidth": 0,
              "ticks": ""
             }
            },
            "type": "scattergeo"
           }
          ],
          "scattergl": [
           {
            "marker": {
             "colorbar": {
              "outlinewidth": 0,
              "ticks": ""
             }
            },
            "type": "scattergl"
           }
          ],
          "scattermapbox": [
           {
            "marker": {
             "colorbar": {
              "outlinewidth": 0,
              "ticks": ""
             }
            },
            "type": "scattermapbox"
           }
          ],
          "scatterpolar": [
           {
            "marker": {
             "colorbar": {
              "outlinewidth": 0,
              "ticks": ""
             }
            },
            "type": "scatterpolar"
           }
          ],
          "scatterpolargl": [
           {
            "marker": {
             "colorbar": {
              "outlinewidth": 0,
              "ticks": ""
             }
            },
            "type": "scatterpolargl"
           }
          ],
          "scatterternary": [
           {
            "marker": {
             "colorbar": {
              "outlinewidth": 0,
              "ticks": ""
             }
            },
            "type": "scatterternary"
           }
          ],
          "surface": [
           {
            "colorbar": {
             "outlinewidth": 0,
             "ticks": ""
            },
            "colorscale": [
             [
              0,
              "#0d0887"
             ],
             [
              0.1111111111111111,
              "#46039f"
             ],
             [
              0.2222222222222222,
              "#7201a8"
             ],
             [
              0.3333333333333333,
              "#9c179e"
             ],
             [
              0.4444444444444444,
              "#bd3786"
             ],
             [
              0.5555555555555556,
              "#d8576b"
             ],
             [
              0.6666666666666666,
              "#ed7953"
             ],
             [
              0.7777777777777778,
              "#fb9f3a"
             ],
             [
              0.8888888888888888,
              "#fdca26"
             ],
             [
              1,
              "#f0f921"
             ]
            ],
            "type": "surface"
           }
          ],
          "table": [
           {
            "cells": {
             "fill": {
              "color": "#EBF0F8"
             },
             "line": {
              "color": "white"
             }
            },
            "header": {
             "fill": {
              "color": "#C8D4E3"
             },
             "line": {
              "color": "white"
             }
            },
            "type": "table"
           }
          ]
         },
         "layout": {
          "annotationdefaults": {
           "arrowcolor": "#2a3f5f",
           "arrowhead": 0,
           "arrowwidth": 1
          },
          "autotypenumbers": "strict",
          "coloraxis": {
           "colorbar": {
            "outlinewidth": 0,
            "ticks": ""
           }
          },
          "colorscale": {
           "diverging": [
            [
             0,
             "#8e0152"
            ],
            [
             0.1,
             "#c51b7d"
            ],
            [
             0.2,
             "#de77ae"
            ],
            [
             0.3,
             "#f1b6da"
            ],
            [
             0.4,
             "#fde0ef"
            ],
            [
             0.5,
             "#f7f7f7"
            ],
            [
             0.6,
             "#e6f5d0"
            ],
            [
             0.7,
             "#b8e186"
            ],
            [
             0.8,
             "#7fbc41"
            ],
            [
             0.9,
             "#4d9221"
            ],
            [
             1,
             "#276419"
            ]
           ],
           "sequential": [
            [
             0,
             "#0d0887"
            ],
            [
             0.1111111111111111,
             "#46039f"
            ],
            [
             0.2222222222222222,
             "#7201a8"
            ],
            [
             0.3333333333333333,
             "#9c179e"
            ],
            [
             0.4444444444444444,
             "#bd3786"
            ],
            [
             0.5555555555555556,
             "#d8576b"
            ],
            [
             0.6666666666666666,
             "#ed7953"
            ],
            [
             0.7777777777777778,
             "#fb9f3a"
            ],
            [
             0.8888888888888888,
             "#fdca26"
            ],
            [
             1,
             "#f0f921"
            ]
           ],
           "sequentialminus": [
            [
             0,
             "#0d0887"
            ],
            [
             0.1111111111111111,
             "#46039f"
            ],
            [
             0.2222222222222222,
             "#7201a8"
            ],
            [
             0.3333333333333333,
             "#9c179e"
            ],
            [
             0.4444444444444444,
             "#bd3786"
            ],
            [
             0.5555555555555556,
             "#d8576b"
            ],
            [
             0.6666666666666666,
             "#ed7953"
            ],
            [
             0.7777777777777778,
             "#fb9f3a"
            ],
            [
             0.8888888888888888,
             "#fdca26"
            ],
            [
             1,
             "#f0f921"
            ]
           ]
          },
          "colorway": [
           "#636efa",
           "#EF553B",
           "#00cc96",
           "#ab63fa",
           "#FFA15A",
           "#19d3f3",
           "#FF6692",
           "#B6E880",
           "#FF97FF",
           "#FECB52"
          ],
          "font": {
           "color": "#2a3f5f"
          },
          "geo": {
           "bgcolor": "white",
           "lakecolor": "white",
           "landcolor": "#E5ECF6",
           "showlakes": true,
           "showland": true,
           "subunitcolor": "white"
          },
          "hoverlabel": {
           "align": "left"
          },
          "hovermode": "closest",
          "mapbox": {
           "style": "light"
          },
          "paper_bgcolor": "white",
          "plot_bgcolor": "#E5ECF6",
          "polar": {
           "angularaxis": {
            "gridcolor": "white",
            "linecolor": "white",
            "ticks": ""
           },
           "bgcolor": "#E5ECF6",
           "radialaxis": {
            "gridcolor": "white",
            "linecolor": "white",
            "ticks": ""
           }
          },
          "scene": {
           "xaxis": {
            "backgroundcolor": "#E5ECF6",
            "gridcolor": "white",
            "gridwidth": 2,
            "linecolor": "white",
            "showbackground": true,
            "ticks": "",
            "zerolinecolor": "white"
           },
           "yaxis": {
            "backgroundcolor": "#E5ECF6",
            "gridcolor": "white",
            "gridwidth": 2,
            "linecolor": "white",
            "showbackground": true,
            "ticks": "",
            "zerolinecolor": "white"
           },
           "zaxis": {
            "backgroundcolor": "#E5ECF6",
            "gridcolor": "white",
            "gridwidth": 2,
            "linecolor": "white",
            "showbackground": true,
            "ticks": "",
            "zerolinecolor": "white"
           }
          },
          "shapedefaults": {
           "line": {
            "color": "#2a3f5f"
           }
          },
          "ternary": {
           "aaxis": {
            "gridcolor": "white",
            "linecolor": "white",
            "ticks": ""
           },
           "baxis": {
            "gridcolor": "white",
            "linecolor": "white",
            "ticks": ""
           },
           "bgcolor": "#E5ECF6",
           "caxis": {
            "gridcolor": "white",
            "linecolor": "white",
            "ticks": ""
           }
          },
          "title": {
           "x": 0.05
          },
          "xaxis": {
           "automargin": true,
           "gridcolor": "white",
           "linecolor": "white",
           "ticks": "",
           "title": {
            "standoff": 15
           },
           "zerolinecolor": "white",
           "zerolinewidth": 2
          },
          "yaxis": {
           "automargin": true,
           "gridcolor": "white",
           "linecolor": "white",
           "ticks": "",
           "title": {
            "standoff": 15
           },
           "zerolinecolor": "white",
           "zerolinewidth": 2
          }
         }
        },
        "title": {
         "text": " ",
         "x": 0.5,
         "xanchor": "center",
         "y": 0.95,
         "yanchor": "top"
        },
        "xaxis": {
         "title": {
          "text": "x"
         }
        },
        "yaxis": {
         "title": {
          "text": "y"
         }
        }
       }
      }
     },
     "metadata": {},
     "output_type": "display_data"
    }
   ],
   "source": [
    "# Generate the list of numbers\n",
    "min_x = 0.0 \n",
    "max_x = 5.0\n",
    "num_points = 5\n",
    "x_values = np.linspace(min_x, max_x, num_points)\n",
    "\n",
    "# Define exponential function\n",
    "f = 2*(3)**x\n",
    "\n",
    "# Create a graph object\n",
    "plot = graph_funs() \n",
    "\n",
    "# Add to the list of functions:\n",
    "plot.add_fun(f)\n",
    "plot.plot_functions_list(x_values=x_values)"
   ]
  },
  {
   "cell_type": "markdown",
   "metadata": {},
   "source": [
    "# Translating horizontally\n",
    "You can translate a graph by substitution.<br>\n",
    "You can translate by horizontally by 1 using:\n",
    "```\n",
    "f_translated = f.subs(x, x-1)\n",
    "```\n",
    "We can do multiple translations using:\n",
    "```\n",
    "plot.add_hor_translations([0, 1, -1])\n",
    "```\n",
    "You can also change the title of the plot using:\n",
    "```\n",
    "plot.plot_functions_list(..., plot_title=\"Horizontal Translations\")\n",
    "```\n",
    "The rest of the code is the same as before :-)\n",
    "\n",
    "## Assignment: Plot horizontal translations\n",
    "Study the code below and then modify it to:\n",
    "1. Modify the code to translate the following function:\n",
    "    $$ y = 4^x. $$\n",
    "2. Modify the translations for <tt>x=[0, -2, 2]</tt>.\n",
    "3. Use <tt>np.linspace(.)</tt> to generate 10 translations between -10 and + 10.\n"
   ]
  },
  {
   "cell_type": "code",
   "execution_count": 8,
   "metadata": {},
   "outputs": [
    {
     "name": "stdout",
     "output_type": "stream",
     "text": [
      "Original f =  2*3**x  translated f horizontally by 1 =  2*3**(x - 1)\n"
     ]
    },
    {
     "data": {
      "application/vnd.plotly.v1+json": {
       "config": {
        "plotlyServerURL": "https://plot.ly"
       },
       "data": [
        {
         "mode": "lines+markers",
         "name": "2*3^x",
         "showlegend": true,
         "type": "scatter",
         "x": [
          0,
          0.10204081632653061,
          0.20408163265306123,
          0.30612244897959184,
          0.40816326530612246,
          0.5102040816326531,
          0.6122448979591837,
          0.7142857142857143,
          0.8163265306122449,
          0.9183673469387755,
          1.0204081632653061,
          1.1224489795918369,
          1.2244897959183674,
          1.3265306122448979,
          1.4285714285714286,
          1.5306122448979593,
          1.6326530612244898,
          1.7346938775510203,
          1.836734693877551,
          1.9387755102040818,
          2.0408163265306123,
          2.142857142857143,
          2.2448979591836737,
          2.3469387755102042,
          2.4489795918367347,
          2.5510204081632653,
          2.6530612244897958,
          2.7551020408163267,
          2.857142857142857,
          2.9591836734693877,
          3.0612244897959187,
          3.163265306122449,
          3.2653061224489797,
          3.36734693877551,
          3.4693877551020407,
          3.5714285714285716,
          3.673469387755102,
          3.7755102040816326,
          3.8775510204081636,
          3.979591836734694,
          4.081632653061225,
          4.183673469387755,
          4.285714285714286,
          4.387755102040816,
          4.4897959183673475,
          4.591836734693878,
          4.6938775510204085,
          4.795918367346939,
          4.8979591836734695,
          5
         ],
         "y": [
          2,
          2.2372568062644036,
          2.5026590085881995,
          2.7995454503614368,
          3.1316510566338347,
          3.5031538206495787,
          3.91872736431971,
          4.383599733859419,
          4.903619170257906,
          5.485327681994054,
          6.13604334556587,
          6.863952369200323,
          7.67821207793405,
          8.58906611564975,
          9.607973313346184,
          10.747751844845252,
          12.022740483460419,
          13.448978988286202,
          15.04440988942513,
          16.82910421067394,
          18.8255139693316,
          21.058754629656363,
          23.556921063325365,
          26.35144099177898,
          29.47747035686616,
          32.974335593678,
          36.88602836950134,
          41.261759012864395,
          46.15657559498622,
          51.63205645187019,
          57.757084859187266,
          64.6087156056037,
          72.27314436631903,
          80.84679207183854,
          90.43751791368187,
          101.16597624702189,
          113.16713446051634,
          126.59197090861454,
          141.60937426686166,
          158.40826820468976,
          177.19998810474962,
          198.2209397286612,
          221.73557327603663,
          248.03971025137614,
          277.4642649918712,
          310.37940767410686,
          347.1992211716048,
          388.38691034793635,
          434.4606293199616,
          486
         ]
        },
        {
         "mode": "lines+markers",
         "name": "2*3^(x - 1)",
         "showlegend": true,
         "type": "scatter",
         "x": [
          0,
          0.10204081632653061,
          0.20408163265306123,
          0.30612244897959184,
          0.40816326530612246,
          0.5102040816326531,
          0.6122448979591837,
          0.7142857142857143,
          0.8163265306122449,
          0.9183673469387755,
          1.0204081632653061,
          1.1224489795918369,
          1.2244897959183674,
          1.3265306122448979,
          1.4285714285714286,
          1.5306122448979593,
          1.6326530612244898,
          1.7346938775510203,
          1.836734693877551,
          1.9387755102040818,
          2.0408163265306123,
          2.142857142857143,
          2.2448979591836737,
          2.3469387755102042,
          2.4489795918367347,
          2.5510204081632653,
          2.6530612244897958,
          2.7551020408163267,
          2.857142857142857,
          2.9591836734693877,
          3.0612244897959187,
          3.163265306122449,
          3.2653061224489797,
          3.36734693877551,
          3.4693877551020407,
          3.5714285714285716,
          3.673469387755102,
          3.7755102040816326,
          3.8775510204081636,
          3.979591836734694,
          4.081632653061225,
          4.183673469387755,
          4.285714285714286,
          4.387755102040816,
          4.4897959183673475,
          4.591836734693878,
          4.6938775510204085,
          4.795918367346939,
          4.8979591836734695,
          5
         ],
         "y": [
          0.6666666666666666,
          0.7457522687548012,
          0.8342196695293999,
          0.9331818167871456,
          1.0438836855446116,
          1.1677179402165263,
          1.3062424547732365,
          1.4611999112864729,
          1.6345397234193022,
          1.8284425606646846,
          2.0453477818552903,
          2.2879841230667743,
          2.5594040259780164,
          2.8630220385499165,
          3.2026577711153945,
          3.582583948281751,
          4.007580161153473,
          4.482992996095401,
          5.014803296475043,
          5.60970140355798,
          6.275171323110533,
          7.019584876552121,
          7.852307021108455,
          8.783813663926326,
          9.82582345228872,
          10.991445197892668,
          12.29534278983378,
          13.753919670954797,
          15.385525198328741,
          17.21068548395673,
          19.25236161972909,
          21.536238535201235,
          24.091048122106343,
          26.948930690612844,
          30.145839304560628,
          33.72199208234063,
          37.722378153505446,
          42.19732363620484,
          47.20312475562056,
          52.80275606822992,
          59.066662701583205,
          66.0736465762204,
          73.91185775867888,
          82.67990341712539,
          92.48808833062373,
          103.45980255803562,
          115.73307372386826,
          129.46230344931212,
          144.82020977332053,
          162
         ]
        },
        {
         "mode": "lines+markers",
         "name": "2*3^(x + 1)",
         "showlegend": true,
         "type": "scatter",
         "x": [
          0,
          0.10204081632653061,
          0.20408163265306123,
          0.30612244897959184,
          0.40816326530612246,
          0.5102040816326531,
          0.6122448979591837,
          0.7142857142857143,
          0.8163265306122449,
          0.9183673469387755,
          1.0204081632653061,
          1.1224489795918369,
          1.2244897959183674,
          1.3265306122448979,
          1.4285714285714286,
          1.5306122448979593,
          1.6326530612244898,
          1.7346938775510203,
          1.836734693877551,
          1.9387755102040818,
          2.0408163265306123,
          2.142857142857143,
          2.2448979591836737,
          2.3469387755102042,
          2.4489795918367347,
          2.5510204081632653,
          2.6530612244897958,
          2.7551020408163267,
          2.857142857142857,
          2.9591836734693877,
          3.0612244897959187,
          3.163265306122449,
          3.2653061224489797,
          3.36734693877551,
          3.4693877551020407,
          3.5714285714285716,
          3.673469387755102,
          3.7755102040816326,
          3.8775510204081636,
          3.979591836734694,
          4.081632653061225,
          4.183673469387755,
          4.285714285714286,
          4.387755102040816,
          4.4897959183673475,
          4.591836734693878,
          4.6938775510204085,
          4.795918367346939,
          4.8979591836734695,
          5
         ],
         "y": [
          6,
          6.7117704187932095,
          7.507977025764598,
          8.398636351084312,
          9.394953169901504,
          10.509461461948735,
          11.75618209295913,
          13.150799201578257,
          14.71085751077372,
          16.45598304598216,
          18.408130036697607,
          20.59185710760097,
          23.03463623380215,
          25.76719834694925,
          28.823919940038557,
          32.243255534535756,
          36.06822145038126,
          40.34693696485861,
          45.13322966827538,
          50.48731263202182,
          56.4765419079948,
          63.17626388896909,
          70.6707631899761,
          79.05432297533694,
          88.43241107059848,
          98.923006781034,
          110.65808510850403,
          123.78527703859318,
          138.46972678495868,
          154.89616935561057,
          173.2712545775618,
          193.82614681681113,
          216.8194330989571,
          242.5403762155156,
          271.31255374104563,
          303.4979287410655,
          339.50140338154887,
          379.7759127258434,
          424.828122800585,
          475.2248046140693,
          531.5999643142488,
          594.6628191859835,
          665.20671982811,
          744.1191307541285,
          832.3927949756135,
          931.1382230223206,
          1041.5976635148143,
          1165.160731043809,
          1303.3818879598848,
          1458
         ]
        }
       ],
       "layout": {
        "autosize": false,
        "template": {
         "data": {
          "bar": [
           {
            "error_x": {
             "color": "#2a3f5f"
            },
            "error_y": {
             "color": "#2a3f5f"
            },
            "marker": {
             "line": {
              "color": "#E5ECF6",
              "width": 0.5
             },
             "pattern": {
              "fillmode": "overlay",
              "size": 10,
              "solidity": 0.2
             }
            },
            "type": "bar"
           }
          ],
          "barpolar": [
           {
            "marker": {
             "line": {
              "color": "#E5ECF6",
              "width": 0.5
             },
             "pattern": {
              "fillmode": "overlay",
              "size": 10,
              "solidity": 0.2
             }
            },
            "type": "barpolar"
           }
          ],
          "carpet": [
           {
            "aaxis": {
             "endlinecolor": "#2a3f5f",
             "gridcolor": "white",
             "linecolor": "white",
             "minorgridcolor": "white",
             "startlinecolor": "#2a3f5f"
            },
            "baxis": {
             "endlinecolor": "#2a3f5f",
             "gridcolor": "white",
             "linecolor": "white",
             "minorgridcolor": "white",
             "startlinecolor": "#2a3f5f"
            },
            "type": "carpet"
           }
          ],
          "choropleth": [
           {
            "colorbar": {
             "outlinewidth": 0,
             "ticks": ""
            },
            "type": "choropleth"
           }
          ],
          "contour": [
           {
            "colorbar": {
             "outlinewidth": 0,
             "ticks": ""
            },
            "colorscale": [
             [
              0,
              "#0d0887"
             ],
             [
              0.1111111111111111,
              "#46039f"
             ],
             [
              0.2222222222222222,
              "#7201a8"
             ],
             [
              0.3333333333333333,
              "#9c179e"
             ],
             [
              0.4444444444444444,
              "#bd3786"
             ],
             [
              0.5555555555555556,
              "#d8576b"
             ],
             [
              0.6666666666666666,
              "#ed7953"
             ],
             [
              0.7777777777777778,
              "#fb9f3a"
             ],
             [
              0.8888888888888888,
              "#fdca26"
             ],
             [
              1,
              "#f0f921"
             ]
            ],
            "type": "contour"
           }
          ],
          "contourcarpet": [
           {
            "colorbar": {
             "outlinewidth": 0,
             "ticks": ""
            },
            "type": "contourcarpet"
           }
          ],
          "heatmap": [
           {
            "colorbar": {
             "outlinewidth": 0,
             "ticks": ""
            },
            "colorscale": [
             [
              0,
              "#0d0887"
             ],
             [
              0.1111111111111111,
              "#46039f"
             ],
             [
              0.2222222222222222,
              "#7201a8"
             ],
             [
              0.3333333333333333,
              "#9c179e"
             ],
             [
              0.4444444444444444,
              "#bd3786"
             ],
             [
              0.5555555555555556,
              "#d8576b"
             ],
             [
              0.6666666666666666,
              "#ed7953"
             ],
             [
              0.7777777777777778,
              "#fb9f3a"
             ],
             [
              0.8888888888888888,
              "#fdca26"
             ],
             [
              1,
              "#f0f921"
             ]
            ],
            "type": "heatmap"
           }
          ],
          "heatmapgl": [
           {
            "colorbar": {
             "outlinewidth": 0,
             "ticks": ""
            },
            "colorscale": [
             [
              0,
              "#0d0887"
             ],
             [
              0.1111111111111111,
              "#46039f"
             ],
             [
              0.2222222222222222,
              "#7201a8"
             ],
             [
              0.3333333333333333,
              "#9c179e"
             ],
             [
              0.4444444444444444,
              "#bd3786"
             ],
             [
              0.5555555555555556,
              "#d8576b"
             ],
             [
              0.6666666666666666,
              "#ed7953"
             ],
             [
              0.7777777777777778,
              "#fb9f3a"
             ],
             [
              0.8888888888888888,
              "#fdca26"
             ],
             [
              1,
              "#f0f921"
             ]
            ],
            "type": "heatmapgl"
           }
          ],
          "histogram": [
           {
            "marker": {
             "pattern": {
              "fillmode": "overlay",
              "size": 10,
              "solidity": 0.2
             }
            },
            "type": "histogram"
           }
          ],
          "histogram2d": [
           {
            "colorbar": {
             "outlinewidth": 0,
             "ticks": ""
            },
            "colorscale": [
             [
              0,
              "#0d0887"
             ],
             [
              0.1111111111111111,
              "#46039f"
             ],
             [
              0.2222222222222222,
              "#7201a8"
             ],
             [
              0.3333333333333333,
              "#9c179e"
             ],
             [
              0.4444444444444444,
              "#bd3786"
             ],
             [
              0.5555555555555556,
              "#d8576b"
             ],
             [
              0.6666666666666666,
              "#ed7953"
             ],
             [
              0.7777777777777778,
              "#fb9f3a"
             ],
             [
              0.8888888888888888,
              "#fdca26"
             ],
             [
              1,
              "#f0f921"
             ]
            ],
            "type": "histogram2d"
           }
          ],
          "histogram2dcontour": [
           {
            "colorbar": {
             "outlinewidth": 0,
             "ticks": ""
            },
            "colorscale": [
             [
              0,
              "#0d0887"
             ],
             [
              0.1111111111111111,
              "#46039f"
             ],
             [
              0.2222222222222222,
              "#7201a8"
             ],
             [
              0.3333333333333333,
              "#9c179e"
             ],
             [
              0.4444444444444444,
              "#bd3786"
             ],
             [
              0.5555555555555556,
              "#d8576b"
             ],
             [
              0.6666666666666666,
              "#ed7953"
             ],
             [
              0.7777777777777778,
              "#fb9f3a"
             ],
             [
              0.8888888888888888,
              "#fdca26"
             ],
             [
              1,
              "#f0f921"
             ]
            ],
            "type": "histogram2dcontour"
           }
          ],
          "mesh3d": [
           {
            "colorbar": {
             "outlinewidth": 0,
             "ticks": ""
            },
            "type": "mesh3d"
           }
          ],
          "parcoords": [
           {
            "line": {
             "colorbar": {
              "outlinewidth": 0,
              "ticks": ""
             }
            },
            "type": "parcoords"
           }
          ],
          "pie": [
           {
            "automargin": true,
            "type": "pie"
           }
          ],
          "scatter": [
           {
            "fillpattern": {
             "fillmode": "overlay",
             "size": 10,
             "solidity": 0.2
            },
            "type": "scatter"
           }
          ],
          "scatter3d": [
           {
            "line": {
             "colorbar": {
              "outlinewidth": 0,
              "ticks": ""
             }
            },
            "marker": {
             "colorbar": {
              "outlinewidth": 0,
              "ticks": ""
             }
            },
            "type": "scatter3d"
           }
          ],
          "scattercarpet": [
           {
            "marker": {
             "colorbar": {
              "outlinewidth": 0,
              "ticks": ""
             }
            },
            "type": "scattercarpet"
           }
          ],
          "scattergeo": [
           {
            "marker": {
             "colorbar": {
              "outlinewidth": 0,
              "ticks": ""
             }
            },
            "type": "scattergeo"
           }
          ],
          "scattergl": [
           {
            "marker": {
             "colorbar": {
              "outlinewidth": 0,
              "ticks": ""
             }
            },
            "type": "scattergl"
           }
          ],
          "scattermapbox": [
           {
            "marker": {
             "colorbar": {
              "outlinewidth": 0,
              "ticks": ""
             }
            },
            "type": "scattermapbox"
           }
          ],
          "scatterpolar": [
           {
            "marker": {
             "colorbar": {
              "outlinewidth": 0,
              "ticks": ""
             }
            },
            "type": "scatterpolar"
           }
          ],
          "scatterpolargl": [
           {
            "marker": {
             "colorbar": {
              "outlinewidth": 0,
              "ticks": ""
             }
            },
            "type": "scatterpolargl"
           }
          ],
          "scatterternary": [
           {
            "marker": {
             "colorbar": {
              "outlinewidth": 0,
              "ticks": ""
             }
            },
            "type": "scatterternary"
           }
          ],
          "surface": [
           {
            "colorbar": {
             "outlinewidth": 0,
             "ticks": ""
            },
            "colorscale": [
             [
              0,
              "#0d0887"
             ],
             [
              0.1111111111111111,
              "#46039f"
             ],
             [
              0.2222222222222222,
              "#7201a8"
             ],
             [
              0.3333333333333333,
              "#9c179e"
             ],
             [
              0.4444444444444444,
              "#bd3786"
             ],
             [
              0.5555555555555556,
              "#d8576b"
             ],
             [
              0.6666666666666666,
              "#ed7953"
             ],
             [
              0.7777777777777778,
              "#fb9f3a"
             ],
             [
              0.8888888888888888,
              "#fdca26"
             ],
             [
              1,
              "#f0f921"
             ]
            ],
            "type": "surface"
           }
          ],
          "table": [
           {
            "cells": {
             "fill": {
              "color": "#EBF0F8"
             },
             "line": {
              "color": "white"
             }
            },
            "header": {
             "fill": {
              "color": "#C8D4E3"
             },
             "line": {
              "color": "white"
             }
            },
            "type": "table"
           }
          ]
         },
         "layout": {
          "annotationdefaults": {
           "arrowcolor": "#2a3f5f",
           "arrowhead": 0,
           "arrowwidth": 1
          },
          "autotypenumbers": "strict",
          "coloraxis": {
           "colorbar": {
            "outlinewidth": 0,
            "ticks": ""
           }
          },
          "colorscale": {
           "diverging": [
            [
             0,
             "#8e0152"
            ],
            [
             0.1,
             "#c51b7d"
            ],
            [
             0.2,
             "#de77ae"
            ],
            [
             0.3,
             "#f1b6da"
            ],
            [
             0.4,
             "#fde0ef"
            ],
            [
             0.5,
             "#f7f7f7"
            ],
            [
             0.6,
             "#e6f5d0"
            ],
            [
             0.7,
             "#b8e186"
            ],
            [
             0.8,
             "#7fbc41"
            ],
            [
             0.9,
             "#4d9221"
            ],
            [
             1,
             "#276419"
            ]
           ],
           "sequential": [
            [
             0,
             "#0d0887"
            ],
            [
             0.1111111111111111,
             "#46039f"
            ],
            [
             0.2222222222222222,
             "#7201a8"
            ],
            [
             0.3333333333333333,
             "#9c179e"
            ],
            [
             0.4444444444444444,
             "#bd3786"
            ],
            [
             0.5555555555555556,
             "#d8576b"
            ],
            [
             0.6666666666666666,
             "#ed7953"
            ],
            [
             0.7777777777777778,
             "#fb9f3a"
            ],
            [
             0.8888888888888888,
             "#fdca26"
            ],
            [
             1,
             "#f0f921"
            ]
           ],
           "sequentialminus": [
            [
             0,
             "#0d0887"
            ],
            [
             0.1111111111111111,
             "#46039f"
            ],
            [
             0.2222222222222222,
             "#7201a8"
            ],
            [
             0.3333333333333333,
             "#9c179e"
            ],
            [
             0.4444444444444444,
             "#bd3786"
            ],
            [
             0.5555555555555556,
             "#d8576b"
            ],
            [
             0.6666666666666666,
             "#ed7953"
            ],
            [
             0.7777777777777778,
             "#fb9f3a"
            ],
            [
             0.8888888888888888,
             "#fdca26"
            ],
            [
             1,
             "#f0f921"
            ]
           ]
          },
          "colorway": [
           "#636efa",
           "#EF553B",
           "#00cc96",
           "#ab63fa",
           "#FFA15A",
           "#19d3f3",
           "#FF6692",
           "#B6E880",
           "#FF97FF",
           "#FECB52"
          ],
          "font": {
           "color": "#2a3f5f"
          },
          "geo": {
           "bgcolor": "white",
           "lakecolor": "white",
           "landcolor": "#E5ECF6",
           "showlakes": true,
           "showland": true,
           "subunitcolor": "white"
          },
          "hoverlabel": {
           "align": "left"
          },
          "hovermode": "closest",
          "mapbox": {
           "style": "light"
          },
          "paper_bgcolor": "white",
          "plot_bgcolor": "#E5ECF6",
          "polar": {
           "angularaxis": {
            "gridcolor": "white",
            "linecolor": "white",
            "ticks": ""
           },
           "bgcolor": "#E5ECF6",
           "radialaxis": {
            "gridcolor": "white",
            "linecolor": "white",
            "ticks": ""
           }
          },
          "scene": {
           "xaxis": {
            "backgroundcolor": "#E5ECF6",
            "gridcolor": "white",
            "gridwidth": 2,
            "linecolor": "white",
            "showbackground": true,
            "ticks": "",
            "zerolinecolor": "white"
           },
           "yaxis": {
            "backgroundcolor": "#E5ECF6",
            "gridcolor": "white",
            "gridwidth": 2,
            "linecolor": "white",
            "showbackground": true,
            "ticks": "",
            "zerolinecolor": "white"
           },
           "zaxis": {
            "backgroundcolor": "#E5ECF6",
            "gridcolor": "white",
            "gridwidth": 2,
            "linecolor": "white",
            "showbackground": true,
            "ticks": "",
            "zerolinecolor": "white"
           }
          },
          "shapedefaults": {
           "line": {
            "color": "#2a3f5f"
           }
          },
          "ternary": {
           "aaxis": {
            "gridcolor": "white",
            "linecolor": "white",
            "ticks": ""
           },
           "baxis": {
            "gridcolor": "white",
            "linecolor": "white",
            "ticks": ""
           },
           "bgcolor": "#E5ECF6",
           "caxis": {
            "gridcolor": "white",
            "linecolor": "white",
            "ticks": ""
           }
          },
          "title": {
           "x": 0.05
          },
          "xaxis": {
           "automargin": true,
           "gridcolor": "white",
           "linecolor": "white",
           "ticks": "",
           "title": {
            "standoff": 15
           },
           "zerolinecolor": "white",
           "zerolinewidth": 2
          },
          "yaxis": {
           "automargin": true,
           "gridcolor": "white",
           "linecolor": "white",
           "ticks": "",
           "title": {
            "standoff": 15
           },
           "zerolinecolor": "white",
           "zerolinewidth": 2
          }
         }
        },
        "title": {
         "text": "Horizontal Translations",
         "x": 0.5,
         "xanchor": "center",
         "y": 0.95,
         "yanchor": "top"
        },
        "xaxis": {
         "title": {
          "text": "x"
         }
        },
        "yaxis": {
         "title": {
          "text": "y"
         }
        }
       }
      }
     },
     "metadata": {},
     "output_type": "display_data"
    }
   ],
   "source": [
    "# Generate the list of numbers\n",
    "min_x = 0.0 \n",
    "max_x = 5.0\n",
    "num_points = 50\n",
    "x_values = np.linspace(min_x, max_x, num_points)\n",
    "\n",
    "# Define exponential function\n",
    "f = 2*(3)**x\n",
    "f_trans = f.subs(x, x-1)\n",
    "print(\"Original f = \", f, \" translated f horizontally by 1 = \", f_trans)\n",
    "\n",
    "# Create a graph object\n",
    "plot = graph_funs() \n",
    "\n",
    "# Add to the list of functions:\n",
    "plot.add_hor_translations(f, x_vals=[0, 1, -1])\n",
    "plot.plot_functions_list(x_values=x_values, plot_title=\"Horizontal Translations\")"
   ]
  },
  {
   "cell_type": "markdown",
   "metadata": {},
   "source": [
    "# Translating vertically\n",
    "You can translate vertically by 100 using:\n",
    "```\n",
    "f_translated = f - 100\n",
    "```\n",
    "We can do multiple vertical translations using:\n",
    "```\n",
    "plot.add_vert_translations([100, -100])\n",
    "```\n",
    "You can also change the title of the plot using:\n",
    "```\n",
    "plot.plot_functions_list(..., plot_title=\"Horizontal Translations\")\n",
    "```\n",
    "The rest of the code is the same as before :-)\n",
    "\n",
    "## Assignment: Plot vertical translations\n",
    "Study the code below and then modify it to:<br>\n",
    "1. Modify the code to translate the following function:\n",
    "    $$ y = 4^x. $$\n",
    "2. Modify the translation values for <tt>x=0, 10, -10<tt>.\n"
   ]
  },
  {
   "cell_type": "code",
   "execution_count": 9,
   "metadata": {},
   "outputs": [
    {
     "name": "stdout",
     "output_type": "stream",
     "text": [
      "Original f =  2*3**x  translated f vertically by 100 =  2*3**x - 100\n"
     ]
    },
    {
     "data": {
      "application/vnd.plotly.v1+json": {
       "config": {
        "plotlyServerURL": "https://plot.ly"
       },
       "data": [
        {
         "mode": "lines+markers",
         "name": "2*3^x",
         "showlegend": true,
         "type": "scatter",
         "x": [
          0,
          0.10204081632653061,
          0.20408163265306123,
          0.30612244897959184,
          0.40816326530612246,
          0.5102040816326531,
          0.6122448979591837,
          0.7142857142857143,
          0.8163265306122449,
          0.9183673469387755,
          1.0204081632653061,
          1.1224489795918369,
          1.2244897959183674,
          1.3265306122448979,
          1.4285714285714286,
          1.5306122448979593,
          1.6326530612244898,
          1.7346938775510203,
          1.836734693877551,
          1.9387755102040818,
          2.0408163265306123,
          2.142857142857143,
          2.2448979591836737,
          2.3469387755102042,
          2.4489795918367347,
          2.5510204081632653,
          2.6530612244897958,
          2.7551020408163267,
          2.857142857142857,
          2.9591836734693877,
          3.0612244897959187,
          3.163265306122449,
          3.2653061224489797,
          3.36734693877551,
          3.4693877551020407,
          3.5714285714285716,
          3.673469387755102,
          3.7755102040816326,
          3.8775510204081636,
          3.979591836734694,
          4.081632653061225,
          4.183673469387755,
          4.285714285714286,
          4.387755102040816,
          4.4897959183673475,
          4.591836734693878,
          4.6938775510204085,
          4.795918367346939,
          4.8979591836734695,
          5
         ],
         "y": [
          2,
          2.2372568062644036,
          2.5026590085881995,
          2.7995454503614368,
          3.1316510566338347,
          3.5031538206495787,
          3.91872736431971,
          4.383599733859419,
          4.903619170257906,
          5.485327681994054,
          6.13604334556587,
          6.863952369200323,
          7.67821207793405,
          8.58906611564975,
          9.607973313346184,
          10.747751844845252,
          12.022740483460419,
          13.448978988286202,
          15.04440988942513,
          16.82910421067394,
          18.8255139693316,
          21.058754629656363,
          23.556921063325365,
          26.35144099177898,
          29.47747035686616,
          32.974335593678,
          36.88602836950134,
          41.261759012864395,
          46.15657559498622,
          51.63205645187019,
          57.757084859187266,
          64.6087156056037,
          72.27314436631903,
          80.84679207183854,
          90.43751791368187,
          101.16597624702189,
          113.16713446051634,
          126.59197090861454,
          141.60937426686166,
          158.40826820468976,
          177.19998810474962,
          198.2209397286612,
          221.73557327603663,
          248.03971025137614,
          277.4642649918712,
          310.37940767410686,
          347.1992211716048,
          388.38691034793635,
          434.4606293199616,
          486
         ]
        },
        {
         "mode": "lines+markers",
         "name": "2*3^x + 100",
         "showlegend": true,
         "type": "scatter",
         "x": [
          0,
          0.10204081632653061,
          0.20408163265306123,
          0.30612244897959184,
          0.40816326530612246,
          0.5102040816326531,
          0.6122448979591837,
          0.7142857142857143,
          0.8163265306122449,
          0.9183673469387755,
          1.0204081632653061,
          1.1224489795918369,
          1.2244897959183674,
          1.3265306122448979,
          1.4285714285714286,
          1.5306122448979593,
          1.6326530612244898,
          1.7346938775510203,
          1.836734693877551,
          1.9387755102040818,
          2.0408163265306123,
          2.142857142857143,
          2.2448979591836737,
          2.3469387755102042,
          2.4489795918367347,
          2.5510204081632653,
          2.6530612244897958,
          2.7551020408163267,
          2.857142857142857,
          2.9591836734693877,
          3.0612244897959187,
          3.163265306122449,
          3.2653061224489797,
          3.36734693877551,
          3.4693877551020407,
          3.5714285714285716,
          3.673469387755102,
          3.7755102040816326,
          3.8775510204081636,
          3.979591836734694,
          4.081632653061225,
          4.183673469387755,
          4.285714285714286,
          4.387755102040816,
          4.4897959183673475,
          4.591836734693878,
          4.6938775510204085,
          4.795918367346939,
          4.8979591836734695,
          5
         ],
         "y": [
          102,
          102.2372568062644,
          102.5026590085882,
          102.79954545036144,
          103.13165105663383,
          103.50315382064957,
          103.91872736431971,
          104.38359973385941,
          104.90361917025791,
          105.48532768199405,
          106.13604334556587,
          106.86395236920032,
          107.67821207793405,
          108.58906611564976,
          109.60797331334618,
          110.74775184484525,
          112.02274048346042,
          113.4489789882862,
          115.04440988942513,
          116.82910421067393,
          118.8255139693316,
          121.05875462965636,
          123.55692106332536,
          126.35144099177899,
          129.47747035686615,
          132.974335593678,
          136.88602836950133,
          141.2617590128644,
          146.15657559498624,
          151.6320564518702,
          157.75708485918727,
          164.60871560560372,
          172.27314436631903,
          180.84679207183854,
          190.43751791368186,
          201.1659762470219,
          213.16713446051634,
          226.59197090861454,
          241.60937426686166,
          258.40826820468976,
          277.19998810474965,
          298.22093972866116,
          321.73557327603663,
          348.03971025137616,
          377.4642649918712,
          410.37940767410686,
          447.1992211716048,
          488.38691034793635,
          534.4606293199615,
          586
         ]
        },
        {
         "mode": "lines+markers",
         "name": "2*3^x - 100",
         "showlegend": true,
         "type": "scatter",
         "x": [
          0,
          0.10204081632653061,
          0.20408163265306123,
          0.30612244897959184,
          0.40816326530612246,
          0.5102040816326531,
          0.6122448979591837,
          0.7142857142857143,
          0.8163265306122449,
          0.9183673469387755,
          1.0204081632653061,
          1.1224489795918369,
          1.2244897959183674,
          1.3265306122448979,
          1.4285714285714286,
          1.5306122448979593,
          1.6326530612244898,
          1.7346938775510203,
          1.836734693877551,
          1.9387755102040818,
          2.0408163265306123,
          2.142857142857143,
          2.2448979591836737,
          2.3469387755102042,
          2.4489795918367347,
          2.5510204081632653,
          2.6530612244897958,
          2.7551020408163267,
          2.857142857142857,
          2.9591836734693877,
          3.0612244897959187,
          3.163265306122449,
          3.2653061224489797,
          3.36734693877551,
          3.4693877551020407,
          3.5714285714285716,
          3.673469387755102,
          3.7755102040816326,
          3.8775510204081636,
          3.979591836734694,
          4.081632653061225,
          4.183673469387755,
          4.285714285714286,
          4.387755102040816,
          4.4897959183673475,
          4.591836734693878,
          4.6938775510204085,
          4.795918367346939,
          4.8979591836734695,
          5
         ],
         "y": [
          -98,
          -97.7627431937356,
          -97.4973409914118,
          -97.20045454963856,
          -96.86834894336617,
          -96.49684617935043,
          -96.08127263568029,
          -95.61640026614059,
          -95.09638082974209,
          -94.51467231800595,
          -93.86395665443413,
          -93.13604763079968,
          -92.32178792206595,
          -91.41093388435024,
          -90.39202668665382,
          -89.25224815515475,
          -87.97725951653958,
          -86.5510210117138,
          -84.95559011057487,
          -83.17089578932607,
          -81.1744860306684,
          -78.94124537034364,
          -76.44307893667464,
          -73.64855900822101,
          -70.52252964313384,
          -67.025664406322,
          -63.11397163049866,
          -58.738240987135605,
          -53.84342440501378,
          -48.36794354812981,
          -42.242915140812734,
          -35.391284394396294,
          -27.72685563368097,
          -19.153207928161464,
          -9.562482086318127,
          1.165976247021888,
          13.167134460516337,
          26.59197090861454,
          41.609374266861664,
          58.40826820468976,
          77.19998810474962,
          98.2209397286612,
          121.73557327603663,
          148.03971025137614,
          177.46426499187118,
          210.37940767410686,
          247.1992211716048,
          288.38691034793635,
          334.4606293199616,
          386
         ]
        }
       ],
       "layout": {
        "autosize": false,
        "template": {
         "data": {
          "bar": [
           {
            "error_x": {
             "color": "#2a3f5f"
            },
            "error_y": {
             "color": "#2a3f5f"
            },
            "marker": {
             "line": {
              "color": "#E5ECF6",
              "width": 0.5
             },
             "pattern": {
              "fillmode": "overlay",
              "size": 10,
              "solidity": 0.2
             }
            },
            "type": "bar"
           }
          ],
          "barpolar": [
           {
            "marker": {
             "line": {
              "color": "#E5ECF6",
              "width": 0.5
             },
             "pattern": {
              "fillmode": "overlay",
              "size": 10,
              "solidity": 0.2
             }
            },
            "type": "barpolar"
           }
          ],
          "carpet": [
           {
            "aaxis": {
             "endlinecolor": "#2a3f5f",
             "gridcolor": "white",
             "linecolor": "white",
             "minorgridcolor": "white",
             "startlinecolor": "#2a3f5f"
            },
            "baxis": {
             "endlinecolor": "#2a3f5f",
             "gridcolor": "white",
             "linecolor": "white",
             "minorgridcolor": "white",
             "startlinecolor": "#2a3f5f"
            },
            "type": "carpet"
           }
          ],
          "choropleth": [
           {
            "colorbar": {
             "outlinewidth": 0,
             "ticks": ""
            },
            "type": "choropleth"
           }
          ],
          "contour": [
           {
            "colorbar": {
             "outlinewidth": 0,
             "ticks": ""
            },
            "colorscale": [
             [
              0,
              "#0d0887"
             ],
             [
              0.1111111111111111,
              "#46039f"
             ],
             [
              0.2222222222222222,
              "#7201a8"
             ],
             [
              0.3333333333333333,
              "#9c179e"
             ],
             [
              0.4444444444444444,
              "#bd3786"
             ],
             [
              0.5555555555555556,
              "#d8576b"
             ],
             [
              0.6666666666666666,
              "#ed7953"
             ],
             [
              0.7777777777777778,
              "#fb9f3a"
             ],
             [
              0.8888888888888888,
              "#fdca26"
             ],
             [
              1,
              "#f0f921"
             ]
            ],
            "type": "contour"
           }
          ],
          "contourcarpet": [
           {
            "colorbar": {
             "outlinewidth": 0,
             "ticks": ""
            },
            "type": "contourcarpet"
           }
          ],
          "heatmap": [
           {
            "colorbar": {
             "outlinewidth": 0,
             "ticks": ""
            },
            "colorscale": [
             [
              0,
              "#0d0887"
             ],
             [
              0.1111111111111111,
              "#46039f"
             ],
             [
              0.2222222222222222,
              "#7201a8"
             ],
             [
              0.3333333333333333,
              "#9c179e"
             ],
             [
              0.4444444444444444,
              "#bd3786"
             ],
             [
              0.5555555555555556,
              "#d8576b"
             ],
             [
              0.6666666666666666,
              "#ed7953"
             ],
             [
              0.7777777777777778,
              "#fb9f3a"
             ],
             [
              0.8888888888888888,
              "#fdca26"
             ],
             [
              1,
              "#f0f921"
             ]
            ],
            "type": "heatmap"
           }
          ],
          "heatmapgl": [
           {
            "colorbar": {
             "outlinewidth": 0,
             "ticks": ""
            },
            "colorscale": [
             [
              0,
              "#0d0887"
             ],
             [
              0.1111111111111111,
              "#46039f"
             ],
             [
              0.2222222222222222,
              "#7201a8"
             ],
             [
              0.3333333333333333,
              "#9c179e"
             ],
             [
              0.4444444444444444,
              "#bd3786"
             ],
             [
              0.5555555555555556,
              "#d8576b"
             ],
             [
              0.6666666666666666,
              "#ed7953"
             ],
             [
              0.7777777777777778,
              "#fb9f3a"
             ],
             [
              0.8888888888888888,
              "#fdca26"
             ],
             [
              1,
              "#f0f921"
             ]
            ],
            "type": "heatmapgl"
           }
          ],
          "histogram": [
           {
            "marker": {
             "pattern": {
              "fillmode": "overlay",
              "size": 10,
              "solidity": 0.2
             }
            },
            "type": "histogram"
           }
          ],
          "histogram2d": [
           {
            "colorbar": {
             "outlinewidth": 0,
             "ticks": ""
            },
            "colorscale": [
             [
              0,
              "#0d0887"
             ],
             [
              0.1111111111111111,
              "#46039f"
             ],
             [
              0.2222222222222222,
              "#7201a8"
             ],
             [
              0.3333333333333333,
              "#9c179e"
             ],
             [
              0.4444444444444444,
              "#bd3786"
             ],
             [
              0.5555555555555556,
              "#d8576b"
             ],
             [
              0.6666666666666666,
              "#ed7953"
             ],
             [
              0.7777777777777778,
              "#fb9f3a"
             ],
             [
              0.8888888888888888,
              "#fdca26"
             ],
             [
              1,
              "#f0f921"
             ]
            ],
            "type": "histogram2d"
           }
          ],
          "histogram2dcontour": [
           {
            "colorbar": {
             "outlinewidth": 0,
             "ticks": ""
            },
            "colorscale": [
             [
              0,
              "#0d0887"
             ],
             [
              0.1111111111111111,
              "#46039f"
             ],
             [
              0.2222222222222222,
              "#7201a8"
             ],
             [
              0.3333333333333333,
              "#9c179e"
             ],
             [
              0.4444444444444444,
              "#bd3786"
             ],
             [
              0.5555555555555556,
              "#d8576b"
             ],
             [
              0.6666666666666666,
              "#ed7953"
             ],
             [
              0.7777777777777778,
              "#fb9f3a"
             ],
             [
              0.8888888888888888,
              "#fdca26"
             ],
             [
              1,
              "#f0f921"
             ]
            ],
            "type": "histogram2dcontour"
           }
          ],
          "mesh3d": [
           {
            "colorbar": {
             "outlinewidth": 0,
             "ticks": ""
            },
            "type": "mesh3d"
           }
          ],
          "parcoords": [
           {
            "line": {
             "colorbar": {
              "outlinewidth": 0,
              "ticks": ""
             }
            },
            "type": "parcoords"
           }
          ],
          "pie": [
           {
            "automargin": true,
            "type": "pie"
           }
          ],
          "scatter": [
           {
            "fillpattern": {
             "fillmode": "overlay",
             "size": 10,
             "solidity": 0.2
            },
            "type": "scatter"
           }
          ],
          "scatter3d": [
           {
            "line": {
             "colorbar": {
              "outlinewidth": 0,
              "ticks": ""
             }
            },
            "marker": {
             "colorbar": {
              "outlinewidth": 0,
              "ticks": ""
             }
            },
            "type": "scatter3d"
           }
          ],
          "scattercarpet": [
           {
            "marker": {
             "colorbar": {
              "outlinewidth": 0,
              "ticks": ""
             }
            },
            "type": "scattercarpet"
           }
          ],
          "scattergeo": [
           {
            "marker": {
             "colorbar": {
              "outlinewidth": 0,
              "ticks": ""
             }
            },
            "type": "scattergeo"
           }
          ],
          "scattergl": [
           {
            "marker": {
             "colorbar": {
              "outlinewidth": 0,
              "ticks": ""
             }
            },
            "type": "scattergl"
           }
          ],
          "scattermapbox": [
           {
            "marker": {
             "colorbar": {
              "outlinewidth": 0,
              "ticks": ""
             }
            },
            "type": "scattermapbox"
           }
          ],
          "scatterpolar": [
           {
            "marker": {
             "colorbar": {
              "outlinewidth": 0,
              "ticks": ""
             }
            },
            "type": "scatterpolar"
           }
          ],
          "scatterpolargl": [
           {
            "marker": {
             "colorbar": {
              "outlinewidth": 0,
              "ticks": ""
             }
            },
            "type": "scatterpolargl"
           }
          ],
          "scatterternary": [
           {
            "marker": {
             "colorbar": {
              "outlinewidth": 0,
              "ticks": ""
             }
            },
            "type": "scatterternary"
           }
          ],
          "surface": [
           {
            "colorbar": {
             "outlinewidth": 0,
             "ticks": ""
            },
            "colorscale": [
             [
              0,
              "#0d0887"
             ],
             [
              0.1111111111111111,
              "#46039f"
             ],
             [
              0.2222222222222222,
              "#7201a8"
             ],
             [
              0.3333333333333333,
              "#9c179e"
             ],
             [
              0.4444444444444444,
              "#bd3786"
             ],
             [
              0.5555555555555556,
              "#d8576b"
             ],
             [
              0.6666666666666666,
              "#ed7953"
             ],
             [
              0.7777777777777778,
              "#fb9f3a"
             ],
             [
              0.8888888888888888,
              "#fdca26"
             ],
             [
              1,
              "#f0f921"
             ]
            ],
            "type": "surface"
           }
          ],
          "table": [
           {
            "cells": {
             "fill": {
              "color": "#EBF0F8"
             },
             "line": {
              "color": "white"
             }
            },
            "header": {
             "fill": {
              "color": "#C8D4E3"
             },
             "line": {
              "color": "white"
             }
            },
            "type": "table"
           }
          ]
         },
         "layout": {
          "annotationdefaults": {
           "arrowcolor": "#2a3f5f",
           "arrowhead": 0,
           "arrowwidth": 1
          },
          "autotypenumbers": "strict",
          "coloraxis": {
           "colorbar": {
            "outlinewidth": 0,
            "ticks": ""
           }
          },
          "colorscale": {
           "diverging": [
            [
             0,
             "#8e0152"
            ],
            [
             0.1,
             "#c51b7d"
            ],
            [
             0.2,
             "#de77ae"
            ],
            [
             0.3,
             "#f1b6da"
            ],
            [
             0.4,
             "#fde0ef"
            ],
            [
             0.5,
             "#f7f7f7"
            ],
            [
             0.6,
             "#e6f5d0"
            ],
            [
             0.7,
             "#b8e186"
            ],
            [
             0.8,
             "#7fbc41"
            ],
            [
             0.9,
             "#4d9221"
            ],
            [
             1,
             "#276419"
            ]
           ],
           "sequential": [
            [
             0,
             "#0d0887"
            ],
            [
             0.1111111111111111,
             "#46039f"
            ],
            [
             0.2222222222222222,
             "#7201a8"
            ],
            [
             0.3333333333333333,
             "#9c179e"
            ],
            [
             0.4444444444444444,
             "#bd3786"
            ],
            [
             0.5555555555555556,
             "#d8576b"
            ],
            [
             0.6666666666666666,
             "#ed7953"
            ],
            [
             0.7777777777777778,
             "#fb9f3a"
            ],
            [
             0.8888888888888888,
             "#fdca26"
            ],
            [
             1,
             "#f0f921"
            ]
           ],
           "sequentialminus": [
            [
             0,
             "#0d0887"
            ],
            [
             0.1111111111111111,
             "#46039f"
            ],
            [
             0.2222222222222222,
             "#7201a8"
            ],
            [
             0.3333333333333333,
             "#9c179e"
            ],
            [
             0.4444444444444444,
             "#bd3786"
            ],
            [
             0.5555555555555556,
             "#d8576b"
            ],
            [
             0.6666666666666666,
             "#ed7953"
            ],
            [
             0.7777777777777778,
             "#fb9f3a"
            ],
            [
             0.8888888888888888,
             "#fdca26"
            ],
            [
             1,
             "#f0f921"
            ]
           ]
          },
          "colorway": [
           "#636efa",
           "#EF553B",
           "#00cc96",
           "#ab63fa",
           "#FFA15A",
           "#19d3f3",
           "#FF6692",
           "#B6E880",
           "#FF97FF",
           "#FECB52"
          ],
          "font": {
           "color": "#2a3f5f"
          },
          "geo": {
           "bgcolor": "white",
           "lakecolor": "white",
           "landcolor": "#E5ECF6",
           "showlakes": true,
           "showland": true,
           "subunitcolor": "white"
          },
          "hoverlabel": {
           "align": "left"
          },
          "hovermode": "closest",
          "mapbox": {
           "style": "light"
          },
          "paper_bgcolor": "white",
          "plot_bgcolor": "#E5ECF6",
          "polar": {
           "angularaxis": {
            "gridcolor": "white",
            "linecolor": "white",
            "ticks": ""
           },
           "bgcolor": "#E5ECF6",
           "radialaxis": {
            "gridcolor": "white",
            "linecolor": "white",
            "ticks": ""
           }
          },
          "scene": {
           "xaxis": {
            "backgroundcolor": "#E5ECF6",
            "gridcolor": "white",
            "gridwidth": 2,
            "linecolor": "white",
            "showbackground": true,
            "ticks": "",
            "zerolinecolor": "white"
           },
           "yaxis": {
            "backgroundcolor": "#E5ECF6",
            "gridcolor": "white",
            "gridwidth": 2,
            "linecolor": "white",
            "showbackground": true,
            "ticks": "",
            "zerolinecolor": "white"
           },
           "zaxis": {
            "backgroundcolor": "#E5ECF6",
            "gridcolor": "white",
            "gridwidth": 2,
            "linecolor": "white",
            "showbackground": true,
            "ticks": "",
            "zerolinecolor": "white"
           }
          },
          "shapedefaults": {
           "line": {
            "color": "#2a3f5f"
           }
          },
          "ternary": {
           "aaxis": {
            "gridcolor": "white",
            "linecolor": "white",
            "ticks": ""
           },
           "baxis": {
            "gridcolor": "white",
            "linecolor": "white",
            "ticks": ""
           },
           "bgcolor": "#E5ECF6",
           "caxis": {
            "gridcolor": "white",
            "linecolor": "white",
            "ticks": ""
           }
          },
          "title": {
           "x": 0.05
          },
          "xaxis": {
           "automargin": true,
           "gridcolor": "white",
           "linecolor": "white",
           "ticks": "",
           "title": {
            "standoff": 15
           },
           "zerolinecolor": "white",
           "zerolinewidth": 2
          },
          "yaxis": {
           "automargin": true,
           "gridcolor": "white",
           "linecolor": "white",
           "ticks": "",
           "title": {
            "standoff": 15
           },
           "zerolinecolor": "white",
           "zerolinewidth": 2
          }
         }
        },
        "title": {
         "text": "Vertical Translations",
         "x": 0.5,
         "xanchor": "center",
         "y": 0.95,
         "yanchor": "top"
        },
        "xaxis": {
         "title": {
          "text": "x"
         }
        },
        "yaxis": {
         "title": {
          "text": "y"
         }
        }
       }
      }
     },
     "metadata": {},
     "output_type": "display_data"
    }
   ],
   "source": [
    "# Generate the list of numbers\n",
    "min_x = 0.0 \n",
    "max_x = 5.0\n",
    "num_points = 50\n",
    "x_values = np.linspace(min_x, max_x, num_points)\n",
    "\n",
    "# Define exponential function\n",
    "f = 2*(3)**x\n",
    "f_trans = f - 100\n",
    "print(\"Original f = \", f, \" translated f vertically by 100 = \", f_trans)\n",
    "\n",
    "# Create a graph object\n",
    "plot = graph_funs() \n",
    "\n",
    "# Add to the list of functions:\n",
    "plot.add_fun(f)           # Add the original function.\n",
    "plot.add_vert_translations(f, x_vals=[100, -100])\n",
    "\n",
    "\n",
    "plot.plot_functions_list(x_values=x_values, plot_title=\"Vertical Translations\")"
   ]
  },
  {
   "cell_type": "markdown",
   "metadata": {},
   "source": [
    "# Reflections across x\n",
    "You can reflect across x using:\n",
    "```\n",
    "f_refl_across_x = -f \n",
    "```\n",
    "Once you define a function, you can add it and its reflection across x using:\n",
    "```\n",
    "plot = graph_funs()       # Create a graph object\n",
    "plot.add_fun(f)           # Create a single function.\n",
    "plot.add_refl_across_x(f) # Add its reflection.\n",
    "```\n",
    "\n",
    "## Assignment: Plot reflections across x\n",
    "Study the code below and then modify it to:<br>\n",
    "1. Modify the code to reflect across x:\n",
    "    $$ y = 4^x. $$\n"
   ]
  },
  {
   "cell_type": "code",
   "execution_count": 10,
   "metadata": {},
   "outputs": [
    {
     "name": "stdout",
     "output_type": "stream",
     "text": [
      "Original f =  2*3**x  reflected f across x =  -2*3**x\n"
     ]
    },
    {
     "data": {
      "application/vnd.plotly.v1+json": {
       "config": {
        "plotlyServerURL": "https://plot.ly"
       },
       "data": [
        {
         "mode": "lines+markers",
         "name": "2*3^x",
         "showlegend": true,
         "type": "scatter",
         "x": [
          0,
          0.10204081632653061,
          0.20408163265306123,
          0.30612244897959184,
          0.40816326530612246,
          0.5102040816326531,
          0.6122448979591837,
          0.7142857142857143,
          0.8163265306122449,
          0.9183673469387755,
          1.0204081632653061,
          1.1224489795918369,
          1.2244897959183674,
          1.3265306122448979,
          1.4285714285714286,
          1.5306122448979593,
          1.6326530612244898,
          1.7346938775510203,
          1.836734693877551,
          1.9387755102040818,
          2.0408163265306123,
          2.142857142857143,
          2.2448979591836737,
          2.3469387755102042,
          2.4489795918367347,
          2.5510204081632653,
          2.6530612244897958,
          2.7551020408163267,
          2.857142857142857,
          2.9591836734693877,
          3.0612244897959187,
          3.163265306122449,
          3.2653061224489797,
          3.36734693877551,
          3.4693877551020407,
          3.5714285714285716,
          3.673469387755102,
          3.7755102040816326,
          3.8775510204081636,
          3.979591836734694,
          4.081632653061225,
          4.183673469387755,
          4.285714285714286,
          4.387755102040816,
          4.4897959183673475,
          4.591836734693878,
          4.6938775510204085,
          4.795918367346939,
          4.8979591836734695,
          5
         ],
         "y": [
          2,
          2.2372568062644036,
          2.5026590085881995,
          2.7995454503614368,
          3.1316510566338347,
          3.5031538206495787,
          3.91872736431971,
          4.383599733859419,
          4.903619170257906,
          5.485327681994054,
          6.13604334556587,
          6.863952369200323,
          7.67821207793405,
          8.58906611564975,
          9.607973313346184,
          10.747751844845252,
          12.022740483460419,
          13.448978988286202,
          15.04440988942513,
          16.82910421067394,
          18.8255139693316,
          21.058754629656363,
          23.556921063325365,
          26.35144099177898,
          29.47747035686616,
          32.974335593678,
          36.88602836950134,
          41.261759012864395,
          46.15657559498622,
          51.63205645187019,
          57.757084859187266,
          64.6087156056037,
          72.27314436631903,
          80.84679207183854,
          90.43751791368187,
          101.16597624702189,
          113.16713446051634,
          126.59197090861454,
          141.60937426686166,
          158.40826820468976,
          177.19998810474962,
          198.2209397286612,
          221.73557327603663,
          248.03971025137614,
          277.4642649918712,
          310.37940767410686,
          347.1992211716048,
          388.38691034793635,
          434.4606293199616,
          486
         ]
        },
        {
         "mode": "lines+markers",
         "name": "-2*3^x",
         "showlegend": true,
         "type": "scatter",
         "x": [
          0,
          0.10204081632653061,
          0.20408163265306123,
          0.30612244897959184,
          0.40816326530612246,
          0.5102040816326531,
          0.6122448979591837,
          0.7142857142857143,
          0.8163265306122449,
          0.9183673469387755,
          1.0204081632653061,
          1.1224489795918369,
          1.2244897959183674,
          1.3265306122448979,
          1.4285714285714286,
          1.5306122448979593,
          1.6326530612244898,
          1.7346938775510203,
          1.836734693877551,
          1.9387755102040818,
          2.0408163265306123,
          2.142857142857143,
          2.2448979591836737,
          2.3469387755102042,
          2.4489795918367347,
          2.5510204081632653,
          2.6530612244897958,
          2.7551020408163267,
          2.857142857142857,
          2.9591836734693877,
          3.0612244897959187,
          3.163265306122449,
          3.2653061224489797,
          3.36734693877551,
          3.4693877551020407,
          3.5714285714285716,
          3.673469387755102,
          3.7755102040816326,
          3.8775510204081636,
          3.979591836734694,
          4.081632653061225,
          4.183673469387755,
          4.285714285714286,
          4.387755102040816,
          4.4897959183673475,
          4.591836734693878,
          4.6938775510204085,
          4.795918367346939,
          4.8979591836734695,
          5
         ],
         "y": [
          -2,
          -2.2372568062644036,
          -2.5026590085881995,
          -2.7995454503614368,
          -3.1316510566338347,
          -3.5031538206495787,
          -3.91872736431971,
          -4.383599733859419,
          -4.903619170257906,
          -5.485327681994054,
          -6.13604334556587,
          -6.863952369200323,
          -7.67821207793405,
          -8.58906611564975,
          -9.607973313346184,
          -10.747751844845252,
          -12.022740483460419,
          -13.448978988286202,
          -15.04440988942513,
          -16.82910421067394,
          -18.8255139693316,
          -21.058754629656363,
          -23.556921063325365,
          -26.35144099177898,
          -29.47747035686616,
          -32.974335593678,
          -36.88602836950134,
          -41.261759012864395,
          -46.15657559498622,
          -51.63205645187019,
          -57.757084859187266,
          -64.6087156056037,
          -72.27314436631903,
          -80.84679207183854,
          -90.43751791368187,
          -101.16597624702189,
          -113.16713446051634,
          -126.59197090861454,
          -141.60937426686166,
          -158.40826820468976,
          -177.19998810474962,
          -198.2209397286612,
          -221.73557327603663,
          -248.03971025137614,
          -277.4642649918712,
          -310.37940767410686,
          -347.1992211716048,
          -388.38691034793635,
          -434.4606293199616,
          -486
         ]
        }
       ],
       "layout": {
        "autosize": false,
        "template": {
         "data": {
          "bar": [
           {
            "error_x": {
             "color": "#2a3f5f"
            },
            "error_y": {
             "color": "#2a3f5f"
            },
            "marker": {
             "line": {
              "color": "#E5ECF6",
              "width": 0.5
             },
             "pattern": {
              "fillmode": "overlay",
              "size": 10,
              "solidity": 0.2
             }
            },
            "type": "bar"
           }
          ],
          "barpolar": [
           {
            "marker": {
             "line": {
              "color": "#E5ECF6",
              "width": 0.5
             },
             "pattern": {
              "fillmode": "overlay",
              "size": 10,
              "solidity": 0.2
             }
            },
            "type": "barpolar"
           }
          ],
          "carpet": [
           {
            "aaxis": {
             "endlinecolor": "#2a3f5f",
             "gridcolor": "white",
             "linecolor": "white",
             "minorgridcolor": "white",
             "startlinecolor": "#2a3f5f"
            },
            "baxis": {
             "endlinecolor": "#2a3f5f",
             "gridcolor": "white",
             "linecolor": "white",
             "minorgridcolor": "white",
             "startlinecolor": "#2a3f5f"
            },
            "type": "carpet"
           }
          ],
          "choropleth": [
           {
            "colorbar": {
             "outlinewidth": 0,
             "ticks": ""
            },
            "type": "choropleth"
           }
          ],
          "contour": [
           {
            "colorbar": {
             "outlinewidth": 0,
             "ticks": ""
            },
            "colorscale": [
             [
              0,
              "#0d0887"
             ],
             [
              0.1111111111111111,
              "#46039f"
             ],
             [
              0.2222222222222222,
              "#7201a8"
             ],
             [
              0.3333333333333333,
              "#9c179e"
             ],
             [
              0.4444444444444444,
              "#bd3786"
             ],
             [
              0.5555555555555556,
              "#d8576b"
             ],
             [
              0.6666666666666666,
              "#ed7953"
             ],
             [
              0.7777777777777778,
              "#fb9f3a"
             ],
             [
              0.8888888888888888,
              "#fdca26"
             ],
             [
              1,
              "#f0f921"
             ]
            ],
            "type": "contour"
           }
          ],
          "contourcarpet": [
           {
            "colorbar": {
             "outlinewidth": 0,
             "ticks": ""
            },
            "type": "contourcarpet"
           }
          ],
          "heatmap": [
           {
            "colorbar": {
             "outlinewidth": 0,
             "ticks": ""
            },
            "colorscale": [
             [
              0,
              "#0d0887"
             ],
             [
              0.1111111111111111,
              "#46039f"
             ],
             [
              0.2222222222222222,
              "#7201a8"
             ],
             [
              0.3333333333333333,
              "#9c179e"
             ],
             [
              0.4444444444444444,
              "#bd3786"
             ],
             [
              0.5555555555555556,
              "#d8576b"
             ],
             [
              0.6666666666666666,
              "#ed7953"
             ],
             [
              0.7777777777777778,
              "#fb9f3a"
             ],
             [
              0.8888888888888888,
              "#fdca26"
             ],
             [
              1,
              "#f0f921"
             ]
            ],
            "type": "heatmap"
           }
          ],
          "heatmapgl": [
           {
            "colorbar": {
             "outlinewidth": 0,
             "ticks": ""
            },
            "colorscale": [
             [
              0,
              "#0d0887"
             ],
             [
              0.1111111111111111,
              "#46039f"
             ],
             [
              0.2222222222222222,
              "#7201a8"
             ],
             [
              0.3333333333333333,
              "#9c179e"
             ],
             [
              0.4444444444444444,
              "#bd3786"
             ],
             [
              0.5555555555555556,
              "#d8576b"
             ],
             [
              0.6666666666666666,
              "#ed7953"
             ],
             [
              0.7777777777777778,
              "#fb9f3a"
             ],
             [
              0.8888888888888888,
              "#fdca26"
             ],
             [
              1,
              "#f0f921"
             ]
            ],
            "type": "heatmapgl"
           }
          ],
          "histogram": [
           {
            "marker": {
             "pattern": {
              "fillmode": "overlay",
              "size": 10,
              "solidity": 0.2
             }
            },
            "type": "histogram"
           }
          ],
          "histogram2d": [
           {
            "colorbar": {
             "outlinewidth": 0,
             "ticks": ""
            },
            "colorscale": [
             [
              0,
              "#0d0887"
             ],
             [
              0.1111111111111111,
              "#46039f"
             ],
             [
              0.2222222222222222,
              "#7201a8"
             ],
             [
              0.3333333333333333,
              "#9c179e"
             ],
             [
              0.4444444444444444,
              "#bd3786"
             ],
             [
              0.5555555555555556,
              "#d8576b"
             ],
             [
              0.6666666666666666,
              "#ed7953"
             ],
             [
              0.7777777777777778,
              "#fb9f3a"
             ],
             [
              0.8888888888888888,
              "#fdca26"
             ],
             [
              1,
              "#f0f921"
             ]
            ],
            "type": "histogram2d"
           }
          ],
          "histogram2dcontour": [
           {
            "colorbar": {
             "outlinewidth": 0,
             "ticks": ""
            },
            "colorscale": [
             [
              0,
              "#0d0887"
             ],
             [
              0.1111111111111111,
              "#46039f"
             ],
             [
              0.2222222222222222,
              "#7201a8"
             ],
             [
              0.3333333333333333,
              "#9c179e"
             ],
             [
              0.4444444444444444,
              "#bd3786"
             ],
             [
              0.5555555555555556,
              "#d8576b"
             ],
             [
              0.6666666666666666,
              "#ed7953"
             ],
             [
              0.7777777777777778,
              "#fb9f3a"
             ],
             [
              0.8888888888888888,
              "#fdca26"
             ],
             [
              1,
              "#f0f921"
             ]
            ],
            "type": "histogram2dcontour"
           }
          ],
          "mesh3d": [
           {
            "colorbar": {
             "outlinewidth": 0,
             "ticks": ""
            },
            "type": "mesh3d"
           }
          ],
          "parcoords": [
           {
            "line": {
             "colorbar": {
              "outlinewidth": 0,
              "ticks": ""
             }
            },
            "type": "parcoords"
           }
          ],
          "pie": [
           {
            "automargin": true,
            "type": "pie"
           }
          ],
          "scatter": [
           {
            "fillpattern": {
             "fillmode": "overlay",
             "size": 10,
             "solidity": 0.2
            },
            "type": "scatter"
           }
          ],
          "scatter3d": [
           {
            "line": {
             "colorbar": {
              "outlinewidth": 0,
              "ticks": ""
             }
            },
            "marker": {
             "colorbar": {
              "outlinewidth": 0,
              "ticks": ""
             }
            },
            "type": "scatter3d"
           }
          ],
          "scattercarpet": [
           {
            "marker": {
             "colorbar": {
              "outlinewidth": 0,
              "ticks": ""
             }
            },
            "type": "scattercarpet"
           }
          ],
          "scattergeo": [
           {
            "marker": {
             "colorbar": {
              "outlinewidth": 0,
              "ticks": ""
             }
            },
            "type": "scattergeo"
           }
          ],
          "scattergl": [
           {
            "marker": {
             "colorbar": {
              "outlinewidth": 0,
              "ticks": ""
             }
            },
            "type": "scattergl"
           }
          ],
          "scattermapbox": [
           {
            "marker": {
             "colorbar": {
              "outlinewidth": 0,
              "ticks": ""
             }
            },
            "type": "scattermapbox"
           }
          ],
          "scatterpolar": [
           {
            "marker": {
             "colorbar": {
              "outlinewidth": 0,
              "ticks": ""
             }
            },
            "type": "scatterpolar"
           }
          ],
          "scatterpolargl": [
           {
            "marker": {
             "colorbar": {
              "outlinewidth": 0,
              "ticks": ""
             }
            },
            "type": "scatterpolargl"
           }
          ],
          "scatterternary": [
           {
            "marker": {
             "colorbar": {
              "outlinewidth": 0,
              "ticks": ""
             }
            },
            "type": "scatterternary"
           }
          ],
          "surface": [
           {
            "colorbar": {
             "outlinewidth": 0,
             "ticks": ""
            },
            "colorscale": [
             [
              0,
              "#0d0887"
             ],
             [
              0.1111111111111111,
              "#46039f"
             ],
             [
              0.2222222222222222,
              "#7201a8"
             ],
             [
              0.3333333333333333,
              "#9c179e"
             ],
             [
              0.4444444444444444,
              "#bd3786"
             ],
             [
              0.5555555555555556,
              "#d8576b"
             ],
             [
              0.6666666666666666,
              "#ed7953"
             ],
             [
              0.7777777777777778,
              "#fb9f3a"
             ],
             [
              0.8888888888888888,
              "#fdca26"
             ],
             [
              1,
              "#f0f921"
             ]
            ],
            "type": "surface"
           }
          ],
          "table": [
           {
            "cells": {
             "fill": {
              "color": "#EBF0F8"
             },
             "line": {
              "color": "white"
             }
            },
            "header": {
             "fill": {
              "color": "#C8D4E3"
             },
             "line": {
              "color": "white"
             }
            },
            "type": "table"
           }
          ]
         },
         "layout": {
          "annotationdefaults": {
           "arrowcolor": "#2a3f5f",
           "arrowhead": 0,
           "arrowwidth": 1
          },
          "autotypenumbers": "strict",
          "coloraxis": {
           "colorbar": {
            "outlinewidth": 0,
            "ticks": ""
           }
          },
          "colorscale": {
           "diverging": [
            [
             0,
             "#8e0152"
            ],
            [
             0.1,
             "#c51b7d"
            ],
            [
             0.2,
             "#de77ae"
            ],
            [
             0.3,
             "#f1b6da"
            ],
            [
             0.4,
             "#fde0ef"
            ],
            [
             0.5,
             "#f7f7f7"
            ],
            [
             0.6,
             "#e6f5d0"
            ],
            [
             0.7,
             "#b8e186"
            ],
            [
             0.8,
             "#7fbc41"
            ],
            [
             0.9,
             "#4d9221"
            ],
            [
             1,
             "#276419"
            ]
           ],
           "sequential": [
            [
             0,
             "#0d0887"
            ],
            [
             0.1111111111111111,
             "#46039f"
            ],
            [
             0.2222222222222222,
             "#7201a8"
            ],
            [
             0.3333333333333333,
             "#9c179e"
            ],
            [
             0.4444444444444444,
             "#bd3786"
            ],
            [
             0.5555555555555556,
             "#d8576b"
            ],
            [
             0.6666666666666666,
             "#ed7953"
            ],
            [
             0.7777777777777778,
             "#fb9f3a"
            ],
            [
             0.8888888888888888,
             "#fdca26"
            ],
            [
             1,
             "#f0f921"
            ]
           ],
           "sequentialminus": [
            [
             0,
             "#0d0887"
            ],
            [
             0.1111111111111111,
             "#46039f"
            ],
            [
             0.2222222222222222,
             "#7201a8"
            ],
            [
             0.3333333333333333,
             "#9c179e"
            ],
            [
             0.4444444444444444,
             "#bd3786"
            ],
            [
             0.5555555555555556,
             "#d8576b"
            ],
            [
             0.6666666666666666,
             "#ed7953"
            ],
            [
             0.7777777777777778,
             "#fb9f3a"
            ],
            [
             0.8888888888888888,
             "#fdca26"
            ],
            [
             1,
             "#f0f921"
            ]
           ]
          },
          "colorway": [
           "#636efa",
           "#EF553B",
           "#00cc96",
           "#ab63fa",
           "#FFA15A",
           "#19d3f3",
           "#FF6692",
           "#B6E880",
           "#FF97FF",
           "#FECB52"
          ],
          "font": {
           "color": "#2a3f5f"
          },
          "geo": {
           "bgcolor": "white",
           "lakecolor": "white",
           "landcolor": "#E5ECF6",
           "showlakes": true,
           "showland": true,
           "subunitcolor": "white"
          },
          "hoverlabel": {
           "align": "left"
          },
          "hovermode": "closest",
          "mapbox": {
           "style": "light"
          },
          "paper_bgcolor": "white",
          "plot_bgcolor": "#E5ECF6",
          "polar": {
           "angularaxis": {
            "gridcolor": "white",
            "linecolor": "white",
            "ticks": ""
           },
           "bgcolor": "#E5ECF6",
           "radialaxis": {
            "gridcolor": "white",
            "linecolor": "white",
            "ticks": ""
           }
          },
          "scene": {
           "xaxis": {
            "backgroundcolor": "#E5ECF6",
            "gridcolor": "white",
            "gridwidth": 2,
            "linecolor": "white",
            "showbackground": true,
            "ticks": "",
            "zerolinecolor": "white"
           },
           "yaxis": {
            "backgroundcolor": "#E5ECF6",
            "gridcolor": "white",
            "gridwidth": 2,
            "linecolor": "white",
            "showbackground": true,
            "ticks": "",
            "zerolinecolor": "white"
           },
           "zaxis": {
            "backgroundcolor": "#E5ECF6",
            "gridcolor": "white",
            "gridwidth": 2,
            "linecolor": "white",
            "showbackground": true,
            "ticks": "",
            "zerolinecolor": "white"
           }
          },
          "shapedefaults": {
           "line": {
            "color": "#2a3f5f"
           }
          },
          "ternary": {
           "aaxis": {
            "gridcolor": "white",
            "linecolor": "white",
            "ticks": ""
           },
           "baxis": {
            "gridcolor": "white",
            "linecolor": "white",
            "ticks": ""
           },
           "bgcolor": "#E5ECF6",
           "caxis": {
            "gridcolor": "white",
            "linecolor": "white",
            "ticks": ""
           }
          },
          "title": {
           "x": 0.05
          },
          "xaxis": {
           "automargin": true,
           "gridcolor": "white",
           "linecolor": "white",
           "ticks": "",
           "title": {
            "standoff": 15
           },
           "zerolinecolor": "white",
           "zerolinewidth": 2
          },
          "yaxis": {
           "automargin": true,
           "gridcolor": "white",
           "linecolor": "white",
           "ticks": "",
           "title": {
            "standoff": 15
           },
           "zerolinecolor": "white",
           "zerolinewidth": 2
          }
         }
        },
        "title": {
         "text": "Reflection across x",
         "x": 0.5,
         "xanchor": "center",
         "y": 0.95,
         "yanchor": "top"
        },
        "xaxis": {
         "title": {
          "text": "x"
         }
        },
        "yaxis": {
         "title": {
          "text": "y"
         }
        }
       }
      }
     },
     "metadata": {},
     "output_type": "display_data"
    }
   ],
   "source": [
    "# Generate the list of numbers\n",
    "min_x = 0.0 \n",
    "max_x = 5.0\n",
    "num_points = 50\n",
    "x_values = np.linspace(min_x, max_x, num_points)\n",
    "\n",
    "# Define exponential function\n",
    "f = 2*(3)**x\n",
    "f_refl = -f\n",
    "print(\"Original f = \", f, \" reflected f across x = \", f_refl)\n",
    "\n",
    "plot = graph_funs()       # Create a graph object\n",
    "plot.add_fun(f)           # Create a single function.\n",
    "plot.add_refl_across_x(f) # Add its reflection.\n",
    "\n",
    "\n",
    "plot.plot_functions_list(x_values=x_values, plot_title=\"Reflection across x\")"
   ]
  },
  {
   "cell_type": "markdown",
   "metadata": {},
   "source": [
    "# Reflections across y\n",
    "You can reflect across y using a substitution:\n",
    "```\n",
    "f_refl_across_x = f.subs(x, -x)\n",
    "```\n",
    "Once you define a function, you can add it and its reflection across y using:\n",
    "```\n",
    "plot = graph_funs()       # Create a graph object\n",
    "plot.add_fun(f)           # Create a single function.\n",
    "plot.add_refl_across_y(f) # Add its reflection.\n",
    "```\n",
    "\n",
    "## Assignment: Plot reflections across y\n",
    "Study the code below and do the following:<br>\n",
    "1. The reflected functions looks like zero. Zoom in into the function. Is it zero? \n",
    "2. Modify the code to reflect across y:\n",
    "    $$ y = 4^x. $$\n"
   ]
  },
  {
   "cell_type": "code",
   "execution_count": 11,
   "metadata": {},
   "outputs": [
    {
     "name": "stdout",
     "output_type": "stream",
     "text": [
      "Original f =  2*3**x  reflected f =  2/3**x\n"
     ]
    },
    {
     "data": {
      "application/vnd.plotly.v1+json": {
       "config": {
        "plotlyServerURL": "https://plot.ly"
       },
       "data": [
        {
         "mode": "lines+markers",
         "name": "2*3^x",
         "showlegend": true,
         "type": "scatter",
         "x": [
          0,
          0.10204081632653061,
          0.20408163265306123,
          0.30612244897959184,
          0.40816326530612246,
          0.5102040816326531,
          0.6122448979591837,
          0.7142857142857143,
          0.8163265306122449,
          0.9183673469387755,
          1.0204081632653061,
          1.1224489795918369,
          1.2244897959183674,
          1.3265306122448979,
          1.4285714285714286,
          1.5306122448979593,
          1.6326530612244898,
          1.7346938775510203,
          1.836734693877551,
          1.9387755102040818,
          2.0408163265306123,
          2.142857142857143,
          2.2448979591836737,
          2.3469387755102042,
          2.4489795918367347,
          2.5510204081632653,
          2.6530612244897958,
          2.7551020408163267,
          2.857142857142857,
          2.9591836734693877,
          3.0612244897959187,
          3.163265306122449,
          3.2653061224489797,
          3.36734693877551,
          3.4693877551020407,
          3.5714285714285716,
          3.673469387755102,
          3.7755102040816326,
          3.8775510204081636,
          3.979591836734694,
          4.081632653061225,
          4.183673469387755,
          4.285714285714286,
          4.387755102040816,
          4.4897959183673475,
          4.591836734693878,
          4.6938775510204085,
          4.795918367346939,
          4.8979591836734695,
          5
         ],
         "y": [
          2,
          2.2372568062644036,
          2.5026590085881995,
          2.7995454503614368,
          3.1316510566338347,
          3.5031538206495787,
          3.91872736431971,
          4.383599733859419,
          4.903619170257906,
          5.485327681994054,
          6.13604334556587,
          6.863952369200323,
          7.67821207793405,
          8.58906611564975,
          9.607973313346184,
          10.747751844845252,
          12.022740483460419,
          13.448978988286202,
          15.04440988942513,
          16.82910421067394,
          18.8255139693316,
          21.058754629656363,
          23.556921063325365,
          26.35144099177898,
          29.47747035686616,
          32.974335593678,
          36.88602836950134,
          41.261759012864395,
          46.15657559498622,
          51.63205645187019,
          57.757084859187266,
          64.6087156056037,
          72.27314436631903,
          80.84679207183854,
          90.43751791368187,
          101.16597624702189,
          113.16713446051634,
          126.59197090861454,
          141.60937426686166,
          158.40826820468976,
          177.19998810474962,
          198.2209397286612,
          221.73557327603663,
          248.03971025137614,
          277.4642649918712,
          310.37940767410686,
          347.1992211716048,
          388.38691034793635,
          434.4606293199616,
          486
         ]
        },
        {
         "mode": "lines+markers",
         "name": "2/3^x",
         "showlegend": true,
         "type": "scatter",
         "x": [
          0,
          0.10204081632653061,
          0.20408163265306123,
          0.30612244897959184,
          0.40816326530612246,
          0.5102040816326531,
          0.6122448979591837,
          0.7142857142857143,
          0.8163265306122449,
          0.9183673469387755,
          1.0204081632653061,
          1.1224489795918369,
          1.2244897959183674,
          1.3265306122448979,
          1.4285714285714286,
          1.5306122448979593,
          1.6326530612244898,
          1.7346938775510203,
          1.836734693877551,
          1.9387755102040818,
          2.0408163265306123,
          2.142857142857143,
          2.2448979591836737,
          2.3469387755102042,
          2.4489795918367347,
          2.5510204081632653,
          2.6530612244897958,
          2.7551020408163267,
          2.857142857142857,
          2.9591836734693877,
          3.0612244897959187,
          3.163265306122449,
          3.2653061224489797,
          3.36734693877551,
          3.4693877551020407,
          3.5714285714285716,
          3.673469387755102,
          3.7755102040816326,
          3.8775510204081636,
          3.979591836734694,
          4.081632653061225,
          4.183673469387755,
          4.285714285714286,
          4.387755102040816,
          4.4897959183673475,
          4.591836734693878,
          4.6938775510204085,
          4.795918367346939,
          4.8979591836734695,
          5
         ],
         "y": [
          2,
          1.7879038243619816,
          1.5983000425840999,
          1.428803379307015,
          1.2772815130621675,
          1.141828250995354,
          1.020739548359573,
          0.9124920710948011,
          0.81572403180519,
          0.729218058044237,
          0.6518858773855544,
          0.5827546266125991,
          0.5209546127926524,
          0.4657083722654993,
          0.41632088990543975,
          0.3721708556118596,
          0.33270284803225736,
          0.29742034718649807,
          0.2658794880889041,
          0.23768347678677876,
          0.21247759856736703,
          0.18994475553492274,
          0.16980147741919493,
          0.15179435543004666,
          0.1356968542949712,
          0.12130646237393482,
          0.10844214399909045,
          0.09694206198899323,
          0.08666154168582865,
          0.07747125090259918,
          0.06925557288343182,
          0.061911151808333856,
          0.055345592544387666,
          0.04947629828584534,
          0.04422943146026853,
          0.03953898482858511,
          0.035345951093208844,
          0.03159758056762983,
          0.028246717568725595,
          0.025251207183398638,
          0.022573364946477586,
          0.02017950275826299,
          0.01803950507761078,
          0.016126450058928852,
          0.014416270866870686,
          0.01288745290795816,
          0.01152076317021167,
          0.010299008265795056,
          0.009206818132775322,
          0.00823045267489712
         ]
        }
       ],
       "layout": {
        "autosize": false,
        "template": {
         "data": {
          "bar": [
           {
            "error_x": {
             "color": "#2a3f5f"
            },
            "error_y": {
             "color": "#2a3f5f"
            },
            "marker": {
             "line": {
              "color": "#E5ECF6",
              "width": 0.5
             },
             "pattern": {
              "fillmode": "overlay",
              "size": 10,
              "solidity": 0.2
             }
            },
            "type": "bar"
           }
          ],
          "barpolar": [
           {
            "marker": {
             "line": {
              "color": "#E5ECF6",
              "width": 0.5
             },
             "pattern": {
              "fillmode": "overlay",
              "size": 10,
              "solidity": 0.2
             }
            },
            "type": "barpolar"
           }
          ],
          "carpet": [
           {
            "aaxis": {
             "endlinecolor": "#2a3f5f",
             "gridcolor": "white",
             "linecolor": "white",
             "minorgridcolor": "white",
             "startlinecolor": "#2a3f5f"
            },
            "baxis": {
             "endlinecolor": "#2a3f5f",
             "gridcolor": "white",
             "linecolor": "white",
             "minorgridcolor": "white",
             "startlinecolor": "#2a3f5f"
            },
            "type": "carpet"
           }
          ],
          "choropleth": [
           {
            "colorbar": {
             "outlinewidth": 0,
             "ticks": ""
            },
            "type": "choropleth"
           }
          ],
          "contour": [
           {
            "colorbar": {
             "outlinewidth": 0,
             "ticks": ""
            },
            "colorscale": [
             [
              0,
              "#0d0887"
             ],
             [
              0.1111111111111111,
              "#46039f"
             ],
             [
              0.2222222222222222,
              "#7201a8"
             ],
             [
              0.3333333333333333,
              "#9c179e"
             ],
             [
              0.4444444444444444,
              "#bd3786"
             ],
             [
              0.5555555555555556,
              "#d8576b"
             ],
             [
              0.6666666666666666,
              "#ed7953"
             ],
             [
              0.7777777777777778,
              "#fb9f3a"
             ],
             [
              0.8888888888888888,
              "#fdca26"
             ],
             [
              1,
              "#f0f921"
             ]
            ],
            "type": "contour"
           }
          ],
          "contourcarpet": [
           {
            "colorbar": {
             "outlinewidth": 0,
             "ticks": ""
            },
            "type": "contourcarpet"
           }
          ],
          "heatmap": [
           {
            "colorbar": {
             "outlinewidth": 0,
             "ticks": ""
            },
            "colorscale": [
             [
              0,
              "#0d0887"
             ],
             [
              0.1111111111111111,
              "#46039f"
             ],
             [
              0.2222222222222222,
              "#7201a8"
             ],
             [
              0.3333333333333333,
              "#9c179e"
             ],
             [
              0.4444444444444444,
              "#bd3786"
             ],
             [
              0.5555555555555556,
              "#d8576b"
             ],
             [
              0.6666666666666666,
              "#ed7953"
             ],
             [
              0.7777777777777778,
              "#fb9f3a"
             ],
             [
              0.8888888888888888,
              "#fdca26"
             ],
             [
              1,
              "#f0f921"
             ]
            ],
            "type": "heatmap"
           }
          ],
          "heatmapgl": [
           {
            "colorbar": {
             "outlinewidth": 0,
             "ticks": ""
            },
            "colorscale": [
             [
              0,
              "#0d0887"
             ],
             [
              0.1111111111111111,
              "#46039f"
             ],
             [
              0.2222222222222222,
              "#7201a8"
             ],
             [
              0.3333333333333333,
              "#9c179e"
             ],
             [
              0.4444444444444444,
              "#bd3786"
             ],
             [
              0.5555555555555556,
              "#d8576b"
             ],
             [
              0.6666666666666666,
              "#ed7953"
             ],
             [
              0.7777777777777778,
              "#fb9f3a"
             ],
             [
              0.8888888888888888,
              "#fdca26"
             ],
             [
              1,
              "#f0f921"
             ]
            ],
            "type": "heatmapgl"
           }
          ],
          "histogram": [
           {
            "marker": {
             "pattern": {
              "fillmode": "overlay",
              "size": 10,
              "solidity": 0.2
             }
            },
            "type": "histogram"
           }
          ],
          "histogram2d": [
           {
            "colorbar": {
             "outlinewidth": 0,
             "ticks": ""
            },
            "colorscale": [
             [
              0,
              "#0d0887"
             ],
             [
              0.1111111111111111,
              "#46039f"
             ],
             [
              0.2222222222222222,
              "#7201a8"
             ],
             [
              0.3333333333333333,
              "#9c179e"
             ],
             [
              0.4444444444444444,
              "#bd3786"
             ],
             [
              0.5555555555555556,
              "#d8576b"
             ],
             [
              0.6666666666666666,
              "#ed7953"
             ],
             [
              0.7777777777777778,
              "#fb9f3a"
             ],
             [
              0.8888888888888888,
              "#fdca26"
             ],
             [
              1,
              "#f0f921"
             ]
            ],
            "type": "histogram2d"
           }
          ],
          "histogram2dcontour": [
           {
            "colorbar": {
             "outlinewidth": 0,
             "ticks": ""
            },
            "colorscale": [
             [
              0,
              "#0d0887"
             ],
             [
              0.1111111111111111,
              "#46039f"
             ],
             [
              0.2222222222222222,
              "#7201a8"
             ],
             [
              0.3333333333333333,
              "#9c179e"
             ],
             [
              0.4444444444444444,
              "#bd3786"
             ],
             [
              0.5555555555555556,
              "#d8576b"
             ],
             [
              0.6666666666666666,
              "#ed7953"
             ],
             [
              0.7777777777777778,
              "#fb9f3a"
             ],
             [
              0.8888888888888888,
              "#fdca26"
             ],
             [
              1,
              "#f0f921"
             ]
            ],
            "type": "histogram2dcontour"
           }
          ],
          "mesh3d": [
           {
            "colorbar": {
             "outlinewidth": 0,
             "ticks": ""
            },
            "type": "mesh3d"
           }
          ],
          "parcoords": [
           {
            "line": {
             "colorbar": {
              "outlinewidth": 0,
              "ticks": ""
             }
            },
            "type": "parcoords"
           }
          ],
          "pie": [
           {
            "automargin": true,
            "type": "pie"
           }
          ],
          "scatter": [
           {
            "fillpattern": {
             "fillmode": "overlay",
             "size": 10,
             "solidity": 0.2
            },
            "type": "scatter"
           }
          ],
          "scatter3d": [
           {
            "line": {
             "colorbar": {
              "outlinewidth": 0,
              "ticks": ""
             }
            },
            "marker": {
             "colorbar": {
              "outlinewidth": 0,
              "ticks": ""
             }
            },
            "type": "scatter3d"
           }
          ],
          "scattercarpet": [
           {
            "marker": {
             "colorbar": {
              "outlinewidth": 0,
              "ticks": ""
             }
            },
            "type": "scattercarpet"
           }
          ],
          "scattergeo": [
           {
            "marker": {
             "colorbar": {
              "outlinewidth": 0,
              "ticks": ""
             }
            },
            "type": "scattergeo"
           }
          ],
          "scattergl": [
           {
            "marker": {
             "colorbar": {
              "outlinewidth": 0,
              "ticks": ""
             }
            },
            "type": "scattergl"
           }
          ],
          "scattermapbox": [
           {
            "marker": {
             "colorbar": {
              "outlinewidth": 0,
              "ticks": ""
             }
            },
            "type": "scattermapbox"
           }
          ],
          "scatterpolar": [
           {
            "marker": {
             "colorbar": {
              "outlinewidth": 0,
              "ticks": ""
             }
            },
            "type": "scatterpolar"
           }
          ],
          "scatterpolargl": [
           {
            "marker": {
             "colorbar": {
              "outlinewidth": 0,
              "ticks": ""
             }
            },
            "type": "scatterpolargl"
           }
          ],
          "scatterternary": [
           {
            "marker": {
             "colorbar": {
              "outlinewidth": 0,
              "ticks": ""
             }
            },
            "type": "scatterternary"
           }
          ],
          "surface": [
           {
            "colorbar": {
             "outlinewidth": 0,
             "ticks": ""
            },
            "colorscale": [
             [
              0,
              "#0d0887"
             ],
             [
              0.1111111111111111,
              "#46039f"
             ],
             [
              0.2222222222222222,
              "#7201a8"
             ],
             [
              0.3333333333333333,
              "#9c179e"
             ],
             [
              0.4444444444444444,
              "#bd3786"
             ],
             [
              0.5555555555555556,
              "#d8576b"
             ],
             [
              0.6666666666666666,
              "#ed7953"
             ],
             [
              0.7777777777777778,
              "#fb9f3a"
             ],
             [
              0.8888888888888888,
              "#fdca26"
             ],
             [
              1,
              "#f0f921"
             ]
            ],
            "type": "surface"
           }
          ],
          "table": [
           {
            "cells": {
             "fill": {
              "color": "#EBF0F8"
             },
             "line": {
              "color": "white"
             }
            },
            "header": {
             "fill": {
              "color": "#C8D4E3"
             },
             "line": {
              "color": "white"
             }
            },
            "type": "table"
           }
          ]
         },
         "layout": {
          "annotationdefaults": {
           "arrowcolor": "#2a3f5f",
           "arrowhead": 0,
           "arrowwidth": 1
          },
          "autotypenumbers": "strict",
          "coloraxis": {
           "colorbar": {
            "outlinewidth": 0,
            "ticks": ""
           }
          },
          "colorscale": {
           "diverging": [
            [
             0,
             "#8e0152"
            ],
            [
             0.1,
             "#c51b7d"
            ],
            [
             0.2,
             "#de77ae"
            ],
            [
             0.3,
             "#f1b6da"
            ],
            [
             0.4,
             "#fde0ef"
            ],
            [
             0.5,
             "#f7f7f7"
            ],
            [
             0.6,
             "#e6f5d0"
            ],
            [
             0.7,
             "#b8e186"
            ],
            [
             0.8,
             "#7fbc41"
            ],
            [
             0.9,
             "#4d9221"
            ],
            [
             1,
             "#276419"
            ]
           ],
           "sequential": [
            [
             0,
             "#0d0887"
            ],
            [
             0.1111111111111111,
             "#46039f"
            ],
            [
             0.2222222222222222,
             "#7201a8"
            ],
            [
             0.3333333333333333,
             "#9c179e"
            ],
            [
             0.4444444444444444,
             "#bd3786"
            ],
            [
             0.5555555555555556,
             "#d8576b"
            ],
            [
             0.6666666666666666,
             "#ed7953"
            ],
            [
             0.7777777777777778,
             "#fb9f3a"
            ],
            [
             0.8888888888888888,
             "#fdca26"
            ],
            [
             1,
             "#f0f921"
            ]
           ],
           "sequentialminus": [
            [
             0,
             "#0d0887"
            ],
            [
             0.1111111111111111,
             "#46039f"
            ],
            [
             0.2222222222222222,
             "#7201a8"
            ],
            [
             0.3333333333333333,
             "#9c179e"
            ],
            [
             0.4444444444444444,
             "#bd3786"
            ],
            [
             0.5555555555555556,
             "#d8576b"
            ],
            [
             0.6666666666666666,
             "#ed7953"
            ],
            [
             0.7777777777777778,
             "#fb9f3a"
            ],
            [
             0.8888888888888888,
             "#fdca26"
            ],
            [
             1,
             "#f0f921"
            ]
           ]
          },
          "colorway": [
           "#636efa",
           "#EF553B",
           "#00cc96",
           "#ab63fa",
           "#FFA15A",
           "#19d3f3",
           "#FF6692",
           "#B6E880",
           "#FF97FF",
           "#FECB52"
          ],
          "font": {
           "color": "#2a3f5f"
          },
          "geo": {
           "bgcolor": "white",
           "lakecolor": "white",
           "landcolor": "#E5ECF6",
           "showlakes": true,
           "showland": true,
           "subunitcolor": "white"
          },
          "hoverlabel": {
           "align": "left"
          },
          "hovermode": "closest",
          "mapbox": {
           "style": "light"
          },
          "paper_bgcolor": "white",
          "plot_bgcolor": "#E5ECF6",
          "polar": {
           "angularaxis": {
            "gridcolor": "white",
            "linecolor": "white",
            "ticks": ""
           },
           "bgcolor": "#E5ECF6",
           "radialaxis": {
            "gridcolor": "white",
            "linecolor": "white",
            "ticks": ""
           }
          },
          "scene": {
           "xaxis": {
            "backgroundcolor": "#E5ECF6",
            "gridcolor": "white",
            "gridwidth": 2,
            "linecolor": "white",
            "showbackground": true,
            "ticks": "",
            "zerolinecolor": "white"
           },
           "yaxis": {
            "backgroundcolor": "#E5ECF6",
            "gridcolor": "white",
            "gridwidth": 2,
            "linecolor": "white",
            "showbackground": true,
            "ticks": "",
            "zerolinecolor": "white"
           },
           "zaxis": {
            "backgroundcolor": "#E5ECF6",
            "gridcolor": "white",
            "gridwidth": 2,
            "linecolor": "white",
            "showbackground": true,
            "ticks": "",
            "zerolinecolor": "white"
           }
          },
          "shapedefaults": {
           "line": {
            "color": "#2a3f5f"
           }
          },
          "ternary": {
           "aaxis": {
            "gridcolor": "white",
            "linecolor": "white",
            "ticks": ""
           },
           "baxis": {
            "gridcolor": "white",
            "linecolor": "white",
            "ticks": ""
           },
           "bgcolor": "#E5ECF6",
           "caxis": {
            "gridcolor": "white",
            "linecolor": "white",
            "ticks": ""
           }
          },
          "title": {
           "x": 0.05
          },
          "xaxis": {
           "automargin": true,
           "gridcolor": "white",
           "linecolor": "white",
           "ticks": "",
           "title": {
            "standoff": 15
           },
           "zerolinecolor": "white",
           "zerolinewidth": 2
          },
          "yaxis": {
           "automargin": true,
           "gridcolor": "white",
           "linecolor": "white",
           "ticks": "",
           "title": {
            "standoff": 15
           },
           "zerolinecolor": "white",
           "zerolinewidth": 2
          }
         }
        },
        "title": {
         "text": "Reflection across y",
         "x": 0.5,
         "xanchor": "center",
         "y": 0.95,
         "yanchor": "top"
        },
        "xaxis": {
         "title": {
          "text": "x"
         }
        },
        "yaxis": {
         "title": {
          "text": "y"
         }
        }
       }
      }
     },
     "metadata": {},
     "output_type": "display_data"
    }
   ],
   "source": [
    "# Generate the list of numbers\n",
    "min_x = 0.0 \n",
    "max_x = 5.0\n",
    "num_points = 50\n",
    "x_values = np.linspace(min_x, max_x, num_points)\n",
    "\n",
    "# Define exponential function\n",
    "f = 2*3**(x)\n",
    "f_refl = f.subs(x, -x)\n",
    "print(\"Original f = \", f, \" reflected f = \", f_refl)\n",
    "\n",
    "plot = graph_funs()       # Create a graph object\n",
    "plot.add_fun(f)           # Create a single function.\n",
    "plot.add_refl_across_y(f) # Add its reflection.\n",
    "\n",
    "\n",
    "plot.plot_functions_list(x_values=x_values, plot_title=\"Reflection across y\")"
   ]
  },
  {
   "cell_type": "markdown",
   "metadata": {},
   "source": [
    "# Vertical dilations\n",
    "You can dilate vertically by 2 by multiplying:\n",
    "```\n",
    "f_dil_vertically = 2*f\n",
    "```\n",
    "You can add multiple dilations using:\n",
    "```\n",
    "plot.add_vert_dilations(f, a_values=[5, -5, 10])\n",
    "```\n",
    "\n",
    "## Assignment: Plot vertical dilations\n",
    "Study the code below and do the following:<br>\n",
    "1. The reflected functions looks like zero on the left. Zoom in into the function. Is it zero? \n",
    "2. Modify the code to vertically translate the following function:\n",
    "    $$ y = 4^x. $$\n"
   ]
  },
  {
   "cell_type": "code",
   "execution_count": 12,
   "metadata": {},
   "outputs": [
    {
     "name": "stdout",
     "output_type": "stream",
     "text": [
      "Original f =  2*3**x  Dilate f vertically by 2 =  4*3**x\n"
     ]
    },
    {
     "data": {
      "application/vnd.plotly.v1+json": {
       "config": {
        "plotlyServerURL": "https://plot.ly"
       },
       "data": [
        {
         "mode": "lines+markers",
         "name": "2*3^x",
         "showlegend": true,
         "type": "scatter",
         "x": [
          0,
          0.10204081632653061,
          0.20408163265306123,
          0.30612244897959184,
          0.40816326530612246,
          0.5102040816326531,
          0.6122448979591837,
          0.7142857142857143,
          0.8163265306122449,
          0.9183673469387755,
          1.0204081632653061,
          1.1224489795918369,
          1.2244897959183674,
          1.3265306122448979,
          1.4285714285714286,
          1.5306122448979593,
          1.6326530612244898,
          1.7346938775510203,
          1.836734693877551,
          1.9387755102040818,
          2.0408163265306123,
          2.142857142857143,
          2.2448979591836737,
          2.3469387755102042,
          2.4489795918367347,
          2.5510204081632653,
          2.6530612244897958,
          2.7551020408163267,
          2.857142857142857,
          2.9591836734693877,
          3.0612244897959187,
          3.163265306122449,
          3.2653061224489797,
          3.36734693877551,
          3.4693877551020407,
          3.5714285714285716,
          3.673469387755102,
          3.7755102040816326,
          3.8775510204081636,
          3.979591836734694,
          4.081632653061225,
          4.183673469387755,
          4.285714285714286,
          4.387755102040816,
          4.4897959183673475,
          4.591836734693878,
          4.6938775510204085,
          4.795918367346939,
          4.8979591836734695,
          5
         ],
         "y": [
          2,
          2.2372568062644036,
          2.5026590085881995,
          2.7995454503614368,
          3.1316510566338347,
          3.5031538206495787,
          3.91872736431971,
          4.383599733859419,
          4.903619170257906,
          5.485327681994054,
          6.13604334556587,
          6.863952369200323,
          7.67821207793405,
          8.58906611564975,
          9.607973313346184,
          10.747751844845252,
          12.022740483460419,
          13.448978988286202,
          15.04440988942513,
          16.82910421067394,
          18.8255139693316,
          21.058754629656363,
          23.556921063325365,
          26.35144099177898,
          29.47747035686616,
          32.974335593678,
          36.88602836950134,
          41.261759012864395,
          46.15657559498622,
          51.63205645187019,
          57.757084859187266,
          64.6087156056037,
          72.27314436631903,
          80.84679207183854,
          90.43751791368187,
          101.16597624702189,
          113.16713446051634,
          126.59197090861454,
          141.60937426686166,
          158.40826820468976,
          177.19998810474962,
          198.2209397286612,
          221.73557327603663,
          248.03971025137614,
          277.4642649918712,
          310.37940767410686,
          347.1992211716048,
          388.38691034793635,
          434.4606293199616,
          486
         ]
        },
        {
         "mode": "lines+markers",
         "name": "10*3^x",
         "showlegend": true,
         "type": "scatter",
         "x": [
          0,
          0.10204081632653061,
          0.20408163265306123,
          0.30612244897959184,
          0.40816326530612246,
          0.5102040816326531,
          0.6122448979591837,
          0.7142857142857143,
          0.8163265306122449,
          0.9183673469387755,
          1.0204081632653061,
          1.1224489795918369,
          1.2244897959183674,
          1.3265306122448979,
          1.4285714285714286,
          1.5306122448979593,
          1.6326530612244898,
          1.7346938775510203,
          1.836734693877551,
          1.9387755102040818,
          2.0408163265306123,
          2.142857142857143,
          2.2448979591836737,
          2.3469387755102042,
          2.4489795918367347,
          2.5510204081632653,
          2.6530612244897958,
          2.7551020408163267,
          2.857142857142857,
          2.9591836734693877,
          3.0612244897959187,
          3.163265306122449,
          3.2653061224489797,
          3.36734693877551,
          3.4693877551020407,
          3.5714285714285716,
          3.673469387755102,
          3.7755102040816326,
          3.8775510204081636,
          3.979591836734694,
          4.081632653061225,
          4.183673469387755,
          4.285714285714286,
          4.387755102040816,
          4.4897959183673475,
          4.591836734693878,
          4.6938775510204085,
          4.795918367346939,
          4.8979591836734695,
          5
         ],
         "y": [
          10,
          11.186284031322018,
          12.513295042940998,
          13.997727251807184,
          15.658255283169174,
          17.515769103247894,
          19.59363682159855,
          21.917998669297095,
          24.51809585128953,
          27.42663840997027,
          30.68021672782935,
          34.31976184600161,
          38.39106038967025,
          42.94533057824875,
          48.03986656673092,
          53.738759224226264,
          60.11370241730209,
          67.24489494143101,
          75.22204944712566,
          84.14552105336969,
          94.12756984665799,
          105.29377314828182,
          117.78460531662682,
          131.7572049588949,
          147.3873517843308,
          164.87167796839,
          184.4301418475067,
          206.30879506432197,
          230.78287797493113,
          258.16028225935094,
          288.7854242959363,
          323.04357802801854,
          361.3657218315951,
          404.2339603591927,
          452.18758956840935,
          505.82988123510944,
          565.8356723025817,
          632.9598545430727,
          708.0468713343083,
          792.0413410234488,
          885.9999405237481,
          991.1046986433059,
          1108.677866380183,
          1240.1985512568806,
          1387.321324959356,
          1551.8970383705343,
          1735.9961058580238,
          1941.9345517396819,
          2172.303146599808,
          2430
         ]
        },
        {
         "mode": "lines+markers",
         "name": "-10*3^x",
         "showlegend": true,
         "type": "scatter",
         "x": [
          0,
          0.10204081632653061,
          0.20408163265306123,
          0.30612244897959184,
          0.40816326530612246,
          0.5102040816326531,
          0.6122448979591837,
          0.7142857142857143,
          0.8163265306122449,
          0.9183673469387755,
          1.0204081632653061,
          1.1224489795918369,
          1.2244897959183674,
          1.3265306122448979,
          1.4285714285714286,
          1.5306122448979593,
          1.6326530612244898,
          1.7346938775510203,
          1.836734693877551,
          1.9387755102040818,
          2.0408163265306123,
          2.142857142857143,
          2.2448979591836737,
          2.3469387755102042,
          2.4489795918367347,
          2.5510204081632653,
          2.6530612244897958,
          2.7551020408163267,
          2.857142857142857,
          2.9591836734693877,
          3.0612244897959187,
          3.163265306122449,
          3.2653061224489797,
          3.36734693877551,
          3.4693877551020407,
          3.5714285714285716,
          3.673469387755102,
          3.7755102040816326,
          3.8775510204081636,
          3.979591836734694,
          4.081632653061225,
          4.183673469387755,
          4.285714285714286,
          4.387755102040816,
          4.4897959183673475,
          4.591836734693878,
          4.6938775510204085,
          4.795918367346939,
          4.8979591836734695,
          5
         ],
         "y": [
          -10,
          -11.186284031322018,
          -12.513295042940998,
          -13.997727251807184,
          -15.658255283169174,
          -17.515769103247894,
          -19.59363682159855,
          -21.917998669297095,
          -24.51809585128953,
          -27.42663840997027,
          -30.68021672782935,
          -34.31976184600161,
          -38.39106038967025,
          -42.94533057824875,
          -48.03986656673092,
          -53.738759224226264,
          -60.11370241730209,
          -67.24489494143101,
          -75.22204944712566,
          -84.14552105336969,
          -94.12756984665799,
          -105.29377314828182,
          -117.78460531662682,
          -131.7572049588949,
          -147.3873517843308,
          -164.87167796839,
          -184.4301418475067,
          -206.30879506432197,
          -230.78287797493113,
          -258.16028225935094,
          -288.7854242959363,
          -323.04357802801854,
          -361.3657218315951,
          -404.2339603591927,
          -452.18758956840935,
          -505.82988123510944,
          -565.8356723025817,
          -632.9598545430727,
          -708.0468713343083,
          -792.0413410234488,
          -885.9999405237481,
          -991.1046986433059,
          -1108.677866380183,
          -1240.1985512568806,
          -1387.321324959356,
          -1551.8970383705343,
          -1735.9961058580238,
          -1941.9345517396819,
          -2172.303146599808,
          -2430
         ]
        },
        {
         "mode": "lines+markers",
         "name": "20*3^x",
         "showlegend": true,
         "type": "scatter",
         "x": [
          0,
          0.10204081632653061,
          0.20408163265306123,
          0.30612244897959184,
          0.40816326530612246,
          0.5102040816326531,
          0.6122448979591837,
          0.7142857142857143,
          0.8163265306122449,
          0.9183673469387755,
          1.0204081632653061,
          1.1224489795918369,
          1.2244897959183674,
          1.3265306122448979,
          1.4285714285714286,
          1.5306122448979593,
          1.6326530612244898,
          1.7346938775510203,
          1.836734693877551,
          1.9387755102040818,
          2.0408163265306123,
          2.142857142857143,
          2.2448979591836737,
          2.3469387755102042,
          2.4489795918367347,
          2.5510204081632653,
          2.6530612244897958,
          2.7551020408163267,
          2.857142857142857,
          2.9591836734693877,
          3.0612244897959187,
          3.163265306122449,
          3.2653061224489797,
          3.36734693877551,
          3.4693877551020407,
          3.5714285714285716,
          3.673469387755102,
          3.7755102040816326,
          3.8775510204081636,
          3.979591836734694,
          4.081632653061225,
          4.183673469387755,
          4.285714285714286,
          4.387755102040816,
          4.4897959183673475,
          4.591836734693878,
          4.6938775510204085,
          4.795918367346939,
          4.8979591836734695,
          5
         ],
         "y": [
          20,
          22.372568062644035,
          25.026590085881995,
          27.99545450361437,
          31.316510566338348,
          35.03153820649579,
          39.1872736431971,
          43.83599733859419,
          49.03619170257906,
          54.85327681994054,
          61.3604334556587,
          68.63952369200322,
          76.7821207793405,
          85.8906611564975,
          96.07973313346184,
          107.47751844845253,
          120.22740483460419,
          134.48978988286203,
          150.4440988942513,
          168.29104210673938,
          188.25513969331598,
          210.58754629656363,
          235.56921063325365,
          263.5144099177898,
          294.7747035686616,
          329.74335593678,
          368.8602836950134,
          412.61759012864394,
          461.56575594986225,
          516.3205645187019,
          577.5708485918726,
          646.0871560560371,
          722.7314436631902,
          808.4679207183854,
          904.3751791368187,
          1011.6597624702189,
          1131.6713446051633,
          1265.9197090861453,
          1416.0937426686166,
          1584.0826820468976,
          1771.9998810474963,
          1982.2093972866119,
          2217.355732760366,
          2480.397102513761,
          2774.642649918712,
          3103.7940767410687,
          3471.9922117160477,
          3883.8691034793637,
          4344.606293199616,
          4860
         ]
        }
       ],
       "layout": {
        "autosize": false,
        "template": {
         "data": {
          "bar": [
           {
            "error_x": {
             "color": "#2a3f5f"
            },
            "error_y": {
             "color": "#2a3f5f"
            },
            "marker": {
             "line": {
              "color": "#E5ECF6",
              "width": 0.5
             },
             "pattern": {
              "fillmode": "overlay",
              "size": 10,
              "solidity": 0.2
             }
            },
            "type": "bar"
           }
          ],
          "barpolar": [
           {
            "marker": {
             "line": {
              "color": "#E5ECF6",
              "width": 0.5
             },
             "pattern": {
              "fillmode": "overlay",
              "size": 10,
              "solidity": 0.2
             }
            },
            "type": "barpolar"
           }
          ],
          "carpet": [
           {
            "aaxis": {
             "endlinecolor": "#2a3f5f",
             "gridcolor": "white",
             "linecolor": "white",
             "minorgridcolor": "white",
             "startlinecolor": "#2a3f5f"
            },
            "baxis": {
             "endlinecolor": "#2a3f5f",
             "gridcolor": "white",
             "linecolor": "white",
             "minorgridcolor": "white",
             "startlinecolor": "#2a3f5f"
            },
            "type": "carpet"
           }
          ],
          "choropleth": [
           {
            "colorbar": {
             "outlinewidth": 0,
             "ticks": ""
            },
            "type": "choropleth"
           }
          ],
          "contour": [
           {
            "colorbar": {
             "outlinewidth": 0,
             "ticks": ""
            },
            "colorscale": [
             [
              0,
              "#0d0887"
             ],
             [
              0.1111111111111111,
              "#46039f"
             ],
             [
              0.2222222222222222,
              "#7201a8"
             ],
             [
              0.3333333333333333,
              "#9c179e"
             ],
             [
              0.4444444444444444,
              "#bd3786"
             ],
             [
              0.5555555555555556,
              "#d8576b"
             ],
             [
              0.6666666666666666,
              "#ed7953"
             ],
             [
              0.7777777777777778,
              "#fb9f3a"
             ],
             [
              0.8888888888888888,
              "#fdca26"
             ],
             [
              1,
              "#f0f921"
             ]
            ],
            "type": "contour"
           }
          ],
          "contourcarpet": [
           {
            "colorbar": {
             "outlinewidth": 0,
             "ticks": ""
            },
            "type": "contourcarpet"
           }
          ],
          "heatmap": [
           {
            "colorbar": {
             "outlinewidth": 0,
             "ticks": ""
            },
            "colorscale": [
             [
              0,
              "#0d0887"
             ],
             [
              0.1111111111111111,
              "#46039f"
             ],
             [
              0.2222222222222222,
              "#7201a8"
             ],
             [
              0.3333333333333333,
              "#9c179e"
             ],
             [
              0.4444444444444444,
              "#bd3786"
             ],
             [
              0.5555555555555556,
              "#d8576b"
             ],
             [
              0.6666666666666666,
              "#ed7953"
             ],
             [
              0.7777777777777778,
              "#fb9f3a"
             ],
             [
              0.8888888888888888,
              "#fdca26"
             ],
             [
              1,
              "#f0f921"
             ]
            ],
            "type": "heatmap"
           }
          ],
          "heatmapgl": [
           {
            "colorbar": {
             "outlinewidth": 0,
             "ticks": ""
            },
            "colorscale": [
             [
              0,
              "#0d0887"
             ],
             [
              0.1111111111111111,
              "#46039f"
             ],
             [
              0.2222222222222222,
              "#7201a8"
             ],
             [
              0.3333333333333333,
              "#9c179e"
             ],
             [
              0.4444444444444444,
              "#bd3786"
             ],
             [
              0.5555555555555556,
              "#d8576b"
             ],
             [
              0.6666666666666666,
              "#ed7953"
             ],
             [
              0.7777777777777778,
              "#fb9f3a"
             ],
             [
              0.8888888888888888,
              "#fdca26"
             ],
             [
              1,
              "#f0f921"
             ]
            ],
            "type": "heatmapgl"
           }
          ],
          "histogram": [
           {
            "marker": {
             "pattern": {
              "fillmode": "overlay",
              "size": 10,
              "solidity": 0.2
             }
            },
            "type": "histogram"
           }
          ],
          "histogram2d": [
           {
            "colorbar": {
             "outlinewidth": 0,
             "ticks": ""
            },
            "colorscale": [
             [
              0,
              "#0d0887"
             ],
             [
              0.1111111111111111,
              "#46039f"
             ],
             [
              0.2222222222222222,
              "#7201a8"
             ],
             [
              0.3333333333333333,
              "#9c179e"
             ],
             [
              0.4444444444444444,
              "#bd3786"
             ],
             [
              0.5555555555555556,
              "#d8576b"
             ],
             [
              0.6666666666666666,
              "#ed7953"
             ],
             [
              0.7777777777777778,
              "#fb9f3a"
             ],
             [
              0.8888888888888888,
              "#fdca26"
             ],
             [
              1,
              "#f0f921"
             ]
            ],
            "type": "histogram2d"
           }
          ],
          "histogram2dcontour": [
           {
            "colorbar": {
             "outlinewidth": 0,
             "ticks": ""
            },
            "colorscale": [
             [
              0,
              "#0d0887"
             ],
             [
              0.1111111111111111,
              "#46039f"
             ],
             [
              0.2222222222222222,
              "#7201a8"
             ],
             [
              0.3333333333333333,
              "#9c179e"
             ],
             [
              0.4444444444444444,
              "#bd3786"
             ],
             [
              0.5555555555555556,
              "#d8576b"
             ],
             [
              0.6666666666666666,
              "#ed7953"
             ],
             [
              0.7777777777777778,
              "#fb9f3a"
             ],
             [
              0.8888888888888888,
              "#fdca26"
             ],
             [
              1,
              "#f0f921"
             ]
            ],
            "type": "histogram2dcontour"
           }
          ],
          "mesh3d": [
           {
            "colorbar": {
             "outlinewidth": 0,
             "ticks": ""
            },
            "type": "mesh3d"
           }
          ],
          "parcoords": [
           {
            "line": {
             "colorbar": {
              "outlinewidth": 0,
              "ticks": ""
             }
            },
            "type": "parcoords"
           }
          ],
          "pie": [
           {
            "automargin": true,
            "type": "pie"
           }
          ],
          "scatter": [
           {
            "fillpattern": {
             "fillmode": "overlay",
             "size": 10,
             "solidity": 0.2
            },
            "type": "scatter"
           }
          ],
          "scatter3d": [
           {
            "line": {
             "colorbar": {
              "outlinewidth": 0,
              "ticks": ""
             }
            },
            "marker": {
             "colorbar": {
              "outlinewidth": 0,
              "ticks": ""
             }
            },
            "type": "scatter3d"
           }
          ],
          "scattercarpet": [
           {
            "marker": {
             "colorbar": {
              "outlinewidth": 0,
              "ticks": ""
             }
            },
            "type": "scattercarpet"
           }
          ],
          "scattergeo": [
           {
            "marker": {
             "colorbar": {
              "outlinewidth": 0,
              "ticks": ""
             }
            },
            "type": "scattergeo"
           }
          ],
          "scattergl": [
           {
            "marker": {
             "colorbar": {
              "outlinewidth": 0,
              "ticks": ""
             }
            },
            "type": "scattergl"
           }
          ],
          "scattermapbox": [
           {
            "marker": {
             "colorbar": {
              "outlinewidth": 0,
              "ticks": ""
             }
            },
            "type": "scattermapbox"
           }
          ],
          "scatterpolar": [
           {
            "marker": {
             "colorbar": {
              "outlinewidth": 0,
              "ticks": ""
             }
            },
            "type": "scatterpolar"
           }
          ],
          "scatterpolargl": [
           {
            "marker": {
             "colorbar": {
              "outlinewidth": 0,
              "ticks": ""
             }
            },
            "type": "scatterpolargl"
           }
          ],
          "scatterternary": [
           {
            "marker": {
             "colorbar": {
              "outlinewidth": 0,
              "ticks": ""
             }
            },
            "type": "scatterternary"
           }
          ],
          "surface": [
           {
            "colorbar": {
             "outlinewidth": 0,
             "ticks": ""
            },
            "colorscale": [
             [
              0,
              "#0d0887"
             ],
             [
              0.1111111111111111,
              "#46039f"
             ],
             [
              0.2222222222222222,
              "#7201a8"
             ],
             [
              0.3333333333333333,
              "#9c179e"
             ],
             [
              0.4444444444444444,
              "#bd3786"
             ],
             [
              0.5555555555555556,
              "#d8576b"
             ],
             [
              0.6666666666666666,
              "#ed7953"
             ],
             [
              0.7777777777777778,
              "#fb9f3a"
             ],
             [
              0.8888888888888888,
              "#fdca26"
             ],
             [
              1,
              "#f0f921"
             ]
            ],
            "type": "surface"
           }
          ],
          "table": [
           {
            "cells": {
             "fill": {
              "color": "#EBF0F8"
             },
             "line": {
              "color": "white"
             }
            },
            "header": {
             "fill": {
              "color": "#C8D4E3"
             },
             "line": {
              "color": "white"
             }
            },
            "type": "table"
           }
          ]
         },
         "layout": {
          "annotationdefaults": {
           "arrowcolor": "#2a3f5f",
           "arrowhead": 0,
           "arrowwidth": 1
          },
          "autotypenumbers": "strict",
          "coloraxis": {
           "colorbar": {
            "outlinewidth": 0,
            "ticks": ""
           }
          },
          "colorscale": {
           "diverging": [
            [
             0,
             "#8e0152"
            ],
            [
             0.1,
             "#c51b7d"
            ],
            [
             0.2,
             "#de77ae"
            ],
            [
             0.3,
             "#f1b6da"
            ],
            [
             0.4,
             "#fde0ef"
            ],
            [
             0.5,
             "#f7f7f7"
            ],
            [
             0.6,
             "#e6f5d0"
            ],
            [
             0.7,
             "#b8e186"
            ],
            [
             0.8,
             "#7fbc41"
            ],
            [
             0.9,
             "#4d9221"
            ],
            [
             1,
             "#276419"
            ]
           ],
           "sequential": [
            [
             0,
             "#0d0887"
            ],
            [
             0.1111111111111111,
             "#46039f"
            ],
            [
             0.2222222222222222,
             "#7201a8"
            ],
            [
             0.3333333333333333,
             "#9c179e"
            ],
            [
             0.4444444444444444,
             "#bd3786"
            ],
            [
             0.5555555555555556,
             "#d8576b"
            ],
            [
             0.6666666666666666,
             "#ed7953"
            ],
            [
             0.7777777777777778,
             "#fb9f3a"
            ],
            [
             0.8888888888888888,
             "#fdca26"
            ],
            [
             1,
             "#f0f921"
            ]
           ],
           "sequentialminus": [
            [
             0,
             "#0d0887"
            ],
            [
             0.1111111111111111,
             "#46039f"
            ],
            [
             0.2222222222222222,
             "#7201a8"
            ],
            [
             0.3333333333333333,
             "#9c179e"
            ],
            [
             0.4444444444444444,
             "#bd3786"
            ],
            [
             0.5555555555555556,
             "#d8576b"
            ],
            [
             0.6666666666666666,
             "#ed7953"
            ],
            [
             0.7777777777777778,
             "#fb9f3a"
            ],
            [
             0.8888888888888888,
             "#fdca26"
            ],
            [
             1,
             "#f0f921"
            ]
           ]
          },
          "colorway": [
           "#636efa",
           "#EF553B",
           "#00cc96",
           "#ab63fa",
           "#FFA15A",
           "#19d3f3",
           "#FF6692",
           "#B6E880",
           "#FF97FF",
           "#FECB52"
          ],
          "font": {
           "color": "#2a3f5f"
          },
          "geo": {
           "bgcolor": "white",
           "lakecolor": "white",
           "landcolor": "#E5ECF6",
           "showlakes": true,
           "showland": true,
           "subunitcolor": "white"
          },
          "hoverlabel": {
           "align": "left"
          },
          "hovermode": "closest",
          "mapbox": {
           "style": "light"
          },
          "paper_bgcolor": "white",
          "plot_bgcolor": "#E5ECF6",
          "polar": {
           "angularaxis": {
            "gridcolor": "white",
            "linecolor": "white",
            "ticks": ""
           },
           "bgcolor": "#E5ECF6",
           "radialaxis": {
            "gridcolor": "white",
            "linecolor": "white",
            "ticks": ""
           }
          },
          "scene": {
           "xaxis": {
            "backgroundcolor": "#E5ECF6",
            "gridcolor": "white",
            "gridwidth": 2,
            "linecolor": "white",
            "showbackground": true,
            "ticks": "",
            "zerolinecolor": "white"
           },
           "yaxis": {
            "backgroundcolor": "#E5ECF6",
            "gridcolor": "white",
            "gridwidth": 2,
            "linecolor": "white",
            "showbackground": true,
            "ticks": "",
            "zerolinecolor": "white"
           },
           "zaxis": {
            "backgroundcolor": "#E5ECF6",
            "gridcolor": "white",
            "gridwidth": 2,
            "linecolor": "white",
            "showbackground": true,
            "ticks": "",
            "zerolinecolor": "white"
           }
          },
          "shapedefaults": {
           "line": {
            "color": "#2a3f5f"
           }
          },
          "ternary": {
           "aaxis": {
            "gridcolor": "white",
            "linecolor": "white",
            "ticks": ""
           },
           "baxis": {
            "gridcolor": "white",
            "linecolor": "white",
            "ticks": ""
           },
           "bgcolor": "#E5ECF6",
           "caxis": {
            "gridcolor": "white",
            "linecolor": "white",
            "ticks": ""
           }
          },
          "title": {
           "x": 0.05
          },
          "xaxis": {
           "automargin": true,
           "gridcolor": "white",
           "linecolor": "white",
           "ticks": "",
           "title": {
            "standoff": 15
           },
           "zerolinecolor": "white",
           "zerolinewidth": 2
          },
          "yaxis": {
           "automargin": true,
           "gridcolor": "white",
           "linecolor": "white",
           "ticks": "",
           "title": {
            "standoff": 15
           },
           "zerolinecolor": "white",
           "zerolinewidth": 2
          }
         }
        },
        "title": {
         "text": "Vertical Dilations",
         "x": 0.5,
         "xanchor": "center",
         "y": 0.95,
         "yanchor": "top"
        },
        "xaxis": {
         "title": {
          "text": "x"
         }
        },
        "yaxis": {
         "title": {
          "text": "y"
         }
        }
       }
      }
     },
     "metadata": {},
     "output_type": "display_data"
    }
   ],
   "source": [
    "# Generate the list of numbers\n",
    "min_x = 0.0 \n",
    "max_x = 5.0\n",
    "num_points = 50\n",
    "x_values = np.linspace(min_x, max_x, num_points)\n",
    "\n",
    "# Define exponential function\n",
    "f = 2*(3)**x\n",
    "f_dilation = 2*f\n",
    "print(\"Original f = \", f, \" Dilate f vertically by 2 = \", f_dilation)\n",
    "\n",
    "# Create a graph object\n",
    "plot = graph_funs() \n",
    "\n",
    "# Add to the list of functions:\n",
    "plot.add_fun(f)           # Add the original function.\n",
    "plot.add_vert_dilations(f, a_values=[5, -5, 10])\n",
    "\n",
    "\n",
    "plot.plot_functions_list(x_values=x_values, plot_title=\"Vertical Dilations\")"
   ]
  },
  {
   "cell_type": "markdown",
   "metadata": {},
   "source": [
    "# Horizontal dilations\n",
    "You can dilate horizontally by 2 by multiplying:\n",
    "```\n",
    "dilated_f = f.subs(x, 2*x)\n",
    "```\n",
    "You can add multiple dilations using:\n",
    "```\n",
    "plot.add_hor_dilations(f, x_scale_values=[2, -2, 3])\n",
    "```\n",
    "\n",
    "## Assignment: Plot horizontal dilations\n",
    "Study the code below and do the following:<br>\n",
    "1. Carefully zoom into the functions for low x values. Can you differentiate them? \n",
    "2. Modify the code to vertically translate the following function:\n",
    "    $$ y = 4^x. $$\n"
   ]
  },
  {
   "cell_type": "code",
   "execution_count": 13,
   "metadata": {},
   "outputs": [
    {
     "name": "stdout",
     "output_type": "stream",
     "text": [
      "Original f =  2*3**x  Dilate f horizontally by 2 =  2*3**(2*x)\n"
     ]
    },
    {
     "data": {
      "application/vnd.plotly.v1+json": {
       "config": {
        "plotlyServerURL": "https://plot.ly"
       },
       "data": [
        {
         "mode": "lines+markers",
         "name": "2*3^x",
         "showlegend": true,
         "type": "scatter",
         "x": [
          0,
          0.030303030303030304,
          0.06060606060606061,
          0.09090909090909091,
          0.12121212121212122,
          0.15151515151515152,
          0.18181818181818182,
          0.21212121212121213,
          0.24242424242424243,
          0.2727272727272727,
          0.30303030303030304,
          0.33333333333333337,
          0.36363636363636365,
          0.3939393939393939,
          0.42424242424242425,
          0.4545454545454546,
          0.48484848484848486,
          0.5151515151515151,
          0.5454545454545454,
          0.5757575757575758,
          0.6060606060606061,
          0.6363636363636364,
          0.6666666666666667,
          0.696969696969697,
          0.7272727272727273,
          0.7575757575757576,
          0.7878787878787878,
          0.8181818181818182,
          0.8484848484848485,
          0.8787878787878788,
          0.9090909090909092,
          0.9393939393939394,
          0.9696969696969697,
          1,
          1.0303030303030303,
          1.0606060606060606,
          1.0909090909090908,
          1.1212121212121213,
          1.1515151515151516,
          1.1818181818181819,
          1.2121212121212122,
          1.2424242424242424,
          1.2727272727272727,
          1.303030303030303,
          1.3333333333333335,
          1.3636363636363638,
          1.393939393939394,
          1.4242424242424243,
          1.4545454545454546,
          1.4848484848484849,
          1.5151515151515151,
          1.5454545454545454,
          1.5757575757575757,
          1.6060606060606062,
          1.6363636363636365,
          1.6666666666666667,
          1.696969696969697,
          1.7272727272727273,
          1.7575757575757576,
          1.7878787878787878,
          1.8181818181818183,
          1.8484848484848486,
          1.878787878787879,
          1.9090909090909092,
          1.9393939393939394,
          1.9696969696969697,
          2,
          2.0303030303030303,
          2.0606060606060606,
          2.090909090909091,
          2.121212121212121,
          2.1515151515151514,
          2.1818181818181817,
          2.2121212121212124,
          2.2424242424242427,
          2.272727272727273,
          2.303030303030303,
          2.3333333333333335,
          2.3636363636363638,
          2.393939393939394,
          2.4242424242424243,
          2.4545454545454546,
          2.484848484848485,
          2.515151515151515,
          2.5454545454545454,
          2.5757575757575757,
          2.606060606060606,
          2.6363636363636362,
          2.666666666666667,
          2.6969696969696972,
          2.7272727272727275,
          2.757575757575758,
          2.787878787878788,
          2.8181818181818183,
          2.8484848484848486,
          2.878787878787879,
          2.909090909090909,
          2.9393939393939394,
          2.9696969696969697,
          3
         ],
         "y": [
          2,
          2.0677032744332986,
          2.137698415551092,
          2.210063006792933,
          2.284877257924825,
          2.362224093944668,
          2.442189246997311,
          2.5248613514010656,
          2.610332041891033,
          2.6986960551881234,
          2.790051335006354,
          2.884499140614817,
          2.982144159074646,
          3.0830946212753902,
          3.187462421899407,
          3.295363243447248,
          3.4069166844615046,
          3.522246392091245,
          3.641480199143969,
          3.7647502657770024,
          3.892193225985369,
          4.023950339048525,
          4.160167646103808,
          4.300996132020156,
          4.446591892751513,
          4.597116308355432,
          4.752736221868621,
          4.913624124237746,
          5.079958345510417,
          5.251923252498325,
          5.429709453131584,
          5.613514007730804,
          5.8035406474310856,
          6,
          6.203109823299895,
          6.413095246653276,
          6.6301890203788,
          6.854631773774475,
          7.086672281834005,
          7.3265677409919325,
          7.574584054203196,
          7.830996125673098,
          8.09608816556437,
          8.370154005019062,
          8.653497421844452,
          8.946432477223938,
          9.249283863826172,
          9.562387265698222,
          9.886089730341745,
          10.220750053384513,
          10.566739176273733,
          10.924440597431907,
          11.294250797331005,
          11.676579677956108,
          12.071851017145576,
          12.480502938311426,
          12.902988396060469,
          13.33977567825454,
          13.791348925066293,
          14.258208665605862,
          14.74087237271324,
          15.239875036531254,
          15.755769757494978,
          16.28912835939475,
          16.840542023192413,
          17.410621942293258,
          18,
          18.609329469899684,
          19.239285739959826,
          19.890567061136398,
          20.563895321323418,
          21.260016845502008,
          21.979703222975793,
          22.723752162609596,
          23.4929883770193,
          24.288264496693113,
          25.11046201505719,
          25.960492265533354,
          26.839297431671817,
          27.747851591478515,
          28.687161797094667,
          29.658269191025234,
          30.66225016015354,
          31.700217528821202,
          32.77332179229572,
          33.882752391993016,
          35.02973903386832,
          36.21555305143672,
          37.44150881493429,
          38.708965188181416,
          40.019327034763634,
          41.37404677519889,
          42.7746259968176,
          44.222617118139716,
          45.719625109593764,
          47.26730927248493,
          48.86738507818425,
          50.52162606957724,
          52.23186582687977,
          54
         ]
        },
        {
         "mode": "lines+markers",
         "name": "2*3^(2*x)",
         "showlegend": true,
         "type": "scatter",
         "x": [
          0,
          0.030303030303030304,
          0.06060606060606061,
          0.09090909090909091,
          0.12121212121212122,
          0.15151515151515152,
          0.18181818181818182,
          0.21212121212121213,
          0.24242424242424243,
          0.2727272727272727,
          0.30303030303030304,
          0.33333333333333337,
          0.36363636363636365,
          0.3939393939393939,
          0.42424242424242425,
          0.4545454545454546,
          0.48484848484848486,
          0.5151515151515151,
          0.5454545454545454,
          0.5757575757575758,
          0.6060606060606061,
          0.6363636363636364,
          0.6666666666666667,
          0.696969696969697,
          0.7272727272727273,
          0.7575757575757576,
          0.7878787878787878,
          0.8181818181818182,
          0.8484848484848485,
          0.8787878787878788,
          0.9090909090909092,
          0.9393939393939394,
          0.9696969696969697,
          1,
          1.0303030303030303,
          1.0606060606060606,
          1.0909090909090908,
          1.1212121212121213,
          1.1515151515151516,
          1.1818181818181819,
          1.2121212121212122,
          1.2424242424242424,
          1.2727272727272727,
          1.303030303030303,
          1.3333333333333335,
          1.3636363636363638,
          1.393939393939394,
          1.4242424242424243,
          1.4545454545454546,
          1.4848484848484849,
          1.5151515151515151,
          1.5454545454545454,
          1.5757575757575757,
          1.6060606060606062,
          1.6363636363636365,
          1.6666666666666667,
          1.696969696969697,
          1.7272727272727273,
          1.7575757575757576,
          1.7878787878787878,
          1.8181818181818183,
          1.8484848484848486,
          1.878787878787879,
          1.9090909090909092,
          1.9393939393939394,
          1.9696969696969697,
          2,
          2.0303030303030303,
          2.0606060606060606,
          2.090909090909091,
          2.121212121212121,
          2.1515151515151514,
          2.1818181818181817,
          2.2121212121212124,
          2.2424242424242427,
          2.272727272727273,
          2.303030303030303,
          2.3333333333333335,
          2.3636363636363638,
          2.393939393939394,
          2.4242424242424243,
          2.4545454545454546,
          2.484848484848485,
          2.515151515151515,
          2.5454545454545454,
          2.5757575757575757,
          2.606060606060606,
          2.6363636363636362,
          2.666666666666667,
          2.6969696969696972,
          2.7272727272727275,
          2.757575757575758,
          2.787878787878788,
          2.8181818181818183,
          2.8484848484848486,
          2.878787878787879,
          2.909090909090909,
          2.9393939393939394,
          2.9696969696969697,
          3
         ],
         "y": [
          2,
          2.137698415551092,
          2.284877257924825,
          2.442189246997311,
          2.610332041891033,
          2.790051335006354,
          2.982144159074646,
          3.187462421899407,
          3.4069166844615046,
          3.641480199143969,
          3.892193225985369,
          4.160167646103808,
          4.446591892751513,
          4.752736221868621,
          5.079958345510417,
          5.429709453131584,
          5.8035406474310856,
          6.203109823299895,
          6.6301890203788,
          7.086672281834005,
          7.574584054203196,
          8.09608816556437,
          8.653497421844452,
          9.249283863826172,
          9.886089730341745,
          10.566739176273733,
          11.294250797331005,
          12.071851017145576,
          12.902988396060469,
          13.791348925066293,
          14.74087237271324,
          15.755769757494978,
          16.840542023192413,
          18,
          19.239285739959826,
          20.563895321323418,
          21.979703222975793,
          23.4929883770193,
          25.11046201505719,
          26.839297431671817,
          28.687161797094667,
          30.66225016015354,
          32.77332179229572,
          35.02973903386832,
          37.44150881493429,
          40.019327034763634,
          42.7746259968176,
          45.719625109593764,
          48.86738507818425,
          52.23186582687977,
          55.82798840969905,
          59.6717011834092,
          63.780050536506025,
          68.17125648782878,
          72.86479349007935,
          77.88147679660007,
          83.24355477443554,
          88.9748075730757,
          95.10065258646361,
          101.64825717597905,
          108.64665915431021,
          116.12689556454424,
          124.12214032559667,
          132.66785135441916,
          141.8019278174548,
          151.56487820873173,
          162,
          173.15357165963843,
          185.07505789191077,
          197.81732900678213,
          211.43689539317361,
          225.9941581355146,
          241.55367688504623,
          258.18445617385214,
          275.960251441382,
          294.9598961306616,
          315.267651304815,
          336.97357933440856,
          360.17394331287267,
          384.97163397135836,
          411.47662598634383,
          439.80646570365826,
          470.08679244191796,
          502.4518956872915,
          537.0453106506827,
          574.0204548285542,
          613.5413083904588,
          655.7831414107138,
          700.933291169401,
          749.1919929699203,
          800.7732681576816,
          855.9058732781729,
          914.8343145838119,
          977.8199323887919,
          1045.142060080898,
          1117.09926293037,
          1194.0106621897723,
          1276.2173503570932,
          1364.0839038785855,
          1458
         ]
        },
        {
         "mode": "lines+markers",
         "name": "2/3^(2*x)",
         "showlegend": true,
         "type": "scatter",
         "x": [
          0,
          0.030303030303030304,
          0.06060606060606061,
          0.09090909090909091,
          0.12121212121212122,
          0.15151515151515152,
          0.18181818181818182,
          0.21212121212121213,
          0.24242424242424243,
          0.2727272727272727,
          0.30303030303030304,
          0.33333333333333337,
          0.36363636363636365,
          0.3939393939393939,
          0.42424242424242425,
          0.4545454545454546,
          0.48484848484848486,
          0.5151515151515151,
          0.5454545454545454,
          0.5757575757575758,
          0.6060606060606061,
          0.6363636363636364,
          0.6666666666666667,
          0.696969696969697,
          0.7272727272727273,
          0.7575757575757576,
          0.7878787878787878,
          0.8181818181818182,
          0.8484848484848485,
          0.8787878787878788,
          0.9090909090909092,
          0.9393939393939394,
          0.9696969696969697,
          1,
          1.0303030303030303,
          1.0606060606060606,
          1.0909090909090908,
          1.1212121212121213,
          1.1515151515151516,
          1.1818181818181819,
          1.2121212121212122,
          1.2424242424242424,
          1.2727272727272727,
          1.303030303030303,
          1.3333333333333335,
          1.3636363636363638,
          1.393939393939394,
          1.4242424242424243,
          1.4545454545454546,
          1.4848484848484849,
          1.5151515151515151,
          1.5454545454545454,
          1.5757575757575757,
          1.6060606060606062,
          1.6363636363636365,
          1.6666666666666667,
          1.696969696969697,
          1.7272727272727273,
          1.7575757575757576,
          1.7878787878787878,
          1.8181818181818183,
          1.8484848484848486,
          1.878787878787879,
          1.9090909090909092,
          1.9393939393939394,
          1.9696969696969697,
          2,
          2.0303030303030303,
          2.0606060606060606,
          2.090909090909091,
          2.121212121212121,
          2.1515151515151514,
          2.1818181818181817,
          2.2121212121212124,
          2.2424242424242427,
          2.272727272727273,
          2.303030303030303,
          2.3333333333333335,
          2.3636363636363638,
          2.393939393939394,
          2.4242424242424243,
          2.4545454545454546,
          2.484848484848485,
          2.515151515151515,
          2.5454545454545454,
          2.5757575757575757,
          2.606060606060606,
          2.6363636363636362,
          2.666666666666667,
          2.6969696969696972,
          2.7272727272727275,
          2.757575757575758,
          2.787878787878788,
          2.8181818181818183,
          2.8484848484848486,
          2.878787878787879,
          2.909090909090909,
          2.9393939393939394,
          2.9696969696969697,
          3
         ],
         "y": [
          2,
          1.871171335910268,
          1.7506410841661084,
          1.6378747080792484,
          1.5323721027851438,
          1.4336653773400518,
          1.3413167796828416,
          1.2549167552590006,
          1.1740821306970814,
          1.098454414482416,
          1.0276982070917968,
          0.9614997135382721,
          0.8995653517293744,
          0.8416204504670218,
          0.7874080313148893,
          0.7366876689309777,
          0.6892344248110994,
          0.644837849714565,
          0.6033010503479537,
          0.5644398161678241,
          0.5280818024298467,
          0.4940657658612793,
          0.4622408495670897,
          0.43246591399837425,
          0.40460891101599655,
          0.3785462982735005,
          0.3541624913221564,
          0.33134935100829394,
          0.31000570388959486,
          0.2900368935434481,
          0.27135436077747893,
          0.25387525088053603,
          0.23752204617234354,
          0.2222222222222222,
          0.20790792621225201,
          0.1945156760184565,
          0.1819860786754721,
          0.17026356697612705,
          0.15929615303778352,
          0.14903519774253796,
          0.13943519502877785,
          0.1304535700774535,
          0.12205049049804623,
          0.11418868967686631,
          0.10683330150425244,
          0.09995170574770824,
          0.09351338338522462,
          0.08748978125720991,
          0.0818541854367753,
          0.07658160275678882,
          0.071648649968285,
          0.06703345003866153,
          0.06271553512975825,
          0.058675755825538516,
          0.054896196206808794,
          0.0513600943963433,
          0.04805176822204159,
          0.04495654566844406,
          0.04206069980816672,
          0.03935138792468404,
          0.036816594556477095,
          0.034445078209954974,
          0.03222632150482756,
          0.030150484530830992,
          0.02820836120894845,
          0.026391338463593726,
          0.024691358024691357,
          0.023100880690250222,
          0.021612852890939612,
          0.020220675408385787,
          0.018918174108458568,
          0.017699572559753733,
          0.016559466415837557,
          0.015492799447641975,
          0.014494841119717048,
          0.013561165610894018,
          0.012687632186318474,
          0.011870366833805827,
          0.011105745083078693,
          0.010390375931691625,
          0.009721086806356657,
          0.009094909492975034,
          0.008509066972976537,
          0.007960961107587223,
          0.007448161115406836,
          0.006968392792195361,
          0.006519528425059838,
          0.006099577356312091,
          0.005706677155149253,
          0.005339085358004618,
          0.004995171740938226,
          0.0046734110897963,
          0.004372376436076002,
          0.004090732728497456,
          0.0038272309122172198,
          0.0035807023894252844,
          0.0033500538367589993,
          0.003134262356549828,
          0.002932370940399303,
          0.0027434842249657062
         ]
        },
        {
         "mode": "lines+markers",
         "name": "2*3^(3*x)",
         "showlegend": true,
         "type": "scatter",
         "x": [
          0,
          0.030303030303030304,
          0.06060606060606061,
          0.09090909090909091,
          0.12121212121212122,
          0.15151515151515152,
          0.18181818181818182,
          0.21212121212121213,
          0.24242424242424243,
          0.2727272727272727,
          0.30303030303030304,
          0.33333333333333337,
          0.36363636363636365,
          0.3939393939393939,
          0.42424242424242425,
          0.4545454545454546,
          0.48484848484848486,
          0.5151515151515151,
          0.5454545454545454,
          0.5757575757575758,
          0.6060606060606061,
          0.6363636363636364,
          0.6666666666666667,
          0.696969696969697,
          0.7272727272727273,
          0.7575757575757576,
          0.7878787878787878,
          0.8181818181818182,
          0.8484848484848485,
          0.8787878787878788,
          0.9090909090909092,
          0.9393939393939394,
          0.9696969696969697,
          1,
          1.0303030303030303,
          1.0606060606060606,
          1.0909090909090908,
          1.1212121212121213,
          1.1515151515151516,
          1.1818181818181819,
          1.2121212121212122,
          1.2424242424242424,
          1.2727272727272727,
          1.303030303030303,
          1.3333333333333335,
          1.3636363636363638,
          1.393939393939394,
          1.4242424242424243,
          1.4545454545454546,
          1.4848484848484849,
          1.5151515151515151,
          1.5454545454545454,
          1.5757575757575757,
          1.6060606060606062,
          1.6363636363636365,
          1.6666666666666667,
          1.696969696969697,
          1.7272727272727273,
          1.7575757575757576,
          1.7878787878787878,
          1.8181818181818183,
          1.8484848484848486,
          1.878787878787879,
          1.9090909090909092,
          1.9393939393939394,
          1.9696969696969697,
          2,
          2.0303030303030303,
          2.0606060606060606,
          2.090909090909091,
          2.121212121212121,
          2.1515151515151514,
          2.1818181818181817,
          2.2121212121212124,
          2.2424242424242427,
          2.272727272727273,
          2.303030303030303,
          2.3333333333333335,
          2.3636363636363638,
          2.393939393939394,
          2.4242424242424243,
          2.4545454545454546,
          2.484848484848485,
          2.515151515151515,
          2.5454545454545454,
          2.5757575757575757,
          2.606060606060606,
          2.6363636363636362,
          2.666666666666667,
          2.6969696969696972,
          2.7272727272727275,
          2.757575757575758,
          2.787878787878788,
          2.8181818181818183,
          2.8484848484848486,
          2.878787878787879,
          2.909090909090909,
          2.9393939393939394,
          2.9696969696969697,
          3
         ],
         "y": [
          2,
          2.210063006792933,
          2.442189246997311,
          2.6986960551881234,
          2.982144159074646,
          3.295363243447248,
          3.641480199143969,
          4.023950339048525,
          4.446591892751513,
          4.913624124237745,
          5.429709453131584,
          6,
          6.6301890203788,
          7.326567740991931,
          8.09608816556437,
          8.946432477223938,
          9.886089730341745,
          10.924440597431907,
          12.071851017145573,
          13.339775678254544,
          14.74087237271324,
          16.28912835939475,
          18,
          19.890567061136398,
          21.979703222975793,
          24.288264496693103,
          26.839297431671802,
          29.658269191025234,
          32.77332179229572,
          36.21555305143672,
          40.019327034763634,
          44.222617118139716,
          48.86738507818425,
          54,
          59.6717011834092,
          65.93910966892737,
          72.86479349007931,
          80.51789229501549,
          88.97480757307574,
          98.31996537688721,
          108.64665915431021,
          120.0579811042909,
          132.66785135441916,
          146.60215523455275,
          162,
          179.01510355022776,
          197.81732900678213,
          218.59438047023815,
          241.55367688504623,
          266.9244227192272,
          294.9598961306613,
          325.93997746293064,
          360.1739433128723,
          398.00355406325747,
          439.80646570365826,
          486,
          537.0453106506827,
          593.4519870203465,
          655.7831414107138,
          724.6610306551387,
          800.7732681576816,
          884.8796883919848,
          977.8199323887919,
          1080.521829938618,
          1194.0106621897723,
          1319.4193971109748,
          1458,
          1611.1359319520484,
          1780.3559610610394,
          1967.3494242321412,
          2173.983091965416,
          2402.3198044730425,
          2654.639065175952,
          2933.4597971663757,
          3241.5654898158573,
          3582.031986569317,
          3958.258191332928,
          4374,
          4833.407795856149,
          5341.067883183117,
          5902.04827269643,
          6521.949275896248,
          7206.959413419135,
          7963.917195527856,
          8800.379391499127,
          9724.696469447554,
          10746.09595970795,
          11874.77457399876,
          13122,
          14500.223387568449,
          16023.203649549385,
          17706.144818089288,
          19565.847827688744,
          21620.878240257403,
          23891.751586583614,
          26401.13817449738,
          29174.08940834266,
          32238.287879123855,
          35624.323721996356,
          39366
         ]
        }
       ],
       "layout": {
        "autosize": false,
        "template": {
         "data": {
          "bar": [
           {
            "error_x": {
             "color": "#2a3f5f"
            },
            "error_y": {
             "color": "#2a3f5f"
            },
            "marker": {
             "line": {
              "color": "#E5ECF6",
              "width": 0.5
             },
             "pattern": {
              "fillmode": "overlay",
              "size": 10,
              "solidity": 0.2
             }
            },
            "type": "bar"
           }
          ],
          "barpolar": [
           {
            "marker": {
             "line": {
              "color": "#E5ECF6",
              "width": 0.5
             },
             "pattern": {
              "fillmode": "overlay",
              "size": 10,
              "solidity": 0.2
             }
            },
            "type": "barpolar"
           }
          ],
          "carpet": [
           {
            "aaxis": {
             "endlinecolor": "#2a3f5f",
             "gridcolor": "white",
             "linecolor": "white",
             "minorgridcolor": "white",
             "startlinecolor": "#2a3f5f"
            },
            "baxis": {
             "endlinecolor": "#2a3f5f",
             "gridcolor": "white",
             "linecolor": "white",
             "minorgridcolor": "white",
             "startlinecolor": "#2a3f5f"
            },
            "type": "carpet"
           }
          ],
          "choropleth": [
           {
            "colorbar": {
             "outlinewidth": 0,
             "ticks": ""
            },
            "type": "choropleth"
           }
          ],
          "contour": [
           {
            "colorbar": {
             "outlinewidth": 0,
             "ticks": ""
            },
            "colorscale": [
             [
              0,
              "#0d0887"
             ],
             [
              0.1111111111111111,
              "#46039f"
             ],
             [
              0.2222222222222222,
              "#7201a8"
             ],
             [
              0.3333333333333333,
              "#9c179e"
             ],
             [
              0.4444444444444444,
              "#bd3786"
             ],
             [
              0.5555555555555556,
              "#d8576b"
             ],
             [
              0.6666666666666666,
              "#ed7953"
             ],
             [
              0.7777777777777778,
              "#fb9f3a"
             ],
             [
              0.8888888888888888,
              "#fdca26"
             ],
             [
              1,
              "#f0f921"
             ]
            ],
            "type": "contour"
           }
          ],
          "contourcarpet": [
           {
            "colorbar": {
             "outlinewidth": 0,
             "ticks": ""
            },
            "type": "contourcarpet"
           }
          ],
          "heatmap": [
           {
            "colorbar": {
             "outlinewidth": 0,
             "ticks": ""
            },
            "colorscale": [
             [
              0,
              "#0d0887"
             ],
             [
              0.1111111111111111,
              "#46039f"
             ],
             [
              0.2222222222222222,
              "#7201a8"
             ],
             [
              0.3333333333333333,
              "#9c179e"
             ],
             [
              0.4444444444444444,
              "#bd3786"
             ],
             [
              0.5555555555555556,
              "#d8576b"
             ],
             [
              0.6666666666666666,
              "#ed7953"
             ],
             [
              0.7777777777777778,
              "#fb9f3a"
             ],
             [
              0.8888888888888888,
              "#fdca26"
             ],
             [
              1,
              "#f0f921"
             ]
            ],
            "type": "heatmap"
           }
          ],
          "heatmapgl": [
           {
            "colorbar": {
             "outlinewidth": 0,
             "ticks": ""
            },
            "colorscale": [
             [
              0,
              "#0d0887"
             ],
             [
              0.1111111111111111,
              "#46039f"
             ],
             [
              0.2222222222222222,
              "#7201a8"
             ],
             [
              0.3333333333333333,
              "#9c179e"
             ],
             [
              0.4444444444444444,
              "#bd3786"
             ],
             [
              0.5555555555555556,
              "#d8576b"
             ],
             [
              0.6666666666666666,
              "#ed7953"
             ],
             [
              0.7777777777777778,
              "#fb9f3a"
             ],
             [
              0.8888888888888888,
              "#fdca26"
             ],
             [
              1,
              "#f0f921"
             ]
            ],
            "type": "heatmapgl"
           }
          ],
          "histogram": [
           {
            "marker": {
             "pattern": {
              "fillmode": "overlay",
              "size": 10,
              "solidity": 0.2
             }
            },
            "type": "histogram"
           }
          ],
          "histogram2d": [
           {
            "colorbar": {
             "outlinewidth": 0,
             "ticks": ""
            },
            "colorscale": [
             [
              0,
              "#0d0887"
             ],
             [
              0.1111111111111111,
              "#46039f"
             ],
             [
              0.2222222222222222,
              "#7201a8"
             ],
             [
              0.3333333333333333,
              "#9c179e"
             ],
             [
              0.4444444444444444,
              "#bd3786"
             ],
             [
              0.5555555555555556,
              "#d8576b"
             ],
             [
              0.6666666666666666,
              "#ed7953"
             ],
             [
              0.7777777777777778,
              "#fb9f3a"
             ],
             [
              0.8888888888888888,
              "#fdca26"
             ],
             [
              1,
              "#f0f921"
             ]
            ],
            "type": "histogram2d"
           }
          ],
          "histogram2dcontour": [
           {
            "colorbar": {
             "outlinewidth": 0,
             "ticks": ""
            },
            "colorscale": [
             [
              0,
              "#0d0887"
             ],
             [
              0.1111111111111111,
              "#46039f"
             ],
             [
              0.2222222222222222,
              "#7201a8"
             ],
             [
              0.3333333333333333,
              "#9c179e"
             ],
             [
              0.4444444444444444,
              "#bd3786"
             ],
             [
              0.5555555555555556,
              "#d8576b"
             ],
             [
              0.6666666666666666,
              "#ed7953"
             ],
             [
              0.7777777777777778,
              "#fb9f3a"
             ],
             [
              0.8888888888888888,
              "#fdca26"
             ],
             [
              1,
              "#f0f921"
             ]
            ],
            "type": "histogram2dcontour"
           }
          ],
          "mesh3d": [
           {
            "colorbar": {
             "outlinewidth": 0,
             "ticks": ""
            },
            "type": "mesh3d"
           }
          ],
          "parcoords": [
           {
            "line": {
             "colorbar": {
              "outlinewidth": 0,
              "ticks": ""
             }
            },
            "type": "parcoords"
           }
          ],
          "pie": [
           {
            "automargin": true,
            "type": "pie"
           }
          ],
          "scatter": [
           {
            "fillpattern": {
             "fillmode": "overlay",
             "size": 10,
             "solidity": 0.2
            },
            "type": "scatter"
           }
          ],
          "scatter3d": [
           {
            "line": {
             "colorbar": {
              "outlinewidth": 0,
              "ticks": ""
             }
            },
            "marker": {
             "colorbar": {
              "outlinewidth": 0,
              "ticks": ""
             }
            },
            "type": "scatter3d"
           }
          ],
          "scattercarpet": [
           {
            "marker": {
             "colorbar": {
              "outlinewidth": 0,
              "ticks": ""
             }
            },
            "type": "scattercarpet"
           }
          ],
          "scattergeo": [
           {
            "marker": {
             "colorbar": {
              "outlinewidth": 0,
              "ticks": ""
             }
            },
            "type": "scattergeo"
           }
          ],
          "scattergl": [
           {
            "marker": {
             "colorbar": {
              "outlinewidth": 0,
              "ticks": ""
             }
            },
            "type": "scattergl"
           }
          ],
          "scattermapbox": [
           {
            "marker": {
             "colorbar": {
              "outlinewidth": 0,
              "ticks": ""
             }
            },
            "type": "scattermapbox"
           }
          ],
          "scatterpolar": [
           {
            "marker": {
             "colorbar": {
              "outlinewidth": 0,
              "ticks": ""
             }
            },
            "type": "scatterpolar"
           }
          ],
          "scatterpolargl": [
           {
            "marker": {
             "colorbar": {
              "outlinewidth": 0,
              "ticks": ""
             }
            },
            "type": "scatterpolargl"
           }
          ],
          "scatterternary": [
           {
            "marker": {
             "colorbar": {
              "outlinewidth": 0,
              "ticks": ""
             }
            },
            "type": "scatterternary"
           }
          ],
          "surface": [
           {
            "colorbar": {
             "outlinewidth": 0,
             "ticks": ""
            },
            "colorscale": [
             [
              0,
              "#0d0887"
             ],
             [
              0.1111111111111111,
              "#46039f"
             ],
             [
              0.2222222222222222,
              "#7201a8"
             ],
             [
              0.3333333333333333,
              "#9c179e"
             ],
             [
              0.4444444444444444,
              "#bd3786"
             ],
             [
              0.5555555555555556,
              "#d8576b"
             ],
             [
              0.6666666666666666,
              "#ed7953"
             ],
             [
              0.7777777777777778,
              "#fb9f3a"
             ],
             [
              0.8888888888888888,
              "#fdca26"
             ],
             [
              1,
              "#f0f921"
             ]
            ],
            "type": "surface"
           }
          ],
          "table": [
           {
            "cells": {
             "fill": {
              "color": "#EBF0F8"
             },
             "line": {
              "color": "white"
             }
            },
            "header": {
             "fill": {
              "color": "#C8D4E3"
             },
             "line": {
              "color": "white"
             }
            },
            "type": "table"
           }
          ]
         },
         "layout": {
          "annotationdefaults": {
           "arrowcolor": "#2a3f5f",
           "arrowhead": 0,
           "arrowwidth": 1
          },
          "autotypenumbers": "strict",
          "coloraxis": {
           "colorbar": {
            "outlinewidth": 0,
            "ticks": ""
           }
          },
          "colorscale": {
           "diverging": [
            [
             0,
             "#8e0152"
            ],
            [
             0.1,
             "#c51b7d"
            ],
            [
             0.2,
             "#de77ae"
            ],
            [
             0.3,
             "#f1b6da"
            ],
            [
             0.4,
             "#fde0ef"
            ],
            [
             0.5,
             "#f7f7f7"
            ],
            [
             0.6,
             "#e6f5d0"
            ],
            [
             0.7,
             "#b8e186"
            ],
            [
             0.8,
             "#7fbc41"
            ],
            [
             0.9,
             "#4d9221"
            ],
            [
             1,
             "#276419"
            ]
           ],
           "sequential": [
            [
             0,
             "#0d0887"
            ],
            [
             0.1111111111111111,
             "#46039f"
            ],
            [
             0.2222222222222222,
             "#7201a8"
            ],
            [
             0.3333333333333333,
             "#9c179e"
            ],
            [
             0.4444444444444444,
             "#bd3786"
            ],
            [
             0.5555555555555556,
             "#d8576b"
            ],
            [
             0.6666666666666666,
             "#ed7953"
            ],
            [
             0.7777777777777778,
             "#fb9f3a"
            ],
            [
             0.8888888888888888,
             "#fdca26"
            ],
            [
             1,
             "#f0f921"
            ]
           ],
           "sequentialminus": [
            [
             0,
             "#0d0887"
            ],
            [
             0.1111111111111111,
             "#46039f"
            ],
            [
             0.2222222222222222,
             "#7201a8"
            ],
            [
             0.3333333333333333,
             "#9c179e"
            ],
            [
             0.4444444444444444,
             "#bd3786"
            ],
            [
             0.5555555555555556,
             "#d8576b"
            ],
            [
             0.6666666666666666,
             "#ed7953"
            ],
            [
             0.7777777777777778,
             "#fb9f3a"
            ],
            [
             0.8888888888888888,
             "#fdca26"
            ],
            [
             1,
             "#f0f921"
            ]
           ]
          },
          "colorway": [
           "#636efa",
           "#EF553B",
           "#00cc96",
           "#ab63fa",
           "#FFA15A",
           "#19d3f3",
           "#FF6692",
           "#B6E880",
           "#FF97FF",
           "#FECB52"
          ],
          "font": {
           "color": "#2a3f5f"
          },
          "geo": {
           "bgcolor": "white",
           "lakecolor": "white",
           "landcolor": "#E5ECF6",
           "showlakes": true,
           "showland": true,
           "subunitcolor": "white"
          },
          "hoverlabel": {
           "align": "left"
          },
          "hovermode": "closest",
          "mapbox": {
           "style": "light"
          },
          "paper_bgcolor": "white",
          "plot_bgcolor": "#E5ECF6",
          "polar": {
           "angularaxis": {
            "gridcolor": "white",
            "linecolor": "white",
            "ticks": ""
           },
           "bgcolor": "#E5ECF6",
           "radialaxis": {
            "gridcolor": "white",
            "linecolor": "white",
            "ticks": ""
           }
          },
          "scene": {
           "xaxis": {
            "backgroundcolor": "#E5ECF6",
            "gridcolor": "white",
            "gridwidth": 2,
            "linecolor": "white",
            "showbackground": true,
            "ticks": "",
            "zerolinecolor": "white"
           },
           "yaxis": {
            "backgroundcolor": "#E5ECF6",
            "gridcolor": "white",
            "gridwidth": 2,
            "linecolor": "white",
            "showbackground": true,
            "ticks": "",
            "zerolinecolor": "white"
           },
           "zaxis": {
            "backgroundcolor": "#E5ECF6",
            "gridcolor": "white",
            "gridwidth": 2,
            "linecolor": "white",
            "showbackground": true,
            "ticks": "",
            "zerolinecolor": "white"
           }
          },
          "shapedefaults": {
           "line": {
            "color": "#2a3f5f"
           }
          },
          "ternary": {
           "aaxis": {
            "gridcolor": "white",
            "linecolor": "white",
            "ticks": ""
           },
           "baxis": {
            "gridcolor": "white",
            "linecolor": "white",
            "ticks": ""
           },
           "bgcolor": "#E5ECF6",
           "caxis": {
            "gridcolor": "white",
            "linecolor": "white",
            "ticks": ""
           }
          },
          "title": {
           "x": 0.05
          },
          "xaxis": {
           "automargin": true,
           "gridcolor": "white",
           "linecolor": "white",
           "ticks": "",
           "title": {
            "standoff": 15
           },
           "zerolinecolor": "white",
           "zerolinewidth": 2
          },
          "yaxis": {
           "automargin": true,
           "gridcolor": "white",
           "linecolor": "white",
           "ticks": "",
           "title": {
            "standoff": 15
           },
           "zerolinecolor": "white",
           "zerolinewidth": 2
          }
         }
        },
        "title": {
         "text": "Horizontal Dilations",
         "x": 0.5,
         "xanchor": "center",
         "y": 0.95,
         "yanchor": "top"
        },
        "xaxis": {
         "title": {
          "text": "x"
         }
        },
        "yaxis": {
         "title": {
          "text": "y"
         }
        }
       }
      }
     },
     "metadata": {},
     "output_type": "display_data"
    }
   ],
   "source": [
    "# Generate the list of numbers\n",
    "min_x = 0.0 \n",
    "max_x = 3.0\n",
    "num_points = 100\n",
    "x_values = np.linspace(min_x, max_x, num_points)\n",
    "\n",
    "# Define exponential function\n",
    "f = 2*(3)**x\n",
    "dilated_f = f.subs(x, 2*x)\n",
    "print(\"Original f = \", f, \" Dilate f horizontally by 2 = \", dilated_f)\n",
    "\n",
    "# Create a graph object\n",
    "plot = graph_funs() \n",
    "\n",
    "# Add to the list of functions:\n",
    "plot.add_fun(f)           # Add the original function.\n",
    "plot.add_hor_dilations(f, x_scale_values=[2, -2, 3])\n",
    "\n",
    "\n",
    "plot.plot_functions_list(x_values=x_values, plot_title=\"Horizontal Dilations\")"
   ]
  },
  {
   "cell_type": "markdown",
   "metadata": {},
   "source": [
    "# Visualizing multiple transformations\n",
    "You can combine multiple transformations by simply adding to the list.\n",
    "\n",
    "## Assignment: Visualize multiple transformations\n",
    "Modify the code below to add:\n",
    "1. A horizontal translation.\n",
    "2. A vertical translation.\n",
    "3. Reflection across x.\n",
    "4. Reflection across y.\n",
    "5. A vertical dilation."
   ]
  },
  {
   "cell_type": "code",
   "execution_count": 14,
   "metadata": {},
   "outputs": [
    {
     "name": "stdout",
     "output_type": "stream",
     "text": [
      "Original f =  2*3**x  Dilate f horizontally by 2 =  2*3**(2*x)\n"
     ]
    },
    {
     "data": {
      "application/vnd.plotly.v1+json": {
       "config": {
        "plotlyServerURL": "https://plot.ly"
       },
       "data": [
        {
         "mode": "lines+markers",
         "name": "2*3^x",
         "showlegend": true,
         "type": "scatter",
         "x": [
          0,
          0.030303030303030304,
          0.06060606060606061,
          0.09090909090909091,
          0.12121212121212122,
          0.15151515151515152,
          0.18181818181818182,
          0.21212121212121213,
          0.24242424242424243,
          0.2727272727272727,
          0.30303030303030304,
          0.33333333333333337,
          0.36363636363636365,
          0.3939393939393939,
          0.42424242424242425,
          0.4545454545454546,
          0.48484848484848486,
          0.5151515151515151,
          0.5454545454545454,
          0.5757575757575758,
          0.6060606060606061,
          0.6363636363636364,
          0.6666666666666667,
          0.696969696969697,
          0.7272727272727273,
          0.7575757575757576,
          0.7878787878787878,
          0.8181818181818182,
          0.8484848484848485,
          0.8787878787878788,
          0.9090909090909092,
          0.9393939393939394,
          0.9696969696969697,
          1,
          1.0303030303030303,
          1.0606060606060606,
          1.0909090909090908,
          1.1212121212121213,
          1.1515151515151516,
          1.1818181818181819,
          1.2121212121212122,
          1.2424242424242424,
          1.2727272727272727,
          1.303030303030303,
          1.3333333333333335,
          1.3636363636363638,
          1.393939393939394,
          1.4242424242424243,
          1.4545454545454546,
          1.4848484848484849,
          1.5151515151515151,
          1.5454545454545454,
          1.5757575757575757,
          1.6060606060606062,
          1.6363636363636365,
          1.6666666666666667,
          1.696969696969697,
          1.7272727272727273,
          1.7575757575757576,
          1.7878787878787878,
          1.8181818181818183,
          1.8484848484848486,
          1.878787878787879,
          1.9090909090909092,
          1.9393939393939394,
          1.9696969696969697,
          2,
          2.0303030303030303,
          2.0606060606060606,
          2.090909090909091,
          2.121212121212121,
          2.1515151515151514,
          2.1818181818181817,
          2.2121212121212124,
          2.2424242424242427,
          2.272727272727273,
          2.303030303030303,
          2.3333333333333335,
          2.3636363636363638,
          2.393939393939394,
          2.4242424242424243,
          2.4545454545454546,
          2.484848484848485,
          2.515151515151515,
          2.5454545454545454,
          2.5757575757575757,
          2.606060606060606,
          2.6363636363636362,
          2.666666666666667,
          2.6969696969696972,
          2.7272727272727275,
          2.757575757575758,
          2.787878787878788,
          2.8181818181818183,
          2.8484848484848486,
          2.878787878787879,
          2.909090909090909,
          2.9393939393939394,
          2.9696969696969697,
          3
         ],
         "y": [
          2,
          2.0677032744332986,
          2.137698415551092,
          2.210063006792933,
          2.284877257924825,
          2.362224093944668,
          2.442189246997311,
          2.5248613514010656,
          2.610332041891033,
          2.6986960551881234,
          2.790051335006354,
          2.884499140614817,
          2.982144159074646,
          3.0830946212753902,
          3.187462421899407,
          3.295363243447248,
          3.4069166844615046,
          3.522246392091245,
          3.641480199143969,
          3.7647502657770024,
          3.892193225985369,
          4.023950339048525,
          4.160167646103808,
          4.300996132020156,
          4.446591892751513,
          4.597116308355432,
          4.752736221868621,
          4.913624124237746,
          5.079958345510417,
          5.251923252498325,
          5.429709453131584,
          5.613514007730804,
          5.8035406474310856,
          6,
          6.203109823299895,
          6.413095246653276,
          6.6301890203788,
          6.854631773774475,
          7.086672281834005,
          7.3265677409919325,
          7.574584054203196,
          7.830996125673098,
          8.09608816556437,
          8.370154005019062,
          8.653497421844452,
          8.946432477223938,
          9.249283863826172,
          9.562387265698222,
          9.886089730341745,
          10.220750053384513,
          10.566739176273733,
          10.924440597431907,
          11.294250797331005,
          11.676579677956108,
          12.071851017145576,
          12.480502938311426,
          12.902988396060469,
          13.33977567825454,
          13.791348925066293,
          14.258208665605862,
          14.74087237271324,
          15.239875036531254,
          15.755769757494978,
          16.28912835939475,
          16.840542023192413,
          17.410621942293258,
          18,
          18.609329469899684,
          19.239285739959826,
          19.890567061136398,
          20.563895321323418,
          21.260016845502008,
          21.979703222975793,
          22.723752162609596,
          23.4929883770193,
          24.288264496693113,
          25.11046201505719,
          25.960492265533354,
          26.839297431671817,
          27.747851591478515,
          28.687161797094667,
          29.658269191025234,
          30.66225016015354,
          31.700217528821202,
          32.77332179229572,
          33.882752391993016,
          35.02973903386832,
          36.21555305143672,
          37.44150881493429,
          38.708965188181416,
          40.019327034763634,
          41.37404677519889,
          42.7746259968176,
          44.222617118139716,
          45.719625109593764,
          47.26730927248493,
          48.86738507818425,
          50.52162606957724,
          52.23186582687977,
          54
         ]
        },
        {
         "mode": "lines+markers",
         "name": "2*3^(2*x)",
         "showlegend": true,
         "type": "scatter",
         "x": [
          0,
          0.030303030303030304,
          0.06060606060606061,
          0.09090909090909091,
          0.12121212121212122,
          0.15151515151515152,
          0.18181818181818182,
          0.21212121212121213,
          0.24242424242424243,
          0.2727272727272727,
          0.30303030303030304,
          0.33333333333333337,
          0.36363636363636365,
          0.3939393939393939,
          0.42424242424242425,
          0.4545454545454546,
          0.48484848484848486,
          0.5151515151515151,
          0.5454545454545454,
          0.5757575757575758,
          0.6060606060606061,
          0.6363636363636364,
          0.6666666666666667,
          0.696969696969697,
          0.7272727272727273,
          0.7575757575757576,
          0.7878787878787878,
          0.8181818181818182,
          0.8484848484848485,
          0.8787878787878788,
          0.9090909090909092,
          0.9393939393939394,
          0.9696969696969697,
          1,
          1.0303030303030303,
          1.0606060606060606,
          1.0909090909090908,
          1.1212121212121213,
          1.1515151515151516,
          1.1818181818181819,
          1.2121212121212122,
          1.2424242424242424,
          1.2727272727272727,
          1.303030303030303,
          1.3333333333333335,
          1.3636363636363638,
          1.393939393939394,
          1.4242424242424243,
          1.4545454545454546,
          1.4848484848484849,
          1.5151515151515151,
          1.5454545454545454,
          1.5757575757575757,
          1.6060606060606062,
          1.6363636363636365,
          1.6666666666666667,
          1.696969696969697,
          1.7272727272727273,
          1.7575757575757576,
          1.7878787878787878,
          1.8181818181818183,
          1.8484848484848486,
          1.878787878787879,
          1.9090909090909092,
          1.9393939393939394,
          1.9696969696969697,
          2,
          2.0303030303030303,
          2.0606060606060606,
          2.090909090909091,
          2.121212121212121,
          2.1515151515151514,
          2.1818181818181817,
          2.2121212121212124,
          2.2424242424242427,
          2.272727272727273,
          2.303030303030303,
          2.3333333333333335,
          2.3636363636363638,
          2.393939393939394,
          2.4242424242424243,
          2.4545454545454546,
          2.484848484848485,
          2.515151515151515,
          2.5454545454545454,
          2.5757575757575757,
          2.606060606060606,
          2.6363636363636362,
          2.666666666666667,
          2.6969696969696972,
          2.7272727272727275,
          2.757575757575758,
          2.787878787878788,
          2.8181818181818183,
          2.8484848484848486,
          2.878787878787879,
          2.909090909090909,
          2.9393939393939394,
          2.9696969696969697,
          3
         ],
         "y": [
          2,
          2.137698415551092,
          2.284877257924825,
          2.442189246997311,
          2.610332041891033,
          2.790051335006354,
          2.982144159074646,
          3.187462421899407,
          3.4069166844615046,
          3.641480199143969,
          3.892193225985369,
          4.160167646103808,
          4.446591892751513,
          4.752736221868621,
          5.079958345510417,
          5.429709453131584,
          5.8035406474310856,
          6.203109823299895,
          6.6301890203788,
          7.086672281834005,
          7.574584054203196,
          8.09608816556437,
          8.653497421844452,
          9.249283863826172,
          9.886089730341745,
          10.566739176273733,
          11.294250797331005,
          12.071851017145576,
          12.902988396060469,
          13.791348925066293,
          14.74087237271324,
          15.755769757494978,
          16.840542023192413,
          18,
          19.239285739959826,
          20.563895321323418,
          21.979703222975793,
          23.4929883770193,
          25.11046201505719,
          26.839297431671817,
          28.687161797094667,
          30.66225016015354,
          32.77332179229572,
          35.02973903386832,
          37.44150881493429,
          40.019327034763634,
          42.7746259968176,
          45.719625109593764,
          48.86738507818425,
          52.23186582687977,
          55.82798840969905,
          59.6717011834092,
          63.780050536506025,
          68.17125648782878,
          72.86479349007935,
          77.88147679660007,
          83.24355477443554,
          88.9748075730757,
          95.10065258646361,
          101.64825717597905,
          108.64665915431021,
          116.12689556454424,
          124.12214032559667,
          132.66785135441916,
          141.8019278174548,
          151.56487820873173,
          162,
          173.15357165963843,
          185.07505789191077,
          197.81732900678213,
          211.43689539317361,
          225.9941581355146,
          241.55367688504623,
          258.18445617385214,
          275.960251441382,
          294.9598961306616,
          315.267651304815,
          336.97357933440856,
          360.17394331287267,
          384.97163397135836,
          411.47662598634383,
          439.80646570365826,
          470.08679244191796,
          502.4518956872915,
          537.0453106506827,
          574.0204548285542,
          613.5413083904588,
          655.7831414107138,
          700.933291169401,
          749.1919929699203,
          800.7732681576816,
          855.9058732781729,
          914.8343145838119,
          977.8199323887919,
          1045.142060080898,
          1117.09926293037,
          1194.0106621897723,
          1276.2173503570932,
          1364.0839038785855,
          1458
         ]
        },
        {
         "mode": "lines+markers",
         "name": "2/3^(2*x)",
         "showlegend": true,
         "type": "scatter",
         "x": [
          0,
          0.030303030303030304,
          0.06060606060606061,
          0.09090909090909091,
          0.12121212121212122,
          0.15151515151515152,
          0.18181818181818182,
          0.21212121212121213,
          0.24242424242424243,
          0.2727272727272727,
          0.30303030303030304,
          0.33333333333333337,
          0.36363636363636365,
          0.3939393939393939,
          0.42424242424242425,
          0.4545454545454546,
          0.48484848484848486,
          0.5151515151515151,
          0.5454545454545454,
          0.5757575757575758,
          0.6060606060606061,
          0.6363636363636364,
          0.6666666666666667,
          0.696969696969697,
          0.7272727272727273,
          0.7575757575757576,
          0.7878787878787878,
          0.8181818181818182,
          0.8484848484848485,
          0.8787878787878788,
          0.9090909090909092,
          0.9393939393939394,
          0.9696969696969697,
          1,
          1.0303030303030303,
          1.0606060606060606,
          1.0909090909090908,
          1.1212121212121213,
          1.1515151515151516,
          1.1818181818181819,
          1.2121212121212122,
          1.2424242424242424,
          1.2727272727272727,
          1.303030303030303,
          1.3333333333333335,
          1.3636363636363638,
          1.393939393939394,
          1.4242424242424243,
          1.4545454545454546,
          1.4848484848484849,
          1.5151515151515151,
          1.5454545454545454,
          1.5757575757575757,
          1.6060606060606062,
          1.6363636363636365,
          1.6666666666666667,
          1.696969696969697,
          1.7272727272727273,
          1.7575757575757576,
          1.7878787878787878,
          1.8181818181818183,
          1.8484848484848486,
          1.878787878787879,
          1.9090909090909092,
          1.9393939393939394,
          1.9696969696969697,
          2,
          2.0303030303030303,
          2.0606060606060606,
          2.090909090909091,
          2.121212121212121,
          2.1515151515151514,
          2.1818181818181817,
          2.2121212121212124,
          2.2424242424242427,
          2.272727272727273,
          2.303030303030303,
          2.3333333333333335,
          2.3636363636363638,
          2.393939393939394,
          2.4242424242424243,
          2.4545454545454546,
          2.484848484848485,
          2.515151515151515,
          2.5454545454545454,
          2.5757575757575757,
          2.606060606060606,
          2.6363636363636362,
          2.666666666666667,
          2.6969696969696972,
          2.7272727272727275,
          2.757575757575758,
          2.787878787878788,
          2.8181818181818183,
          2.8484848484848486,
          2.878787878787879,
          2.909090909090909,
          2.9393939393939394,
          2.9696969696969697,
          3
         ],
         "y": [
          2,
          1.871171335910268,
          1.7506410841661084,
          1.6378747080792484,
          1.5323721027851438,
          1.4336653773400518,
          1.3413167796828416,
          1.2549167552590006,
          1.1740821306970814,
          1.098454414482416,
          1.0276982070917968,
          0.9614997135382721,
          0.8995653517293744,
          0.8416204504670218,
          0.7874080313148893,
          0.7366876689309777,
          0.6892344248110994,
          0.644837849714565,
          0.6033010503479537,
          0.5644398161678241,
          0.5280818024298467,
          0.4940657658612793,
          0.4622408495670897,
          0.43246591399837425,
          0.40460891101599655,
          0.3785462982735005,
          0.3541624913221564,
          0.33134935100829394,
          0.31000570388959486,
          0.2900368935434481,
          0.27135436077747893,
          0.25387525088053603,
          0.23752204617234354,
          0.2222222222222222,
          0.20790792621225201,
          0.1945156760184565,
          0.1819860786754721,
          0.17026356697612705,
          0.15929615303778352,
          0.14903519774253796,
          0.13943519502877785,
          0.1304535700774535,
          0.12205049049804623,
          0.11418868967686631,
          0.10683330150425244,
          0.09995170574770824,
          0.09351338338522462,
          0.08748978125720991,
          0.0818541854367753,
          0.07658160275678882,
          0.071648649968285,
          0.06703345003866153,
          0.06271553512975825,
          0.058675755825538516,
          0.054896196206808794,
          0.0513600943963433,
          0.04805176822204159,
          0.04495654566844406,
          0.04206069980816672,
          0.03935138792468404,
          0.036816594556477095,
          0.034445078209954974,
          0.03222632150482756,
          0.030150484530830992,
          0.02820836120894845,
          0.026391338463593726,
          0.024691358024691357,
          0.023100880690250222,
          0.021612852890939612,
          0.020220675408385787,
          0.018918174108458568,
          0.017699572559753733,
          0.016559466415837557,
          0.015492799447641975,
          0.014494841119717048,
          0.013561165610894018,
          0.012687632186318474,
          0.011870366833805827,
          0.011105745083078693,
          0.010390375931691625,
          0.009721086806356657,
          0.009094909492975034,
          0.008509066972976537,
          0.007960961107587223,
          0.007448161115406836,
          0.006968392792195361,
          0.006519528425059838,
          0.006099577356312091,
          0.005706677155149253,
          0.005339085358004618,
          0.004995171740938226,
          0.0046734110897963,
          0.004372376436076002,
          0.004090732728497456,
          0.0038272309122172198,
          0.0035807023894252844,
          0.0033500538367589993,
          0.003134262356549828,
          0.002932370940399303,
          0.0027434842249657062
         ]
        },
        {
         "mode": "lines+markers",
         "name": "2*3^(3*x)",
         "showlegend": true,
         "type": "scatter",
         "x": [
          0,
          0.030303030303030304,
          0.06060606060606061,
          0.09090909090909091,
          0.12121212121212122,
          0.15151515151515152,
          0.18181818181818182,
          0.21212121212121213,
          0.24242424242424243,
          0.2727272727272727,
          0.30303030303030304,
          0.33333333333333337,
          0.36363636363636365,
          0.3939393939393939,
          0.42424242424242425,
          0.4545454545454546,
          0.48484848484848486,
          0.5151515151515151,
          0.5454545454545454,
          0.5757575757575758,
          0.6060606060606061,
          0.6363636363636364,
          0.6666666666666667,
          0.696969696969697,
          0.7272727272727273,
          0.7575757575757576,
          0.7878787878787878,
          0.8181818181818182,
          0.8484848484848485,
          0.8787878787878788,
          0.9090909090909092,
          0.9393939393939394,
          0.9696969696969697,
          1,
          1.0303030303030303,
          1.0606060606060606,
          1.0909090909090908,
          1.1212121212121213,
          1.1515151515151516,
          1.1818181818181819,
          1.2121212121212122,
          1.2424242424242424,
          1.2727272727272727,
          1.303030303030303,
          1.3333333333333335,
          1.3636363636363638,
          1.393939393939394,
          1.4242424242424243,
          1.4545454545454546,
          1.4848484848484849,
          1.5151515151515151,
          1.5454545454545454,
          1.5757575757575757,
          1.6060606060606062,
          1.6363636363636365,
          1.6666666666666667,
          1.696969696969697,
          1.7272727272727273,
          1.7575757575757576,
          1.7878787878787878,
          1.8181818181818183,
          1.8484848484848486,
          1.878787878787879,
          1.9090909090909092,
          1.9393939393939394,
          1.9696969696969697,
          2,
          2.0303030303030303,
          2.0606060606060606,
          2.090909090909091,
          2.121212121212121,
          2.1515151515151514,
          2.1818181818181817,
          2.2121212121212124,
          2.2424242424242427,
          2.272727272727273,
          2.303030303030303,
          2.3333333333333335,
          2.3636363636363638,
          2.393939393939394,
          2.4242424242424243,
          2.4545454545454546,
          2.484848484848485,
          2.515151515151515,
          2.5454545454545454,
          2.5757575757575757,
          2.606060606060606,
          2.6363636363636362,
          2.666666666666667,
          2.6969696969696972,
          2.7272727272727275,
          2.757575757575758,
          2.787878787878788,
          2.8181818181818183,
          2.8484848484848486,
          2.878787878787879,
          2.909090909090909,
          2.9393939393939394,
          2.9696969696969697,
          3
         ],
         "y": [
          2,
          2.210063006792933,
          2.442189246997311,
          2.6986960551881234,
          2.982144159074646,
          3.295363243447248,
          3.641480199143969,
          4.023950339048525,
          4.446591892751513,
          4.913624124237745,
          5.429709453131584,
          6,
          6.6301890203788,
          7.326567740991931,
          8.09608816556437,
          8.946432477223938,
          9.886089730341745,
          10.924440597431907,
          12.071851017145573,
          13.339775678254544,
          14.74087237271324,
          16.28912835939475,
          18,
          19.890567061136398,
          21.979703222975793,
          24.288264496693103,
          26.839297431671802,
          29.658269191025234,
          32.77332179229572,
          36.21555305143672,
          40.019327034763634,
          44.222617118139716,
          48.86738507818425,
          54,
          59.6717011834092,
          65.93910966892737,
          72.86479349007931,
          80.51789229501549,
          88.97480757307574,
          98.31996537688721,
          108.64665915431021,
          120.0579811042909,
          132.66785135441916,
          146.60215523455275,
          162,
          179.01510355022776,
          197.81732900678213,
          218.59438047023815,
          241.55367688504623,
          266.9244227192272,
          294.9598961306613,
          325.93997746293064,
          360.1739433128723,
          398.00355406325747,
          439.80646570365826,
          486,
          537.0453106506827,
          593.4519870203465,
          655.7831414107138,
          724.6610306551387,
          800.7732681576816,
          884.8796883919848,
          977.8199323887919,
          1080.521829938618,
          1194.0106621897723,
          1319.4193971109748,
          1458,
          1611.1359319520484,
          1780.3559610610394,
          1967.3494242321412,
          2173.983091965416,
          2402.3198044730425,
          2654.639065175952,
          2933.4597971663757,
          3241.5654898158573,
          3582.031986569317,
          3958.258191332928,
          4374,
          4833.407795856149,
          5341.067883183117,
          5902.04827269643,
          6521.949275896248,
          7206.959413419135,
          7963.917195527856,
          8800.379391499127,
          9724.696469447554,
          10746.09595970795,
          11874.77457399876,
          13122,
          14500.223387568449,
          16023.203649549385,
          17706.144818089288,
          19565.847827688744,
          21620.878240257403,
          23891.751586583614,
          26401.13817449738,
          29174.08940834266,
          32238.287879123855,
          35624.323721996356,
          39366
         ]
        }
       ],
       "layout": {
        "autosize": false,
        "template": {
         "data": {
          "bar": [
           {
            "error_x": {
             "color": "#2a3f5f"
            },
            "error_y": {
             "color": "#2a3f5f"
            },
            "marker": {
             "line": {
              "color": "#E5ECF6",
              "width": 0.5
             },
             "pattern": {
              "fillmode": "overlay",
              "size": 10,
              "solidity": 0.2
             }
            },
            "type": "bar"
           }
          ],
          "barpolar": [
           {
            "marker": {
             "line": {
              "color": "#E5ECF6",
              "width": 0.5
             },
             "pattern": {
              "fillmode": "overlay",
              "size": 10,
              "solidity": 0.2
             }
            },
            "type": "barpolar"
           }
          ],
          "carpet": [
           {
            "aaxis": {
             "endlinecolor": "#2a3f5f",
             "gridcolor": "white",
             "linecolor": "white",
             "minorgridcolor": "white",
             "startlinecolor": "#2a3f5f"
            },
            "baxis": {
             "endlinecolor": "#2a3f5f",
             "gridcolor": "white",
             "linecolor": "white",
             "minorgridcolor": "white",
             "startlinecolor": "#2a3f5f"
            },
            "type": "carpet"
           }
          ],
          "choropleth": [
           {
            "colorbar": {
             "outlinewidth": 0,
             "ticks": ""
            },
            "type": "choropleth"
           }
          ],
          "contour": [
           {
            "colorbar": {
             "outlinewidth": 0,
             "ticks": ""
            },
            "colorscale": [
             [
              0,
              "#0d0887"
             ],
             [
              0.1111111111111111,
              "#46039f"
             ],
             [
              0.2222222222222222,
              "#7201a8"
             ],
             [
              0.3333333333333333,
              "#9c179e"
             ],
             [
              0.4444444444444444,
              "#bd3786"
             ],
             [
              0.5555555555555556,
              "#d8576b"
             ],
             [
              0.6666666666666666,
              "#ed7953"
             ],
             [
              0.7777777777777778,
              "#fb9f3a"
             ],
             [
              0.8888888888888888,
              "#fdca26"
             ],
             [
              1,
              "#f0f921"
             ]
            ],
            "type": "contour"
           }
          ],
          "contourcarpet": [
           {
            "colorbar": {
             "outlinewidth": 0,
             "ticks": ""
            },
            "type": "contourcarpet"
           }
          ],
          "heatmap": [
           {
            "colorbar": {
             "outlinewidth": 0,
             "ticks": ""
            },
            "colorscale": [
             [
              0,
              "#0d0887"
             ],
             [
              0.1111111111111111,
              "#46039f"
             ],
             [
              0.2222222222222222,
              "#7201a8"
             ],
             [
              0.3333333333333333,
              "#9c179e"
             ],
             [
              0.4444444444444444,
              "#bd3786"
             ],
             [
              0.5555555555555556,
              "#d8576b"
             ],
             [
              0.6666666666666666,
              "#ed7953"
             ],
             [
              0.7777777777777778,
              "#fb9f3a"
             ],
             [
              0.8888888888888888,
              "#fdca26"
             ],
             [
              1,
              "#f0f921"
             ]
            ],
            "type": "heatmap"
           }
          ],
          "heatmapgl": [
           {
            "colorbar": {
             "outlinewidth": 0,
             "ticks": ""
            },
            "colorscale": [
             [
              0,
              "#0d0887"
             ],
             [
              0.1111111111111111,
              "#46039f"
             ],
             [
              0.2222222222222222,
              "#7201a8"
             ],
             [
              0.3333333333333333,
              "#9c179e"
             ],
             [
              0.4444444444444444,
              "#bd3786"
             ],
             [
              0.5555555555555556,
              "#d8576b"
             ],
             [
              0.6666666666666666,
              "#ed7953"
             ],
             [
              0.7777777777777778,
              "#fb9f3a"
             ],
             [
              0.8888888888888888,
              "#fdca26"
             ],
             [
              1,
              "#f0f921"
             ]
            ],
            "type": "heatmapgl"
           }
          ],
          "histogram": [
           {
            "marker": {
             "pattern": {
              "fillmode": "overlay",
              "size": 10,
              "solidity": 0.2
             }
            },
            "type": "histogram"
           }
          ],
          "histogram2d": [
           {
            "colorbar": {
             "outlinewidth": 0,
             "ticks": ""
            },
            "colorscale": [
             [
              0,
              "#0d0887"
             ],
             [
              0.1111111111111111,
              "#46039f"
             ],
             [
              0.2222222222222222,
              "#7201a8"
             ],
             [
              0.3333333333333333,
              "#9c179e"
             ],
             [
              0.4444444444444444,
              "#bd3786"
             ],
             [
              0.5555555555555556,
              "#d8576b"
             ],
             [
              0.6666666666666666,
              "#ed7953"
             ],
             [
              0.7777777777777778,
              "#fb9f3a"
             ],
             [
              0.8888888888888888,
              "#fdca26"
             ],
             [
              1,
              "#f0f921"
             ]
            ],
            "type": "histogram2d"
           }
          ],
          "histogram2dcontour": [
           {
            "colorbar": {
             "outlinewidth": 0,
             "ticks": ""
            },
            "colorscale": [
             [
              0,
              "#0d0887"
             ],
             [
              0.1111111111111111,
              "#46039f"
             ],
             [
              0.2222222222222222,
              "#7201a8"
             ],
             [
              0.3333333333333333,
              "#9c179e"
             ],
             [
              0.4444444444444444,
              "#bd3786"
             ],
             [
              0.5555555555555556,
              "#d8576b"
             ],
             [
              0.6666666666666666,
              "#ed7953"
             ],
             [
              0.7777777777777778,
              "#fb9f3a"
             ],
             [
              0.8888888888888888,
              "#fdca26"
             ],
             [
              1,
              "#f0f921"
             ]
            ],
            "type": "histogram2dcontour"
           }
          ],
          "mesh3d": [
           {
            "colorbar": {
             "outlinewidth": 0,
             "ticks": ""
            },
            "type": "mesh3d"
           }
          ],
          "parcoords": [
           {
            "line": {
             "colorbar": {
              "outlinewidth": 0,
              "ticks": ""
             }
            },
            "type": "parcoords"
           }
          ],
          "pie": [
           {
            "automargin": true,
            "type": "pie"
           }
          ],
          "scatter": [
           {
            "fillpattern": {
             "fillmode": "overlay",
             "size": 10,
             "solidity": 0.2
            },
            "type": "scatter"
           }
          ],
          "scatter3d": [
           {
            "line": {
             "colorbar": {
              "outlinewidth": 0,
              "ticks": ""
             }
            },
            "marker": {
             "colorbar": {
              "outlinewidth": 0,
              "ticks": ""
             }
            },
            "type": "scatter3d"
           }
          ],
          "scattercarpet": [
           {
            "marker": {
             "colorbar": {
              "outlinewidth": 0,
              "ticks": ""
             }
            },
            "type": "scattercarpet"
           }
          ],
          "scattergeo": [
           {
            "marker": {
             "colorbar": {
              "outlinewidth": 0,
              "ticks": ""
             }
            },
            "type": "scattergeo"
           }
          ],
          "scattergl": [
           {
            "marker": {
             "colorbar": {
              "outlinewidth": 0,
              "ticks": ""
             }
            },
            "type": "scattergl"
           }
          ],
          "scattermapbox": [
           {
            "marker": {
             "colorbar": {
              "outlinewidth": 0,
              "ticks": ""
             }
            },
            "type": "scattermapbox"
           }
          ],
          "scatterpolar": [
           {
            "marker": {
             "colorbar": {
              "outlinewidth": 0,
              "ticks": ""
             }
            },
            "type": "scatterpolar"
           }
          ],
          "scatterpolargl": [
           {
            "marker": {
             "colorbar": {
              "outlinewidth": 0,
              "ticks": ""
             }
            },
            "type": "scatterpolargl"
           }
          ],
          "scatterternary": [
           {
            "marker": {
             "colorbar": {
              "outlinewidth": 0,
              "ticks": ""
             }
            },
            "type": "scatterternary"
           }
          ],
          "surface": [
           {
            "colorbar": {
             "outlinewidth": 0,
             "ticks": ""
            },
            "colorscale": [
             [
              0,
              "#0d0887"
             ],
             [
              0.1111111111111111,
              "#46039f"
             ],
             [
              0.2222222222222222,
              "#7201a8"
             ],
             [
              0.3333333333333333,
              "#9c179e"
             ],
             [
              0.4444444444444444,
              "#bd3786"
             ],
             [
              0.5555555555555556,
              "#d8576b"
             ],
             [
              0.6666666666666666,
              "#ed7953"
             ],
             [
              0.7777777777777778,
              "#fb9f3a"
             ],
             [
              0.8888888888888888,
              "#fdca26"
             ],
             [
              1,
              "#f0f921"
             ]
            ],
            "type": "surface"
           }
          ],
          "table": [
           {
            "cells": {
             "fill": {
              "color": "#EBF0F8"
             },
             "line": {
              "color": "white"
             }
            },
            "header": {
             "fill": {
              "color": "#C8D4E3"
             },
             "line": {
              "color": "white"
             }
            },
            "type": "table"
           }
          ]
         },
         "layout": {
          "annotationdefaults": {
           "arrowcolor": "#2a3f5f",
           "arrowhead": 0,
           "arrowwidth": 1
          },
          "autotypenumbers": "strict",
          "coloraxis": {
           "colorbar": {
            "outlinewidth": 0,
            "ticks": ""
           }
          },
          "colorscale": {
           "diverging": [
            [
             0,
             "#8e0152"
            ],
            [
             0.1,
             "#c51b7d"
            ],
            [
             0.2,
             "#de77ae"
            ],
            [
             0.3,
             "#f1b6da"
            ],
            [
             0.4,
             "#fde0ef"
            ],
            [
             0.5,
             "#f7f7f7"
            ],
            [
             0.6,
             "#e6f5d0"
            ],
            [
             0.7,
             "#b8e186"
            ],
            [
             0.8,
             "#7fbc41"
            ],
            [
             0.9,
             "#4d9221"
            ],
            [
             1,
             "#276419"
            ]
           ],
           "sequential": [
            [
             0,
             "#0d0887"
            ],
            [
             0.1111111111111111,
             "#46039f"
            ],
            [
             0.2222222222222222,
             "#7201a8"
            ],
            [
             0.3333333333333333,
             "#9c179e"
            ],
            [
             0.4444444444444444,
             "#bd3786"
            ],
            [
             0.5555555555555556,
             "#d8576b"
            ],
            [
             0.6666666666666666,
             "#ed7953"
            ],
            [
             0.7777777777777778,
             "#fb9f3a"
            ],
            [
             0.8888888888888888,
             "#fdca26"
            ],
            [
             1,
             "#f0f921"
            ]
           ],
           "sequentialminus": [
            [
             0,
             "#0d0887"
            ],
            [
             0.1111111111111111,
             "#46039f"
            ],
            [
             0.2222222222222222,
             "#7201a8"
            ],
            [
             0.3333333333333333,
             "#9c179e"
            ],
            [
             0.4444444444444444,
             "#bd3786"
            ],
            [
             0.5555555555555556,
             "#d8576b"
            ],
            [
             0.6666666666666666,
             "#ed7953"
            ],
            [
             0.7777777777777778,
             "#fb9f3a"
            ],
            [
             0.8888888888888888,
             "#fdca26"
            ],
            [
             1,
             "#f0f921"
            ]
           ]
          },
          "colorway": [
           "#636efa",
           "#EF553B",
           "#00cc96",
           "#ab63fa",
           "#FFA15A",
           "#19d3f3",
           "#FF6692",
           "#B6E880",
           "#FF97FF",
           "#FECB52"
          ],
          "font": {
           "color": "#2a3f5f"
          },
          "geo": {
           "bgcolor": "white",
           "lakecolor": "white",
           "landcolor": "#E5ECF6",
           "showlakes": true,
           "showland": true,
           "subunitcolor": "white"
          },
          "hoverlabel": {
           "align": "left"
          },
          "hovermode": "closest",
          "mapbox": {
           "style": "light"
          },
          "paper_bgcolor": "white",
          "plot_bgcolor": "#E5ECF6",
          "polar": {
           "angularaxis": {
            "gridcolor": "white",
            "linecolor": "white",
            "ticks": ""
           },
           "bgcolor": "#E5ECF6",
           "radialaxis": {
            "gridcolor": "white",
            "linecolor": "white",
            "ticks": ""
           }
          },
          "scene": {
           "xaxis": {
            "backgroundcolor": "#E5ECF6",
            "gridcolor": "white",
            "gridwidth": 2,
            "linecolor": "white",
            "showbackground": true,
            "ticks": "",
            "zerolinecolor": "white"
           },
           "yaxis": {
            "backgroundcolor": "#E5ECF6",
            "gridcolor": "white",
            "gridwidth": 2,
            "linecolor": "white",
            "showbackground": true,
            "ticks": "",
            "zerolinecolor": "white"
           },
           "zaxis": {
            "backgroundcolor": "#E5ECF6",
            "gridcolor": "white",
            "gridwidth": 2,
            "linecolor": "white",
            "showbackground": true,
            "ticks": "",
            "zerolinecolor": "white"
           }
          },
          "shapedefaults": {
           "line": {
            "color": "#2a3f5f"
           }
          },
          "ternary": {
           "aaxis": {
            "gridcolor": "white",
            "linecolor": "white",
            "ticks": ""
           },
           "baxis": {
            "gridcolor": "white",
            "linecolor": "white",
            "ticks": ""
           },
           "bgcolor": "#E5ECF6",
           "caxis": {
            "gridcolor": "white",
            "linecolor": "white",
            "ticks": ""
           }
          },
          "title": {
           "x": 0.05
          },
          "xaxis": {
           "automargin": true,
           "gridcolor": "white",
           "linecolor": "white",
           "ticks": "",
           "title": {
            "standoff": 15
           },
           "zerolinecolor": "white",
           "zerolinewidth": 2
          },
          "yaxis": {
           "automargin": true,
           "gridcolor": "white",
           "linecolor": "white",
           "ticks": "",
           "title": {
            "standoff": 15
           },
           "zerolinecolor": "white",
           "zerolinewidth": 2
          }
         }
        },
        "title": {
         "text": "Horizontal Dilations",
         "x": 0.5,
         "xanchor": "center",
         "y": 0.95,
         "yanchor": "top"
        },
        "xaxis": {
         "title": {
          "text": "x"
         }
        },
        "yaxis": {
         "title": {
          "text": "y"
         }
        }
       }
      }
     },
     "metadata": {},
     "output_type": "display_data"
    }
   ],
   "source": [
    "# MODIFY to add multiple transformations\n",
    "\n",
    "# Generate the list of numbers\n",
    "min_x = 0.0 \n",
    "max_x = 3.0\n",
    "num_points = 100\n",
    "x_values = np.linspace(min_x, max_x, num_points)\n",
    "\n",
    "# Define exponential function\n",
    "f = 2*(3)**x\n",
    "dilated_f = f.subs(x, 2*x)\n",
    "print(\"Original f = \", f, \" Dilate f horizontally by 2 = \", dilated_f)\n",
    "\n",
    "# Create a graph object\n",
    "plot = graph_funs() \n",
    "\n",
    "# Add to the list of functions:\n",
    "plot.add_fun(f)           # Add the original function.\n",
    "plot.add_hor_dilations(f, x_scale_values=[2, -2, 3])\n",
    "\n",
    "# Add:\n",
    "# 1. A horizontal translation.\n",
    "# 2. A vertical translation.\n",
    "# 3. Reflection across x.\n",
    "# 4. Reflection across y.\n",
    "# 5. A vertical dilation.\n",
    "\n",
    "# Plot everything\n",
    "plot.plot_functions_list(x_values=x_values, plot_title=\"Horizontal Dilations\")"
   ]
  },
  {
   "cell_type": "markdown",
   "metadata": {},
   "source": [
    "# Applying a sequence of tranformations\n",
    "You can apply a sequence of transformations.<br>\n",
    "Here is an example:\n",
    "```\n",
    "f = 2*(3)**x                         # f\n",
    "dilated_f   = f.subs(x, 2*x)         # use f\n",
    "translate_f = dilated_f.subs(x, x-1) # use dilated_f\n",
    "```\n",
    "Note that the output function is fed as input to the next transformation.<br>\n",
    "<br>\n",
    "We simply add all of them to the list of graphs using:\n",
    "```\n",
    "plot.add_fun(f) \n",
    "plot.add_fun(dilated_f) \n",
    "plot.add_fun(translate_f)\n",
    "```\n",
    "## Assignment: a sequence of transformations\n",
    "Study the code below.\n",
    "Then modify the code to apply the following sequence:\n",
    "1. Translate f by 3.\n",
    "2. Reflect f across x.\n",
    "3. Horizontally dilate f by 2."
   ]
  },
  {
   "cell_type": "code",
   "execution_count": 15,
   "metadata": {},
   "outputs": [
    {
     "name": "stdout",
     "output_type": "stream",
     "text": [
      "Original f =  2*3**x\n",
      "Dilated f horizontally by 2 =  2*3**(2*x)\n",
      "Translate f horizontally by 1 =  2*3**(2*x - 2)\n"
     ]
    },
    {
     "data": {
      "application/vnd.plotly.v1+json": {
       "config": {
        "plotlyServerURL": "https://plot.ly"
       },
       "data": [
        {
         "mode": "lines+markers",
         "name": "2*3^x",
         "showlegend": true,
         "type": "scatter",
         "x": [
          0,
          0.030303030303030304,
          0.06060606060606061,
          0.09090909090909091,
          0.12121212121212122,
          0.15151515151515152,
          0.18181818181818182,
          0.21212121212121213,
          0.24242424242424243,
          0.2727272727272727,
          0.30303030303030304,
          0.33333333333333337,
          0.36363636363636365,
          0.3939393939393939,
          0.42424242424242425,
          0.4545454545454546,
          0.48484848484848486,
          0.5151515151515151,
          0.5454545454545454,
          0.5757575757575758,
          0.6060606060606061,
          0.6363636363636364,
          0.6666666666666667,
          0.696969696969697,
          0.7272727272727273,
          0.7575757575757576,
          0.7878787878787878,
          0.8181818181818182,
          0.8484848484848485,
          0.8787878787878788,
          0.9090909090909092,
          0.9393939393939394,
          0.9696969696969697,
          1,
          1.0303030303030303,
          1.0606060606060606,
          1.0909090909090908,
          1.1212121212121213,
          1.1515151515151516,
          1.1818181818181819,
          1.2121212121212122,
          1.2424242424242424,
          1.2727272727272727,
          1.303030303030303,
          1.3333333333333335,
          1.3636363636363638,
          1.393939393939394,
          1.4242424242424243,
          1.4545454545454546,
          1.4848484848484849,
          1.5151515151515151,
          1.5454545454545454,
          1.5757575757575757,
          1.6060606060606062,
          1.6363636363636365,
          1.6666666666666667,
          1.696969696969697,
          1.7272727272727273,
          1.7575757575757576,
          1.7878787878787878,
          1.8181818181818183,
          1.8484848484848486,
          1.878787878787879,
          1.9090909090909092,
          1.9393939393939394,
          1.9696969696969697,
          2,
          2.0303030303030303,
          2.0606060606060606,
          2.090909090909091,
          2.121212121212121,
          2.1515151515151514,
          2.1818181818181817,
          2.2121212121212124,
          2.2424242424242427,
          2.272727272727273,
          2.303030303030303,
          2.3333333333333335,
          2.3636363636363638,
          2.393939393939394,
          2.4242424242424243,
          2.4545454545454546,
          2.484848484848485,
          2.515151515151515,
          2.5454545454545454,
          2.5757575757575757,
          2.606060606060606,
          2.6363636363636362,
          2.666666666666667,
          2.6969696969696972,
          2.7272727272727275,
          2.757575757575758,
          2.787878787878788,
          2.8181818181818183,
          2.8484848484848486,
          2.878787878787879,
          2.909090909090909,
          2.9393939393939394,
          2.9696969696969697,
          3
         ],
         "y": [
          2,
          2.0677032744332986,
          2.137698415551092,
          2.210063006792933,
          2.284877257924825,
          2.362224093944668,
          2.442189246997311,
          2.5248613514010656,
          2.610332041891033,
          2.6986960551881234,
          2.790051335006354,
          2.884499140614817,
          2.982144159074646,
          3.0830946212753902,
          3.187462421899407,
          3.295363243447248,
          3.4069166844615046,
          3.522246392091245,
          3.641480199143969,
          3.7647502657770024,
          3.892193225985369,
          4.023950339048525,
          4.160167646103808,
          4.300996132020156,
          4.446591892751513,
          4.597116308355432,
          4.752736221868621,
          4.913624124237746,
          5.079958345510417,
          5.251923252498325,
          5.429709453131584,
          5.613514007730804,
          5.8035406474310856,
          6,
          6.203109823299895,
          6.413095246653276,
          6.6301890203788,
          6.854631773774475,
          7.086672281834005,
          7.3265677409919325,
          7.574584054203196,
          7.830996125673098,
          8.09608816556437,
          8.370154005019062,
          8.653497421844452,
          8.946432477223938,
          9.249283863826172,
          9.562387265698222,
          9.886089730341745,
          10.220750053384513,
          10.566739176273733,
          10.924440597431907,
          11.294250797331005,
          11.676579677956108,
          12.071851017145576,
          12.480502938311426,
          12.902988396060469,
          13.33977567825454,
          13.791348925066293,
          14.258208665605862,
          14.74087237271324,
          15.239875036531254,
          15.755769757494978,
          16.28912835939475,
          16.840542023192413,
          17.410621942293258,
          18,
          18.609329469899684,
          19.239285739959826,
          19.890567061136398,
          20.563895321323418,
          21.260016845502008,
          21.979703222975793,
          22.723752162609596,
          23.4929883770193,
          24.288264496693113,
          25.11046201505719,
          25.960492265533354,
          26.839297431671817,
          27.747851591478515,
          28.687161797094667,
          29.658269191025234,
          30.66225016015354,
          31.700217528821202,
          32.77332179229572,
          33.882752391993016,
          35.02973903386832,
          36.21555305143672,
          37.44150881493429,
          38.708965188181416,
          40.019327034763634,
          41.37404677519889,
          42.7746259968176,
          44.222617118139716,
          45.719625109593764,
          47.26730927248493,
          48.86738507818425,
          50.52162606957724,
          52.23186582687977,
          54
         ]
        },
        {
         "mode": "lines+markers",
         "name": "2*3^(2*x)",
         "showlegend": true,
         "type": "scatter",
         "x": [
          0,
          0.030303030303030304,
          0.06060606060606061,
          0.09090909090909091,
          0.12121212121212122,
          0.15151515151515152,
          0.18181818181818182,
          0.21212121212121213,
          0.24242424242424243,
          0.2727272727272727,
          0.30303030303030304,
          0.33333333333333337,
          0.36363636363636365,
          0.3939393939393939,
          0.42424242424242425,
          0.4545454545454546,
          0.48484848484848486,
          0.5151515151515151,
          0.5454545454545454,
          0.5757575757575758,
          0.6060606060606061,
          0.6363636363636364,
          0.6666666666666667,
          0.696969696969697,
          0.7272727272727273,
          0.7575757575757576,
          0.7878787878787878,
          0.8181818181818182,
          0.8484848484848485,
          0.8787878787878788,
          0.9090909090909092,
          0.9393939393939394,
          0.9696969696969697,
          1,
          1.0303030303030303,
          1.0606060606060606,
          1.0909090909090908,
          1.1212121212121213,
          1.1515151515151516,
          1.1818181818181819,
          1.2121212121212122,
          1.2424242424242424,
          1.2727272727272727,
          1.303030303030303,
          1.3333333333333335,
          1.3636363636363638,
          1.393939393939394,
          1.4242424242424243,
          1.4545454545454546,
          1.4848484848484849,
          1.5151515151515151,
          1.5454545454545454,
          1.5757575757575757,
          1.6060606060606062,
          1.6363636363636365,
          1.6666666666666667,
          1.696969696969697,
          1.7272727272727273,
          1.7575757575757576,
          1.7878787878787878,
          1.8181818181818183,
          1.8484848484848486,
          1.878787878787879,
          1.9090909090909092,
          1.9393939393939394,
          1.9696969696969697,
          2,
          2.0303030303030303,
          2.0606060606060606,
          2.090909090909091,
          2.121212121212121,
          2.1515151515151514,
          2.1818181818181817,
          2.2121212121212124,
          2.2424242424242427,
          2.272727272727273,
          2.303030303030303,
          2.3333333333333335,
          2.3636363636363638,
          2.393939393939394,
          2.4242424242424243,
          2.4545454545454546,
          2.484848484848485,
          2.515151515151515,
          2.5454545454545454,
          2.5757575757575757,
          2.606060606060606,
          2.6363636363636362,
          2.666666666666667,
          2.6969696969696972,
          2.7272727272727275,
          2.757575757575758,
          2.787878787878788,
          2.8181818181818183,
          2.8484848484848486,
          2.878787878787879,
          2.909090909090909,
          2.9393939393939394,
          2.9696969696969697,
          3
         ],
         "y": [
          2,
          2.137698415551092,
          2.284877257924825,
          2.442189246997311,
          2.610332041891033,
          2.790051335006354,
          2.982144159074646,
          3.187462421899407,
          3.4069166844615046,
          3.641480199143969,
          3.892193225985369,
          4.160167646103808,
          4.446591892751513,
          4.752736221868621,
          5.079958345510417,
          5.429709453131584,
          5.8035406474310856,
          6.203109823299895,
          6.6301890203788,
          7.086672281834005,
          7.574584054203196,
          8.09608816556437,
          8.653497421844452,
          9.249283863826172,
          9.886089730341745,
          10.566739176273733,
          11.294250797331005,
          12.071851017145576,
          12.902988396060469,
          13.791348925066293,
          14.74087237271324,
          15.755769757494978,
          16.840542023192413,
          18,
          19.239285739959826,
          20.563895321323418,
          21.979703222975793,
          23.4929883770193,
          25.11046201505719,
          26.839297431671817,
          28.687161797094667,
          30.66225016015354,
          32.77332179229572,
          35.02973903386832,
          37.44150881493429,
          40.019327034763634,
          42.7746259968176,
          45.719625109593764,
          48.86738507818425,
          52.23186582687977,
          55.82798840969905,
          59.6717011834092,
          63.780050536506025,
          68.17125648782878,
          72.86479349007935,
          77.88147679660007,
          83.24355477443554,
          88.9748075730757,
          95.10065258646361,
          101.64825717597905,
          108.64665915431021,
          116.12689556454424,
          124.12214032559667,
          132.66785135441916,
          141.8019278174548,
          151.56487820873173,
          162,
          173.15357165963843,
          185.07505789191077,
          197.81732900678213,
          211.43689539317361,
          225.9941581355146,
          241.55367688504623,
          258.18445617385214,
          275.960251441382,
          294.9598961306616,
          315.267651304815,
          336.97357933440856,
          360.17394331287267,
          384.97163397135836,
          411.47662598634383,
          439.80646570365826,
          470.08679244191796,
          502.4518956872915,
          537.0453106506827,
          574.0204548285542,
          613.5413083904588,
          655.7831414107138,
          700.933291169401,
          749.1919929699203,
          800.7732681576816,
          855.9058732781729,
          914.8343145838119,
          977.8199323887919,
          1045.142060080898,
          1117.09926293037,
          1194.0106621897723,
          1276.2173503570932,
          1364.0839038785855,
          1458
         ]
        },
        {
         "mode": "lines+markers",
         "name": "2*3^(2*x - 2)",
         "showlegend": true,
         "type": "scatter",
         "x": [
          0,
          0.030303030303030304,
          0.06060606060606061,
          0.09090909090909091,
          0.12121212121212122,
          0.15151515151515152,
          0.18181818181818182,
          0.21212121212121213,
          0.24242424242424243,
          0.2727272727272727,
          0.30303030303030304,
          0.33333333333333337,
          0.36363636363636365,
          0.3939393939393939,
          0.42424242424242425,
          0.4545454545454546,
          0.48484848484848486,
          0.5151515151515151,
          0.5454545454545454,
          0.5757575757575758,
          0.6060606060606061,
          0.6363636363636364,
          0.6666666666666667,
          0.696969696969697,
          0.7272727272727273,
          0.7575757575757576,
          0.7878787878787878,
          0.8181818181818182,
          0.8484848484848485,
          0.8787878787878788,
          0.9090909090909092,
          0.9393939393939394,
          0.9696969696969697,
          1,
          1.0303030303030303,
          1.0606060606060606,
          1.0909090909090908,
          1.1212121212121213,
          1.1515151515151516,
          1.1818181818181819,
          1.2121212121212122,
          1.2424242424242424,
          1.2727272727272727,
          1.303030303030303,
          1.3333333333333335,
          1.3636363636363638,
          1.393939393939394,
          1.4242424242424243,
          1.4545454545454546,
          1.4848484848484849,
          1.5151515151515151,
          1.5454545454545454,
          1.5757575757575757,
          1.6060606060606062,
          1.6363636363636365,
          1.6666666666666667,
          1.696969696969697,
          1.7272727272727273,
          1.7575757575757576,
          1.7878787878787878,
          1.8181818181818183,
          1.8484848484848486,
          1.878787878787879,
          1.9090909090909092,
          1.9393939393939394,
          1.9696969696969697,
          2,
          2.0303030303030303,
          2.0606060606060606,
          2.090909090909091,
          2.121212121212121,
          2.1515151515151514,
          2.1818181818181817,
          2.2121212121212124,
          2.2424242424242427,
          2.272727272727273,
          2.303030303030303,
          2.3333333333333335,
          2.3636363636363638,
          2.393939393939394,
          2.4242424242424243,
          2.4545454545454546,
          2.484848484848485,
          2.515151515151515,
          2.5454545454545454,
          2.5757575757575757,
          2.606060606060606,
          2.6363636363636362,
          2.666666666666667,
          2.6969696969696972,
          2.7272727272727275,
          2.757575757575758,
          2.787878787878788,
          2.8181818181818183,
          2.8484848484848486,
          2.878787878787879,
          2.909090909090909,
          2.9393939393939394,
          2.9696969696969697,
          3
         ],
         "y": [
          0.2222222222222222,
          0.23752204617234354,
          0.25387525088053603,
          0.271354360777479,
          0.2900368935434481,
          0.31000570388959486,
          0.33134935100829405,
          0.3541624913221564,
          0.3785462982735005,
          0.40460891101599655,
          0.43246591399837425,
          0.46224084956708983,
          0.4940657658612793,
          0.5280818024298467,
          0.5644398161678242,
          0.6033010503479537,
          0.644837849714565,
          0.6892344248110994,
          0.7366876689309777,
          0.7874080313148895,
          0.8416204504670218,
          0.8995653517293744,
          0.9614997135382725,
          1.0276982070917968,
          1.098454414482416,
          1.1740821306970814,
          1.2549167552590006,
          1.3413167796828418,
          1.433665377340052,
          1.5323721027851438,
          1.6378747080792488,
          1.7506410841661086,
          1.871171335910268,
          2,
          2.137698415551092,
          2.2848772579248244,
          2.4421892469973105,
          2.6103320418910334,
          2.7900513350063543,
          2.9821441590746463,
          3.1874624218994074,
          3.4069166844615046,
          3.641480199143969,
          3.8921932259853684,
          4.16016764610381,
          4.446591892751515,
          4.752736221868622,
          5.079958345510418,
          5.429709453131584,
          5.8035406474310856,
          6.203109823299895,
          6.6301890203788,
          7.086672281834003,
          7.574584054203198,
          8.096088165564371,
          8.653497421844452,
          9.249283863826172,
          9.886089730341745,
          10.566739176273733,
          11.294250797331005,
          12.07185101714558,
          12.90298839606047,
          13.791348925066297,
          14.74087237271324,
          15.755769757494978,
          16.840542023192413,
          18,
          19.239285739959826,
          20.563895321323418,
          21.979703222975793,
          23.49298837701929,
          25.110462015057177,
          26.839297431671802,
          28.68716179709468,
          30.662250160153558,
          32.77332179229573,
          35.02973903386833,
          37.44150881493429,
          40.019327034763634,
          42.7746259968176,
          45.719625109593764,
          48.86738507818425,
          52.23186582687977,
          55.82798840969905,
          59.6717011834092,
          63.780050536506025,
          68.17125648782876,
          72.86479349007931,
          77.8814767966001,
          83.24355477443558,
          88.97480757307574,
          95.10065258646365,
          101.6482571759791,
          108.64665915431021,
          116.12689556454424,
          124.12214032559667,
          132.66785135441916,
          141.8019278174548,
          151.56487820873173,
          162
         ]
        }
       ],
       "layout": {
        "autosize": false,
        "template": {
         "data": {
          "bar": [
           {
            "error_x": {
             "color": "#2a3f5f"
            },
            "error_y": {
             "color": "#2a3f5f"
            },
            "marker": {
             "line": {
              "color": "#E5ECF6",
              "width": 0.5
             },
             "pattern": {
              "fillmode": "overlay",
              "size": 10,
              "solidity": 0.2
             }
            },
            "type": "bar"
           }
          ],
          "barpolar": [
           {
            "marker": {
             "line": {
              "color": "#E5ECF6",
              "width": 0.5
             },
             "pattern": {
              "fillmode": "overlay",
              "size": 10,
              "solidity": 0.2
             }
            },
            "type": "barpolar"
           }
          ],
          "carpet": [
           {
            "aaxis": {
             "endlinecolor": "#2a3f5f",
             "gridcolor": "white",
             "linecolor": "white",
             "minorgridcolor": "white",
             "startlinecolor": "#2a3f5f"
            },
            "baxis": {
             "endlinecolor": "#2a3f5f",
             "gridcolor": "white",
             "linecolor": "white",
             "minorgridcolor": "white",
             "startlinecolor": "#2a3f5f"
            },
            "type": "carpet"
           }
          ],
          "choropleth": [
           {
            "colorbar": {
             "outlinewidth": 0,
             "ticks": ""
            },
            "type": "choropleth"
           }
          ],
          "contour": [
           {
            "colorbar": {
             "outlinewidth": 0,
             "ticks": ""
            },
            "colorscale": [
             [
              0,
              "#0d0887"
             ],
             [
              0.1111111111111111,
              "#46039f"
             ],
             [
              0.2222222222222222,
              "#7201a8"
             ],
             [
              0.3333333333333333,
              "#9c179e"
             ],
             [
              0.4444444444444444,
              "#bd3786"
             ],
             [
              0.5555555555555556,
              "#d8576b"
             ],
             [
              0.6666666666666666,
              "#ed7953"
             ],
             [
              0.7777777777777778,
              "#fb9f3a"
             ],
             [
              0.8888888888888888,
              "#fdca26"
             ],
             [
              1,
              "#f0f921"
             ]
            ],
            "type": "contour"
           }
          ],
          "contourcarpet": [
           {
            "colorbar": {
             "outlinewidth": 0,
             "ticks": ""
            },
            "type": "contourcarpet"
           }
          ],
          "heatmap": [
           {
            "colorbar": {
             "outlinewidth": 0,
             "ticks": ""
            },
            "colorscale": [
             [
              0,
              "#0d0887"
             ],
             [
              0.1111111111111111,
              "#46039f"
             ],
             [
              0.2222222222222222,
              "#7201a8"
             ],
             [
              0.3333333333333333,
              "#9c179e"
             ],
             [
              0.4444444444444444,
              "#bd3786"
             ],
             [
              0.5555555555555556,
              "#d8576b"
             ],
             [
              0.6666666666666666,
              "#ed7953"
             ],
             [
              0.7777777777777778,
              "#fb9f3a"
             ],
             [
              0.8888888888888888,
              "#fdca26"
             ],
             [
              1,
              "#f0f921"
             ]
            ],
            "type": "heatmap"
           }
          ],
          "heatmapgl": [
           {
            "colorbar": {
             "outlinewidth": 0,
             "ticks": ""
            },
            "colorscale": [
             [
              0,
              "#0d0887"
             ],
             [
              0.1111111111111111,
              "#46039f"
             ],
             [
              0.2222222222222222,
              "#7201a8"
             ],
             [
              0.3333333333333333,
              "#9c179e"
             ],
             [
              0.4444444444444444,
              "#bd3786"
             ],
             [
              0.5555555555555556,
              "#d8576b"
             ],
             [
              0.6666666666666666,
              "#ed7953"
             ],
             [
              0.7777777777777778,
              "#fb9f3a"
             ],
             [
              0.8888888888888888,
              "#fdca26"
             ],
             [
              1,
              "#f0f921"
             ]
            ],
            "type": "heatmapgl"
           }
          ],
          "histogram": [
           {
            "marker": {
             "pattern": {
              "fillmode": "overlay",
              "size": 10,
              "solidity": 0.2
             }
            },
            "type": "histogram"
           }
          ],
          "histogram2d": [
           {
            "colorbar": {
             "outlinewidth": 0,
             "ticks": ""
            },
            "colorscale": [
             [
              0,
              "#0d0887"
             ],
             [
              0.1111111111111111,
              "#46039f"
             ],
             [
              0.2222222222222222,
              "#7201a8"
             ],
             [
              0.3333333333333333,
              "#9c179e"
             ],
             [
              0.4444444444444444,
              "#bd3786"
             ],
             [
              0.5555555555555556,
              "#d8576b"
             ],
             [
              0.6666666666666666,
              "#ed7953"
             ],
             [
              0.7777777777777778,
              "#fb9f3a"
             ],
             [
              0.8888888888888888,
              "#fdca26"
             ],
             [
              1,
              "#f0f921"
             ]
            ],
            "type": "histogram2d"
           }
          ],
          "histogram2dcontour": [
           {
            "colorbar": {
             "outlinewidth": 0,
             "ticks": ""
            },
            "colorscale": [
             [
              0,
              "#0d0887"
             ],
             [
              0.1111111111111111,
              "#46039f"
             ],
             [
              0.2222222222222222,
              "#7201a8"
             ],
             [
              0.3333333333333333,
              "#9c179e"
             ],
             [
              0.4444444444444444,
              "#bd3786"
             ],
             [
              0.5555555555555556,
              "#d8576b"
             ],
             [
              0.6666666666666666,
              "#ed7953"
             ],
             [
              0.7777777777777778,
              "#fb9f3a"
             ],
             [
              0.8888888888888888,
              "#fdca26"
             ],
             [
              1,
              "#f0f921"
             ]
            ],
            "type": "histogram2dcontour"
           }
          ],
          "mesh3d": [
           {
            "colorbar": {
             "outlinewidth": 0,
             "ticks": ""
            },
            "type": "mesh3d"
           }
          ],
          "parcoords": [
           {
            "line": {
             "colorbar": {
              "outlinewidth": 0,
              "ticks": ""
             }
            },
            "type": "parcoords"
           }
          ],
          "pie": [
           {
            "automargin": true,
            "type": "pie"
           }
          ],
          "scatter": [
           {
            "fillpattern": {
             "fillmode": "overlay",
             "size": 10,
             "solidity": 0.2
            },
            "type": "scatter"
           }
          ],
          "scatter3d": [
           {
            "line": {
             "colorbar": {
              "outlinewidth": 0,
              "ticks": ""
             }
            },
            "marker": {
             "colorbar": {
              "outlinewidth": 0,
              "ticks": ""
             }
            },
            "type": "scatter3d"
           }
          ],
          "scattercarpet": [
           {
            "marker": {
             "colorbar": {
              "outlinewidth": 0,
              "ticks": ""
             }
            },
            "type": "scattercarpet"
           }
          ],
          "scattergeo": [
           {
            "marker": {
             "colorbar": {
              "outlinewidth": 0,
              "ticks": ""
             }
            },
            "type": "scattergeo"
           }
          ],
          "scattergl": [
           {
            "marker": {
             "colorbar": {
              "outlinewidth": 0,
              "ticks": ""
             }
            },
            "type": "scattergl"
           }
          ],
          "scattermapbox": [
           {
            "marker": {
             "colorbar": {
              "outlinewidth": 0,
              "ticks": ""
             }
            },
            "type": "scattermapbox"
           }
          ],
          "scatterpolar": [
           {
            "marker": {
             "colorbar": {
              "outlinewidth": 0,
              "ticks": ""
             }
            },
            "type": "scatterpolar"
           }
          ],
          "scatterpolargl": [
           {
            "marker": {
             "colorbar": {
              "outlinewidth": 0,
              "ticks": ""
             }
            },
            "type": "scatterpolargl"
           }
          ],
          "scatterternary": [
           {
            "marker": {
             "colorbar": {
              "outlinewidth": 0,
              "ticks": ""
             }
            },
            "type": "scatterternary"
           }
          ],
          "surface": [
           {
            "colorbar": {
             "outlinewidth": 0,
             "ticks": ""
            },
            "colorscale": [
             [
              0,
              "#0d0887"
             ],
             [
              0.1111111111111111,
              "#46039f"
             ],
             [
              0.2222222222222222,
              "#7201a8"
             ],
             [
              0.3333333333333333,
              "#9c179e"
             ],
             [
              0.4444444444444444,
              "#bd3786"
             ],
             [
              0.5555555555555556,
              "#d8576b"
             ],
             [
              0.6666666666666666,
              "#ed7953"
             ],
             [
              0.7777777777777778,
              "#fb9f3a"
             ],
             [
              0.8888888888888888,
              "#fdca26"
             ],
             [
              1,
              "#f0f921"
             ]
            ],
            "type": "surface"
           }
          ],
          "table": [
           {
            "cells": {
             "fill": {
              "color": "#EBF0F8"
             },
             "line": {
              "color": "white"
             }
            },
            "header": {
             "fill": {
              "color": "#C8D4E3"
             },
             "line": {
              "color": "white"
             }
            },
            "type": "table"
           }
          ]
         },
         "layout": {
          "annotationdefaults": {
           "arrowcolor": "#2a3f5f",
           "arrowhead": 0,
           "arrowwidth": 1
          },
          "autotypenumbers": "strict",
          "coloraxis": {
           "colorbar": {
            "outlinewidth": 0,
            "ticks": ""
           }
          },
          "colorscale": {
           "diverging": [
            [
             0,
             "#8e0152"
            ],
            [
             0.1,
             "#c51b7d"
            ],
            [
             0.2,
             "#de77ae"
            ],
            [
             0.3,
             "#f1b6da"
            ],
            [
             0.4,
             "#fde0ef"
            ],
            [
             0.5,
             "#f7f7f7"
            ],
            [
             0.6,
             "#e6f5d0"
            ],
            [
             0.7,
             "#b8e186"
            ],
            [
             0.8,
             "#7fbc41"
            ],
            [
             0.9,
             "#4d9221"
            ],
            [
             1,
             "#276419"
            ]
           ],
           "sequential": [
            [
             0,
             "#0d0887"
            ],
            [
             0.1111111111111111,
             "#46039f"
            ],
            [
             0.2222222222222222,
             "#7201a8"
            ],
            [
             0.3333333333333333,
             "#9c179e"
            ],
            [
             0.4444444444444444,
             "#bd3786"
            ],
            [
             0.5555555555555556,
             "#d8576b"
            ],
            [
             0.6666666666666666,
             "#ed7953"
            ],
            [
             0.7777777777777778,
             "#fb9f3a"
            ],
            [
             0.8888888888888888,
             "#fdca26"
            ],
            [
             1,
             "#f0f921"
            ]
           ],
           "sequentialminus": [
            [
             0,
             "#0d0887"
            ],
            [
             0.1111111111111111,
             "#46039f"
            ],
            [
             0.2222222222222222,
             "#7201a8"
            ],
            [
             0.3333333333333333,
             "#9c179e"
            ],
            [
             0.4444444444444444,
             "#bd3786"
            ],
            [
             0.5555555555555556,
             "#d8576b"
            ],
            [
             0.6666666666666666,
             "#ed7953"
            ],
            [
             0.7777777777777778,
             "#fb9f3a"
            ],
            [
             0.8888888888888888,
             "#fdca26"
            ],
            [
             1,
             "#f0f921"
            ]
           ]
          },
          "colorway": [
           "#636efa",
           "#EF553B",
           "#00cc96",
           "#ab63fa",
           "#FFA15A",
           "#19d3f3",
           "#FF6692",
           "#B6E880",
           "#FF97FF",
           "#FECB52"
          ],
          "font": {
           "color": "#2a3f5f"
          },
          "geo": {
           "bgcolor": "white",
           "lakecolor": "white",
           "landcolor": "#E5ECF6",
           "showlakes": true,
           "showland": true,
           "subunitcolor": "white"
          },
          "hoverlabel": {
           "align": "left"
          },
          "hovermode": "closest",
          "mapbox": {
           "style": "light"
          },
          "paper_bgcolor": "white",
          "plot_bgcolor": "#E5ECF6",
          "polar": {
           "angularaxis": {
            "gridcolor": "white",
            "linecolor": "white",
            "ticks": ""
           },
           "bgcolor": "#E5ECF6",
           "radialaxis": {
            "gridcolor": "white",
            "linecolor": "white",
            "ticks": ""
           }
          },
          "scene": {
           "xaxis": {
            "backgroundcolor": "#E5ECF6",
            "gridcolor": "white",
            "gridwidth": 2,
            "linecolor": "white",
            "showbackground": true,
            "ticks": "",
            "zerolinecolor": "white"
           },
           "yaxis": {
            "backgroundcolor": "#E5ECF6",
            "gridcolor": "white",
            "gridwidth": 2,
            "linecolor": "white",
            "showbackground": true,
            "ticks": "",
            "zerolinecolor": "white"
           },
           "zaxis": {
            "backgroundcolor": "#E5ECF6",
            "gridcolor": "white",
            "gridwidth": 2,
            "linecolor": "white",
            "showbackground": true,
            "ticks": "",
            "zerolinecolor": "white"
           }
          },
          "shapedefaults": {
           "line": {
            "color": "#2a3f5f"
           }
          },
          "ternary": {
           "aaxis": {
            "gridcolor": "white",
            "linecolor": "white",
            "ticks": ""
           },
           "baxis": {
            "gridcolor": "white",
            "linecolor": "white",
            "ticks": ""
           },
           "bgcolor": "#E5ECF6",
           "caxis": {
            "gridcolor": "white",
            "linecolor": "white",
            "ticks": ""
           }
          },
          "title": {
           "x": 0.05
          },
          "xaxis": {
           "automargin": true,
           "gridcolor": "white",
           "linecolor": "white",
           "ticks": "",
           "title": {
            "standoff": 15
           },
           "zerolinecolor": "white",
           "zerolinewidth": 2
          },
          "yaxis": {
           "automargin": true,
           "gridcolor": "white",
           "linecolor": "white",
           "ticks": "",
           "title": {
            "standoff": 15
           },
           "zerolinecolor": "white",
           "zerolinewidth": 2
          }
         }
        },
        "title": {
         "text": "Multiple transformations",
         "x": 0.5,
         "xanchor": "center",
         "y": 0.95,
         "yanchor": "top"
        },
        "xaxis": {
         "title": {
          "text": "x"
         }
        },
        "yaxis": {
         "title": {
          "text": "y"
         }
        }
       }
      }
     },
     "metadata": {},
     "output_type": "display_data"
    }
   ],
   "source": [
    "# MODIFY to add multiple transformations\n",
    "\n",
    "# Generate the list of numbers\n",
    "min_x = 0.0 \n",
    "max_x = 3.0\n",
    "num_points = 100\n",
    "x_values = np.linspace(min_x, max_x, num_points)\n",
    "\n",
    "# Create a graph object\n",
    "plot = graph_funs() \n",
    "\n",
    "# Define a sequence of transformations and add them to the plots\n",
    "\n",
    "# Define exponential function\n",
    "f = 2*(3)**x\n",
    "plot.add_fun(f) \n",
    "print(\"Original f = \", f)\n",
    "\n",
    "# Dilate horizontally:\n",
    "dilated_f = f.subs(x, 2*x)\n",
    "plot.add_fun(dilated_f) \n",
    "print(\"Dilated f horizontally by 2 = \", dilated_f)\n",
    "\n",
    "# Translate f:\n",
    "translate_f = dilated_f.subs(x, x-1)\n",
    "plot.add_fun(translate_f) \n",
    "print(\"Translate f horizontally by 1 = \", translate_f)\n",
    "\n",
    "\n",
    "# Plot everything\n",
    "plot.plot_functions_list(x_values=x_values, plot_title=\"Multiple transformations\")"
   ]
  }
 ],
 "metadata": {
  "kernelspec": {
   "display_name": "pytorch",
   "language": "python",
   "name": "python3"
  },
  "language_info": {
   "codemirror_mode": {
    "name": "ipython",
    "version": 3
   },
   "file_extension": ".py",
   "mimetype": "text/x-python",
   "name": "python",
   "nbconvert_exporter": "python",
   "pygments_lexer": "ipython3",
   "version": "3.10.13"
  }
 },
 "nbformat": 4,
 "nbformat_minor": 2
}

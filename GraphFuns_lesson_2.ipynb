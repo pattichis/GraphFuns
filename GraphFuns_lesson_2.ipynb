{
 "cells": [
  {
   "cell_type": "markdown",
   "metadata": {},
   "source": [
    "# Setup\n",
    "The following code sets up the system by downloading the library from the web."
   ]
  },
  {
   "cell_type": "code",
   "execution_count": null,
   "metadata": {},
   "outputs": [],
   "source": [
    "# Remove existing files\n",
    "import os\n",
    "\n",
    "# os.chdir(\"/content/\")\n",
    "# !find './' -maxdepth 1 -type f -delete\n",
    "\n",
    "!wget -nc 'https://raw.githubusercontent.com/ugeshe/lineart/fall_2023/equations.py'\n",
    "\n",
    "# Import plotting functions\n",
    "from equations import plot_function_list\n",
    "import numpy as np\n",
    "from sympy import sympify\n",
    "\n",
    "from sympy.interactive.printing import init_printing\n",
    "init_printing(use_unicode=True)"
   ]
  },
  {
   "cell_type": "markdown",
   "metadata": {},
   "source": [
    "# Object Oriented Programming using symbolic functions in Python\n",
    "In Python, you can do symbolic math by using the <tt>sympy</tt> library.<br>\n",
    "A library contains many functions that we can use. <br>\n",
    "We introduce the library using:\n",
    "```\n",
    "import sympy as sp\n",
    "```\n",
    "We can then define a symbolic variable using:\n",
    "```\n",
    "x = sp.symbols('x')\n",
    "```\n",
    "We can then define <b>symbolic equations</b> using <tt>x</tt>.\n",
    "A linear function is defined using:\n",
    "```\n",
    "f = 2*x - 3\n",
    "```\n",
    "We note that <tt>f</tt> is an <b>object</b>.<br>\n",
    "This means that it has a set of <b>functions</b> and data associated with it.<br>\n",
    "We can evaluate the function at different values using its <tt>subs</tt> function.<br>\n",
    "\n",
    "To see this, we first introduce a numerical variable:\n",
    "```\n",
    "x_val = 2\n",
    "```\n",
    "We then substitute the value using <tt>f.subs()</tt> as follows:\n",
    "```\n",
    "y = f.subs(x, x_val)\n",
    "```\n",
    "## Assignment: Learn about symbolic functions\n",
    "Run the code below and study it carefully.<br>\n",
    "Then do the following:\n",
    "1. Evaluate the function at 0.\n",
    "2. Modify the function to become <tt>5*x+3</tt> and evaluate the function at <tt>x=5</tt>."
   ]
  },
  {
   "cell_type": "code",
   "execution_count": null,
   "metadata": {},
   "outputs": [],
   "source": [
    "# Import the library:\n",
    "import sympy as sp \n",
    "\n",
    "# Define x as a symbolic variable\n",
    "x = sp.symbols('x')\n",
    "\n",
    "# You can define an equation using x:\n",
    "f = 2*x - 3\n",
    "\n",
    "# Evaluate at different points:\n",
    "x_val = 0\n",
    "y = f.subs(x, x_val)\n",
    "\n",
    "print(\"y=\", y, \"for x=\", x_val)"
   ]
  },
  {
   "cell_type": "markdown",
   "metadata": {},
   "source": [
    "# Exponential Functions\n",
    "We define an exponential function using:\n",
    "  $$ y = a b^x \\quad\\text{where}\\quad a \\not= 0, \\quad b>0, \\quad b\\not= 1. $$\n",
    "In code, we can define the right-hand side variables symbolically using:\n",
    "```\n",
    "a, b, x = sp.symbols('a b x')\n",
    "```\n",
    "We can define the general exponential function using:\n",
    "```\n",
    "f = a*(b)**x\n",
    "```\n",
    "Please note that <tt>**</tt> is used to raise <tt>b</tt> to the <tt>x</tt> power.\n",
    "\n",
    "We can define a specific function by <b>substituting</b> specific\n",
    "  values to <tt>a</tt> and <tt>b</tt>.</br>\n",
    "We can do this by substituting one value at a time as given by:\n",
    "```\n",
    "f1 = f.subs(a, 2)    # f1 has a=2\n",
    "f1 = f1.subs(b, 3)   # f1 has b=3 and a=2\n",
    "```\n",
    "This creates a new function <tt>f1</tt> with the fixed values.<br>\n",
    "\n",
    "As before, we can evaluate <tt>f1</tt> at a given value using:\n",
    "```\n",
    "y = f1.subs(x, 2)\n",
    "```\n",
    "\n",
    "## Assignment:\n",
    "Study the code below and then modify it to produce the following functions:\n",
    "1. Modify the code to plot the following function:\n",
    "    $$ y = 4^x. $$\n",
    "2. Evaluate the new function for $x=0, 1, 2, 3$.\n",
    "2. Modify the code to plot the following function:\n",
    "    $$ y = \\left( \\frac{1}{2} \\right)^x. $$\n",
    "3. Modify the code to plot a function with exponential growth using:\n",
    "    $$ y = a b^x \\quad \\text{where} \\quad a>0, \\,\\, b>1.$$\n",
    "4. Modify the code to plote a function with exponential decay using:\n",
    "    $$ y = a b^x \\quad \\text{where} \\quad a>0, \\,\\, b<1.$$\n"
   ]
  },
  {
   "cell_type": "code",
   "execution_count": null,
   "metadata": {},
   "outputs": [],
   "source": [
    "a, b, x = sp.symbols('a b x')\n",
    "\n",
    "f = a*(b)**x\n",
    "print(f)\n",
    "\n",
    "x_val = 2\n",
    "y_vals = f1.subs(x, x_val)\n",
    "\n",
    "print(y_vals)\n"
   ]
  }
 ],
 "metadata": {
  "language_info": {
   "name": "python"
  }
 },
 "nbformat": 4,
 "nbformat_minor": 2
}

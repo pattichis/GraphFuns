{
  "cells": [
    {
      "cell_type": "markdown",
      "metadata": {
        "colab_type": "text",
        "id": "view-in-github"
      },
      "source": [
        "<a href=\"https://colab.research.google.com/github/pattichis/GraphFuns/blob/main/GraphFuns_lesson_2.ipynb\" target=\"_parent\"><img src=\"https://colab.research.google.com/assets/colab-badge.svg\" alt=\"Open In Colab\"/></a>"
      ]
    },
    {
      "cell_type": "markdown",
      "metadata": {
        "id": "nenVXL6OTnKo"
      },
      "source": [
        "# Setup"
      ]
    },
    {
      "cell_type": "markdown",
      "metadata": {
        "id": "YjHf0G1dEBq8"
      },
      "source": [
        "The following code sets up the system by downloading the library from the web."
      ]
    },
    {
      "cell_type": "code",
      "execution_count": 1,
      "metadata": {
        "colab": {
          "base_uri": "https://localhost:8080/",
          "height": 0
        },
        "id": "j5bKHr_pEBq8",
        "outputId": "190da1be-dad4-4704-8cba-48e5024170ba"
      },
      "outputs": [
        {
          "name": "stdout",
          "output_type": "stream",
          "text": [
            "pygame 2.5.2 (SDL 2.28.3, Python 3.10.13)\n",
            "Hello from the pygame community. https://www.pygame.org/contribute.html\n"
          ]
        }
      ],
      "source": [
        "# Remove existing files\n",
        "import os\n",
        "\n",
        "VS_CODE = True # Set to True if using Visual Studio\n",
        "if (not VS_CODE):\n",
        "    os.chdir(\"/content/\")\n",
        "    #!find './' -maxdepth 1 -type f -delete\n",
        "    \n",
        "    # Mount the drive:\n",
        "    from google.colab import drive\n",
        "    drive.mount('/content/drive')\n",
        "    \n",
        "    # Download the lineart library\n",
        "    !wget -nc https://raw.githubusercontent.com/pattichis/GraphSpeeds/main/lineart_v3.py\n",
        "\n",
        "    # Download the symbolic graphs library.\n",
        "    !wget -nc 'https://raw.githubusercontent.com/pattichis/GraphFuns/main/symbolic_graphs2.py'\n",
        "\n",
        "\n",
        "# Import functions for creating videos\n",
        "from lineart_v3 import table, simulationVideo, textImage, plotTablesLines, CreateVideo, changeVideoSpeed\n",
        "    \n",
        "# Import symbolic plotting functions\n",
        "from symbolic_graphs2 import graph_funs\n",
        "import numpy as np\n",
        "\n",
        "# Import the library:\n",
        "import sympy as sp\n",
        "\n",
        "from sympy.interactive.printing import init_printing\n",
        "init_printing()"
      ]
    },
    {
      "cell_type": "markdown",
      "metadata": {},
      "source": [
        "# Make images from text\n",
        "You can create many text frames and save them into different frames.<br>\n",
        "This is done using <tt>saveImage(\"filename.png\")</tt> as given below:\n",
        "```\n",
        "text = \"A single line text.\"\n",
        "textImage(\"single-line.png\", text)\n",
        "```\n",
        "We can also create an image with multiple lines as given below:\n",
        "```\n",
        "text = \"\"\"First line.\n",
        "Second line.\n",
        "Third line.\"\"\"\n",
        "textImage(\"multi-line.png\", text)\n",
        "```\n",
        "\n",
        "## Assignment: Create text explanation images\n",
        "Study and discuss the code within your group.\n",
        "Then perform the following tasks:\n",
        "1. Click on the file <tt>Single-line.png</tt> on the left to see the image.\n",
        "2. Click on the file <tt>multi-line.png</tt> on the left to see the image.\n",
        "3. Change the single-line image to say <tt>Hello!</tt>.\n",
        "4. Change the single-line image to <tt>\"hello.png\"</tt> and verify that it works!\n",
        "5. Change the multi-line image to the say <tt>Hello</tt> and <tt>I like coding</tt> in two lines.\n",
        "6. Change the multi-line image to <tt>\"multi.png\"</tt> and verify that it works!\n"
      ]
    },
    {
      "cell_type": "code",
      "execution_count": 2,
      "metadata": {},
      "outputs": [],
      "source": [
        "# A single line example\n",
        "text = \"A single line text\"\n",
        "textImage(\"title.png\", text)\n",
        "\n",
        "# A multi line example\n",
        "text = \"\"\"First name    Last name\n",
        "Name of the School\n",
        "Semester\n",
        "School\n",
        "\"\"\"\n",
        "textImage(\"title.png\", text)"
      ]
    },
    {
      "cell_type": "markdown",
      "metadata": {
        "id": "PbbUBPpKTnKu"
      },
      "source": [
        "# Specifying the domain for x and a sequence of values"
      ]
    },
    {
      "cell_type": "markdown",
      "metadata": {
        "id": "eTKEHdADTnKu"
      },
      "source": [
        "\n",
        "You can specify the domain for <tt>x</tt> using:\n",
        "```\n",
        "x_values = np.linspace(start=0.0, stop=2.0, num=5, endpoint=True)\n",
        "```\n",
        "This will generate 5 (from num=5) points from 0.0 to 2.0 (including 2.0).\n",
        "\n",
        "A simplified approach is to use:\n",
        "```\n",
        "domain = [0.0, 2.0, 5]\n",
        "x_values = np.linspace(*domain)\n",
        "```\n",
        "In the rest of the document, we will be working with domain as given above.\n",
        "\n",
        "## Assignment: Specifying the domain for x\n",
        "Study the code and modify the code to generate the following:\n",
        "1. 10 values from -1 to 5.\n",
        "2. 12 values from -2 to 6.\n"
      ]
    },
    {
      "cell_type": "code",
      "execution_count": 3,
      "metadata": {
        "colab": {
          "base_uri": "https://localhost:8080/",
          "height": 0
        },
        "id": "2uOHXP20TnKu",
        "outputId": "3955d4de-e930-4672-d06b-d47b77fd7625"
      },
      "outputs": [
        {
          "name": "stdout",
          "output_type": "stream",
          "text": [
            "[0.  0.5 1.  1.5 2. ]\n"
          ]
        }
      ],
      "source": [
        "# Generate the list of numbers\n",
        "domain = [0.0, 2.0, 5]\n",
        "x_values = np.linspace(*domain)\n",
        "print(x_values)"
      ]
    },
    {
      "cell_type": "markdown",
      "metadata": {
        "id": "Oj-6Z-ZsTnKv"
      },
      "source": [
        "# Plotting functions"
      ]
    },
    {
      "cell_type": "markdown",
      "metadata": {
        "id": "JEfM2yd1EBq-"
      },
      "source": [
        "Start by defining the function:\n",
        "```\n",
        "f = 2*(3)**x\n",
        "```\n",
        "Then create a plot object using:\n",
        "```\n",
        "plot = graph_funs()\n",
        "```\n",
        "We can then add the function and its domain:\n",
        "```\n",
        "plot.add_fun(f, domain=[0, 5, 50])\n",
        "```\n",
        "You can then plot the graph and save it into an image using:\n",
        "```\n",
        "plot.plot_funs(plot_title=\"2*(3)**x\", img_name=\"plot1.png\")\n",
        "```\n",
        "Here, the plot is saved in <tt>plot1.png</tt>.\n",
        "\n",
        "## Assignment: Plotting a function\n",
        "Study the code and the shape of the graph.<br>\n",
        "1. Click on the left to find the image <tt>plot1.png</tt>.<br>\n",
        "   Click on <tt>plot1.png</tt> to see the plot.\n",
        "2. Discuss the shape of the graph.\n",
        "3. Why do you think the graph describes exponential growth?\n",
        "4. Modify the function to plot:\n",
        "  $$ y = \\left( \\frac{1}{2} \\right)^x. $$\n",
        "5. Discuss the shape of the new graph.\n",
        "6. Why do you think the graph describes exponential decay?\n"
      ]
    },
    {
      "cell_type": "code",
      "execution_count": 4,
      "metadata": {
        "colab": {
          "base_uri": "https://localhost:8080/",
          "height": 542
        },
        "id": "nQykQykrEBq_",
        "outputId": "7c0254cb-8cf9-4a7c-f064-f895fd92f121"
      },
      "outputs": [
        {
          "data": {
            "application/vnd.plotly.v1+json": {
              "config": {
                "plotlyServerURL": "https://plot.ly"
              },
              "data": [
                {
                  "mode": "lines+markers",
                  "name": "2*3^x",
                  "showlegend": true,
                  "type": "scatter",
                  "x": [
                    0,
                    0.10204081632653061,
                    0.20408163265306123,
                    0.30612244897959184,
                    0.40816326530612246,
                    0.5102040816326531,
                    0.6122448979591837,
                    0.7142857142857143,
                    0.8163265306122449,
                    0.9183673469387755,
                    1.0204081632653061,
                    1.1224489795918369,
                    1.2244897959183674,
                    1.3265306122448979,
                    1.4285714285714286,
                    1.5306122448979593,
                    1.6326530612244898,
                    1.7346938775510203,
                    1.836734693877551,
                    1.9387755102040818,
                    2.0408163265306123,
                    2.142857142857143,
                    2.2448979591836737,
                    2.3469387755102042,
                    2.4489795918367347,
                    2.5510204081632653,
                    2.6530612244897958,
                    2.7551020408163267,
                    2.857142857142857,
                    2.9591836734693877,
                    3.0612244897959187,
                    3.163265306122449,
                    3.2653061224489797,
                    3.36734693877551,
                    3.4693877551020407,
                    3.5714285714285716,
                    3.673469387755102,
                    3.7755102040816326,
                    3.8775510204081636,
                    3.979591836734694,
                    4.081632653061225,
                    4.183673469387755,
                    4.285714285714286,
                    4.387755102040816,
                    4.4897959183673475,
                    4.591836734693878,
                    4.6938775510204085,
                    4.795918367346939,
                    4.8979591836734695,
                    5
                  ],
                  "y": [
                    2,
                    2.2372568062644036,
                    2.5026590085881995,
                    2.7995454503614368,
                    3.1316510566338347,
                    3.5031538206495787,
                    3.91872736431971,
                    4.383599733859419,
                    4.903619170257906,
                    5.485327681994054,
                    6.13604334556587,
                    6.863952369200323,
                    7.67821207793405,
                    8.58906611564975,
                    9.607973313346184,
                    10.747751844845252,
                    12.022740483460419,
                    13.448978988286202,
                    15.04440988942513,
                    16.82910421067394,
                    18.8255139693316,
                    21.058754629656363,
                    23.556921063325365,
                    26.35144099177898,
                    29.47747035686616,
                    32.974335593678,
                    36.88602836950134,
                    41.261759012864395,
                    46.15657559498622,
                    51.63205645187019,
                    57.757084859187266,
                    64.6087156056037,
                    72.27314436631903,
                    80.84679207183854,
                    90.43751791368187,
                    101.16597624702189,
                    113.16713446051634,
                    126.59197090861454,
                    141.60937426686166,
                    158.40826820468976,
                    177.19998810474962,
                    198.2209397286612,
                    221.73557327603663,
                    248.03971025137614,
                    277.4642649918712,
                    310.37940767410686,
                    347.1992211716048,
                    388.38691034793635,
                    434.4606293199616,
                    486
                  ]
                }
              ],
              "layout": {
                "autosize": false,
                "template": {
                  "data": {
                    "bar": [
                      {
                        "error_x": {
                          "color": "#2a3f5f"
                        },
                        "error_y": {
                          "color": "#2a3f5f"
                        },
                        "marker": {
                          "line": {
                            "color": "#E5ECF6",
                            "width": 0.5
                          },
                          "pattern": {
                            "fillmode": "overlay",
                            "size": 10,
                            "solidity": 0.2
                          }
                        },
                        "type": "bar"
                      }
                    ],
                    "barpolar": [
                      {
                        "marker": {
                          "line": {
                            "color": "#E5ECF6",
                            "width": 0.5
                          },
                          "pattern": {
                            "fillmode": "overlay",
                            "size": 10,
                            "solidity": 0.2
                          }
                        },
                        "type": "barpolar"
                      }
                    ],
                    "carpet": [
                      {
                        "aaxis": {
                          "endlinecolor": "#2a3f5f",
                          "gridcolor": "white",
                          "linecolor": "white",
                          "minorgridcolor": "white",
                          "startlinecolor": "#2a3f5f"
                        },
                        "baxis": {
                          "endlinecolor": "#2a3f5f",
                          "gridcolor": "white",
                          "linecolor": "white",
                          "minorgridcolor": "white",
                          "startlinecolor": "#2a3f5f"
                        },
                        "type": "carpet"
                      }
                    ],
                    "choropleth": [
                      {
                        "colorbar": {
                          "outlinewidth": 0,
                          "ticks": ""
                        },
                        "type": "choropleth"
                      }
                    ],
                    "contour": [
                      {
                        "colorbar": {
                          "outlinewidth": 0,
                          "ticks": ""
                        },
                        "colorscale": [
                          [
                            0,
                            "#0d0887"
                          ],
                          [
                            0.1111111111111111,
                            "#46039f"
                          ],
                          [
                            0.2222222222222222,
                            "#7201a8"
                          ],
                          [
                            0.3333333333333333,
                            "#9c179e"
                          ],
                          [
                            0.4444444444444444,
                            "#bd3786"
                          ],
                          [
                            0.5555555555555556,
                            "#d8576b"
                          ],
                          [
                            0.6666666666666666,
                            "#ed7953"
                          ],
                          [
                            0.7777777777777778,
                            "#fb9f3a"
                          ],
                          [
                            0.8888888888888888,
                            "#fdca26"
                          ],
                          [
                            1,
                            "#f0f921"
                          ]
                        ],
                        "type": "contour"
                      }
                    ],
                    "contourcarpet": [
                      {
                        "colorbar": {
                          "outlinewidth": 0,
                          "ticks": ""
                        },
                        "type": "contourcarpet"
                      }
                    ],
                    "heatmap": [
                      {
                        "colorbar": {
                          "outlinewidth": 0,
                          "ticks": ""
                        },
                        "colorscale": [
                          [
                            0,
                            "#0d0887"
                          ],
                          [
                            0.1111111111111111,
                            "#46039f"
                          ],
                          [
                            0.2222222222222222,
                            "#7201a8"
                          ],
                          [
                            0.3333333333333333,
                            "#9c179e"
                          ],
                          [
                            0.4444444444444444,
                            "#bd3786"
                          ],
                          [
                            0.5555555555555556,
                            "#d8576b"
                          ],
                          [
                            0.6666666666666666,
                            "#ed7953"
                          ],
                          [
                            0.7777777777777778,
                            "#fb9f3a"
                          ],
                          [
                            0.8888888888888888,
                            "#fdca26"
                          ],
                          [
                            1,
                            "#f0f921"
                          ]
                        ],
                        "type": "heatmap"
                      }
                    ],
                    "heatmapgl": [
                      {
                        "colorbar": {
                          "outlinewidth": 0,
                          "ticks": ""
                        },
                        "colorscale": [
                          [
                            0,
                            "#0d0887"
                          ],
                          [
                            0.1111111111111111,
                            "#46039f"
                          ],
                          [
                            0.2222222222222222,
                            "#7201a8"
                          ],
                          [
                            0.3333333333333333,
                            "#9c179e"
                          ],
                          [
                            0.4444444444444444,
                            "#bd3786"
                          ],
                          [
                            0.5555555555555556,
                            "#d8576b"
                          ],
                          [
                            0.6666666666666666,
                            "#ed7953"
                          ],
                          [
                            0.7777777777777778,
                            "#fb9f3a"
                          ],
                          [
                            0.8888888888888888,
                            "#fdca26"
                          ],
                          [
                            1,
                            "#f0f921"
                          ]
                        ],
                        "type": "heatmapgl"
                      }
                    ],
                    "histogram": [
                      {
                        "marker": {
                          "pattern": {
                            "fillmode": "overlay",
                            "size": 10,
                            "solidity": 0.2
                          }
                        },
                        "type": "histogram"
                      }
                    ],
                    "histogram2d": [
                      {
                        "colorbar": {
                          "outlinewidth": 0,
                          "ticks": ""
                        },
                        "colorscale": [
                          [
                            0,
                            "#0d0887"
                          ],
                          [
                            0.1111111111111111,
                            "#46039f"
                          ],
                          [
                            0.2222222222222222,
                            "#7201a8"
                          ],
                          [
                            0.3333333333333333,
                            "#9c179e"
                          ],
                          [
                            0.4444444444444444,
                            "#bd3786"
                          ],
                          [
                            0.5555555555555556,
                            "#d8576b"
                          ],
                          [
                            0.6666666666666666,
                            "#ed7953"
                          ],
                          [
                            0.7777777777777778,
                            "#fb9f3a"
                          ],
                          [
                            0.8888888888888888,
                            "#fdca26"
                          ],
                          [
                            1,
                            "#f0f921"
                          ]
                        ],
                        "type": "histogram2d"
                      }
                    ],
                    "histogram2dcontour": [
                      {
                        "colorbar": {
                          "outlinewidth": 0,
                          "ticks": ""
                        },
                        "colorscale": [
                          [
                            0,
                            "#0d0887"
                          ],
                          [
                            0.1111111111111111,
                            "#46039f"
                          ],
                          [
                            0.2222222222222222,
                            "#7201a8"
                          ],
                          [
                            0.3333333333333333,
                            "#9c179e"
                          ],
                          [
                            0.4444444444444444,
                            "#bd3786"
                          ],
                          [
                            0.5555555555555556,
                            "#d8576b"
                          ],
                          [
                            0.6666666666666666,
                            "#ed7953"
                          ],
                          [
                            0.7777777777777778,
                            "#fb9f3a"
                          ],
                          [
                            0.8888888888888888,
                            "#fdca26"
                          ],
                          [
                            1,
                            "#f0f921"
                          ]
                        ],
                        "type": "histogram2dcontour"
                      }
                    ],
                    "mesh3d": [
                      {
                        "colorbar": {
                          "outlinewidth": 0,
                          "ticks": ""
                        },
                        "type": "mesh3d"
                      }
                    ],
                    "parcoords": [
                      {
                        "line": {
                          "colorbar": {
                            "outlinewidth": 0,
                            "ticks": ""
                          }
                        },
                        "type": "parcoords"
                      }
                    ],
                    "pie": [
                      {
                        "automargin": true,
                        "type": "pie"
                      }
                    ],
                    "scatter": [
                      {
                        "fillpattern": {
                          "fillmode": "overlay",
                          "size": 10,
                          "solidity": 0.2
                        },
                        "type": "scatter"
                      }
                    ],
                    "scatter3d": [
                      {
                        "line": {
                          "colorbar": {
                            "outlinewidth": 0,
                            "ticks": ""
                          }
                        },
                        "marker": {
                          "colorbar": {
                            "outlinewidth": 0,
                            "ticks": ""
                          }
                        },
                        "type": "scatter3d"
                      }
                    ],
                    "scattercarpet": [
                      {
                        "marker": {
                          "colorbar": {
                            "outlinewidth": 0,
                            "ticks": ""
                          }
                        },
                        "type": "scattercarpet"
                      }
                    ],
                    "scattergeo": [
                      {
                        "marker": {
                          "colorbar": {
                            "outlinewidth": 0,
                            "ticks": ""
                          }
                        },
                        "type": "scattergeo"
                      }
                    ],
                    "scattergl": [
                      {
                        "marker": {
                          "colorbar": {
                            "outlinewidth": 0,
                            "ticks": ""
                          }
                        },
                        "type": "scattergl"
                      }
                    ],
                    "scattermapbox": [
                      {
                        "marker": {
                          "colorbar": {
                            "outlinewidth": 0,
                            "ticks": ""
                          }
                        },
                        "type": "scattermapbox"
                      }
                    ],
                    "scatterpolar": [
                      {
                        "marker": {
                          "colorbar": {
                            "outlinewidth": 0,
                            "ticks": ""
                          }
                        },
                        "type": "scatterpolar"
                      }
                    ],
                    "scatterpolargl": [
                      {
                        "marker": {
                          "colorbar": {
                            "outlinewidth": 0,
                            "ticks": ""
                          }
                        },
                        "type": "scatterpolargl"
                      }
                    ],
                    "scatterternary": [
                      {
                        "marker": {
                          "colorbar": {
                            "outlinewidth": 0,
                            "ticks": ""
                          }
                        },
                        "type": "scatterternary"
                      }
                    ],
                    "surface": [
                      {
                        "colorbar": {
                          "outlinewidth": 0,
                          "ticks": ""
                        },
                        "colorscale": [
                          [
                            0,
                            "#0d0887"
                          ],
                          [
                            0.1111111111111111,
                            "#46039f"
                          ],
                          [
                            0.2222222222222222,
                            "#7201a8"
                          ],
                          [
                            0.3333333333333333,
                            "#9c179e"
                          ],
                          [
                            0.4444444444444444,
                            "#bd3786"
                          ],
                          [
                            0.5555555555555556,
                            "#d8576b"
                          ],
                          [
                            0.6666666666666666,
                            "#ed7953"
                          ],
                          [
                            0.7777777777777778,
                            "#fb9f3a"
                          ],
                          [
                            0.8888888888888888,
                            "#fdca26"
                          ],
                          [
                            1,
                            "#f0f921"
                          ]
                        ],
                        "type": "surface"
                      }
                    ],
                    "table": [
                      {
                        "cells": {
                          "fill": {
                            "color": "#EBF0F8"
                          },
                          "line": {
                            "color": "white"
                          }
                        },
                        "header": {
                          "fill": {
                            "color": "#C8D4E3"
                          },
                          "line": {
                            "color": "white"
                          }
                        },
                        "type": "table"
                      }
                    ]
                  },
                  "layout": {
                    "annotationdefaults": {
                      "arrowcolor": "#2a3f5f",
                      "arrowhead": 0,
                      "arrowwidth": 1
                    },
                    "autotypenumbers": "strict",
                    "coloraxis": {
                      "colorbar": {
                        "outlinewidth": 0,
                        "ticks": ""
                      }
                    },
                    "colorscale": {
                      "diverging": [
                        [
                          0,
                          "#8e0152"
                        ],
                        [
                          0.1,
                          "#c51b7d"
                        ],
                        [
                          0.2,
                          "#de77ae"
                        ],
                        [
                          0.3,
                          "#f1b6da"
                        ],
                        [
                          0.4,
                          "#fde0ef"
                        ],
                        [
                          0.5,
                          "#f7f7f7"
                        ],
                        [
                          0.6,
                          "#e6f5d0"
                        ],
                        [
                          0.7,
                          "#b8e186"
                        ],
                        [
                          0.8,
                          "#7fbc41"
                        ],
                        [
                          0.9,
                          "#4d9221"
                        ],
                        [
                          1,
                          "#276419"
                        ]
                      ],
                      "sequential": [
                        [
                          0,
                          "#0d0887"
                        ],
                        [
                          0.1111111111111111,
                          "#46039f"
                        ],
                        [
                          0.2222222222222222,
                          "#7201a8"
                        ],
                        [
                          0.3333333333333333,
                          "#9c179e"
                        ],
                        [
                          0.4444444444444444,
                          "#bd3786"
                        ],
                        [
                          0.5555555555555556,
                          "#d8576b"
                        ],
                        [
                          0.6666666666666666,
                          "#ed7953"
                        ],
                        [
                          0.7777777777777778,
                          "#fb9f3a"
                        ],
                        [
                          0.8888888888888888,
                          "#fdca26"
                        ],
                        [
                          1,
                          "#f0f921"
                        ]
                      ],
                      "sequentialminus": [
                        [
                          0,
                          "#0d0887"
                        ],
                        [
                          0.1111111111111111,
                          "#46039f"
                        ],
                        [
                          0.2222222222222222,
                          "#7201a8"
                        ],
                        [
                          0.3333333333333333,
                          "#9c179e"
                        ],
                        [
                          0.4444444444444444,
                          "#bd3786"
                        ],
                        [
                          0.5555555555555556,
                          "#d8576b"
                        ],
                        [
                          0.6666666666666666,
                          "#ed7953"
                        ],
                        [
                          0.7777777777777778,
                          "#fb9f3a"
                        ],
                        [
                          0.8888888888888888,
                          "#fdca26"
                        ],
                        [
                          1,
                          "#f0f921"
                        ]
                      ]
                    },
                    "colorway": [
                      "#636efa",
                      "#EF553B",
                      "#00cc96",
                      "#ab63fa",
                      "#FFA15A",
                      "#19d3f3",
                      "#FF6692",
                      "#B6E880",
                      "#FF97FF",
                      "#FECB52"
                    ],
                    "font": {
                      "color": "#2a3f5f"
                    },
                    "geo": {
                      "bgcolor": "white",
                      "lakecolor": "white",
                      "landcolor": "#E5ECF6",
                      "showlakes": true,
                      "showland": true,
                      "subunitcolor": "white"
                    },
                    "hoverlabel": {
                      "align": "left"
                    },
                    "hovermode": "closest",
                    "mapbox": {
                      "style": "light"
                    },
                    "paper_bgcolor": "white",
                    "plot_bgcolor": "#E5ECF6",
                    "polar": {
                      "angularaxis": {
                        "gridcolor": "white",
                        "linecolor": "white",
                        "ticks": ""
                      },
                      "bgcolor": "#E5ECF6",
                      "radialaxis": {
                        "gridcolor": "white",
                        "linecolor": "white",
                        "ticks": ""
                      }
                    },
                    "scene": {
                      "xaxis": {
                        "backgroundcolor": "#E5ECF6",
                        "gridcolor": "white",
                        "gridwidth": 2,
                        "linecolor": "white",
                        "showbackground": true,
                        "ticks": "",
                        "zerolinecolor": "white"
                      },
                      "yaxis": {
                        "backgroundcolor": "#E5ECF6",
                        "gridcolor": "white",
                        "gridwidth": 2,
                        "linecolor": "white",
                        "showbackground": true,
                        "ticks": "",
                        "zerolinecolor": "white"
                      },
                      "zaxis": {
                        "backgroundcolor": "#E5ECF6",
                        "gridcolor": "white",
                        "gridwidth": 2,
                        "linecolor": "white",
                        "showbackground": true,
                        "ticks": "",
                        "zerolinecolor": "white"
                      }
                    },
                    "shapedefaults": {
                      "line": {
                        "color": "#2a3f5f"
                      }
                    },
                    "ternary": {
                      "aaxis": {
                        "gridcolor": "white",
                        "linecolor": "white",
                        "ticks": ""
                      },
                      "baxis": {
                        "gridcolor": "white",
                        "linecolor": "white",
                        "ticks": ""
                      },
                      "bgcolor": "#E5ECF6",
                      "caxis": {
                        "gridcolor": "white",
                        "linecolor": "white",
                        "ticks": ""
                      }
                    },
                    "title": {
                      "x": 0.05
                    },
                    "xaxis": {
                      "automargin": true,
                      "gridcolor": "white",
                      "linecolor": "white",
                      "ticks": "",
                      "title": {
                        "standoff": 15
                      },
                      "zerolinecolor": "white",
                      "zerolinewidth": 2
                    },
                    "yaxis": {
                      "automargin": true,
                      "gridcolor": "white",
                      "linecolor": "white",
                      "ticks": "",
                      "title": {
                        "standoff": 15
                      },
                      "zerolinecolor": "white",
                      "zerolinewidth": 2
                    }
                  }
                },
                "title": {
                  "text": "2*(3)**x",
                  "x": 0.5,
                  "xanchor": "center",
                  "y": 0.95,
                  "yanchor": "top"
                },
                "xaxis": {
                  "title": {
                    "text": "x"
                  }
                },
                "yaxis": {
                  "title": {
                    "text": "y"
                  }
                }
              }
            }
          },
          "metadata": {},
          "output_type": "display_data"
        }
      ],
      "source": [
        "# Define x as a symbolic variable\n",
        "x = sp.symbols('x')\n",
        "\n",
        "# Define exponential function\n",
        "f = 2*(3)**x\n",
        "\n",
        "# Create a graph object\n",
        "plot = graph_funs()\n",
        "\n",
        "# Add to the list of functions:\n",
        "plot.add_fun(f, domain=[0, 5, 50])\n",
        "plot.plot_funs(plot_title=\"2*(3)**x\", img_name=\"plot1.png\")\n"
      ]
    },
    {
      "cell_type": "markdown",
      "metadata": {
        "id": "W0gCYjb2TnKv"
      },
      "source": [
        "# Translating horizontally"
      ]
    },
    {
      "cell_type": "markdown",
      "metadata": {
        "id": "pVg8eKGmEBq_"
      },
      "source": [
        "Horizontal translations of <tt>f(x)</tt> are implemented by substituting <tt>x</tt> by <tt>x-trans_value</tt>.<br>\n",
        "\n",
        "We can define horizontal translations using:\n",
        "```\n",
        "plot.add_hor_translations(f, domain=[0, 5, 20], trans_range=[-1, 1, 3])\n",
        "```\n",
        "Here, <tt>trans_range</tt> specifies the translations as we did for <tt>domain</tt>.<br>\n",
        "This means 3 translations starting at -1 to +1.<br>\n",
        "\n",
        "Like before, you can then visualize them using:\n",
        "```\n",
        "plot.plot_funs(plot_title=\"Horizontal Translations\")\n",
        "```\n",
        "\n",
        "## Assignment: Plot horizontal translations\n",
        "Study the shape of the plots.\n",
        "1. What can you tell about the shape of the plots?\n",
        "2. What is the relationship between the plots?\n",
        "3. Increase the number of translations to 5.\n"
      ]
    },
    {
      "cell_type": "code",
      "execution_count": 5,
      "metadata": {
        "colab": {
          "base_uri": "https://localhost:8080/",
          "height": 542
        },
        "id": "AnXKzgKKEBq_",
        "outputId": "d1f61f85-b552-48d1-bd2f-98d889abfa99"
      },
      "outputs": [
        {
          "data": {
            "application/vnd.plotly.v1+json": {
              "config": {
                "plotlyServerURL": "https://plot.ly"
              },
              "data": [
                {
                  "mode": "lines+markers",
                  "name": "2*3^(x + 1.0)",
                  "showlegend": true,
                  "type": "scatter",
                  "x": [
                    -1,
                    -0.736842105263158,
                    -0.4736842105263158,
                    -0.21052631578947367,
                    0.05263157894736836,
                    0.3157894736842104,
                    0.5789473684210527,
                    0.8421052631578947,
                    1.1052631578947367,
                    1.3684210526315788,
                    1.6315789473684208,
                    1.8947368421052628,
                    2.1578947368421053,
                    2.4210526315789473,
                    2.6842105263157894,
                    2.9473684210526314,
                    3.2105263157894735,
                    3.473684210526316,
                    3.7368421052631575,
                    4
                  ],
                  "y": [
                    2,
                    2.6704731797161543,
                    3.565713501791654,
                    4.761071136543191,
                    6.357156388429651,
                    8.488307817281296,
                    11.33389918361234,
                    15.133436895721784,
                    20.20671867347596,
                    26.98075013379357,
                    36.02568480045939,
                    48.10281252026735,
                    64.22863535214422,
                    85.760424038835,
                    114.5104561383967,
                    152.89855095732574,
                    204.15573977450106,
                    272.5962137764579,
                    363.98043889110085,
                    486
                  ]
                },
                {
                  "mode": "lines+markers",
                  "name": "2*3^x",
                  "showlegend": true,
                  "type": "scatter",
                  "x": [
                    0,
                    0.2631578947368421,
                    0.5263157894736842,
                    0.7894736842105263,
                    1.0526315789473684,
                    1.3157894736842104,
                    1.5789473684210527,
                    1.8421052631578947,
                    2.1052631578947367,
                    2.3684210526315788,
                    2.631578947368421,
                    2.894736842105263,
                    3.1578947368421053,
                    3.4210526315789473,
                    3.6842105263157894,
                    3.9473684210526314,
                    4.2105263157894735,
                    4.473684210526316,
                    4.7368421052631575,
                    5
                  ],
                  "y": [
                    2,
                    2.6704731797161543,
                    3.565713501791654,
                    4.761071136543191,
                    6.357156388429651,
                    8.488307817281296,
                    11.33389918361234,
                    15.133436895721784,
                    20.20671867347596,
                    26.98075013379357,
                    36.02568480045939,
                    48.10281252026735,
                    64.22863535214422,
                    85.760424038835,
                    114.5104561383967,
                    152.89855095732574,
                    204.15573977450106,
                    272.5962137764579,
                    363.98043889110085,
                    486
                  ]
                },
                {
                  "mode": "lines+markers",
                  "name": "2*3^(x - 1.0)",
                  "showlegend": true,
                  "type": "scatter",
                  "x": [
                    1,
                    1.263157894736842,
                    1.526315789473684,
                    1.7894736842105263,
                    2.052631578947368,
                    2.3157894736842106,
                    2.5789473684210527,
                    2.8421052631578947,
                    3.1052631578947367,
                    3.3684210526315788,
                    3.631578947368421,
                    3.894736842105263,
                    4.157894736842105,
                    4.421052631578947,
                    4.684210526315789,
                    4.947368421052632,
                    5.2105263157894735,
                    5.473684210526316,
                    5.7368421052631575,
                    6
                  ],
                  "y": [
                    2,
                    2.6704731797161543,
                    3.5657135017916537,
                    4.761071136543191,
                    6.357156388429649,
                    8.4883078172813,
                    11.33389918361234,
                    15.133436895721784,
                    20.20671867347596,
                    26.98075013379357,
                    36.02568480045939,
                    48.10281252026735,
                    64.22863535214422,
                    85.76042403883496,
                    114.5104561383967,
                    152.8985509573258,
                    204.15573977450106,
                    272.5962137764579,
                    363.98043889110085,
                    486
                  ]
                }
              ],
              "layout": {
                "autosize": false,
                "template": {
                  "data": {
                    "bar": [
                      {
                        "error_x": {
                          "color": "#2a3f5f"
                        },
                        "error_y": {
                          "color": "#2a3f5f"
                        },
                        "marker": {
                          "line": {
                            "color": "#E5ECF6",
                            "width": 0.5
                          },
                          "pattern": {
                            "fillmode": "overlay",
                            "size": 10,
                            "solidity": 0.2
                          }
                        },
                        "type": "bar"
                      }
                    ],
                    "barpolar": [
                      {
                        "marker": {
                          "line": {
                            "color": "#E5ECF6",
                            "width": 0.5
                          },
                          "pattern": {
                            "fillmode": "overlay",
                            "size": 10,
                            "solidity": 0.2
                          }
                        },
                        "type": "barpolar"
                      }
                    ],
                    "carpet": [
                      {
                        "aaxis": {
                          "endlinecolor": "#2a3f5f",
                          "gridcolor": "white",
                          "linecolor": "white",
                          "minorgridcolor": "white",
                          "startlinecolor": "#2a3f5f"
                        },
                        "baxis": {
                          "endlinecolor": "#2a3f5f",
                          "gridcolor": "white",
                          "linecolor": "white",
                          "minorgridcolor": "white",
                          "startlinecolor": "#2a3f5f"
                        },
                        "type": "carpet"
                      }
                    ],
                    "choropleth": [
                      {
                        "colorbar": {
                          "outlinewidth": 0,
                          "ticks": ""
                        },
                        "type": "choropleth"
                      }
                    ],
                    "contour": [
                      {
                        "colorbar": {
                          "outlinewidth": 0,
                          "ticks": ""
                        },
                        "colorscale": [
                          [
                            0,
                            "#0d0887"
                          ],
                          [
                            0.1111111111111111,
                            "#46039f"
                          ],
                          [
                            0.2222222222222222,
                            "#7201a8"
                          ],
                          [
                            0.3333333333333333,
                            "#9c179e"
                          ],
                          [
                            0.4444444444444444,
                            "#bd3786"
                          ],
                          [
                            0.5555555555555556,
                            "#d8576b"
                          ],
                          [
                            0.6666666666666666,
                            "#ed7953"
                          ],
                          [
                            0.7777777777777778,
                            "#fb9f3a"
                          ],
                          [
                            0.8888888888888888,
                            "#fdca26"
                          ],
                          [
                            1,
                            "#f0f921"
                          ]
                        ],
                        "type": "contour"
                      }
                    ],
                    "contourcarpet": [
                      {
                        "colorbar": {
                          "outlinewidth": 0,
                          "ticks": ""
                        },
                        "type": "contourcarpet"
                      }
                    ],
                    "heatmap": [
                      {
                        "colorbar": {
                          "outlinewidth": 0,
                          "ticks": ""
                        },
                        "colorscale": [
                          [
                            0,
                            "#0d0887"
                          ],
                          [
                            0.1111111111111111,
                            "#46039f"
                          ],
                          [
                            0.2222222222222222,
                            "#7201a8"
                          ],
                          [
                            0.3333333333333333,
                            "#9c179e"
                          ],
                          [
                            0.4444444444444444,
                            "#bd3786"
                          ],
                          [
                            0.5555555555555556,
                            "#d8576b"
                          ],
                          [
                            0.6666666666666666,
                            "#ed7953"
                          ],
                          [
                            0.7777777777777778,
                            "#fb9f3a"
                          ],
                          [
                            0.8888888888888888,
                            "#fdca26"
                          ],
                          [
                            1,
                            "#f0f921"
                          ]
                        ],
                        "type": "heatmap"
                      }
                    ],
                    "heatmapgl": [
                      {
                        "colorbar": {
                          "outlinewidth": 0,
                          "ticks": ""
                        },
                        "colorscale": [
                          [
                            0,
                            "#0d0887"
                          ],
                          [
                            0.1111111111111111,
                            "#46039f"
                          ],
                          [
                            0.2222222222222222,
                            "#7201a8"
                          ],
                          [
                            0.3333333333333333,
                            "#9c179e"
                          ],
                          [
                            0.4444444444444444,
                            "#bd3786"
                          ],
                          [
                            0.5555555555555556,
                            "#d8576b"
                          ],
                          [
                            0.6666666666666666,
                            "#ed7953"
                          ],
                          [
                            0.7777777777777778,
                            "#fb9f3a"
                          ],
                          [
                            0.8888888888888888,
                            "#fdca26"
                          ],
                          [
                            1,
                            "#f0f921"
                          ]
                        ],
                        "type": "heatmapgl"
                      }
                    ],
                    "histogram": [
                      {
                        "marker": {
                          "pattern": {
                            "fillmode": "overlay",
                            "size": 10,
                            "solidity": 0.2
                          }
                        },
                        "type": "histogram"
                      }
                    ],
                    "histogram2d": [
                      {
                        "colorbar": {
                          "outlinewidth": 0,
                          "ticks": ""
                        },
                        "colorscale": [
                          [
                            0,
                            "#0d0887"
                          ],
                          [
                            0.1111111111111111,
                            "#46039f"
                          ],
                          [
                            0.2222222222222222,
                            "#7201a8"
                          ],
                          [
                            0.3333333333333333,
                            "#9c179e"
                          ],
                          [
                            0.4444444444444444,
                            "#bd3786"
                          ],
                          [
                            0.5555555555555556,
                            "#d8576b"
                          ],
                          [
                            0.6666666666666666,
                            "#ed7953"
                          ],
                          [
                            0.7777777777777778,
                            "#fb9f3a"
                          ],
                          [
                            0.8888888888888888,
                            "#fdca26"
                          ],
                          [
                            1,
                            "#f0f921"
                          ]
                        ],
                        "type": "histogram2d"
                      }
                    ],
                    "histogram2dcontour": [
                      {
                        "colorbar": {
                          "outlinewidth": 0,
                          "ticks": ""
                        },
                        "colorscale": [
                          [
                            0,
                            "#0d0887"
                          ],
                          [
                            0.1111111111111111,
                            "#46039f"
                          ],
                          [
                            0.2222222222222222,
                            "#7201a8"
                          ],
                          [
                            0.3333333333333333,
                            "#9c179e"
                          ],
                          [
                            0.4444444444444444,
                            "#bd3786"
                          ],
                          [
                            0.5555555555555556,
                            "#d8576b"
                          ],
                          [
                            0.6666666666666666,
                            "#ed7953"
                          ],
                          [
                            0.7777777777777778,
                            "#fb9f3a"
                          ],
                          [
                            0.8888888888888888,
                            "#fdca26"
                          ],
                          [
                            1,
                            "#f0f921"
                          ]
                        ],
                        "type": "histogram2dcontour"
                      }
                    ],
                    "mesh3d": [
                      {
                        "colorbar": {
                          "outlinewidth": 0,
                          "ticks": ""
                        },
                        "type": "mesh3d"
                      }
                    ],
                    "parcoords": [
                      {
                        "line": {
                          "colorbar": {
                            "outlinewidth": 0,
                            "ticks": ""
                          }
                        },
                        "type": "parcoords"
                      }
                    ],
                    "pie": [
                      {
                        "automargin": true,
                        "type": "pie"
                      }
                    ],
                    "scatter": [
                      {
                        "fillpattern": {
                          "fillmode": "overlay",
                          "size": 10,
                          "solidity": 0.2
                        },
                        "type": "scatter"
                      }
                    ],
                    "scatter3d": [
                      {
                        "line": {
                          "colorbar": {
                            "outlinewidth": 0,
                            "ticks": ""
                          }
                        },
                        "marker": {
                          "colorbar": {
                            "outlinewidth": 0,
                            "ticks": ""
                          }
                        },
                        "type": "scatter3d"
                      }
                    ],
                    "scattercarpet": [
                      {
                        "marker": {
                          "colorbar": {
                            "outlinewidth": 0,
                            "ticks": ""
                          }
                        },
                        "type": "scattercarpet"
                      }
                    ],
                    "scattergeo": [
                      {
                        "marker": {
                          "colorbar": {
                            "outlinewidth": 0,
                            "ticks": ""
                          }
                        },
                        "type": "scattergeo"
                      }
                    ],
                    "scattergl": [
                      {
                        "marker": {
                          "colorbar": {
                            "outlinewidth": 0,
                            "ticks": ""
                          }
                        },
                        "type": "scattergl"
                      }
                    ],
                    "scattermapbox": [
                      {
                        "marker": {
                          "colorbar": {
                            "outlinewidth": 0,
                            "ticks": ""
                          }
                        },
                        "type": "scattermapbox"
                      }
                    ],
                    "scatterpolar": [
                      {
                        "marker": {
                          "colorbar": {
                            "outlinewidth": 0,
                            "ticks": ""
                          }
                        },
                        "type": "scatterpolar"
                      }
                    ],
                    "scatterpolargl": [
                      {
                        "marker": {
                          "colorbar": {
                            "outlinewidth": 0,
                            "ticks": ""
                          }
                        },
                        "type": "scatterpolargl"
                      }
                    ],
                    "scatterternary": [
                      {
                        "marker": {
                          "colorbar": {
                            "outlinewidth": 0,
                            "ticks": ""
                          }
                        },
                        "type": "scatterternary"
                      }
                    ],
                    "surface": [
                      {
                        "colorbar": {
                          "outlinewidth": 0,
                          "ticks": ""
                        },
                        "colorscale": [
                          [
                            0,
                            "#0d0887"
                          ],
                          [
                            0.1111111111111111,
                            "#46039f"
                          ],
                          [
                            0.2222222222222222,
                            "#7201a8"
                          ],
                          [
                            0.3333333333333333,
                            "#9c179e"
                          ],
                          [
                            0.4444444444444444,
                            "#bd3786"
                          ],
                          [
                            0.5555555555555556,
                            "#d8576b"
                          ],
                          [
                            0.6666666666666666,
                            "#ed7953"
                          ],
                          [
                            0.7777777777777778,
                            "#fb9f3a"
                          ],
                          [
                            0.8888888888888888,
                            "#fdca26"
                          ],
                          [
                            1,
                            "#f0f921"
                          ]
                        ],
                        "type": "surface"
                      }
                    ],
                    "table": [
                      {
                        "cells": {
                          "fill": {
                            "color": "#EBF0F8"
                          },
                          "line": {
                            "color": "white"
                          }
                        },
                        "header": {
                          "fill": {
                            "color": "#C8D4E3"
                          },
                          "line": {
                            "color": "white"
                          }
                        },
                        "type": "table"
                      }
                    ]
                  },
                  "layout": {
                    "annotationdefaults": {
                      "arrowcolor": "#2a3f5f",
                      "arrowhead": 0,
                      "arrowwidth": 1
                    },
                    "autotypenumbers": "strict",
                    "coloraxis": {
                      "colorbar": {
                        "outlinewidth": 0,
                        "ticks": ""
                      }
                    },
                    "colorscale": {
                      "diverging": [
                        [
                          0,
                          "#8e0152"
                        ],
                        [
                          0.1,
                          "#c51b7d"
                        ],
                        [
                          0.2,
                          "#de77ae"
                        ],
                        [
                          0.3,
                          "#f1b6da"
                        ],
                        [
                          0.4,
                          "#fde0ef"
                        ],
                        [
                          0.5,
                          "#f7f7f7"
                        ],
                        [
                          0.6,
                          "#e6f5d0"
                        ],
                        [
                          0.7,
                          "#b8e186"
                        ],
                        [
                          0.8,
                          "#7fbc41"
                        ],
                        [
                          0.9,
                          "#4d9221"
                        ],
                        [
                          1,
                          "#276419"
                        ]
                      ],
                      "sequential": [
                        [
                          0,
                          "#0d0887"
                        ],
                        [
                          0.1111111111111111,
                          "#46039f"
                        ],
                        [
                          0.2222222222222222,
                          "#7201a8"
                        ],
                        [
                          0.3333333333333333,
                          "#9c179e"
                        ],
                        [
                          0.4444444444444444,
                          "#bd3786"
                        ],
                        [
                          0.5555555555555556,
                          "#d8576b"
                        ],
                        [
                          0.6666666666666666,
                          "#ed7953"
                        ],
                        [
                          0.7777777777777778,
                          "#fb9f3a"
                        ],
                        [
                          0.8888888888888888,
                          "#fdca26"
                        ],
                        [
                          1,
                          "#f0f921"
                        ]
                      ],
                      "sequentialminus": [
                        [
                          0,
                          "#0d0887"
                        ],
                        [
                          0.1111111111111111,
                          "#46039f"
                        ],
                        [
                          0.2222222222222222,
                          "#7201a8"
                        ],
                        [
                          0.3333333333333333,
                          "#9c179e"
                        ],
                        [
                          0.4444444444444444,
                          "#bd3786"
                        ],
                        [
                          0.5555555555555556,
                          "#d8576b"
                        ],
                        [
                          0.6666666666666666,
                          "#ed7953"
                        ],
                        [
                          0.7777777777777778,
                          "#fb9f3a"
                        ],
                        [
                          0.8888888888888888,
                          "#fdca26"
                        ],
                        [
                          1,
                          "#f0f921"
                        ]
                      ]
                    },
                    "colorway": [
                      "#636efa",
                      "#EF553B",
                      "#00cc96",
                      "#ab63fa",
                      "#FFA15A",
                      "#19d3f3",
                      "#FF6692",
                      "#B6E880",
                      "#FF97FF",
                      "#FECB52"
                    ],
                    "font": {
                      "color": "#2a3f5f"
                    },
                    "geo": {
                      "bgcolor": "white",
                      "lakecolor": "white",
                      "landcolor": "#E5ECF6",
                      "showlakes": true,
                      "showland": true,
                      "subunitcolor": "white"
                    },
                    "hoverlabel": {
                      "align": "left"
                    },
                    "hovermode": "closest",
                    "mapbox": {
                      "style": "light"
                    },
                    "paper_bgcolor": "white",
                    "plot_bgcolor": "#E5ECF6",
                    "polar": {
                      "angularaxis": {
                        "gridcolor": "white",
                        "linecolor": "white",
                        "ticks": ""
                      },
                      "bgcolor": "#E5ECF6",
                      "radialaxis": {
                        "gridcolor": "white",
                        "linecolor": "white",
                        "ticks": ""
                      }
                    },
                    "scene": {
                      "xaxis": {
                        "backgroundcolor": "#E5ECF6",
                        "gridcolor": "white",
                        "gridwidth": 2,
                        "linecolor": "white",
                        "showbackground": true,
                        "ticks": "",
                        "zerolinecolor": "white"
                      },
                      "yaxis": {
                        "backgroundcolor": "#E5ECF6",
                        "gridcolor": "white",
                        "gridwidth": 2,
                        "linecolor": "white",
                        "showbackground": true,
                        "ticks": "",
                        "zerolinecolor": "white"
                      },
                      "zaxis": {
                        "backgroundcolor": "#E5ECF6",
                        "gridcolor": "white",
                        "gridwidth": 2,
                        "linecolor": "white",
                        "showbackground": true,
                        "ticks": "",
                        "zerolinecolor": "white"
                      }
                    },
                    "shapedefaults": {
                      "line": {
                        "color": "#2a3f5f"
                      }
                    },
                    "ternary": {
                      "aaxis": {
                        "gridcolor": "white",
                        "linecolor": "white",
                        "ticks": ""
                      },
                      "baxis": {
                        "gridcolor": "white",
                        "linecolor": "white",
                        "ticks": ""
                      },
                      "bgcolor": "#E5ECF6",
                      "caxis": {
                        "gridcolor": "white",
                        "linecolor": "white",
                        "ticks": ""
                      }
                    },
                    "title": {
                      "x": 0.05
                    },
                    "xaxis": {
                      "automargin": true,
                      "gridcolor": "white",
                      "linecolor": "white",
                      "ticks": "",
                      "title": {
                        "standoff": 15
                      },
                      "zerolinecolor": "white",
                      "zerolinewidth": 2
                    },
                    "yaxis": {
                      "automargin": true,
                      "gridcolor": "white",
                      "linecolor": "white",
                      "ticks": "",
                      "title": {
                        "standoff": 15
                      },
                      "zerolinecolor": "white",
                      "zerolinewidth": 2
                    }
                  }
                },
                "title": {
                  "text": "Horizontal Translations",
                  "x": 0.5,
                  "xanchor": "center",
                  "y": 0.95,
                  "yanchor": "top"
                },
                "xaxis": {
                  "title": {
                    "text": "x"
                  }
                },
                "yaxis": {
                  "title": {
                    "text": "y"
                  }
                }
              }
            }
          },
          "metadata": {},
          "output_type": "display_data"
        }
      ],
      "source": [
        "f = 2*(3)**x         # Define exponential function\n",
        "plot = graph_funs()  # Create a graph object\n",
        "\n",
        "plot.add_hor_translations(f, domain=[0, 5, 20], trans_range=[-1, 1, 3]) # Add translations\n",
        "plot.plot_funs(plot_title=\"Horizontal Translations\")        # plot them"
      ]
    },
    {
      "cell_type": "markdown",
      "metadata": {
        "id": "epaefLkSTnKv"
      },
      "source": [
        "# Translating vertically"
      ]
    },
    {
      "cell_type": "markdown",
      "metadata": {
        "id": "cd88eswpEBq_"
      },
      "source": [
        "A vertical translation of <tt>f</tt> is given by <tt>f - vert_trans<tt>.<br>\n",
        "We can implement multiple translations using:\n",
        "```\n",
        "plot.add_vert_translations(f, domain=[0, 2, 20], trans_range=[-2, 2, 3])\n",
        "```\n",
        "\n",
        "## Assignment: Plot vertical translations\n",
        "Study the code below and then modify it to:<br>\n",
        "1. Modify the code to translate the following function:\n",
        "    $$ y = 4^x. $$\n",
        "2. Modify the translation values for 5 translations from 10 to -10.\n"
      ]
    },
    {
      "cell_type": "code",
      "execution_count": 6,
      "metadata": {
        "colab": {
          "base_uri": "https://localhost:8080/",
          "height": 542
        },
        "id": "j8SBWCjkEBq_",
        "outputId": "3a6df443-66eb-4600-c827-b8c58d37e108"
      },
      "outputs": [
        {
          "data": {
            "application/vnd.plotly.v1+json": {
              "config": {
                "plotlyServerURL": "https://plot.ly"
              },
              "data": [
                {
                  "mode": "lines+markers",
                  "name": "2*4^x - 2.0",
                  "showlegend": true,
                  "type": "scatter",
                  "x": [
                    0,
                    0.10526315789473684,
                    0.21052631578947367,
                    0.3157894736842105,
                    0.42105263157894735,
                    0.5263157894736842,
                    0.631578947368421,
                    0.7368421052631579,
                    0.8421052631578947,
                    0.9473684210526315,
                    1.0526315789473684,
                    1.1578947368421053,
                    1.263157894736842,
                    1.3684210526315788,
                    1.4736842105263157,
                    1.5789473684210527,
                    1.6842105263157894,
                    1.789473684210526,
                    1.894736842105263,
                    2
                  ],
                  "y": [
                    0,
                    0.31422047456543956,
                    0.6778082024489445,
                    1.0985192845333112,
                    1.5853283845514232,
                    2.1486201777847675,
                    2.8004108783124115,
                    3.5546045704586247,
                    4.427289812535059,
                    5.43708284006725,
                    6.6055246897614595,
                    7.957540715712188,
                    9.521972300310072,
                    11.332192102376709,
                    13.42681596707992,
                    15.8505266841847,
                    18.655027167158476,
                    21.900143386471765,
                    25.655100585011375,
                    30
                  ]
                },
                {
                  "mode": "lines+markers",
                  "name": "2*4^x",
                  "showlegend": true,
                  "type": "scatter",
                  "x": [
                    0,
                    0.10526315789473684,
                    0.21052631578947367,
                    0.3157894736842105,
                    0.42105263157894735,
                    0.5263157894736842,
                    0.631578947368421,
                    0.7368421052631579,
                    0.8421052631578947,
                    0.9473684210526315,
                    1.0526315789473684,
                    1.1578947368421053,
                    1.263157894736842,
                    1.3684210526315788,
                    1.4736842105263157,
                    1.5789473684210527,
                    1.6842105263157894,
                    1.789473684210526,
                    1.894736842105263,
                    2
                  ],
                  "y": [
                    2,
                    2.3142204745654396,
                    2.6778082024489445,
                    3.098519284533311,
                    3.585328384551423,
                    4.1486201777847675,
                    4.8004108783124115,
                    5.554604570458625,
                    6.427289812535059,
                    7.43708284006725,
                    8.60552468976146,
                    9.957540715712188,
                    11.521972300310072,
                    13.332192102376709,
                    15.42681596707992,
                    17.8505266841847,
                    20.655027167158476,
                    23.900143386471765,
                    27.655100585011375,
                    32
                  ]
                },
                {
                  "mode": "lines+markers",
                  "name": "2*4^x + 2.0",
                  "showlegend": true,
                  "type": "scatter",
                  "x": [
                    0,
                    0.10526315789473684,
                    0.21052631578947367,
                    0.3157894736842105,
                    0.42105263157894735,
                    0.5263157894736842,
                    0.631578947368421,
                    0.7368421052631579,
                    0.8421052631578947,
                    0.9473684210526315,
                    1.0526315789473684,
                    1.1578947368421053,
                    1.263157894736842,
                    1.3684210526315788,
                    1.4736842105263157,
                    1.5789473684210527,
                    1.6842105263157894,
                    1.789473684210526,
                    1.894736842105263,
                    2
                  ],
                  "y": [
                    4,
                    4.31422047456544,
                    4.6778082024489445,
                    5.098519284533311,
                    5.585328384551423,
                    6.1486201777847675,
                    6.8004108783124115,
                    7.554604570458625,
                    8.427289812535058,
                    9.43708284006725,
                    10.60552468976146,
                    11.957540715712188,
                    13.521972300310072,
                    15.332192102376709,
                    17.426815967079918,
                    19.8505266841847,
                    22.655027167158476,
                    25.900143386471765,
                    29.655100585011375,
                    34
                  ]
                }
              ],
              "layout": {
                "autosize": false,
                "template": {
                  "data": {
                    "bar": [
                      {
                        "error_x": {
                          "color": "#2a3f5f"
                        },
                        "error_y": {
                          "color": "#2a3f5f"
                        },
                        "marker": {
                          "line": {
                            "color": "#E5ECF6",
                            "width": 0.5
                          },
                          "pattern": {
                            "fillmode": "overlay",
                            "size": 10,
                            "solidity": 0.2
                          }
                        },
                        "type": "bar"
                      }
                    ],
                    "barpolar": [
                      {
                        "marker": {
                          "line": {
                            "color": "#E5ECF6",
                            "width": 0.5
                          },
                          "pattern": {
                            "fillmode": "overlay",
                            "size": 10,
                            "solidity": 0.2
                          }
                        },
                        "type": "barpolar"
                      }
                    ],
                    "carpet": [
                      {
                        "aaxis": {
                          "endlinecolor": "#2a3f5f",
                          "gridcolor": "white",
                          "linecolor": "white",
                          "minorgridcolor": "white",
                          "startlinecolor": "#2a3f5f"
                        },
                        "baxis": {
                          "endlinecolor": "#2a3f5f",
                          "gridcolor": "white",
                          "linecolor": "white",
                          "minorgridcolor": "white",
                          "startlinecolor": "#2a3f5f"
                        },
                        "type": "carpet"
                      }
                    ],
                    "choropleth": [
                      {
                        "colorbar": {
                          "outlinewidth": 0,
                          "ticks": ""
                        },
                        "type": "choropleth"
                      }
                    ],
                    "contour": [
                      {
                        "colorbar": {
                          "outlinewidth": 0,
                          "ticks": ""
                        },
                        "colorscale": [
                          [
                            0,
                            "#0d0887"
                          ],
                          [
                            0.1111111111111111,
                            "#46039f"
                          ],
                          [
                            0.2222222222222222,
                            "#7201a8"
                          ],
                          [
                            0.3333333333333333,
                            "#9c179e"
                          ],
                          [
                            0.4444444444444444,
                            "#bd3786"
                          ],
                          [
                            0.5555555555555556,
                            "#d8576b"
                          ],
                          [
                            0.6666666666666666,
                            "#ed7953"
                          ],
                          [
                            0.7777777777777778,
                            "#fb9f3a"
                          ],
                          [
                            0.8888888888888888,
                            "#fdca26"
                          ],
                          [
                            1,
                            "#f0f921"
                          ]
                        ],
                        "type": "contour"
                      }
                    ],
                    "contourcarpet": [
                      {
                        "colorbar": {
                          "outlinewidth": 0,
                          "ticks": ""
                        },
                        "type": "contourcarpet"
                      }
                    ],
                    "heatmap": [
                      {
                        "colorbar": {
                          "outlinewidth": 0,
                          "ticks": ""
                        },
                        "colorscale": [
                          [
                            0,
                            "#0d0887"
                          ],
                          [
                            0.1111111111111111,
                            "#46039f"
                          ],
                          [
                            0.2222222222222222,
                            "#7201a8"
                          ],
                          [
                            0.3333333333333333,
                            "#9c179e"
                          ],
                          [
                            0.4444444444444444,
                            "#bd3786"
                          ],
                          [
                            0.5555555555555556,
                            "#d8576b"
                          ],
                          [
                            0.6666666666666666,
                            "#ed7953"
                          ],
                          [
                            0.7777777777777778,
                            "#fb9f3a"
                          ],
                          [
                            0.8888888888888888,
                            "#fdca26"
                          ],
                          [
                            1,
                            "#f0f921"
                          ]
                        ],
                        "type": "heatmap"
                      }
                    ],
                    "heatmapgl": [
                      {
                        "colorbar": {
                          "outlinewidth": 0,
                          "ticks": ""
                        },
                        "colorscale": [
                          [
                            0,
                            "#0d0887"
                          ],
                          [
                            0.1111111111111111,
                            "#46039f"
                          ],
                          [
                            0.2222222222222222,
                            "#7201a8"
                          ],
                          [
                            0.3333333333333333,
                            "#9c179e"
                          ],
                          [
                            0.4444444444444444,
                            "#bd3786"
                          ],
                          [
                            0.5555555555555556,
                            "#d8576b"
                          ],
                          [
                            0.6666666666666666,
                            "#ed7953"
                          ],
                          [
                            0.7777777777777778,
                            "#fb9f3a"
                          ],
                          [
                            0.8888888888888888,
                            "#fdca26"
                          ],
                          [
                            1,
                            "#f0f921"
                          ]
                        ],
                        "type": "heatmapgl"
                      }
                    ],
                    "histogram": [
                      {
                        "marker": {
                          "pattern": {
                            "fillmode": "overlay",
                            "size": 10,
                            "solidity": 0.2
                          }
                        },
                        "type": "histogram"
                      }
                    ],
                    "histogram2d": [
                      {
                        "colorbar": {
                          "outlinewidth": 0,
                          "ticks": ""
                        },
                        "colorscale": [
                          [
                            0,
                            "#0d0887"
                          ],
                          [
                            0.1111111111111111,
                            "#46039f"
                          ],
                          [
                            0.2222222222222222,
                            "#7201a8"
                          ],
                          [
                            0.3333333333333333,
                            "#9c179e"
                          ],
                          [
                            0.4444444444444444,
                            "#bd3786"
                          ],
                          [
                            0.5555555555555556,
                            "#d8576b"
                          ],
                          [
                            0.6666666666666666,
                            "#ed7953"
                          ],
                          [
                            0.7777777777777778,
                            "#fb9f3a"
                          ],
                          [
                            0.8888888888888888,
                            "#fdca26"
                          ],
                          [
                            1,
                            "#f0f921"
                          ]
                        ],
                        "type": "histogram2d"
                      }
                    ],
                    "histogram2dcontour": [
                      {
                        "colorbar": {
                          "outlinewidth": 0,
                          "ticks": ""
                        },
                        "colorscale": [
                          [
                            0,
                            "#0d0887"
                          ],
                          [
                            0.1111111111111111,
                            "#46039f"
                          ],
                          [
                            0.2222222222222222,
                            "#7201a8"
                          ],
                          [
                            0.3333333333333333,
                            "#9c179e"
                          ],
                          [
                            0.4444444444444444,
                            "#bd3786"
                          ],
                          [
                            0.5555555555555556,
                            "#d8576b"
                          ],
                          [
                            0.6666666666666666,
                            "#ed7953"
                          ],
                          [
                            0.7777777777777778,
                            "#fb9f3a"
                          ],
                          [
                            0.8888888888888888,
                            "#fdca26"
                          ],
                          [
                            1,
                            "#f0f921"
                          ]
                        ],
                        "type": "histogram2dcontour"
                      }
                    ],
                    "mesh3d": [
                      {
                        "colorbar": {
                          "outlinewidth": 0,
                          "ticks": ""
                        },
                        "type": "mesh3d"
                      }
                    ],
                    "parcoords": [
                      {
                        "line": {
                          "colorbar": {
                            "outlinewidth": 0,
                            "ticks": ""
                          }
                        },
                        "type": "parcoords"
                      }
                    ],
                    "pie": [
                      {
                        "automargin": true,
                        "type": "pie"
                      }
                    ],
                    "scatter": [
                      {
                        "fillpattern": {
                          "fillmode": "overlay",
                          "size": 10,
                          "solidity": 0.2
                        },
                        "type": "scatter"
                      }
                    ],
                    "scatter3d": [
                      {
                        "line": {
                          "colorbar": {
                            "outlinewidth": 0,
                            "ticks": ""
                          }
                        },
                        "marker": {
                          "colorbar": {
                            "outlinewidth": 0,
                            "ticks": ""
                          }
                        },
                        "type": "scatter3d"
                      }
                    ],
                    "scattercarpet": [
                      {
                        "marker": {
                          "colorbar": {
                            "outlinewidth": 0,
                            "ticks": ""
                          }
                        },
                        "type": "scattercarpet"
                      }
                    ],
                    "scattergeo": [
                      {
                        "marker": {
                          "colorbar": {
                            "outlinewidth": 0,
                            "ticks": ""
                          }
                        },
                        "type": "scattergeo"
                      }
                    ],
                    "scattergl": [
                      {
                        "marker": {
                          "colorbar": {
                            "outlinewidth": 0,
                            "ticks": ""
                          }
                        },
                        "type": "scattergl"
                      }
                    ],
                    "scattermapbox": [
                      {
                        "marker": {
                          "colorbar": {
                            "outlinewidth": 0,
                            "ticks": ""
                          }
                        },
                        "type": "scattermapbox"
                      }
                    ],
                    "scatterpolar": [
                      {
                        "marker": {
                          "colorbar": {
                            "outlinewidth": 0,
                            "ticks": ""
                          }
                        },
                        "type": "scatterpolar"
                      }
                    ],
                    "scatterpolargl": [
                      {
                        "marker": {
                          "colorbar": {
                            "outlinewidth": 0,
                            "ticks": ""
                          }
                        },
                        "type": "scatterpolargl"
                      }
                    ],
                    "scatterternary": [
                      {
                        "marker": {
                          "colorbar": {
                            "outlinewidth": 0,
                            "ticks": ""
                          }
                        },
                        "type": "scatterternary"
                      }
                    ],
                    "surface": [
                      {
                        "colorbar": {
                          "outlinewidth": 0,
                          "ticks": ""
                        },
                        "colorscale": [
                          [
                            0,
                            "#0d0887"
                          ],
                          [
                            0.1111111111111111,
                            "#46039f"
                          ],
                          [
                            0.2222222222222222,
                            "#7201a8"
                          ],
                          [
                            0.3333333333333333,
                            "#9c179e"
                          ],
                          [
                            0.4444444444444444,
                            "#bd3786"
                          ],
                          [
                            0.5555555555555556,
                            "#d8576b"
                          ],
                          [
                            0.6666666666666666,
                            "#ed7953"
                          ],
                          [
                            0.7777777777777778,
                            "#fb9f3a"
                          ],
                          [
                            0.8888888888888888,
                            "#fdca26"
                          ],
                          [
                            1,
                            "#f0f921"
                          ]
                        ],
                        "type": "surface"
                      }
                    ],
                    "table": [
                      {
                        "cells": {
                          "fill": {
                            "color": "#EBF0F8"
                          },
                          "line": {
                            "color": "white"
                          }
                        },
                        "header": {
                          "fill": {
                            "color": "#C8D4E3"
                          },
                          "line": {
                            "color": "white"
                          }
                        },
                        "type": "table"
                      }
                    ]
                  },
                  "layout": {
                    "annotationdefaults": {
                      "arrowcolor": "#2a3f5f",
                      "arrowhead": 0,
                      "arrowwidth": 1
                    },
                    "autotypenumbers": "strict",
                    "coloraxis": {
                      "colorbar": {
                        "outlinewidth": 0,
                        "ticks": ""
                      }
                    },
                    "colorscale": {
                      "diverging": [
                        [
                          0,
                          "#8e0152"
                        ],
                        [
                          0.1,
                          "#c51b7d"
                        ],
                        [
                          0.2,
                          "#de77ae"
                        ],
                        [
                          0.3,
                          "#f1b6da"
                        ],
                        [
                          0.4,
                          "#fde0ef"
                        ],
                        [
                          0.5,
                          "#f7f7f7"
                        ],
                        [
                          0.6,
                          "#e6f5d0"
                        ],
                        [
                          0.7,
                          "#b8e186"
                        ],
                        [
                          0.8,
                          "#7fbc41"
                        ],
                        [
                          0.9,
                          "#4d9221"
                        ],
                        [
                          1,
                          "#276419"
                        ]
                      ],
                      "sequential": [
                        [
                          0,
                          "#0d0887"
                        ],
                        [
                          0.1111111111111111,
                          "#46039f"
                        ],
                        [
                          0.2222222222222222,
                          "#7201a8"
                        ],
                        [
                          0.3333333333333333,
                          "#9c179e"
                        ],
                        [
                          0.4444444444444444,
                          "#bd3786"
                        ],
                        [
                          0.5555555555555556,
                          "#d8576b"
                        ],
                        [
                          0.6666666666666666,
                          "#ed7953"
                        ],
                        [
                          0.7777777777777778,
                          "#fb9f3a"
                        ],
                        [
                          0.8888888888888888,
                          "#fdca26"
                        ],
                        [
                          1,
                          "#f0f921"
                        ]
                      ],
                      "sequentialminus": [
                        [
                          0,
                          "#0d0887"
                        ],
                        [
                          0.1111111111111111,
                          "#46039f"
                        ],
                        [
                          0.2222222222222222,
                          "#7201a8"
                        ],
                        [
                          0.3333333333333333,
                          "#9c179e"
                        ],
                        [
                          0.4444444444444444,
                          "#bd3786"
                        ],
                        [
                          0.5555555555555556,
                          "#d8576b"
                        ],
                        [
                          0.6666666666666666,
                          "#ed7953"
                        ],
                        [
                          0.7777777777777778,
                          "#fb9f3a"
                        ],
                        [
                          0.8888888888888888,
                          "#fdca26"
                        ],
                        [
                          1,
                          "#f0f921"
                        ]
                      ]
                    },
                    "colorway": [
                      "#636efa",
                      "#EF553B",
                      "#00cc96",
                      "#ab63fa",
                      "#FFA15A",
                      "#19d3f3",
                      "#FF6692",
                      "#B6E880",
                      "#FF97FF",
                      "#FECB52"
                    ],
                    "font": {
                      "color": "#2a3f5f"
                    },
                    "geo": {
                      "bgcolor": "white",
                      "lakecolor": "white",
                      "landcolor": "#E5ECF6",
                      "showlakes": true,
                      "showland": true,
                      "subunitcolor": "white"
                    },
                    "hoverlabel": {
                      "align": "left"
                    },
                    "hovermode": "closest",
                    "mapbox": {
                      "style": "light"
                    },
                    "paper_bgcolor": "white",
                    "plot_bgcolor": "#E5ECF6",
                    "polar": {
                      "angularaxis": {
                        "gridcolor": "white",
                        "linecolor": "white",
                        "ticks": ""
                      },
                      "bgcolor": "#E5ECF6",
                      "radialaxis": {
                        "gridcolor": "white",
                        "linecolor": "white",
                        "ticks": ""
                      }
                    },
                    "scene": {
                      "xaxis": {
                        "backgroundcolor": "#E5ECF6",
                        "gridcolor": "white",
                        "gridwidth": 2,
                        "linecolor": "white",
                        "showbackground": true,
                        "ticks": "",
                        "zerolinecolor": "white"
                      },
                      "yaxis": {
                        "backgroundcolor": "#E5ECF6",
                        "gridcolor": "white",
                        "gridwidth": 2,
                        "linecolor": "white",
                        "showbackground": true,
                        "ticks": "",
                        "zerolinecolor": "white"
                      },
                      "zaxis": {
                        "backgroundcolor": "#E5ECF6",
                        "gridcolor": "white",
                        "gridwidth": 2,
                        "linecolor": "white",
                        "showbackground": true,
                        "ticks": "",
                        "zerolinecolor": "white"
                      }
                    },
                    "shapedefaults": {
                      "line": {
                        "color": "#2a3f5f"
                      }
                    },
                    "ternary": {
                      "aaxis": {
                        "gridcolor": "white",
                        "linecolor": "white",
                        "ticks": ""
                      },
                      "baxis": {
                        "gridcolor": "white",
                        "linecolor": "white",
                        "ticks": ""
                      },
                      "bgcolor": "#E5ECF6",
                      "caxis": {
                        "gridcolor": "white",
                        "linecolor": "white",
                        "ticks": ""
                      }
                    },
                    "title": {
                      "x": 0.05
                    },
                    "xaxis": {
                      "automargin": true,
                      "gridcolor": "white",
                      "linecolor": "white",
                      "ticks": "",
                      "title": {
                        "standoff": 15
                      },
                      "zerolinecolor": "white",
                      "zerolinewidth": 2
                    },
                    "yaxis": {
                      "automargin": true,
                      "gridcolor": "white",
                      "linecolor": "white",
                      "ticks": "",
                      "title": {
                        "standoff": 15
                      },
                      "zerolinecolor": "white",
                      "zerolinewidth": 2
                    }
                  }
                },
                "title": {
                  "text": "Vertical Translations",
                  "x": 0.5,
                  "xanchor": "center",
                  "y": 0.95,
                  "yanchor": "top"
                },
                "xaxis": {
                  "title": {
                    "text": "x"
                  }
                },
                "yaxis": {
                  "title": {
                    "text": "y"
                  }
                }
              }
            }
          },
          "metadata": {},
          "output_type": "display_data"
        }
      ],
      "source": [
        "# Define exponential function\n",
        "f = 2*(4)**x\n",
        "\n",
        "# Create a graph object\n",
        "plot = graph_funs()\n",
        "\n",
        "# Add to the list of functions:\n",
        "plot.add_vert_translations(f, domain=[0, 2, 20], trans_range=[-2, 2, 3])\n",
        "\n",
        "\n",
        "plot.plot_funs(plot_title=\"Vertical Translations\")"
      ]
    },
    {
      "cell_type": "markdown",
      "metadata": {
        "id": "494ppvdXTnKw"
      },
      "source": [
        "# Reflections across x"
      ]
    },
    {
      "cell_type": "markdown",
      "metadata": {
        "id": "Qu_TpfR7EBq_"
      },
      "source": [
        "You can reflect across x by replacing f by -f.\n",
        "\n",
        "Here, we can add a graph and its reflection using:\n",
        "```\n",
        "plot.add_fun(f, domain=[0, 3, 20])           # Create a single function.\n",
        "plot.add_refl_across_x(f, domain=[0, 3, 20]) # Add its reflection.\n",
        "```\n",
        "\n",
        "## Assignment: Plot reflections across x\n",
        "Study the final output and then explain:<br>\n",
        "1. Why do you think it is called a reflection across x?\n",
        "2. Modify the code to reflect across x:\n",
        "    $$ y = 4^x. $$\n"
      ]
    },
    {
      "cell_type": "code",
      "execution_count": 7,
      "metadata": {
        "colab": {
          "base_uri": "https://localhost:8080/",
          "height": 542
        },
        "id": "DPBp0CY0EBq_",
        "outputId": "a4d2a79b-0bd3-4b5f-d109-84de650fe6af"
      },
      "outputs": [
        {
          "data": {
            "application/vnd.plotly.v1+json": {
              "config": {
                "plotlyServerURL": "https://plot.ly"
              },
              "data": [
                {
                  "mode": "lines+markers",
                  "name": "2*3^x",
                  "showlegend": true,
                  "type": "scatter",
                  "x": [
                    0,
                    0.15789473684210525,
                    0.3157894736842105,
                    0.47368421052631576,
                    0.631578947368421,
                    0.7894736842105263,
                    0.9473684210526315,
                    1.1052631578947367,
                    1.263157894736842,
                    1.4210526315789473,
                    1.5789473684210527,
                    1.7368421052631577,
                    1.894736842105263,
                    2.052631578947368,
                    2.2105263157894735,
                    2.3684210526315788,
                    2.526315789473684,
                    2.6842105263157894,
                    2.8421052631578947,
                    3
                  ],
                  "y": [
                    2,
                    2.378838346375712,
                    2.829435939093766,
                    3.365385355264912,
                    4.00285386671771,
                    4.761071136543191,
                    5.662909294715768,
                    6.735572891158654,
                    8.011419539148463,
                    9.528936004315,
                    11.33389918361234,
                    13.480756995966702,
                    16.03427084008912,
                    19.07146916528895,
                    22.68397108605567,
                    26.98075013379357,
                    32.09142151612488,
                    38.17015204613224,
                    45.40031068716535,
                    54
                  ]
                },
                {
                  "mode": "lines+markers",
                  "name": "-2*3^x",
                  "showlegend": true,
                  "type": "scatter",
                  "x": [
                    0,
                    0.15789473684210525,
                    0.3157894736842105,
                    0.47368421052631576,
                    0.631578947368421,
                    0.7894736842105263,
                    0.9473684210526315,
                    1.1052631578947367,
                    1.263157894736842,
                    1.4210526315789473,
                    1.5789473684210527,
                    1.7368421052631577,
                    1.894736842105263,
                    2.052631578947368,
                    2.2105263157894735,
                    2.3684210526315788,
                    2.526315789473684,
                    2.6842105263157894,
                    2.8421052631578947,
                    3
                  ],
                  "y": [
                    -2,
                    -2.378838346375712,
                    -2.829435939093766,
                    -3.365385355264912,
                    -4.00285386671771,
                    -4.761071136543191,
                    -5.662909294715768,
                    -6.735572891158654,
                    -8.011419539148463,
                    -9.528936004315,
                    -11.33389918361234,
                    -13.480756995966702,
                    -16.03427084008912,
                    -19.07146916528895,
                    -22.68397108605567,
                    -26.98075013379357,
                    -32.09142151612488,
                    -38.17015204613224,
                    -45.40031068716535,
                    -54
                  ]
                }
              ],
              "layout": {
                "autosize": false,
                "template": {
                  "data": {
                    "bar": [
                      {
                        "error_x": {
                          "color": "#2a3f5f"
                        },
                        "error_y": {
                          "color": "#2a3f5f"
                        },
                        "marker": {
                          "line": {
                            "color": "#E5ECF6",
                            "width": 0.5
                          },
                          "pattern": {
                            "fillmode": "overlay",
                            "size": 10,
                            "solidity": 0.2
                          }
                        },
                        "type": "bar"
                      }
                    ],
                    "barpolar": [
                      {
                        "marker": {
                          "line": {
                            "color": "#E5ECF6",
                            "width": 0.5
                          },
                          "pattern": {
                            "fillmode": "overlay",
                            "size": 10,
                            "solidity": 0.2
                          }
                        },
                        "type": "barpolar"
                      }
                    ],
                    "carpet": [
                      {
                        "aaxis": {
                          "endlinecolor": "#2a3f5f",
                          "gridcolor": "white",
                          "linecolor": "white",
                          "minorgridcolor": "white",
                          "startlinecolor": "#2a3f5f"
                        },
                        "baxis": {
                          "endlinecolor": "#2a3f5f",
                          "gridcolor": "white",
                          "linecolor": "white",
                          "minorgridcolor": "white",
                          "startlinecolor": "#2a3f5f"
                        },
                        "type": "carpet"
                      }
                    ],
                    "choropleth": [
                      {
                        "colorbar": {
                          "outlinewidth": 0,
                          "ticks": ""
                        },
                        "type": "choropleth"
                      }
                    ],
                    "contour": [
                      {
                        "colorbar": {
                          "outlinewidth": 0,
                          "ticks": ""
                        },
                        "colorscale": [
                          [
                            0,
                            "#0d0887"
                          ],
                          [
                            0.1111111111111111,
                            "#46039f"
                          ],
                          [
                            0.2222222222222222,
                            "#7201a8"
                          ],
                          [
                            0.3333333333333333,
                            "#9c179e"
                          ],
                          [
                            0.4444444444444444,
                            "#bd3786"
                          ],
                          [
                            0.5555555555555556,
                            "#d8576b"
                          ],
                          [
                            0.6666666666666666,
                            "#ed7953"
                          ],
                          [
                            0.7777777777777778,
                            "#fb9f3a"
                          ],
                          [
                            0.8888888888888888,
                            "#fdca26"
                          ],
                          [
                            1,
                            "#f0f921"
                          ]
                        ],
                        "type": "contour"
                      }
                    ],
                    "contourcarpet": [
                      {
                        "colorbar": {
                          "outlinewidth": 0,
                          "ticks": ""
                        },
                        "type": "contourcarpet"
                      }
                    ],
                    "heatmap": [
                      {
                        "colorbar": {
                          "outlinewidth": 0,
                          "ticks": ""
                        },
                        "colorscale": [
                          [
                            0,
                            "#0d0887"
                          ],
                          [
                            0.1111111111111111,
                            "#46039f"
                          ],
                          [
                            0.2222222222222222,
                            "#7201a8"
                          ],
                          [
                            0.3333333333333333,
                            "#9c179e"
                          ],
                          [
                            0.4444444444444444,
                            "#bd3786"
                          ],
                          [
                            0.5555555555555556,
                            "#d8576b"
                          ],
                          [
                            0.6666666666666666,
                            "#ed7953"
                          ],
                          [
                            0.7777777777777778,
                            "#fb9f3a"
                          ],
                          [
                            0.8888888888888888,
                            "#fdca26"
                          ],
                          [
                            1,
                            "#f0f921"
                          ]
                        ],
                        "type": "heatmap"
                      }
                    ],
                    "heatmapgl": [
                      {
                        "colorbar": {
                          "outlinewidth": 0,
                          "ticks": ""
                        },
                        "colorscale": [
                          [
                            0,
                            "#0d0887"
                          ],
                          [
                            0.1111111111111111,
                            "#46039f"
                          ],
                          [
                            0.2222222222222222,
                            "#7201a8"
                          ],
                          [
                            0.3333333333333333,
                            "#9c179e"
                          ],
                          [
                            0.4444444444444444,
                            "#bd3786"
                          ],
                          [
                            0.5555555555555556,
                            "#d8576b"
                          ],
                          [
                            0.6666666666666666,
                            "#ed7953"
                          ],
                          [
                            0.7777777777777778,
                            "#fb9f3a"
                          ],
                          [
                            0.8888888888888888,
                            "#fdca26"
                          ],
                          [
                            1,
                            "#f0f921"
                          ]
                        ],
                        "type": "heatmapgl"
                      }
                    ],
                    "histogram": [
                      {
                        "marker": {
                          "pattern": {
                            "fillmode": "overlay",
                            "size": 10,
                            "solidity": 0.2
                          }
                        },
                        "type": "histogram"
                      }
                    ],
                    "histogram2d": [
                      {
                        "colorbar": {
                          "outlinewidth": 0,
                          "ticks": ""
                        },
                        "colorscale": [
                          [
                            0,
                            "#0d0887"
                          ],
                          [
                            0.1111111111111111,
                            "#46039f"
                          ],
                          [
                            0.2222222222222222,
                            "#7201a8"
                          ],
                          [
                            0.3333333333333333,
                            "#9c179e"
                          ],
                          [
                            0.4444444444444444,
                            "#bd3786"
                          ],
                          [
                            0.5555555555555556,
                            "#d8576b"
                          ],
                          [
                            0.6666666666666666,
                            "#ed7953"
                          ],
                          [
                            0.7777777777777778,
                            "#fb9f3a"
                          ],
                          [
                            0.8888888888888888,
                            "#fdca26"
                          ],
                          [
                            1,
                            "#f0f921"
                          ]
                        ],
                        "type": "histogram2d"
                      }
                    ],
                    "histogram2dcontour": [
                      {
                        "colorbar": {
                          "outlinewidth": 0,
                          "ticks": ""
                        },
                        "colorscale": [
                          [
                            0,
                            "#0d0887"
                          ],
                          [
                            0.1111111111111111,
                            "#46039f"
                          ],
                          [
                            0.2222222222222222,
                            "#7201a8"
                          ],
                          [
                            0.3333333333333333,
                            "#9c179e"
                          ],
                          [
                            0.4444444444444444,
                            "#bd3786"
                          ],
                          [
                            0.5555555555555556,
                            "#d8576b"
                          ],
                          [
                            0.6666666666666666,
                            "#ed7953"
                          ],
                          [
                            0.7777777777777778,
                            "#fb9f3a"
                          ],
                          [
                            0.8888888888888888,
                            "#fdca26"
                          ],
                          [
                            1,
                            "#f0f921"
                          ]
                        ],
                        "type": "histogram2dcontour"
                      }
                    ],
                    "mesh3d": [
                      {
                        "colorbar": {
                          "outlinewidth": 0,
                          "ticks": ""
                        },
                        "type": "mesh3d"
                      }
                    ],
                    "parcoords": [
                      {
                        "line": {
                          "colorbar": {
                            "outlinewidth": 0,
                            "ticks": ""
                          }
                        },
                        "type": "parcoords"
                      }
                    ],
                    "pie": [
                      {
                        "automargin": true,
                        "type": "pie"
                      }
                    ],
                    "scatter": [
                      {
                        "fillpattern": {
                          "fillmode": "overlay",
                          "size": 10,
                          "solidity": 0.2
                        },
                        "type": "scatter"
                      }
                    ],
                    "scatter3d": [
                      {
                        "line": {
                          "colorbar": {
                            "outlinewidth": 0,
                            "ticks": ""
                          }
                        },
                        "marker": {
                          "colorbar": {
                            "outlinewidth": 0,
                            "ticks": ""
                          }
                        },
                        "type": "scatter3d"
                      }
                    ],
                    "scattercarpet": [
                      {
                        "marker": {
                          "colorbar": {
                            "outlinewidth": 0,
                            "ticks": ""
                          }
                        },
                        "type": "scattercarpet"
                      }
                    ],
                    "scattergeo": [
                      {
                        "marker": {
                          "colorbar": {
                            "outlinewidth": 0,
                            "ticks": ""
                          }
                        },
                        "type": "scattergeo"
                      }
                    ],
                    "scattergl": [
                      {
                        "marker": {
                          "colorbar": {
                            "outlinewidth": 0,
                            "ticks": ""
                          }
                        },
                        "type": "scattergl"
                      }
                    ],
                    "scattermapbox": [
                      {
                        "marker": {
                          "colorbar": {
                            "outlinewidth": 0,
                            "ticks": ""
                          }
                        },
                        "type": "scattermapbox"
                      }
                    ],
                    "scatterpolar": [
                      {
                        "marker": {
                          "colorbar": {
                            "outlinewidth": 0,
                            "ticks": ""
                          }
                        },
                        "type": "scatterpolar"
                      }
                    ],
                    "scatterpolargl": [
                      {
                        "marker": {
                          "colorbar": {
                            "outlinewidth": 0,
                            "ticks": ""
                          }
                        },
                        "type": "scatterpolargl"
                      }
                    ],
                    "scatterternary": [
                      {
                        "marker": {
                          "colorbar": {
                            "outlinewidth": 0,
                            "ticks": ""
                          }
                        },
                        "type": "scatterternary"
                      }
                    ],
                    "surface": [
                      {
                        "colorbar": {
                          "outlinewidth": 0,
                          "ticks": ""
                        },
                        "colorscale": [
                          [
                            0,
                            "#0d0887"
                          ],
                          [
                            0.1111111111111111,
                            "#46039f"
                          ],
                          [
                            0.2222222222222222,
                            "#7201a8"
                          ],
                          [
                            0.3333333333333333,
                            "#9c179e"
                          ],
                          [
                            0.4444444444444444,
                            "#bd3786"
                          ],
                          [
                            0.5555555555555556,
                            "#d8576b"
                          ],
                          [
                            0.6666666666666666,
                            "#ed7953"
                          ],
                          [
                            0.7777777777777778,
                            "#fb9f3a"
                          ],
                          [
                            0.8888888888888888,
                            "#fdca26"
                          ],
                          [
                            1,
                            "#f0f921"
                          ]
                        ],
                        "type": "surface"
                      }
                    ],
                    "table": [
                      {
                        "cells": {
                          "fill": {
                            "color": "#EBF0F8"
                          },
                          "line": {
                            "color": "white"
                          }
                        },
                        "header": {
                          "fill": {
                            "color": "#C8D4E3"
                          },
                          "line": {
                            "color": "white"
                          }
                        },
                        "type": "table"
                      }
                    ]
                  },
                  "layout": {
                    "annotationdefaults": {
                      "arrowcolor": "#2a3f5f",
                      "arrowhead": 0,
                      "arrowwidth": 1
                    },
                    "autotypenumbers": "strict",
                    "coloraxis": {
                      "colorbar": {
                        "outlinewidth": 0,
                        "ticks": ""
                      }
                    },
                    "colorscale": {
                      "diverging": [
                        [
                          0,
                          "#8e0152"
                        ],
                        [
                          0.1,
                          "#c51b7d"
                        ],
                        [
                          0.2,
                          "#de77ae"
                        ],
                        [
                          0.3,
                          "#f1b6da"
                        ],
                        [
                          0.4,
                          "#fde0ef"
                        ],
                        [
                          0.5,
                          "#f7f7f7"
                        ],
                        [
                          0.6,
                          "#e6f5d0"
                        ],
                        [
                          0.7,
                          "#b8e186"
                        ],
                        [
                          0.8,
                          "#7fbc41"
                        ],
                        [
                          0.9,
                          "#4d9221"
                        ],
                        [
                          1,
                          "#276419"
                        ]
                      ],
                      "sequential": [
                        [
                          0,
                          "#0d0887"
                        ],
                        [
                          0.1111111111111111,
                          "#46039f"
                        ],
                        [
                          0.2222222222222222,
                          "#7201a8"
                        ],
                        [
                          0.3333333333333333,
                          "#9c179e"
                        ],
                        [
                          0.4444444444444444,
                          "#bd3786"
                        ],
                        [
                          0.5555555555555556,
                          "#d8576b"
                        ],
                        [
                          0.6666666666666666,
                          "#ed7953"
                        ],
                        [
                          0.7777777777777778,
                          "#fb9f3a"
                        ],
                        [
                          0.8888888888888888,
                          "#fdca26"
                        ],
                        [
                          1,
                          "#f0f921"
                        ]
                      ],
                      "sequentialminus": [
                        [
                          0,
                          "#0d0887"
                        ],
                        [
                          0.1111111111111111,
                          "#46039f"
                        ],
                        [
                          0.2222222222222222,
                          "#7201a8"
                        ],
                        [
                          0.3333333333333333,
                          "#9c179e"
                        ],
                        [
                          0.4444444444444444,
                          "#bd3786"
                        ],
                        [
                          0.5555555555555556,
                          "#d8576b"
                        ],
                        [
                          0.6666666666666666,
                          "#ed7953"
                        ],
                        [
                          0.7777777777777778,
                          "#fb9f3a"
                        ],
                        [
                          0.8888888888888888,
                          "#fdca26"
                        ],
                        [
                          1,
                          "#f0f921"
                        ]
                      ]
                    },
                    "colorway": [
                      "#636efa",
                      "#EF553B",
                      "#00cc96",
                      "#ab63fa",
                      "#FFA15A",
                      "#19d3f3",
                      "#FF6692",
                      "#B6E880",
                      "#FF97FF",
                      "#FECB52"
                    ],
                    "font": {
                      "color": "#2a3f5f"
                    },
                    "geo": {
                      "bgcolor": "white",
                      "lakecolor": "white",
                      "landcolor": "#E5ECF6",
                      "showlakes": true,
                      "showland": true,
                      "subunitcolor": "white"
                    },
                    "hoverlabel": {
                      "align": "left"
                    },
                    "hovermode": "closest",
                    "mapbox": {
                      "style": "light"
                    },
                    "paper_bgcolor": "white",
                    "plot_bgcolor": "#E5ECF6",
                    "polar": {
                      "angularaxis": {
                        "gridcolor": "white",
                        "linecolor": "white",
                        "ticks": ""
                      },
                      "bgcolor": "#E5ECF6",
                      "radialaxis": {
                        "gridcolor": "white",
                        "linecolor": "white",
                        "ticks": ""
                      }
                    },
                    "scene": {
                      "xaxis": {
                        "backgroundcolor": "#E5ECF6",
                        "gridcolor": "white",
                        "gridwidth": 2,
                        "linecolor": "white",
                        "showbackground": true,
                        "ticks": "",
                        "zerolinecolor": "white"
                      },
                      "yaxis": {
                        "backgroundcolor": "#E5ECF6",
                        "gridcolor": "white",
                        "gridwidth": 2,
                        "linecolor": "white",
                        "showbackground": true,
                        "ticks": "",
                        "zerolinecolor": "white"
                      },
                      "zaxis": {
                        "backgroundcolor": "#E5ECF6",
                        "gridcolor": "white",
                        "gridwidth": 2,
                        "linecolor": "white",
                        "showbackground": true,
                        "ticks": "",
                        "zerolinecolor": "white"
                      }
                    },
                    "shapedefaults": {
                      "line": {
                        "color": "#2a3f5f"
                      }
                    },
                    "ternary": {
                      "aaxis": {
                        "gridcolor": "white",
                        "linecolor": "white",
                        "ticks": ""
                      },
                      "baxis": {
                        "gridcolor": "white",
                        "linecolor": "white",
                        "ticks": ""
                      },
                      "bgcolor": "#E5ECF6",
                      "caxis": {
                        "gridcolor": "white",
                        "linecolor": "white",
                        "ticks": ""
                      }
                    },
                    "title": {
                      "x": 0.05
                    },
                    "xaxis": {
                      "automargin": true,
                      "gridcolor": "white",
                      "linecolor": "white",
                      "ticks": "",
                      "title": {
                        "standoff": 15
                      },
                      "zerolinecolor": "white",
                      "zerolinewidth": 2
                    },
                    "yaxis": {
                      "automargin": true,
                      "gridcolor": "white",
                      "linecolor": "white",
                      "ticks": "",
                      "title": {
                        "standoff": 15
                      },
                      "zerolinecolor": "white",
                      "zerolinewidth": 2
                    }
                  }
                },
                "title": {
                  "text": "Reflection across x",
                  "x": 0.5,
                  "xanchor": "center",
                  "y": 0.95,
                  "yanchor": "top"
                },
                "xaxis": {
                  "title": {
                    "text": "x"
                  }
                },
                "yaxis": {
                  "title": {
                    "text": "y"
                  }
                }
              }
            }
          },
          "metadata": {},
          "output_type": "display_data"
        }
      ],
      "source": [
        "# Define exponential function\n",
        "f = 2*(3)**x\n",
        "\n",
        "plot = graph_funs()                          # Create a graph object\n",
        "plot.add_fun(f, domain=[0, 3, 20])           # Create a single function.\n",
        "plot.add_refl_across_x(f, domain=[0, 3, 20]) # Add its reflection.\n",
        "\n",
        "\n",
        "plot.plot_funs(plot_title=\"Reflection across x\")"
      ]
    },
    {
      "cell_type": "markdown",
      "metadata": {
        "id": "c-dKT1HcTnKw"
      },
      "source": [
        "# Reflections across y"
      ]
    },
    {
      "cell_type": "markdown",
      "metadata": {
        "id": "6MvaIi_dEBrA"
      },
      "source": [
        "We can reflect across y by replacing f(x) by f(-x).<br>\n",
        "Like before, we can add a function and its reflection across y using:\n",
        "```\n",
        "plot = graph_funs()                           # Create a graph object\n",
        "plot.add_fun(f, domain=[-1, 3, 20])            # Create a single function.\n",
        "plot.add_refl_across_y(f, domain=[0, 3, 20])  # Add its reflection.\n",
        "```\n",
        "\n",
        "## Assignment: Plot reflections across y\n",
        "Study the code below and do the following:<br>\n",
        "1. Can you see the reflection? Please explain.\n",
        "2. What is the domain of the reflected function?\n",
        "3. Modify the code to reflect across y:\n",
        "    $$ y = 4^x. $$\n"
      ]
    },
    {
      "cell_type": "code",
      "execution_count": 8,
      "metadata": {
        "colab": {
          "base_uri": "https://localhost:8080/",
          "height": 542
        },
        "id": "eIMUL4uOEBrA",
        "outputId": "64a5eb4e-fbc8-406a-cb64-52cf3e5e2950"
      },
      "outputs": [
        {
          "data": {
            "application/vnd.plotly.v1+json": {
              "config": {
                "plotlyServerURL": "https://plot.ly"
              },
              "data": [
                {
                  "mode": "lines+markers",
                  "name": "2*3^x",
                  "showlegend": true,
                  "type": "scatter",
                  "x": [
                    -1,
                    -0.7894736842105263,
                    -0.5789473684210527,
                    -0.368421052631579,
                    -0.1578947368421053,
                    0.05263157894736836,
                    0.26315789473684204,
                    0.4736842105263157,
                    0.6842105263157894,
                    0.894736842105263,
                    1.1052631578947367,
                    1.3157894736842106,
                    1.526315789473684,
                    1.7368421052631575,
                    1.9473684210526314,
                    2.1578947368421053,
                    2.3684210526315788,
                    2.578947368421052,
                    2.789473684210526,
                    3
                  ],
                  "y": [
                    0.6666666666666666,
                    0.8401470772613213,
                    1.058770667146111,
                    1.3342846222392368,
                    1.6814929884135317,
                    2.1190521294765503,
                    2.6704731797161543,
                    3.3653853552649116,
                    4.241128005125804,
                    5.344756946696374,
                    6.735572891158654,
                    8.4883078172813,
                    10.69714050537496,
                    13.480756995966699,
                    16.988727884147302,
                    21.40954511738141,
                    26.98075013379357,
                    34.001697550837,
                    42.84964022888872,
                    54
                  ]
                },
                {
                  "mode": "lines+markers",
                  "name": "2/3^x",
                  "showlegend": true,
                  "type": "scatter",
                  "x": [
                    -3,
                    -2.7894736842105265,
                    -2.5789473684210527,
                    -2.3684210526315788,
                    -2.1578947368421053,
                    -1.9473684210526316,
                    -1.736842105263158,
                    -1.5263157894736843,
                    -1.3157894736842106,
                    -1.105263157894737,
                    -0.8947368421052633,
                    -0.6842105263157894,
                    -0.47368421052631593,
                    -0.2631578947368425,
                    -0.052631578947368585,
                    0.1578947368421053,
                    0.36842105263157876,
                    0.5789473684210522,
                    0.7894736842105261,
                    1
                  ],
                  "y": [
                    54,
                    42.84964022888874,
                    34.001697550837015,
                    26.98075013379357,
                    21.40954511738141,
                    16.98872788414731,
                    13.480756995966706,
                    10.697140505374964,
                    8.4883078172813,
                    6.735572891158655,
                    5.344756946696375,
                    4.241128005125804,
                    3.3653853552649124,
                    2.6704731797161556,
                    2.1190521294765507,
                    1.6814929884135317,
                    1.334284622239237,
                    1.0587706671461117,
                    0.8401470772613215,
                    0.6666666666666666
                  ]
                }
              ],
              "layout": {
                "autosize": false,
                "template": {
                  "data": {
                    "bar": [
                      {
                        "error_x": {
                          "color": "#2a3f5f"
                        },
                        "error_y": {
                          "color": "#2a3f5f"
                        },
                        "marker": {
                          "line": {
                            "color": "#E5ECF6",
                            "width": 0.5
                          },
                          "pattern": {
                            "fillmode": "overlay",
                            "size": 10,
                            "solidity": 0.2
                          }
                        },
                        "type": "bar"
                      }
                    ],
                    "barpolar": [
                      {
                        "marker": {
                          "line": {
                            "color": "#E5ECF6",
                            "width": 0.5
                          },
                          "pattern": {
                            "fillmode": "overlay",
                            "size": 10,
                            "solidity": 0.2
                          }
                        },
                        "type": "barpolar"
                      }
                    ],
                    "carpet": [
                      {
                        "aaxis": {
                          "endlinecolor": "#2a3f5f",
                          "gridcolor": "white",
                          "linecolor": "white",
                          "minorgridcolor": "white",
                          "startlinecolor": "#2a3f5f"
                        },
                        "baxis": {
                          "endlinecolor": "#2a3f5f",
                          "gridcolor": "white",
                          "linecolor": "white",
                          "minorgridcolor": "white",
                          "startlinecolor": "#2a3f5f"
                        },
                        "type": "carpet"
                      }
                    ],
                    "choropleth": [
                      {
                        "colorbar": {
                          "outlinewidth": 0,
                          "ticks": ""
                        },
                        "type": "choropleth"
                      }
                    ],
                    "contour": [
                      {
                        "colorbar": {
                          "outlinewidth": 0,
                          "ticks": ""
                        },
                        "colorscale": [
                          [
                            0,
                            "#0d0887"
                          ],
                          [
                            0.1111111111111111,
                            "#46039f"
                          ],
                          [
                            0.2222222222222222,
                            "#7201a8"
                          ],
                          [
                            0.3333333333333333,
                            "#9c179e"
                          ],
                          [
                            0.4444444444444444,
                            "#bd3786"
                          ],
                          [
                            0.5555555555555556,
                            "#d8576b"
                          ],
                          [
                            0.6666666666666666,
                            "#ed7953"
                          ],
                          [
                            0.7777777777777778,
                            "#fb9f3a"
                          ],
                          [
                            0.8888888888888888,
                            "#fdca26"
                          ],
                          [
                            1,
                            "#f0f921"
                          ]
                        ],
                        "type": "contour"
                      }
                    ],
                    "contourcarpet": [
                      {
                        "colorbar": {
                          "outlinewidth": 0,
                          "ticks": ""
                        },
                        "type": "contourcarpet"
                      }
                    ],
                    "heatmap": [
                      {
                        "colorbar": {
                          "outlinewidth": 0,
                          "ticks": ""
                        },
                        "colorscale": [
                          [
                            0,
                            "#0d0887"
                          ],
                          [
                            0.1111111111111111,
                            "#46039f"
                          ],
                          [
                            0.2222222222222222,
                            "#7201a8"
                          ],
                          [
                            0.3333333333333333,
                            "#9c179e"
                          ],
                          [
                            0.4444444444444444,
                            "#bd3786"
                          ],
                          [
                            0.5555555555555556,
                            "#d8576b"
                          ],
                          [
                            0.6666666666666666,
                            "#ed7953"
                          ],
                          [
                            0.7777777777777778,
                            "#fb9f3a"
                          ],
                          [
                            0.8888888888888888,
                            "#fdca26"
                          ],
                          [
                            1,
                            "#f0f921"
                          ]
                        ],
                        "type": "heatmap"
                      }
                    ],
                    "heatmapgl": [
                      {
                        "colorbar": {
                          "outlinewidth": 0,
                          "ticks": ""
                        },
                        "colorscale": [
                          [
                            0,
                            "#0d0887"
                          ],
                          [
                            0.1111111111111111,
                            "#46039f"
                          ],
                          [
                            0.2222222222222222,
                            "#7201a8"
                          ],
                          [
                            0.3333333333333333,
                            "#9c179e"
                          ],
                          [
                            0.4444444444444444,
                            "#bd3786"
                          ],
                          [
                            0.5555555555555556,
                            "#d8576b"
                          ],
                          [
                            0.6666666666666666,
                            "#ed7953"
                          ],
                          [
                            0.7777777777777778,
                            "#fb9f3a"
                          ],
                          [
                            0.8888888888888888,
                            "#fdca26"
                          ],
                          [
                            1,
                            "#f0f921"
                          ]
                        ],
                        "type": "heatmapgl"
                      }
                    ],
                    "histogram": [
                      {
                        "marker": {
                          "pattern": {
                            "fillmode": "overlay",
                            "size": 10,
                            "solidity": 0.2
                          }
                        },
                        "type": "histogram"
                      }
                    ],
                    "histogram2d": [
                      {
                        "colorbar": {
                          "outlinewidth": 0,
                          "ticks": ""
                        },
                        "colorscale": [
                          [
                            0,
                            "#0d0887"
                          ],
                          [
                            0.1111111111111111,
                            "#46039f"
                          ],
                          [
                            0.2222222222222222,
                            "#7201a8"
                          ],
                          [
                            0.3333333333333333,
                            "#9c179e"
                          ],
                          [
                            0.4444444444444444,
                            "#bd3786"
                          ],
                          [
                            0.5555555555555556,
                            "#d8576b"
                          ],
                          [
                            0.6666666666666666,
                            "#ed7953"
                          ],
                          [
                            0.7777777777777778,
                            "#fb9f3a"
                          ],
                          [
                            0.8888888888888888,
                            "#fdca26"
                          ],
                          [
                            1,
                            "#f0f921"
                          ]
                        ],
                        "type": "histogram2d"
                      }
                    ],
                    "histogram2dcontour": [
                      {
                        "colorbar": {
                          "outlinewidth": 0,
                          "ticks": ""
                        },
                        "colorscale": [
                          [
                            0,
                            "#0d0887"
                          ],
                          [
                            0.1111111111111111,
                            "#46039f"
                          ],
                          [
                            0.2222222222222222,
                            "#7201a8"
                          ],
                          [
                            0.3333333333333333,
                            "#9c179e"
                          ],
                          [
                            0.4444444444444444,
                            "#bd3786"
                          ],
                          [
                            0.5555555555555556,
                            "#d8576b"
                          ],
                          [
                            0.6666666666666666,
                            "#ed7953"
                          ],
                          [
                            0.7777777777777778,
                            "#fb9f3a"
                          ],
                          [
                            0.8888888888888888,
                            "#fdca26"
                          ],
                          [
                            1,
                            "#f0f921"
                          ]
                        ],
                        "type": "histogram2dcontour"
                      }
                    ],
                    "mesh3d": [
                      {
                        "colorbar": {
                          "outlinewidth": 0,
                          "ticks": ""
                        },
                        "type": "mesh3d"
                      }
                    ],
                    "parcoords": [
                      {
                        "line": {
                          "colorbar": {
                            "outlinewidth": 0,
                            "ticks": ""
                          }
                        },
                        "type": "parcoords"
                      }
                    ],
                    "pie": [
                      {
                        "automargin": true,
                        "type": "pie"
                      }
                    ],
                    "scatter": [
                      {
                        "fillpattern": {
                          "fillmode": "overlay",
                          "size": 10,
                          "solidity": 0.2
                        },
                        "type": "scatter"
                      }
                    ],
                    "scatter3d": [
                      {
                        "line": {
                          "colorbar": {
                            "outlinewidth": 0,
                            "ticks": ""
                          }
                        },
                        "marker": {
                          "colorbar": {
                            "outlinewidth": 0,
                            "ticks": ""
                          }
                        },
                        "type": "scatter3d"
                      }
                    ],
                    "scattercarpet": [
                      {
                        "marker": {
                          "colorbar": {
                            "outlinewidth": 0,
                            "ticks": ""
                          }
                        },
                        "type": "scattercarpet"
                      }
                    ],
                    "scattergeo": [
                      {
                        "marker": {
                          "colorbar": {
                            "outlinewidth": 0,
                            "ticks": ""
                          }
                        },
                        "type": "scattergeo"
                      }
                    ],
                    "scattergl": [
                      {
                        "marker": {
                          "colorbar": {
                            "outlinewidth": 0,
                            "ticks": ""
                          }
                        },
                        "type": "scattergl"
                      }
                    ],
                    "scattermapbox": [
                      {
                        "marker": {
                          "colorbar": {
                            "outlinewidth": 0,
                            "ticks": ""
                          }
                        },
                        "type": "scattermapbox"
                      }
                    ],
                    "scatterpolar": [
                      {
                        "marker": {
                          "colorbar": {
                            "outlinewidth": 0,
                            "ticks": ""
                          }
                        },
                        "type": "scatterpolar"
                      }
                    ],
                    "scatterpolargl": [
                      {
                        "marker": {
                          "colorbar": {
                            "outlinewidth": 0,
                            "ticks": ""
                          }
                        },
                        "type": "scatterpolargl"
                      }
                    ],
                    "scatterternary": [
                      {
                        "marker": {
                          "colorbar": {
                            "outlinewidth": 0,
                            "ticks": ""
                          }
                        },
                        "type": "scatterternary"
                      }
                    ],
                    "surface": [
                      {
                        "colorbar": {
                          "outlinewidth": 0,
                          "ticks": ""
                        },
                        "colorscale": [
                          [
                            0,
                            "#0d0887"
                          ],
                          [
                            0.1111111111111111,
                            "#46039f"
                          ],
                          [
                            0.2222222222222222,
                            "#7201a8"
                          ],
                          [
                            0.3333333333333333,
                            "#9c179e"
                          ],
                          [
                            0.4444444444444444,
                            "#bd3786"
                          ],
                          [
                            0.5555555555555556,
                            "#d8576b"
                          ],
                          [
                            0.6666666666666666,
                            "#ed7953"
                          ],
                          [
                            0.7777777777777778,
                            "#fb9f3a"
                          ],
                          [
                            0.8888888888888888,
                            "#fdca26"
                          ],
                          [
                            1,
                            "#f0f921"
                          ]
                        ],
                        "type": "surface"
                      }
                    ],
                    "table": [
                      {
                        "cells": {
                          "fill": {
                            "color": "#EBF0F8"
                          },
                          "line": {
                            "color": "white"
                          }
                        },
                        "header": {
                          "fill": {
                            "color": "#C8D4E3"
                          },
                          "line": {
                            "color": "white"
                          }
                        },
                        "type": "table"
                      }
                    ]
                  },
                  "layout": {
                    "annotationdefaults": {
                      "arrowcolor": "#2a3f5f",
                      "arrowhead": 0,
                      "arrowwidth": 1
                    },
                    "autotypenumbers": "strict",
                    "coloraxis": {
                      "colorbar": {
                        "outlinewidth": 0,
                        "ticks": ""
                      }
                    },
                    "colorscale": {
                      "diverging": [
                        [
                          0,
                          "#8e0152"
                        ],
                        [
                          0.1,
                          "#c51b7d"
                        ],
                        [
                          0.2,
                          "#de77ae"
                        ],
                        [
                          0.3,
                          "#f1b6da"
                        ],
                        [
                          0.4,
                          "#fde0ef"
                        ],
                        [
                          0.5,
                          "#f7f7f7"
                        ],
                        [
                          0.6,
                          "#e6f5d0"
                        ],
                        [
                          0.7,
                          "#b8e186"
                        ],
                        [
                          0.8,
                          "#7fbc41"
                        ],
                        [
                          0.9,
                          "#4d9221"
                        ],
                        [
                          1,
                          "#276419"
                        ]
                      ],
                      "sequential": [
                        [
                          0,
                          "#0d0887"
                        ],
                        [
                          0.1111111111111111,
                          "#46039f"
                        ],
                        [
                          0.2222222222222222,
                          "#7201a8"
                        ],
                        [
                          0.3333333333333333,
                          "#9c179e"
                        ],
                        [
                          0.4444444444444444,
                          "#bd3786"
                        ],
                        [
                          0.5555555555555556,
                          "#d8576b"
                        ],
                        [
                          0.6666666666666666,
                          "#ed7953"
                        ],
                        [
                          0.7777777777777778,
                          "#fb9f3a"
                        ],
                        [
                          0.8888888888888888,
                          "#fdca26"
                        ],
                        [
                          1,
                          "#f0f921"
                        ]
                      ],
                      "sequentialminus": [
                        [
                          0,
                          "#0d0887"
                        ],
                        [
                          0.1111111111111111,
                          "#46039f"
                        ],
                        [
                          0.2222222222222222,
                          "#7201a8"
                        ],
                        [
                          0.3333333333333333,
                          "#9c179e"
                        ],
                        [
                          0.4444444444444444,
                          "#bd3786"
                        ],
                        [
                          0.5555555555555556,
                          "#d8576b"
                        ],
                        [
                          0.6666666666666666,
                          "#ed7953"
                        ],
                        [
                          0.7777777777777778,
                          "#fb9f3a"
                        ],
                        [
                          0.8888888888888888,
                          "#fdca26"
                        ],
                        [
                          1,
                          "#f0f921"
                        ]
                      ]
                    },
                    "colorway": [
                      "#636efa",
                      "#EF553B",
                      "#00cc96",
                      "#ab63fa",
                      "#FFA15A",
                      "#19d3f3",
                      "#FF6692",
                      "#B6E880",
                      "#FF97FF",
                      "#FECB52"
                    ],
                    "font": {
                      "color": "#2a3f5f"
                    },
                    "geo": {
                      "bgcolor": "white",
                      "lakecolor": "white",
                      "landcolor": "#E5ECF6",
                      "showlakes": true,
                      "showland": true,
                      "subunitcolor": "white"
                    },
                    "hoverlabel": {
                      "align": "left"
                    },
                    "hovermode": "closest",
                    "mapbox": {
                      "style": "light"
                    },
                    "paper_bgcolor": "white",
                    "plot_bgcolor": "#E5ECF6",
                    "polar": {
                      "angularaxis": {
                        "gridcolor": "white",
                        "linecolor": "white",
                        "ticks": ""
                      },
                      "bgcolor": "#E5ECF6",
                      "radialaxis": {
                        "gridcolor": "white",
                        "linecolor": "white",
                        "ticks": ""
                      }
                    },
                    "scene": {
                      "xaxis": {
                        "backgroundcolor": "#E5ECF6",
                        "gridcolor": "white",
                        "gridwidth": 2,
                        "linecolor": "white",
                        "showbackground": true,
                        "ticks": "",
                        "zerolinecolor": "white"
                      },
                      "yaxis": {
                        "backgroundcolor": "#E5ECF6",
                        "gridcolor": "white",
                        "gridwidth": 2,
                        "linecolor": "white",
                        "showbackground": true,
                        "ticks": "",
                        "zerolinecolor": "white"
                      },
                      "zaxis": {
                        "backgroundcolor": "#E5ECF6",
                        "gridcolor": "white",
                        "gridwidth": 2,
                        "linecolor": "white",
                        "showbackground": true,
                        "ticks": "",
                        "zerolinecolor": "white"
                      }
                    },
                    "shapedefaults": {
                      "line": {
                        "color": "#2a3f5f"
                      }
                    },
                    "ternary": {
                      "aaxis": {
                        "gridcolor": "white",
                        "linecolor": "white",
                        "ticks": ""
                      },
                      "baxis": {
                        "gridcolor": "white",
                        "linecolor": "white",
                        "ticks": ""
                      },
                      "bgcolor": "#E5ECF6",
                      "caxis": {
                        "gridcolor": "white",
                        "linecolor": "white",
                        "ticks": ""
                      }
                    },
                    "title": {
                      "x": 0.05
                    },
                    "xaxis": {
                      "automargin": true,
                      "gridcolor": "white",
                      "linecolor": "white",
                      "ticks": "",
                      "title": {
                        "standoff": 15
                      },
                      "zerolinecolor": "white",
                      "zerolinewidth": 2
                    },
                    "yaxis": {
                      "automargin": true,
                      "gridcolor": "white",
                      "linecolor": "white",
                      "ticks": "",
                      "title": {
                        "standoff": 15
                      },
                      "zerolinecolor": "white",
                      "zerolinewidth": 2
                    }
                  }
                },
                "title": {
                  "text": "Reflection across y",
                  "x": 0.5,
                  "xanchor": "center",
                  "y": 0.95,
                  "yanchor": "top"
                },
                "xaxis": {
                  "title": {
                    "text": "x"
                  }
                },
                "yaxis": {
                  "title": {
                    "text": "y"
                  }
                }
              }
            }
          },
          "metadata": {},
          "output_type": "display_data"
        }
      ],
      "source": [
        "# Define exponential function\n",
        "f = 2*3**(x)\n",
        "\n",
        "plot = graph_funs()                 # Create a graph object\n",
        "plot.add_fun(f, domain=[-1, 3, 20])  # Create a single function.\n",
        "plot.add_refl_across_y(f, domain=[-1, 3, 20]) # Add its reflection.\n",
        "\n",
        "plot.plot_funs(plot_title=\"Reflection across y\")"
      ]
    },
    {
      "cell_type": "markdown",
      "metadata": {
        "id": "be36iumWTnKw"
      },
      "source": [
        "# Vertical dilations"
      ]
    },
    {
      "cell_type": "markdown",
      "metadata": {
        "id": "zHD3-sIiEBrA"
      },
      "source": [
        "We can implement vertical dilations by replacing f(x) by a*f(x).<br>\n",
        "We can implement multiple dilations using:\n",
        "```\n",
        "plot.add_vert_dilations(f, domain=[-1, 3, 20], a_range=[1, 5, 3])\n",
        "```\n",
        "Here, we generate 3 values for a from 1 to 5.\n",
        "\n",
        "## Assignment: Plot vertical dilations\n",
        "Study the code and answer the following:\n",
        "1. Why do you think they are called dilations?\n",
        "2. Does the domain change when we dilate a function?\n",
        "3. Try different values for a and try to predict the graph before you plot it.\n"
      ]
    },
    {
      "cell_type": "code",
      "execution_count": 9,
      "metadata": {
        "colab": {
          "base_uri": "https://localhost:8080/",
          "height": 542
        },
        "id": "SGDKYF37EBrA",
        "outputId": "de9b7f58-352b-4efc-89f4-92aee30731ce"
      },
      "outputs": [
        {
          "data": {
            "application/vnd.plotly.v1+json": {
              "config": {
                "plotlyServerURL": "https://plot.ly"
              },
              "data": [
                {
                  "mode": "lines+markers",
                  "name": "2.0*3^x",
                  "showlegend": true,
                  "type": "scatter",
                  "x": [
                    -1,
                    -0.7894736842105263,
                    -0.5789473684210527,
                    -0.368421052631579,
                    -0.1578947368421053,
                    0.05263157894736836,
                    0.26315789473684204,
                    0.4736842105263157,
                    0.6842105263157894,
                    0.894736842105263,
                    1.1052631578947367,
                    1.3157894736842106,
                    1.526315789473684,
                    1.7368421052631575,
                    1.9473684210526314,
                    2.1578947368421053,
                    2.3684210526315788,
                    2.578947368421052,
                    2.789473684210526,
                    3
                  ],
                  "y": [
                    0.6666666666666666,
                    0.8401470772613213,
                    1.058770667146111,
                    1.3342846222392368,
                    1.6814929884135317,
                    2.1190521294765503,
                    2.6704731797161543,
                    3.3653853552649116,
                    4.241128005125804,
                    5.344756946696374,
                    6.735572891158654,
                    8.4883078172813,
                    10.69714050537496,
                    13.480756995966699,
                    16.988727884147302,
                    21.40954511738141,
                    26.98075013379357,
                    34.001697550837,
                    42.84964022888872,
                    54
                  ]
                },
                {
                  "mode": "lines+markers",
                  "name": "6.0*3^x",
                  "showlegend": true,
                  "type": "scatter",
                  "x": [
                    -1,
                    -0.7894736842105263,
                    -0.5789473684210527,
                    -0.368421052631579,
                    -0.1578947368421053,
                    0.05263157894736836,
                    0.26315789473684204,
                    0.4736842105263157,
                    0.6842105263157894,
                    0.894736842105263,
                    1.1052631578947367,
                    1.3157894736842106,
                    1.526315789473684,
                    1.7368421052631575,
                    1.9473684210526314,
                    2.1578947368421053,
                    2.3684210526315788,
                    2.578947368421052,
                    2.789473684210526,
                    3
                  ],
                  "y": [
                    2,
                    2.520441231783964,
                    3.1763120014383333,
                    4.002853866717711,
                    5.044478965240595,
                    6.357156388429651,
                    8.011419539148463,
                    10.096156065794734,
                    12.72338401537741,
                    16.03427084008912,
                    20.20671867347596,
                    25.464923451843898,
                    32.09142151612488,
                    40.442270987900095,
                    50.966183652441906,
                    64.22863535214422,
                    80.9422504013807,
                    102.005092652511,
                    128.54892068666615,
                    162
                  ]
                },
                {
                  "mode": "lines+markers",
                  "name": "10.0*3^x",
                  "showlegend": true,
                  "type": "scatter",
                  "x": [
                    -1,
                    -0.7894736842105263,
                    -0.5789473684210527,
                    -0.368421052631579,
                    -0.1578947368421053,
                    0.05263157894736836,
                    0.26315789473684204,
                    0.4736842105263157,
                    0.6842105263157894,
                    0.894736842105263,
                    1.1052631578947367,
                    1.3157894736842106,
                    1.526315789473684,
                    1.7368421052631575,
                    1.9473684210526314,
                    2.1578947368421053,
                    2.3684210526315788,
                    2.578947368421052,
                    2.789473684210526,
                    3
                  ],
                  "y": [
                    3.333333333333333,
                    4.200735386306606,
                    5.293853335730555,
                    6.671423111196184,
                    8.407464942067659,
                    10.595260647382752,
                    13.352365898580771,
                    16.82692677632456,
                    21.205640025629016,
                    26.72378473348187,
                    33.67786445579327,
                    42.44153908640649,
                    53.4857025268748,
                    67.40378497983349,
                    84.9436394207365,
                    107.04772558690705,
                    134.90375066896786,
                    170.008487754185,
                    214.24820114444358,
                    270
                  ]
                },
                {
                  "mode": "lines+markers",
                  "name": "-10.0*3^x",
                  "showlegend": true,
                  "type": "scatter",
                  "x": [
                    -1,
                    -0.7894736842105263,
                    -0.5789473684210527,
                    -0.368421052631579,
                    -0.1578947368421053,
                    0.05263157894736836,
                    0.26315789473684204,
                    0.4736842105263157,
                    0.6842105263157894,
                    0.894736842105263,
                    1.1052631578947367,
                    1.3157894736842106,
                    1.526315789473684,
                    1.7368421052631575,
                    1.9473684210526314,
                    2.1578947368421053,
                    2.3684210526315788,
                    2.578947368421052,
                    2.789473684210526,
                    3
                  ],
                  "y": [
                    -3.333333333333333,
                    -4.200735386306606,
                    -5.293853335730555,
                    -6.671423111196184,
                    -8.407464942067659,
                    -10.595260647382752,
                    -13.352365898580771,
                    -16.82692677632456,
                    -21.205640025629016,
                    -26.72378473348187,
                    -33.67786445579327,
                    -42.44153908640649,
                    -53.4857025268748,
                    -67.40378497983349,
                    -84.9436394207365,
                    -107.04772558690705,
                    -134.90375066896786,
                    -170.008487754185,
                    -214.24820114444358,
                    -270
                  ]
                },
                {
                  "mode": "lines+markers",
                  "name": "-6.0*3^x",
                  "showlegend": true,
                  "type": "scatter",
                  "x": [
                    -1,
                    -0.7894736842105263,
                    -0.5789473684210527,
                    -0.368421052631579,
                    -0.1578947368421053,
                    0.05263157894736836,
                    0.26315789473684204,
                    0.4736842105263157,
                    0.6842105263157894,
                    0.894736842105263,
                    1.1052631578947367,
                    1.3157894736842106,
                    1.526315789473684,
                    1.7368421052631575,
                    1.9473684210526314,
                    2.1578947368421053,
                    2.3684210526315788,
                    2.578947368421052,
                    2.789473684210526,
                    3
                  ],
                  "y": [
                    -2,
                    -2.520441231783964,
                    -3.1763120014383333,
                    -4.002853866717711,
                    -5.044478965240595,
                    -6.357156388429651,
                    -8.011419539148463,
                    -10.096156065794734,
                    -12.72338401537741,
                    -16.03427084008912,
                    -20.20671867347596,
                    -25.464923451843898,
                    -32.09142151612488,
                    -40.442270987900095,
                    -50.966183652441906,
                    -64.22863535214422,
                    -80.9422504013807,
                    -102.005092652511,
                    -128.54892068666615,
                    -162
                  ]
                },
                {
                  "mode": "lines+markers",
                  "name": "-2.0*3^x",
                  "showlegend": true,
                  "type": "scatter",
                  "x": [
                    -1,
                    -0.7894736842105263,
                    -0.5789473684210527,
                    -0.368421052631579,
                    -0.1578947368421053,
                    0.05263157894736836,
                    0.26315789473684204,
                    0.4736842105263157,
                    0.6842105263157894,
                    0.894736842105263,
                    1.1052631578947367,
                    1.3157894736842106,
                    1.526315789473684,
                    1.7368421052631575,
                    1.9473684210526314,
                    2.1578947368421053,
                    2.3684210526315788,
                    2.578947368421052,
                    2.789473684210526,
                    3
                  ],
                  "y": [
                    -0.6666666666666666,
                    -0.8401470772613213,
                    -1.058770667146111,
                    -1.3342846222392368,
                    -1.6814929884135317,
                    -2.1190521294765503,
                    -2.6704731797161543,
                    -3.3653853552649116,
                    -4.241128005125804,
                    -5.344756946696374,
                    -6.735572891158654,
                    -8.4883078172813,
                    -10.69714050537496,
                    -13.480756995966699,
                    -16.988727884147302,
                    -21.40954511738141,
                    -26.98075013379357,
                    -34.001697550837,
                    -42.84964022888872,
                    -54
                  ]
                }
              ],
              "layout": {
                "autosize": false,
                "template": {
                  "data": {
                    "bar": [
                      {
                        "error_x": {
                          "color": "#2a3f5f"
                        },
                        "error_y": {
                          "color": "#2a3f5f"
                        },
                        "marker": {
                          "line": {
                            "color": "#E5ECF6",
                            "width": 0.5
                          },
                          "pattern": {
                            "fillmode": "overlay",
                            "size": 10,
                            "solidity": 0.2
                          }
                        },
                        "type": "bar"
                      }
                    ],
                    "barpolar": [
                      {
                        "marker": {
                          "line": {
                            "color": "#E5ECF6",
                            "width": 0.5
                          },
                          "pattern": {
                            "fillmode": "overlay",
                            "size": 10,
                            "solidity": 0.2
                          }
                        },
                        "type": "barpolar"
                      }
                    ],
                    "carpet": [
                      {
                        "aaxis": {
                          "endlinecolor": "#2a3f5f",
                          "gridcolor": "white",
                          "linecolor": "white",
                          "minorgridcolor": "white",
                          "startlinecolor": "#2a3f5f"
                        },
                        "baxis": {
                          "endlinecolor": "#2a3f5f",
                          "gridcolor": "white",
                          "linecolor": "white",
                          "minorgridcolor": "white",
                          "startlinecolor": "#2a3f5f"
                        },
                        "type": "carpet"
                      }
                    ],
                    "choropleth": [
                      {
                        "colorbar": {
                          "outlinewidth": 0,
                          "ticks": ""
                        },
                        "type": "choropleth"
                      }
                    ],
                    "contour": [
                      {
                        "colorbar": {
                          "outlinewidth": 0,
                          "ticks": ""
                        },
                        "colorscale": [
                          [
                            0,
                            "#0d0887"
                          ],
                          [
                            0.1111111111111111,
                            "#46039f"
                          ],
                          [
                            0.2222222222222222,
                            "#7201a8"
                          ],
                          [
                            0.3333333333333333,
                            "#9c179e"
                          ],
                          [
                            0.4444444444444444,
                            "#bd3786"
                          ],
                          [
                            0.5555555555555556,
                            "#d8576b"
                          ],
                          [
                            0.6666666666666666,
                            "#ed7953"
                          ],
                          [
                            0.7777777777777778,
                            "#fb9f3a"
                          ],
                          [
                            0.8888888888888888,
                            "#fdca26"
                          ],
                          [
                            1,
                            "#f0f921"
                          ]
                        ],
                        "type": "contour"
                      }
                    ],
                    "contourcarpet": [
                      {
                        "colorbar": {
                          "outlinewidth": 0,
                          "ticks": ""
                        },
                        "type": "contourcarpet"
                      }
                    ],
                    "heatmap": [
                      {
                        "colorbar": {
                          "outlinewidth": 0,
                          "ticks": ""
                        },
                        "colorscale": [
                          [
                            0,
                            "#0d0887"
                          ],
                          [
                            0.1111111111111111,
                            "#46039f"
                          ],
                          [
                            0.2222222222222222,
                            "#7201a8"
                          ],
                          [
                            0.3333333333333333,
                            "#9c179e"
                          ],
                          [
                            0.4444444444444444,
                            "#bd3786"
                          ],
                          [
                            0.5555555555555556,
                            "#d8576b"
                          ],
                          [
                            0.6666666666666666,
                            "#ed7953"
                          ],
                          [
                            0.7777777777777778,
                            "#fb9f3a"
                          ],
                          [
                            0.8888888888888888,
                            "#fdca26"
                          ],
                          [
                            1,
                            "#f0f921"
                          ]
                        ],
                        "type": "heatmap"
                      }
                    ],
                    "heatmapgl": [
                      {
                        "colorbar": {
                          "outlinewidth": 0,
                          "ticks": ""
                        },
                        "colorscale": [
                          [
                            0,
                            "#0d0887"
                          ],
                          [
                            0.1111111111111111,
                            "#46039f"
                          ],
                          [
                            0.2222222222222222,
                            "#7201a8"
                          ],
                          [
                            0.3333333333333333,
                            "#9c179e"
                          ],
                          [
                            0.4444444444444444,
                            "#bd3786"
                          ],
                          [
                            0.5555555555555556,
                            "#d8576b"
                          ],
                          [
                            0.6666666666666666,
                            "#ed7953"
                          ],
                          [
                            0.7777777777777778,
                            "#fb9f3a"
                          ],
                          [
                            0.8888888888888888,
                            "#fdca26"
                          ],
                          [
                            1,
                            "#f0f921"
                          ]
                        ],
                        "type": "heatmapgl"
                      }
                    ],
                    "histogram": [
                      {
                        "marker": {
                          "pattern": {
                            "fillmode": "overlay",
                            "size": 10,
                            "solidity": 0.2
                          }
                        },
                        "type": "histogram"
                      }
                    ],
                    "histogram2d": [
                      {
                        "colorbar": {
                          "outlinewidth": 0,
                          "ticks": ""
                        },
                        "colorscale": [
                          [
                            0,
                            "#0d0887"
                          ],
                          [
                            0.1111111111111111,
                            "#46039f"
                          ],
                          [
                            0.2222222222222222,
                            "#7201a8"
                          ],
                          [
                            0.3333333333333333,
                            "#9c179e"
                          ],
                          [
                            0.4444444444444444,
                            "#bd3786"
                          ],
                          [
                            0.5555555555555556,
                            "#d8576b"
                          ],
                          [
                            0.6666666666666666,
                            "#ed7953"
                          ],
                          [
                            0.7777777777777778,
                            "#fb9f3a"
                          ],
                          [
                            0.8888888888888888,
                            "#fdca26"
                          ],
                          [
                            1,
                            "#f0f921"
                          ]
                        ],
                        "type": "histogram2d"
                      }
                    ],
                    "histogram2dcontour": [
                      {
                        "colorbar": {
                          "outlinewidth": 0,
                          "ticks": ""
                        },
                        "colorscale": [
                          [
                            0,
                            "#0d0887"
                          ],
                          [
                            0.1111111111111111,
                            "#46039f"
                          ],
                          [
                            0.2222222222222222,
                            "#7201a8"
                          ],
                          [
                            0.3333333333333333,
                            "#9c179e"
                          ],
                          [
                            0.4444444444444444,
                            "#bd3786"
                          ],
                          [
                            0.5555555555555556,
                            "#d8576b"
                          ],
                          [
                            0.6666666666666666,
                            "#ed7953"
                          ],
                          [
                            0.7777777777777778,
                            "#fb9f3a"
                          ],
                          [
                            0.8888888888888888,
                            "#fdca26"
                          ],
                          [
                            1,
                            "#f0f921"
                          ]
                        ],
                        "type": "histogram2dcontour"
                      }
                    ],
                    "mesh3d": [
                      {
                        "colorbar": {
                          "outlinewidth": 0,
                          "ticks": ""
                        },
                        "type": "mesh3d"
                      }
                    ],
                    "parcoords": [
                      {
                        "line": {
                          "colorbar": {
                            "outlinewidth": 0,
                            "ticks": ""
                          }
                        },
                        "type": "parcoords"
                      }
                    ],
                    "pie": [
                      {
                        "automargin": true,
                        "type": "pie"
                      }
                    ],
                    "scatter": [
                      {
                        "fillpattern": {
                          "fillmode": "overlay",
                          "size": 10,
                          "solidity": 0.2
                        },
                        "type": "scatter"
                      }
                    ],
                    "scatter3d": [
                      {
                        "line": {
                          "colorbar": {
                            "outlinewidth": 0,
                            "ticks": ""
                          }
                        },
                        "marker": {
                          "colorbar": {
                            "outlinewidth": 0,
                            "ticks": ""
                          }
                        },
                        "type": "scatter3d"
                      }
                    ],
                    "scattercarpet": [
                      {
                        "marker": {
                          "colorbar": {
                            "outlinewidth": 0,
                            "ticks": ""
                          }
                        },
                        "type": "scattercarpet"
                      }
                    ],
                    "scattergeo": [
                      {
                        "marker": {
                          "colorbar": {
                            "outlinewidth": 0,
                            "ticks": ""
                          }
                        },
                        "type": "scattergeo"
                      }
                    ],
                    "scattergl": [
                      {
                        "marker": {
                          "colorbar": {
                            "outlinewidth": 0,
                            "ticks": ""
                          }
                        },
                        "type": "scattergl"
                      }
                    ],
                    "scattermapbox": [
                      {
                        "marker": {
                          "colorbar": {
                            "outlinewidth": 0,
                            "ticks": ""
                          }
                        },
                        "type": "scattermapbox"
                      }
                    ],
                    "scatterpolar": [
                      {
                        "marker": {
                          "colorbar": {
                            "outlinewidth": 0,
                            "ticks": ""
                          }
                        },
                        "type": "scatterpolar"
                      }
                    ],
                    "scatterpolargl": [
                      {
                        "marker": {
                          "colorbar": {
                            "outlinewidth": 0,
                            "ticks": ""
                          }
                        },
                        "type": "scatterpolargl"
                      }
                    ],
                    "scatterternary": [
                      {
                        "marker": {
                          "colorbar": {
                            "outlinewidth": 0,
                            "ticks": ""
                          }
                        },
                        "type": "scatterternary"
                      }
                    ],
                    "surface": [
                      {
                        "colorbar": {
                          "outlinewidth": 0,
                          "ticks": ""
                        },
                        "colorscale": [
                          [
                            0,
                            "#0d0887"
                          ],
                          [
                            0.1111111111111111,
                            "#46039f"
                          ],
                          [
                            0.2222222222222222,
                            "#7201a8"
                          ],
                          [
                            0.3333333333333333,
                            "#9c179e"
                          ],
                          [
                            0.4444444444444444,
                            "#bd3786"
                          ],
                          [
                            0.5555555555555556,
                            "#d8576b"
                          ],
                          [
                            0.6666666666666666,
                            "#ed7953"
                          ],
                          [
                            0.7777777777777778,
                            "#fb9f3a"
                          ],
                          [
                            0.8888888888888888,
                            "#fdca26"
                          ],
                          [
                            1,
                            "#f0f921"
                          ]
                        ],
                        "type": "surface"
                      }
                    ],
                    "table": [
                      {
                        "cells": {
                          "fill": {
                            "color": "#EBF0F8"
                          },
                          "line": {
                            "color": "white"
                          }
                        },
                        "header": {
                          "fill": {
                            "color": "#C8D4E3"
                          },
                          "line": {
                            "color": "white"
                          }
                        },
                        "type": "table"
                      }
                    ]
                  },
                  "layout": {
                    "annotationdefaults": {
                      "arrowcolor": "#2a3f5f",
                      "arrowhead": 0,
                      "arrowwidth": 1
                    },
                    "autotypenumbers": "strict",
                    "coloraxis": {
                      "colorbar": {
                        "outlinewidth": 0,
                        "ticks": ""
                      }
                    },
                    "colorscale": {
                      "diverging": [
                        [
                          0,
                          "#8e0152"
                        ],
                        [
                          0.1,
                          "#c51b7d"
                        ],
                        [
                          0.2,
                          "#de77ae"
                        ],
                        [
                          0.3,
                          "#f1b6da"
                        ],
                        [
                          0.4,
                          "#fde0ef"
                        ],
                        [
                          0.5,
                          "#f7f7f7"
                        ],
                        [
                          0.6,
                          "#e6f5d0"
                        ],
                        [
                          0.7,
                          "#b8e186"
                        ],
                        [
                          0.8,
                          "#7fbc41"
                        ],
                        [
                          0.9,
                          "#4d9221"
                        ],
                        [
                          1,
                          "#276419"
                        ]
                      ],
                      "sequential": [
                        [
                          0,
                          "#0d0887"
                        ],
                        [
                          0.1111111111111111,
                          "#46039f"
                        ],
                        [
                          0.2222222222222222,
                          "#7201a8"
                        ],
                        [
                          0.3333333333333333,
                          "#9c179e"
                        ],
                        [
                          0.4444444444444444,
                          "#bd3786"
                        ],
                        [
                          0.5555555555555556,
                          "#d8576b"
                        ],
                        [
                          0.6666666666666666,
                          "#ed7953"
                        ],
                        [
                          0.7777777777777778,
                          "#fb9f3a"
                        ],
                        [
                          0.8888888888888888,
                          "#fdca26"
                        ],
                        [
                          1,
                          "#f0f921"
                        ]
                      ],
                      "sequentialminus": [
                        [
                          0,
                          "#0d0887"
                        ],
                        [
                          0.1111111111111111,
                          "#46039f"
                        ],
                        [
                          0.2222222222222222,
                          "#7201a8"
                        ],
                        [
                          0.3333333333333333,
                          "#9c179e"
                        ],
                        [
                          0.4444444444444444,
                          "#bd3786"
                        ],
                        [
                          0.5555555555555556,
                          "#d8576b"
                        ],
                        [
                          0.6666666666666666,
                          "#ed7953"
                        ],
                        [
                          0.7777777777777778,
                          "#fb9f3a"
                        ],
                        [
                          0.8888888888888888,
                          "#fdca26"
                        ],
                        [
                          1,
                          "#f0f921"
                        ]
                      ]
                    },
                    "colorway": [
                      "#636efa",
                      "#EF553B",
                      "#00cc96",
                      "#ab63fa",
                      "#FFA15A",
                      "#19d3f3",
                      "#FF6692",
                      "#B6E880",
                      "#FF97FF",
                      "#FECB52"
                    ],
                    "font": {
                      "color": "#2a3f5f"
                    },
                    "geo": {
                      "bgcolor": "white",
                      "lakecolor": "white",
                      "landcolor": "#E5ECF6",
                      "showlakes": true,
                      "showland": true,
                      "subunitcolor": "white"
                    },
                    "hoverlabel": {
                      "align": "left"
                    },
                    "hovermode": "closest",
                    "mapbox": {
                      "style": "light"
                    },
                    "paper_bgcolor": "white",
                    "plot_bgcolor": "#E5ECF6",
                    "polar": {
                      "angularaxis": {
                        "gridcolor": "white",
                        "linecolor": "white",
                        "ticks": ""
                      },
                      "bgcolor": "#E5ECF6",
                      "radialaxis": {
                        "gridcolor": "white",
                        "linecolor": "white",
                        "ticks": ""
                      }
                    },
                    "scene": {
                      "xaxis": {
                        "backgroundcolor": "#E5ECF6",
                        "gridcolor": "white",
                        "gridwidth": 2,
                        "linecolor": "white",
                        "showbackground": true,
                        "ticks": "",
                        "zerolinecolor": "white"
                      },
                      "yaxis": {
                        "backgroundcolor": "#E5ECF6",
                        "gridcolor": "white",
                        "gridwidth": 2,
                        "linecolor": "white",
                        "showbackground": true,
                        "ticks": "",
                        "zerolinecolor": "white"
                      },
                      "zaxis": {
                        "backgroundcolor": "#E5ECF6",
                        "gridcolor": "white",
                        "gridwidth": 2,
                        "linecolor": "white",
                        "showbackground": true,
                        "ticks": "",
                        "zerolinecolor": "white"
                      }
                    },
                    "shapedefaults": {
                      "line": {
                        "color": "#2a3f5f"
                      }
                    },
                    "ternary": {
                      "aaxis": {
                        "gridcolor": "white",
                        "linecolor": "white",
                        "ticks": ""
                      },
                      "baxis": {
                        "gridcolor": "white",
                        "linecolor": "white",
                        "ticks": ""
                      },
                      "bgcolor": "#E5ECF6",
                      "caxis": {
                        "gridcolor": "white",
                        "linecolor": "white",
                        "ticks": ""
                      }
                    },
                    "title": {
                      "x": 0.05
                    },
                    "xaxis": {
                      "automargin": true,
                      "gridcolor": "white",
                      "linecolor": "white",
                      "ticks": "",
                      "title": {
                        "standoff": 15
                      },
                      "zerolinecolor": "white",
                      "zerolinewidth": 2
                    },
                    "yaxis": {
                      "automargin": true,
                      "gridcolor": "white",
                      "linecolor": "white",
                      "ticks": "",
                      "title": {
                        "standoff": 15
                      },
                      "zerolinecolor": "white",
                      "zerolinewidth": 2
                    }
                  }
                },
                "title": {
                  "text": "Vertical Dilations",
                  "x": 0.5,
                  "xanchor": "center",
                  "y": 0.95,
                  "yanchor": "top"
                },
                "xaxis": {
                  "title": {
                    "text": "x"
                  }
                },
                "yaxis": {
                  "title": {
                    "text": "y"
                  }
                }
              }
            }
          },
          "metadata": {},
          "output_type": "display_data"
        }
      ],
      "source": [
        "# Define exponential function\n",
        "f = 2*(3)**x\n",
        "\n",
        "# Create a graph object\n",
        "plot = graph_funs()\n",
        "\n",
        "# Add to the list of functions:\n",
        "plot.add_vert_dilations(f, domain=[-1, 3, 20], a_range=[1, 5, 3])\n",
        "plot.add_vert_dilations(f, domain=[-1, 3, 20], a_range=[-5, -1, 3])\n",
        "plot.plot_funs(plot_title=\"Vertical Dilations\")"
      ]
    },
    {
      "cell_type": "markdown",
      "metadata": {
        "id": "0PaSAB9tTnKx"
      },
      "source": [
        "# Horizontal dilations"
      ]
    },
    {
      "cell_type": "markdown",
      "metadata": {
        "id": "CP4jOcZ1EBrA"
      },
      "source": [
        "Horizontal dilations are implemented by substituting f(x) by f(a*x).<br>\n",
        "We can implement dilations using:\n",
        "```\n",
        "plot.add_hor_dilations(f, domain=[0, 1.5, 20], x_scale_range=[1, 1.5, 3])\n",
        "```\n",
        "Here, we generate $f(x), f(1.25*x), f(1.5*x)$.\n",
        "\n",
        "## Assignment: Plot horizontal dilations\n",
        "Carefully study the code. Then do the following:\n",
        "1. Can you predict the shapes? Verify your answer.\n",
        "2. Look at the domain of x. How is it transformed for each scale?\n",
        "3. Modify the scales and try to predict the shape before you run.\n",
        "4. Can you describe generally what you would expect?"
      ]
    },
    {
      "cell_type": "code",
      "execution_count": 10,
      "metadata": {
        "colab": {
          "base_uri": "https://localhost:8080/",
          "height": 542
        },
        "id": "oXbw4GlMEBrA",
        "outputId": "2ea65a65-fa0e-4e53-8888-a210456e4911"
      },
      "outputs": [
        {
          "data": {
            "application/vnd.plotly.v1+json": {
              "config": {
                "plotlyServerURL": "https://plot.ly"
              },
              "data": [
                {
                  "mode": "lines+markers",
                  "name": "2*3^(1.0*x)",
                  "showlegend": true,
                  "type": "scatter",
                  "x": [
                    0,
                    0.07894736842105263,
                    0.15789473684210525,
                    0.23684210526315788,
                    0.3157894736842105,
                    0.39473684210526316,
                    0.47368421052631576,
                    0.5526315789473684,
                    0.631578947368421,
                    0.7105263157894737,
                    0.7894736842105263,
                    0.8684210526315789,
                    0.9473684210526315,
                    1.026315789473684,
                    1.1052631578947367,
                    1.1842105263157894,
                    1.263157894736842,
                    1.3421052631578947,
                    1.4210526315789473,
                    1.5
                  ],
                  "y": [
                    2,
                    2.1812099148755544,
                    2.378838346375712,
                    2.5943728935004358,
                    2.829435939093766,
                    3.085796861928274,
                    3.365385355264912,
                    3.6703059521404082,
                    4.00285386671771,
                    4.365532270941311,
                    4.761071136543191,
                    5.192447784227917,
                    5.662909294715768,
                    6.175996950337483,
                    6.735572891158654,
                    7.34584918628113,
                    8.011419539148463,
                    8.737293865509187,
                    9.528936004315,
                    10.392304845413264
                  ]
                },
                {
                  "mode": "lines+markers",
                  "name": "2*3^(1.25*x)",
                  "showlegend": true,
                  "type": "scatter",
                  "x": [
                    0,
                    0.07894736842105263,
                    0.15789473684210525,
                    0.23684210526315788,
                    0.3157894736842105,
                    0.39473684210526316,
                    0.47368421052631576,
                    0.5526315789473684,
                    0.631578947368421,
                    0.7105263157894737,
                    0.7894736842105263,
                    0.8684210526315789,
                    0.9473684210526315,
                    1.026315789473684,
                    1.1052631578947367,
                    1.1842105263157894,
                    1.263157894736842,
                    1.3421052631578947,
                    1.4210526315789473,
                    1.5
                  ],
                  "y": [
                    2,
                    2.2290218722543678,
                    2.4842692534941837,
                    2.7687452513037827,
                    3.085796861928274,
                    3.439154349286007,
                    3.8329751333086235,
                    4.271892703976011,
                    4.761071136543191,
                    5.306265849356867,
                    5.91389131910643,
                    6.5910965502117325,
                    7.34584918628113,
                    8.187029253251293,
                    9.124533637141738,
                    10.169392525654818,
                    11.33389918361234,
                    12.631754589098913,
                    14.078228632025478,
                    15.690339771691242
                  ]
                },
                {
                  "mode": "lines+markers",
                  "name": "2*3^(1.5*x)",
                  "showlegend": true,
                  "type": "scatter",
                  "x": [
                    0,
                    0.07894736842105263,
                    0.15789473684210525,
                    0.23684210526315788,
                    0.3157894736842105,
                    0.39473684210526316,
                    0.47368421052631576,
                    0.5526315789473684,
                    0.631578947368421,
                    0.7105263157894737,
                    0.7894736842105263,
                    0.8684210526315789,
                    0.9473684210526315,
                    1.026315789473684,
                    1.1052631578947367,
                    1.1842105263157894,
                    1.263157894736842,
                    1.3421052631578947,
                    1.4210526315789473,
                    1.5
                  ],
                  "y": [
                    2,
                    2.2778818641450376,
                    2.5943728935004358,
                    2.954837481467064,
                    3.365385355264912,
                    3.8329751333086235,
                    4.365532270941311,
                    4.972083393658556,
                    5.662909294715768,
                    6.449719190365709,
                    7.34584918628113,
                    8.366488319087184,
                    9.528936004315,
                    10.852895254413907,
                    12.360806636747592,
                    14.078228632025478,
                    16.03427084008912,
                    18.262087375714312,
                    20.799438817285846,
                    23.689332233144864
                  ]
                },
                {
                  "mode": "lines+markers",
                  "name": "2/3^(1.5*x)",
                  "showlegend": true,
                  "type": "scatter",
                  "x": [
                    0,
                    0.07894736842105263,
                    0.15789473684210525,
                    0.23684210526315788,
                    0.3157894736842105,
                    0.39473684210526316,
                    0.47368421052631576,
                    0.5526315789473684,
                    0.631578947368421,
                    0.7105263157894737,
                    0.7894736842105263,
                    0.8684210526315789,
                    0.9473684210526315,
                    1.026315789473684,
                    1.1052631578947367,
                    1.1842105263157894,
                    1.263157894736842,
                    1.3421052631578947,
                    1.4210526315789473,
                    1.5
                  ],
                  "y": [
                    2,
                    1.756017317211193,
                    1.5417984091727976,
                    1.3537123530780506,
                    1.1885711672638848,
                    1.0435757762266515,
                    0.9162685674380564,
                    0.8044917358187594,
                    0.7063507098255168,
                    0.6201820392390128,
                    0.5445252003635291,
                    0.4780978407481259,
                    0.41977404383749406,
                    0.36856524514720507,
                    0.3236034765003403,
                    0.28412665432217143,
                    0.24946566263550574,
                    0.21903301181875665,
                    0.19231288089733023,
                    0.1688523745892428
                  ]
                },
                {
                  "mode": "lines+markers",
                  "name": "2/3^(1.25*x)",
                  "showlegend": true,
                  "type": "scatter",
                  "x": [
                    0,
                    0.07894736842105263,
                    0.15789473684210525,
                    0.23684210526315788,
                    0.3157894736842105,
                    0.39473684210526316,
                    0.47368421052631576,
                    0.5526315789473684,
                    0.631578947368421,
                    0.7105263157894737,
                    0.7894736842105263,
                    0.8684210526315789,
                    0.9473684210526315,
                    1.026315789473684,
                    1.1052631578947367,
                    1.1842105263157894,
                    1.263157894736842,
                    1.3421052631578947,
                    1.4210526315789473,
                    1.5
                  ],
                  "y": [
                    2,
                    1.7945090848097047,
                    1.610131427732282,
                    1.4446977374016003,
                    1.2962616072855984,
                    1.163076615282018,
                    1.0435757762266515,
                    0.9363531055630329,
                    0.8401470772613213,
                    0.7538257813608811,
                    0.6763736065079375,
                    0.6068792908019992,
                    0.5445252003635291,
                    0.48857770948008894,
                    0.4383785691487681,
                    0.39333716246167183,
                    0.3529235557153704,
                    0.31666226348728804,
                    0.28412665432217143,
                    0.2549339312088616
                  ]
                },
                {
                  "mode": "lines+markers",
                  "name": "2/3^(1.0*x)",
                  "showlegend": true,
                  "type": "scatter",
                  "x": [
                    0,
                    0.07894736842105263,
                    0.15789473684210525,
                    0.23684210526315788,
                    0.3157894736842105,
                    0.39473684210526316,
                    0.47368421052631576,
                    0.5526315789473684,
                    0.631578947368421,
                    0.7105263157894737,
                    0.7894736842105263,
                    0.8684210526315789,
                    0.9473684210526315,
                    1.026315789473684,
                    1.1052631578947367,
                    1.1842105263157894,
                    1.263157894736842,
                    1.3421052631578947,
                    1.4210526315789473,
                    1.5
                  ],
                  "y": [
                    2,
                    1.8338445890606607,
                    1.6814929884135317,
                    1.5417984091727976,
                    1.4137093350419347,
                    1.2962616072855984,
                    1.1885711672638848,
                    1.0898274019001943,
                    0.9992870419923546,
                    0.9162685674380564,
                    0.8401470772613213,
                    0.7703495858254016,
                    0.7063507098255168,
                    0.6476687135963405,
                    0.5938618829662639,
                    0.5445252003635291,
                    0.499287296146915,
                    0.45780765321287387,
                    0.41977404383749406,
                    0.3849001794597505
                  ]
                }
              ],
              "layout": {
                "autosize": false,
                "template": {
                  "data": {
                    "bar": [
                      {
                        "error_x": {
                          "color": "#2a3f5f"
                        },
                        "error_y": {
                          "color": "#2a3f5f"
                        },
                        "marker": {
                          "line": {
                            "color": "#E5ECF6",
                            "width": 0.5
                          },
                          "pattern": {
                            "fillmode": "overlay",
                            "size": 10,
                            "solidity": 0.2
                          }
                        },
                        "type": "bar"
                      }
                    ],
                    "barpolar": [
                      {
                        "marker": {
                          "line": {
                            "color": "#E5ECF6",
                            "width": 0.5
                          },
                          "pattern": {
                            "fillmode": "overlay",
                            "size": 10,
                            "solidity": 0.2
                          }
                        },
                        "type": "barpolar"
                      }
                    ],
                    "carpet": [
                      {
                        "aaxis": {
                          "endlinecolor": "#2a3f5f",
                          "gridcolor": "white",
                          "linecolor": "white",
                          "minorgridcolor": "white",
                          "startlinecolor": "#2a3f5f"
                        },
                        "baxis": {
                          "endlinecolor": "#2a3f5f",
                          "gridcolor": "white",
                          "linecolor": "white",
                          "minorgridcolor": "white",
                          "startlinecolor": "#2a3f5f"
                        },
                        "type": "carpet"
                      }
                    ],
                    "choropleth": [
                      {
                        "colorbar": {
                          "outlinewidth": 0,
                          "ticks": ""
                        },
                        "type": "choropleth"
                      }
                    ],
                    "contour": [
                      {
                        "colorbar": {
                          "outlinewidth": 0,
                          "ticks": ""
                        },
                        "colorscale": [
                          [
                            0,
                            "#0d0887"
                          ],
                          [
                            0.1111111111111111,
                            "#46039f"
                          ],
                          [
                            0.2222222222222222,
                            "#7201a8"
                          ],
                          [
                            0.3333333333333333,
                            "#9c179e"
                          ],
                          [
                            0.4444444444444444,
                            "#bd3786"
                          ],
                          [
                            0.5555555555555556,
                            "#d8576b"
                          ],
                          [
                            0.6666666666666666,
                            "#ed7953"
                          ],
                          [
                            0.7777777777777778,
                            "#fb9f3a"
                          ],
                          [
                            0.8888888888888888,
                            "#fdca26"
                          ],
                          [
                            1,
                            "#f0f921"
                          ]
                        ],
                        "type": "contour"
                      }
                    ],
                    "contourcarpet": [
                      {
                        "colorbar": {
                          "outlinewidth": 0,
                          "ticks": ""
                        },
                        "type": "contourcarpet"
                      }
                    ],
                    "heatmap": [
                      {
                        "colorbar": {
                          "outlinewidth": 0,
                          "ticks": ""
                        },
                        "colorscale": [
                          [
                            0,
                            "#0d0887"
                          ],
                          [
                            0.1111111111111111,
                            "#46039f"
                          ],
                          [
                            0.2222222222222222,
                            "#7201a8"
                          ],
                          [
                            0.3333333333333333,
                            "#9c179e"
                          ],
                          [
                            0.4444444444444444,
                            "#bd3786"
                          ],
                          [
                            0.5555555555555556,
                            "#d8576b"
                          ],
                          [
                            0.6666666666666666,
                            "#ed7953"
                          ],
                          [
                            0.7777777777777778,
                            "#fb9f3a"
                          ],
                          [
                            0.8888888888888888,
                            "#fdca26"
                          ],
                          [
                            1,
                            "#f0f921"
                          ]
                        ],
                        "type": "heatmap"
                      }
                    ],
                    "heatmapgl": [
                      {
                        "colorbar": {
                          "outlinewidth": 0,
                          "ticks": ""
                        },
                        "colorscale": [
                          [
                            0,
                            "#0d0887"
                          ],
                          [
                            0.1111111111111111,
                            "#46039f"
                          ],
                          [
                            0.2222222222222222,
                            "#7201a8"
                          ],
                          [
                            0.3333333333333333,
                            "#9c179e"
                          ],
                          [
                            0.4444444444444444,
                            "#bd3786"
                          ],
                          [
                            0.5555555555555556,
                            "#d8576b"
                          ],
                          [
                            0.6666666666666666,
                            "#ed7953"
                          ],
                          [
                            0.7777777777777778,
                            "#fb9f3a"
                          ],
                          [
                            0.8888888888888888,
                            "#fdca26"
                          ],
                          [
                            1,
                            "#f0f921"
                          ]
                        ],
                        "type": "heatmapgl"
                      }
                    ],
                    "histogram": [
                      {
                        "marker": {
                          "pattern": {
                            "fillmode": "overlay",
                            "size": 10,
                            "solidity": 0.2
                          }
                        },
                        "type": "histogram"
                      }
                    ],
                    "histogram2d": [
                      {
                        "colorbar": {
                          "outlinewidth": 0,
                          "ticks": ""
                        },
                        "colorscale": [
                          [
                            0,
                            "#0d0887"
                          ],
                          [
                            0.1111111111111111,
                            "#46039f"
                          ],
                          [
                            0.2222222222222222,
                            "#7201a8"
                          ],
                          [
                            0.3333333333333333,
                            "#9c179e"
                          ],
                          [
                            0.4444444444444444,
                            "#bd3786"
                          ],
                          [
                            0.5555555555555556,
                            "#d8576b"
                          ],
                          [
                            0.6666666666666666,
                            "#ed7953"
                          ],
                          [
                            0.7777777777777778,
                            "#fb9f3a"
                          ],
                          [
                            0.8888888888888888,
                            "#fdca26"
                          ],
                          [
                            1,
                            "#f0f921"
                          ]
                        ],
                        "type": "histogram2d"
                      }
                    ],
                    "histogram2dcontour": [
                      {
                        "colorbar": {
                          "outlinewidth": 0,
                          "ticks": ""
                        },
                        "colorscale": [
                          [
                            0,
                            "#0d0887"
                          ],
                          [
                            0.1111111111111111,
                            "#46039f"
                          ],
                          [
                            0.2222222222222222,
                            "#7201a8"
                          ],
                          [
                            0.3333333333333333,
                            "#9c179e"
                          ],
                          [
                            0.4444444444444444,
                            "#bd3786"
                          ],
                          [
                            0.5555555555555556,
                            "#d8576b"
                          ],
                          [
                            0.6666666666666666,
                            "#ed7953"
                          ],
                          [
                            0.7777777777777778,
                            "#fb9f3a"
                          ],
                          [
                            0.8888888888888888,
                            "#fdca26"
                          ],
                          [
                            1,
                            "#f0f921"
                          ]
                        ],
                        "type": "histogram2dcontour"
                      }
                    ],
                    "mesh3d": [
                      {
                        "colorbar": {
                          "outlinewidth": 0,
                          "ticks": ""
                        },
                        "type": "mesh3d"
                      }
                    ],
                    "parcoords": [
                      {
                        "line": {
                          "colorbar": {
                            "outlinewidth": 0,
                            "ticks": ""
                          }
                        },
                        "type": "parcoords"
                      }
                    ],
                    "pie": [
                      {
                        "automargin": true,
                        "type": "pie"
                      }
                    ],
                    "scatter": [
                      {
                        "fillpattern": {
                          "fillmode": "overlay",
                          "size": 10,
                          "solidity": 0.2
                        },
                        "type": "scatter"
                      }
                    ],
                    "scatter3d": [
                      {
                        "line": {
                          "colorbar": {
                            "outlinewidth": 0,
                            "ticks": ""
                          }
                        },
                        "marker": {
                          "colorbar": {
                            "outlinewidth": 0,
                            "ticks": ""
                          }
                        },
                        "type": "scatter3d"
                      }
                    ],
                    "scattercarpet": [
                      {
                        "marker": {
                          "colorbar": {
                            "outlinewidth": 0,
                            "ticks": ""
                          }
                        },
                        "type": "scattercarpet"
                      }
                    ],
                    "scattergeo": [
                      {
                        "marker": {
                          "colorbar": {
                            "outlinewidth": 0,
                            "ticks": ""
                          }
                        },
                        "type": "scattergeo"
                      }
                    ],
                    "scattergl": [
                      {
                        "marker": {
                          "colorbar": {
                            "outlinewidth": 0,
                            "ticks": ""
                          }
                        },
                        "type": "scattergl"
                      }
                    ],
                    "scattermapbox": [
                      {
                        "marker": {
                          "colorbar": {
                            "outlinewidth": 0,
                            "ticks": ""
                          }
                        },
                        "type": "scattermapbox"
                      }
                    ],
                    "scatterpolar": [
                      {
                        "marker": {
                          "colorbar": {
                            "outlinewidth": 0,
                            "ticks": ""
                          }
                        },
                        "type": "scatterpolar"
                      }
                    ],
                    "scatterpolargl": [
                      {
                        "marker": {
                          "colorbar": {
                            "outlinewidth": 0,
                            "ticks": ""
                          }
                        },
                        "type": "scatterpolargl"
                      }
                    ],
                    "scatterternary": [
                      {
                        "marker": {
                          "colorbar": {
                            "outlinewidth": 0,
                            "ticks": ""
                          }
                        },
                        "type": "scatterternary"
                      }
                    ],
                    "surface": [
                      {
                        "colorbar": {
                          "outlinewidth": 0,
                          "ticks": ""
                        },
                        "colorscale": [
                          [
                            0,
                            "#0d0887"
                          ],
                          [
                            0.1111111111111111,
                            "#46039f"
                          ],
                          [
                            0.2222222222222222,
                            "#7201a8"
                          ],
                          [
                            0.3333333333333333,
                            "#9c179e"
                          ],
                          [
                            0.4444444444444444,
                            "#bd3786"
                          ],
                          [
                            0.5555555555555556,
                            "#d8576b"
                          ],
                          [
                            0.6666666666666666,
                            "#ed7953"
                          ],
                          [
                            0.7777777777777778,
                            "#fb9f3a"
                          ],
                          [
                            0.8888888888888888,
                            "#fdca26"
                          ],
                          [
                            1,
                            "#f0f921"
                          ]
                        ],
                        "type": "surface"
                      }
                    ],
                    "table": [
                      {
                        "cells": {
                          "fill": {
                            "color": "#EBF0F8"
                          },
                          "line": {
                            "color": "white"
                          }
                        },
                        "header": {
                          "fill": {
                            "color": "#C8D4E3"
                          },
                          "line": {
                            "color": "white"
                          }
                        },
                        "type": "table"
                      }
                    ]
                  },
                  "layout": {
                    "annotationdefaults": {
                      "arrowcolor": "#2a3f5f",
                      "arrowhead": 0,
                      "arrowwidth": 1
                    },
                    "autotypenumbers": "strict",
                    "coloraxis": {
                      "colorbar": {
                        "outlinewidth": 0,
                        "ticks": ""
                      }
                    },
                    "colorscale": {
                      "diverging": [
                        [
                          0,
                          "#8e0152"
                        ],
                        [
                          0.1,
                          "#c51b7d"
                        ],
                        [
                          0.2,
                          "#de77ae"
                        ],
                        [
                          0.3,
                          "#f1b6da"
                        ],
                        [
                          0.4,
                          "#fde0ef"
                        ],
                        [
                          0.5,
                          "#f7f7f7"
                        ],
                        [
                          0.6,
                          "#e6f5d0"
                        ],
                        [
                          0.7,
                          "#b8e186"
                        ],
                        [
                          0.8,
                          "#7fbc41"
                        ],
                        [
                          0.9,
                          "#4d9221"
                        ],
                        [
                          1,
                          "#276419"
                        ]
                      ],
                      "sequential": [
                        [
                          0,
                          "#0d0887"
                        ],
                        [
                          0.1111111111111111,
                          "#46039f"
                        ],
                        [
                          0.2222222222222222,
                          "#7201a8"
                        ],
                        [
                          0.3333333333333333,
                          "#9c179e"
                        ],
                        [
                          0.4444444444444444,
                          "#bd3786"
                        ],
                        [
                          0.5555555555555556,
                          "#d8576b"
                        ],
                        [
                          0.6666666666666666,
                          "#ed7953"
                        ],
                        [
                          0.7777777777777778,
                          "#fb9f3a"
                        ],
                        [
                          0.8888888888888888,
                          "#fdca26"
                        ],
                        [
                          1,
                          "#f0f921"
                        ]
                      ],
                      "sequentialminus": [
                        [
                          0,
                          "#0d0887"
                        ],
                        [
                          0.1111111111111111,
                          "#46039f"
                        ],
                        [
                          0.2222222222222222,
                          "#7201a8"
                        ],
                        [
                          0.3333333333333333,
                          "#9c179e"
                        ],
                        [
                          0.4444444444444444,
                          "#bd3786"
                        ],
                        [
                          0.5555555555555556,
                          "#d8576b"
                        ],
                        [
                          0.6666666666666666,
                          "#ed7953"
                        ],
                        [
                          0.7777777777777778,
                          "#fb9f3a"
                        ],
                        [
                          0.8888888888888888,
                          "#fdca26"
                        ],
                        [
                          1,
                          "#f0f921"
                        ]
                      ]
                    },
                    "colorway": [
                      "#636efa",
                      "#EF553B",
                      "#00cc96",
                      "#ab63fa",
                      "#FFA15A",
                      "#19d3f3",
                      "#FF6692",
                      "#B6E880",
                      "#FF97FF",
                      "#FECB52"
                    ],
                    "font": {
                      "color": "#2a3f5f"
                    },
                    "geo": {
                      "bgcolor": "white",
                      "lakecolor": "white",
                      "landcolor": "#E5ECF6",
                      "showlakes": true,
                      "showland": true,
                      "subunitcolor": "white"
                    },
                    "hoverlabel": {
                      "align": "left"
                    },
                    "hovermode": "closest",
                    "mapbox": {
                      "style": "light"
                    },
                    "paper_bgcolor": "white",
                    "plot_bgcolor": "#E5ECF6",
                    "polar": {
                      "angularaxis": {
                        "gridcolor": "white",
                        "linecolor": "white",
                        "ticks": ""
                      },
                      "bgcolor": "#E5ECF6",
                      "radialaxis": {
                        "gridcolor": "white",
                        "linecolor": "white",
                        "ticks": ""
                      }
                    },
                    "scene": {
                      "xaxis": {
                        "backgroundcolor": "#E5ECF6",
                        "gridcolor": "white",
                        "gridwidth": 2,
                        "linecolor": "white",
                        "showbackground": true,
                        "ticks": "",
                        "zerolinecolor": "white"
                      },
                      "yaxis": {
                        "backgroundcolor": "#E5ECF6",
                        "gridcolor": "white",
                        "gridwidth": 2,
                        "linecolor": "white",
                        "showbackground": true,
                        "ticks": "",
                        "zerolinecolor": "white"
                      },
                      "zaxis": {
                        "backgroundcolor": "#E5ECF6",
                        "gridcolor": "white",
                        "gridwidth": 2,
                        "linecolor": "white",
                        "showbackground": true,
                        "ticks": "",
                        "zerolinecolor": "white"
                      }
                    },
                    "shapedefaults": {
                      "line": {
                        "color": "#2a3f5f"
                      }
                    },
                    "ternary": {
                      "aaxis": {
                        "gridcolor": "white",
                        "linecolor": "white",
                        "ticks": ""
                      },
                      "baxis": {
                        "gridcolor": "white",
                        "linecolor": "white",
                        "ticks": ""
                      },
                      "bgcolor": "#E5ECF6",
                      "caxis": {
                        "gridcolor": "white",
                        "linecolor": "white",
                        "ticks": ""
                      }
                    },
                    "title": {
                      "x": 0.05
                    },
                    "xaxis": {
                      "automargin": true,
                      "gridcolor": "white",
                      "linecolor": "white",
                      "ticks": "",
                      "title": {
                        "standoff": 15
                      },
                      "zerolinecolor": "white",
                      "zerolinewidth": 2
                    },
                    "yaxis": {
                      "automargin": true,
                      "gridcolor": "white",
                      "linecolor": "white",
                      "ticks": "",
                      "title": {
                        "standoff": 15
                      },
                      "zerolinecolor": "white",
                      "zerolinewidth": 2
                    }
                  }
                },
                "title": {
                  "text": "Horizontal Dilations",
                  "x": 0.5,
                  "xanchor": "center",
                  "y": 0.95,
                  "yanchor": "top"
                },
                "xaxis": {
                  "title": {
                    "text": "x"
                  }
                },
                "yaxis": {
                  "title": {
                    "text": "y"
                  }
                }
              }
            }
          },
          "metadata": {},
          "output_type": "display_data"
        }
      ],
      "source": [
        "# Define exponential function\n",
        "f = 2*(3)**x\n",
        "\n",
        "# Create a graph object\n",
        "plot = graph_funs()\n",
        "\n",
        "# Add to the list of functions:\n",
        "plot.add_hor_dilations(f, domain=[0, 1.5, 20], x_scale_range=[1, 1.5, 3])\n",
        "plot.add_hor_dilations(f, domain=[0, 1.5, 20], x_scale_range=[-1.5, -1.0, 3])\n",
        "\n",
        "\n",
        "plot.plot_funs(plot_title=\"Horizontal Dilations\")"
      ]
    },
    {
      "cell_type": "markdown",
      "metadata": {
        "id": "pHOGHQ2MTnKx"
      },
      "source": [
        "# Visualizing multiple transformations"
      ]
    },
    {
      "cell_type": "markdown",
      "metadata": {
        "id": "N0oBe2hrEBrA"
      },
      "source": [
        "You can combine multiple transformations by simply adding to the list.\n",
        "\n",
        "## Assignment: Visualize multiple transformations\n",
        "Modify the code below to add:\n",
        "1. A horizontal translation.\n",
        "2. A vertical translation.\n",
        "3. Reflection across x.\n",
        "4. Reflection across y.\n",
        "5. A vertical dilation.\n",
        "6. A horizontal dilation."
      ]
    },
    {
      "cell_type": "code",
      "execution_count": 11,
      "metadata": {
        "colab": {
          "base_uri": "https://localhost:8080/",
          "height": 542
        },
        "id": "bJ-XTq1sEBrA",
        "outputId": "686e7ad2-4d74-4ffd-b6a5-9740835c438d"
      },
      "outputs": [
        {
          "name": "stdout",
          "output_type": "stream",
          "text": [
            "['x', 'y=2*3.0**x']\n",
            "[[0.0, 0.10526315789473684, 0.21052631578947367, 0.3157894736842105, 0.42105263157894735, 0.5263157894736842, 0.631578947368421, 0.7368421052631579, 0.8421052631578947, 0.9473684210526315, 1.0526315789473684, 1.1578947368421053, 1.263157894736842, 1.3684210526315788, 1.4736842105263157, 1.5789473684210527, 1.6842105263157894, 1.789473684210526, 1.894736842105263, 2.0], [2.0, 2.2451909637195513, 2.520441231783964, 2.829435939093766, 3.1763120014383333, 3.565713501791654, 4.00285386671771, 4.493585665322235, 5.044478965240595, 5.662909294715768, 6.357156388429651, 7.136515039127136, 8.011419539148463, 8.99358337793119, 10.096156065794736, 11.33389918361234, 12.72338401537741, 14.283213409629571, 16.03427084008912, 18.0]]\n"
          ]
        },
        {
          "data": {
            "application/vnd.plotly.v1+json": {
              "config": {
                "plotlyServerURL": "https://plot.ly"
              },
              "data": [
                {
                  "cells": {
                    "format": [
                      ".5f",
                      ".5f"
                    ],
                    "values": [
                      [
                        0,
                        0.10526315789473684,
                        0.21052631578947367,
                        0.3157894736842105,
                        0.42105263157894735,
                        0.5263157894736842,
                        0.631578947368421,
                        0.7368421052631579,
                        0.8421052631578947,
                        0.9473684210526315,
                        1.0526315789473684,
                        1.1578947368421053,
                        1.263157894736842,
                        1.3684210526315788,
                        1.4736842105263157,
                        1.5789473684210527,
                        1.6842105263157894,
                        1.789473684210526,
                        1.894736842105263,
                        2
                      ],
                      [
                        2,
                        2.2451909637195513,
                        2.520441231783964,
                        2.829435939093766,
                        3.1763120014383333,
                        3.565713501791654,
                        4.00285386671771,
                        4.493585665322235,
                        5.044478965240595,
                        5.662909294715768,
                        6.357156388429651,
                        7.136515039127136,
                        8.011419539148463,
                        8.99358337793119,
                        10.096156065794736,
                        11.33389918361234,
                        12.72338401537741,
                        14.283213409629571,
                        16.03427084008912,
                        18
                      ]
                    ]
                  },
                  "header": {
                    "values": [
                      "x",
                      "y=2*3.0**x"
                    ]
                  },
                  "type": "table"
                }
              ],
              "layout": {
                "autosize": false,
                "template": {
                  "data": {
                    "bar": [
                      {
                        "error_x": {
                          "color": "#2a3f5f"
                        },
                        "error_y": {
                          "color": "#2a3f5f"
                        },
                        "marker": {
                          "line": {
                            "color": "#E5ECF6",
                            "width": 0.5
                          },
                          "pattern": {
                            "fillmode": "overlay",
                            "size": 10,
                            "solidity": 0.2
                          }
                        },
                        "type": "bar"
                      }
                    ],
                    "barpolar": [
                      {
                        "marker": {
                          "line": {
                            "color": "#E5ECF6",
                            "width": 0.5
                          },
                          "pattern": {
                            "fillmode": "overlay",
                            "size": 10,
                            "solidity": 0.2
                          }
                        },
                        "type": "barpolar"
                      }
                    ],
                    "carpet": [
                      {
                        "aaxis": {
                          "endlinecolor": "#2a3f5f",
                          "gridcolor": "white",
                          "linecolor": "white",
                          "minorgridcolor": "white",
                          "startlinecolor": "#2a3f5f"
                        },
                        "baxis": {
                          "endlinecolor": "#2a3f5f",
                          "gridcolor": "white",
                          "linecolor": "white",
                          "minorgridcolor": "white",
                          "startlinecolor": "#2a3f5f"
                        },
                        "type": "carpet"
                      }
                    ],
                    "choropleth": [
                      {
                        "colorbar": {
                          "outlinewidth": 0,
                          "ticks": ""
                        },
                        "type": "choropleth"
                      }
                    ],
                    "contour": [
                      {
                        "colorbar": {
                          "outlinewidth": 0,
                          "ticks": ""
                        },
                        "colorscale": [
                          [
                            0,
                            "#0d0887"
                          ],
                          [
                            0.1111111111111111,
                            "#46039f"
                          ],
                          [
                            0.2222222222222222,
                            "#7201a8"
                          ],
                          [
                            0.3333333333333333,
                            "#9c179e"
                          ],
                          [
                            0.4444444444444444,
                            "#bd3786"
                          ],
                          [
                            0.5555555555555556,
                            "#d8576b"
                          ],
                          [
                            0.6666666666666666,
                            "#ed7953"
                          ],
                          [
                            0.7777777777777778,
                            "#fb9f3a"
                          ],
                          [
                            0.8888888888888888,
                            "#fdca26"
                          ],
                          [
                            1,
                            "#f0f921"
                          ]
                        ],
                        "type": "contour"
                      }
                    ],
                    "contourcarpet": [
                      {
                        "colorbar": {
                          "outlinewidth": 0,
                          "ticks": ""
                        },
                        "type": "contourcarpet"
                      }
                    ],
                    "heatmap": [
                      {
                        "colorbar": {
                          "outlinewidth": 0,
                          "ticks": ""
                        },
                        "colorscale": [
                          [
                            0,
                            "#0d0887"
                          ],
                          [
                            0.1111111111111111,
                            "#46039f"
                          ],
                          [
                            0.2222222222222222,
                            "#7201a8"
                          ],
                          [
                            0.3333333333333333,
                            "#9c179e"
                          ],
                          [
                            0.4444444444444444,
                            "#bd3786"
                          ],
                          [
                            0.5555555555555556,
                            "#d8576b"
                          ],
                          [
                            0.6666666666666666,
                            "#ed7953"
                          ],
                          [
                            0.7777777777777778,
                            "#fb9f3a"
                          ],
                          [
                            0.8888888888888888,
                            "#fdca26"
                          ],
                          [
                            1,
                            "#f0f921"
                          ]
                        ],
                        "type": "heatmap"
                      }
                    ],
                    "heatmapgl": [
                      {
                        "colorbar": {
                          "outlinewidth": 0,
                          "ticks": ""
                        },
                        "colorscale": [
                          [
                            0,
                            "#0d0887"
                          ],
                          [
                            0.1111111111111111,
                            "#46039f"
                          ],
                          [
                            0.2222222222222222,
                            "#7201a8"
                          ],
                          [
                            0.3333333333333333,
                            "#9c179e"
                          ],
                          [
                            0.4444444444444444,
                            "#bd3786"
                          ],
                          [
                            0.5555555555555556,
                            "#d8576b"
                          ],
                          [
                            0.6666666666666666,
                            "#ed7953"
                          ],
                          [
                            0.7777777777777778,
                            "#fb9f3a"
                          ],
                          [
                            0.8888888888888888,
                            "#fdca26"
                          ],
                          [
                            1,
                            "#f0f921"
                          ]
                        ],
                        "type": "heatmapgl"
                      }
                    ],
                    "histogram": [
                      {
                        "marker": {
                          "pattern": {
                            "fillmode": "overlay",
                            "size": 10,
                            "solidity": 0.2
                          }
                        },
                        "type": "histogram"
                      }
                    ],
                    "histogram2d": [
                      {
                        "colorbar": {
                          "outlinewidth": 0,
                          "ticks": ""
                        },
                        "colorscale": [
                          [
                            0,
                            "#0d0887"
                          ],
                          [
                            0.1111111111111111,
                            "#46039f"
                          ],
                          [
                            0.2222222222222222,
                            "#7201a8"
                          ],
                          [
                            0.3333333333333333,
                            "#9c179e"
                          ],
                          [
                            0.4444444444444444,
                            "#bd3786"
                          ],
                          [
                            0.5555555555555556,
                            "#d8576b"
                          ],
                          [
                            0.6666666666666666,
                            "#ed7953"
                          ],
                          [
                            0.7777777777777778,
                            "#fb9f3a"
                          ],
                          [
                            0.8888888888888888,
                            "#fdca26"
                          ],
                          [
                            1,
                            "#f0f921"
                          ]
                        ],
                        "type": "histogram2d"
                      }
                    ],
                    "histogram2dcontour": [
                      {
                        "colorbar": {
                          "outlinewidth": 0,
                          "ticks": ""
                        },
                        "colorscale": [
                          [
                            0,
                            "#0d0887"
                          ],
                          [
                            0.1111111111111111,
                            "#46039f"
                          ],
                          [
                            0.2222222222222222,
                            "#7201a8"
                          ],
                          [
                            0.3333333333333333,
                            "#9c179e"
                          ],
                          [
                            0.4444444444444444,
                            "#bd3786"
                          ],
                          [
                            0.5555555555555556,
                            "#d8576b"
                          ],
                          [
                            0.6666666666666666,
                            "#ed7953"
                          ],
                          [
                            0.7777777777777778,
                            "#fb9f3a"
                          ],
                          [
                            0.8888888888888888,
                            "#fdca26"
                          ],
                          [
                            1,
                            "#f0f921"
                          ]
                        ],
                        "type": "histogram2dcontour"
                      }
                    ],
                    "mesh3d": [
                      {
                        "colorbar": {
                          "outlinewidth": 0,
                          "ticks": ""
                        },
                        "type": "mesh3d"
                      }
                    ],
                    "parcoords": [
                      {
                        "line": {
                          "colorbar": {
                            "outlinewidth": 0,
                            "ticks": ""
                          }
                        },
                        "type": "parcoords"
                      }
                    ],
                    "pie": [
                      {
                        "automargin": true,
                        "type": "pie"
                      }
                    ],
                    "scatter": [
                      {
                        "fillpattern": {
                          "fillmode": "overlay",
                          "size": 10,
                          "solidity": 0.2
                        },
                        "type": "scatter"
                      }
                    ],
                    "scatter3d": [
                      {
                        "line": {
                          "colorbar": {
                            "outlinewidth": 0,
                            "ticks": ""
                          }
                        },
                        "marker": {
                          "colorbar": {
                            "outlinewidth": 0,
                            "ticks": ""
                          }
                        },
                        "type": "scatter3d"
                      }
                    ],
                    "scattercarpet": [
                      {
                        "marker": {
                          "colorbar": {
                            "outlinewidth": 0,
                            "ticks": ""
                          }
                        },
                        "type": "scattercarpet"
                      }
                    ],
                    "scattergeo": [
                      {
                        "marker": {
                          "colorbar": {
                            "outlinewidth": 0,
                            "ticks": ""
                          }
                        },
                        "type": "scattergeo"
                      }
                    ],
                    "scattergl": [
                      {
                        "marker": {
                          "colorbar": {
                            "outlinewidth": 0,
                            "ticks": ""
                          }
                        },
                        "type": "scattergl"
                      }
                    ],
                    "scattermapbox": [
                      {
                        "marker": {
                          "colorbar": {
                            "outlinewidth": 0,
                            "ticks": ""
                          }
                        },
                        "type": "scattermapbox"
                      }
                    ],
                    "scatterpolar": [
                      {
                        "marker": {
                          "colorbar": {
                            "outlinewidth": 0,
                            "ticks": ""
                          }
                        },
                        "type": "scatterpolar"
                      }
                    ],
                    "scatterpolargl": [
                      {
                        "marker": {
                          "colorbar": {
                            "outlinewidth": 0,
                            "ticks": ""
                          }
                        },
                        "type": "scatterpolargl"
                      }
                    ],
                    "scatterternary": [
                      {
                        "marker": {
                          "colorbar": {
                            "outlinewidth": 0,
                            "ticks": ""
                          }
                        },
                        "type": "scatterternary"
                      }
                    ],
                    "surface": [
                      {
                        "colorbar": {
                          "outlinewidth": 0,
                          "ticks": ""
                        },
                        "colorscale": [
                          [
                            0,
                            "#0d0887"
                          ],
                          [
                            0.1111111111111111,
                            "#46039f"
                          ],
                          [
                            0.2222222222222222,
                            "#7201a8"
                          ],
                          [
                            0.3333333333333333,
                            "#9c179e"
                          ],
                          [
                            0.4444444444444444,
                            "#bd3786"
                          ],
                          [
                            0.5555555555555556,
                            "#d8576b"
                          ],
                          [
                            0.6666666666666666,
                            "#ed7953"
                          ],
                          [
                            0.7777777777777778,
                            "#fb9f3a"
                          ],
                          [
                            0.8888888888888888,
                            "#fdca26"
                          ],
                          [
                            1,
                            "#f0f921"
                          ]
                        ],
                        "type": "surface"
                      }
                    ],
                    "table": [
                      {
                        "cells": {
                          "fill": {
                            "color": "#EBF0F8"
                          },
                          "line": {
                            "color": "white"
                          }
                        },
                        "header": {
                          "fill": {
                            "color": "#C8D4E3"
                          },
                          "line": {
                            "color": "white"
                          }
                        },
                        "type": "table"
                      }
                    ]
                  },
                  "layout": {
                    "annotationdefaults": {
                      "arrowcolor": "#2a3f5f",
                      "arrowhead": 0,
                      "arrowwidth": 1
                    },
                    "autotypenumbers": "strict",
                    "coloraxis": {
                      "colorbar": {
                        "outlinewidth": 0,
                        "ticks": ""
                      }
                    },
                    "colorscale": {
                      "diverging": [
                        [
                          0,
                          "#8e0152"
                        ],
                        [
                          0.1,
                          "#c51b7d"
                        ],
                        [
                          0.2,
                          "#de77ae"
                        ],
                        [
                          0.3,
                          "#f1b6da"
                        ],
                        [
                          0.4,
                          "#fde0ef"
                        ],
                        [
                          0.5,
                          "#f7f7f7"
                        ],
                        [
                          0.6,
                          "#e6f5d0"
                        ],
                        [
                          0.7,
                          "#b8e186"
                        ],
                        [
                          0.8,
                          "#7fbc41"
                        ],
                        [
                          0.9,
                          "#4d9221"
                        ],
                        [
                          1,
                          "#276419"
                        ]
                      ],
                      "sequential": [
                        [
                          0,
                          "#0d0887"
                        ],
                        [
                          0.1111111111111111,
                          "#46039f"
                        ],
                        [
                          0.2222222222222222,
                          "#7201a8"
                        ],
                        [
                          0.3333333333333333,
                          "#9c179e"
                        ],
                        [
                          0.4444444444444444,
                          "#bd3786"
                        ],
                        [
                          0.5555555555555556,
                          "#d8576b"
                        ],
                        [
                          0.6666666666666666,
                          "#ed7953"
                        ],
                        [
                          0.7777777777777778,
                          "#fb9f3a"
                        ],
                        [
                          0.8888888888888888,
                          "#fdca26"
                        ],
                        [
                          1,
                          "#f0f921"
                        ]
                      ],
                      "sequentialminus": [
                        [
                          0,
                          "#0d0887"
                        ],
                        [
                          0.1111111111111111,
                          "#46039f"
                        ],
                        [
                          0.2222222222222222,
                          "#7201a8"
                        ],
                        [
                          0.3333333333333333,
                          "#9c179e"
                        ],
                        [
                          0.4444444444444444,
                          "#bd3786"
                        ],
                        [
                          0.5555555555555556,
                          "#d8576b"
                        ],
                        [
                          0.6666666666666666,
                          "#ed7953"
                        ],
                        [
                          0.7777777777777778,
                          "#fb9f3a"
                        ],
                        [
                          0.8888888888888888,
                          "#fdca26"
                        ],
                        [
                          1,
                          "#f0f921"
                        ]
                      ]
                    },
                    "colorway": [
                      "#636efa",
                      "#EF553B",
                      "#00cc96",
                      "#ab63fa",
                      "#FFA15A",
                      "#19d3f3",
                      "#FF6692",
                      "#B6E880",
                      "#FF97FF",
                      "#FECB52"
                    ],
                    "font": {
                      "color": "#2a3f5f"
                    },
                    "geo": {
                      "bgcolor": "white",
                      "lakecolor": "white",
                      "landcolor": "#E5ECF6",
                      "showlakes": true,
                      "showland": true,
                      "subunitcolor": "white"
                    },
                    "hoverlabel": {
                      "align": "left"
                    },
                    "hovermode": "closest",
                    "mapbox": {
                      "style": "light"
                    },
                    "paper_bgcolor": "white",
                    "plot_bgcolor": "#E5ECF6",
                    "polar": {
                      "angularaxis": {
                        "gridcolor": "white",
                        "linecolor": "white",
                        "ticks": ""
                      },
                      "bgcolor": "#E5ECF6",
                      "radialaxis": {
                        "gridcolor": "white",
                        "linecolor": "white",
                        "ticks": ""
                      }
                    },
                    "scene": {
                      "xaxis": {
                        "backgroundcolor": "#E5ECF6",
                        "gridcolor": "white",
                        "gridwidth": 2,
                        "linecolor": "white",
                        "showbackground": true,
                        "ticks": "",
                        "zerolinecolor": "white"
                      },
                      "yaxis": {
                        "backgroundcolor": "#E5ECF6",
                        "gridcolor": "white",
                        "gridwidth": 2,
                        "linecolor": "white",
                        "showbackground": true,
                        "ticks": "",
                        "zerolinecolor": "white"
                      },
                      "zaxis": {
                        "backgroundcolor": "#E5ECF6",
                        "gridcolor": "white",
                        "gridwidth": 2,
                        "linecolor": "white",
                        "showbackground": true,
                        "ticks": "",
                        "zerolinecolor": "white"
                      }
                    },
                    "shapedefaults": {
                      "line": {
                        "color": "#2a3f5f"
                      }
                    },
                    "ternary": {
                      "aaxis": {
                        "gridcolor": "white",
                        "linecolor": "white",
                        "ticks": ""
                      },
                      "baxis": {
                        "gridcolor": "white",
                        "linecolor": "white",
                        "ticks": ""
                      },
                      "bgcolor": "#E5ECF6",
                      "caxis": {
                        "gridcolor": "white",
                        "linecolor": "white",
                        "ticks": ""
                      }
                    },
                    "title": {
                      "x": 0.05
                    },
                    "xaxis": {
                      "automargin": true,
                      "gridcolor": "white",
                      "linecolor": "white",
                      "ticks": "",
                      "title": {
                        "standoff": 15
                      },
                      "zerolinecolor": "white",
                      "zerolinewidth": 2
                    },
                    "yaxis": {
                      "automargin": true,
                      "gridcolor": "white",
                      "linecolor": "white",
                      "ticks": "",
                      "title": {
                        "standoff": 15
                      },
                      "zerolinecolor": "white",
                      "zerolinewidth": 2
                    }
                  }
                }
              }
            }
          },
          "metadata": {},
          "output_type": "display_data"
        },
        {
          "name": "stdout",
          "output_type": "stream",
          "text": [
            "Wrote  f1_table.png\n"
          ]
        },
        {
          "data": {
            "application/vnd.plotly.v1+json": {
              "config": {
                "plotlyServerURL": "https://plot.ly"
              },
              "data": [
                {
                  "line": {
                    "color": "red"
                  },
                  "mode": "lines",
                  "name": "f1",
                  "showlegend": true,
                  "type": "scatter",
                  "x": [
                    0,
                    0.10526315789473684,
                    0.21052631578947367,
                    0.3157894736842105,
                    0.42105263157894735,
                    0.5263157894736842,
                    0.631578947368421,
                    0.7368421052631579,
                    0.8421052631578947,
                    0.9473684210526315,
                    1.0526315789473684,
                    1.1578947368421053,
                    1.263157894736842,
                    1.3684210526315788,
                    1.4736842105263157,
                    1.5789473684210527,
                    1.6842105263157894,
                    1.789473684210526,
                    1.894736842105263,
                    2
                  ],
                  "y": [
                    2,
                    2.2451909637195513,
                    2.520441231783964,
                    2.829435939093766,
                    3.1763120014383333,
                    3.565713501791654,
                    4.00285386671771,
                    4.493585665322235,
                    5.044478965240595,
                    5.662909294715768,
                    6.357156388429651,
                    7.136515039127136,
                    8.011419539148463,
                    8.99358337793119,
                    10.096156065794736,
                    11.33389918361234,
                    12.72338401537741,
                    14.283213409629571,
                    16.03427084008912,
                    18
                  ]
                }
              ],
              "layout": {
                "autosize": false,
                "template": {
                  "data": {
                    "bar": [
                      {
                        "error_x": {
                          "color": "#2a3f5f"
                        },
                        "error_y": {
                          "color": "#2a3f5f"
                        },
                        "marker": {
                          "line": {
                            "color": "#E5ECF6",
                            "width": 0.5
                          },
                          "pattern": {
                            "fillmode": "overlay",
                            "size": 10,
                            "solidity": 0.2
                          }
                        },
                        "type": "bar"
                      }
                    ],
                    "barpolar": [
                      {
                        "marker": {
                          "line": {
                            "color": "#E5ECF6",
                            "width": 0.5
                          },
                          "pattern": {
                            "fillmode": "overlay",
                            "size": 10,
                            "solidity": 0.2
                          }
                        },
                        "type": "barpolar"
                      }
                    ],
                    "carpet": [
                      {
                        "aaxis": {
                          "endlinecolor": "#2a3f5f",
                          "gridcolor": "white",
                          "linecolor": "white",
                          "minorgridcolor": "white",
                          "startlinecolor": "#2a3f5f"
                        },
                        "baxis": {
                          "endlinecolor": "#2a3f5f",
                          "gridcolor": "white",
                          "linecolor": "white",
                          "minorgridcolor": "white",
                          "startlinecolor": "#2a3f5f"
                        },
                        "type": "carpet"
                      }
                    ],
                    "choropleth": [
                      {
                        "colorbar": {
                          "outlinewidth": 0,
                          "ticks": ""
                        },
                        "type": "choropleth"
                      }
                    ],
                    "contour": [
                      {
                        "colorbar": {
                          "outlinewidth": 0,
                          "ticks": ""
                        },
                        "colorscale": [
                          [
                            0,
                            "#0d0887"
                          ],
                          [
                            0.1111111111111111,
                            "#46039f"
                          ],
                          [
                            0.2222222222222222,
                            "#7201a8"
                          ],
                          [
                            0.3333333333333333,
                            "#9c179e"
                          ],
                          [
                            0.4444444444444444,
                            "#bd3786"
                          ],
                          [
                            0.5555555555555556,
                            "#d8576b"
                          ],
                          [
                            0.6666666666666666,
                            "#ed7953"
                          ],
                          [
                            0.7777777777777778,
                            "#fb9f3a"
                          ],
                          [
                            0.8888888888888888,
                            "#fdca26"
                          ],
                          [
                            1,
                            "#f0f921"
                          ]
                        ],
                        "type": "contour"
                      }
                    ],
                    "contourcarpet": [
                      {
                        "colorbar": {
                          "outlinewidth": 0,
                          "ticks": ""
                        },
                        "type": "contourcarpet"
                      }
                    ],
                    "heatmap": [
                      {
                        "colorbar": {
                          "outlinewidth": 0,
                          "ticks": ""
                        },
                        "colorscale": [
                          [
                            0,
                            "#0d0887"
                          ],
                          [
                            0.1111111111111111,
                            "#46039f"
                          ],
                          [
                            0.2222222222222222,
                            "#7201a8"
                          ],
                          [
                            0.3333333333333333,
                            "#9c179e"
                          ],
                          [
                            0.4444444444444444,
                            "#bd3786"
                          ],
                          [
                            0.5555555555555556,
                            "#d8576b"
                          ],
                          [
                            0.6666666666666666,
                            "#ed7953"
                          ],
                          [
                            0.7777777777777778,
                            "#fb9f3a"
                          ],
                          [
                            0.8888888888888888,
                            "#fdca26"
                          ],
                          [
                            1,
                            "#f0f921"
                          ]
                        ],
                        "type": "heatmap"
                      }
                    ],
                    "heatmapgl": [
                      {
                        "colorbar": {
                          "outlinewidth": 0,
                          "ticks": ""
                        },
                        "colorscale": [
                          [
                            0,
                            "#0d0887"
                          ],
                          [
                            0.1111111111111111,
                            "#46039f"
                          ],
                          [
                            0.2222222222222222,
                            "#7201a8"
                          ],
                          [
                            0.3333333333333333,
                            "#9c179e"
                          ],
                          [
                            0.4444444444444444,
                            "#bd3786"
                          ],
                          [
                            0.5555555555555556,
                            "#d8576b"
                          ],
                          [
                            0.6666666666666666,
                            "#ed7953"
                          ],
                          [
                            0.7777777777777778,
                            "#fb9f3a"
                          ],
                          [
                            0.8888888888888888,
                            "#fdca26"
                          ],
                          [
                            1,
                            "#f0f921"
                          ]
                        ],
                        "type": "heatmapgl"
                      }
                    ],
                    "histogram": [
                      {
                        "marker": {
                          "pattern": {
                            "fillmode": "overlay",
                            "size": 10,
                            "solidity": 0.2
                          }
                        },
                        "type": "histogram"
                      }
                    ],
                    "histogram2d": [
                      {
                        "colorbar": {
                          "outlinewidth": 0,
                          "ticks": ""
                        },
                        "colorscale": [
                          [
                            0,
                            "#0d0887"
                          ],
                          [
                            0.1111111111111111,
                            "#46039f"
                          ],
                          [
                            0.2222222222222222,
                            "#7201a8"
                          ],
                          [
                            0.3333333333333333,
                            "#9c179e"
                          ],
                          [
                            0.4444444444444444,
                            "#bd3786"
                          ],
                          [
                            0.5555555555555556,
                            "#d8576b"
                          ],
                          [
                            0.6666666666666666,
                            "#ed7953"
                          ],
                          [
                            0.7777777777777778,
                            "#fb9f3a"
                          ],
                          [
                            0.8888888888888888,
                            "#fdca26"
                          ],
                          [
                            1,
                            "#f0f921"
                          ]
                        ],
                        "type": "histogram2d"
                      }
                    ],
                    "histogram2dcontour": [
                      {
                        "colorbar": {
                          "outlinewidth": 0,
                          "ticks": ""
                        },
                        "colorscale": [
                          [
                            0,
                            "#0d0887"
                          ],
                          [
                            0.1111111111111111,
                            "#46039f"
                          ],
                          [
                            0.2222222222222222,
                            "#7201a8"
                          ],
                          [
                            0.3333333333333333,
                            "#9c179e"
                          ],
                          [
                            0.4444444444444444,
                            "#bd3786"
                          ],
                          [
                            0.5555555555555556,
                            "#d8576b"
                          ],
                          [
                            0.6666666666666666,
                            "#ed7953"
                          ],
                          [
                            0.7777777777777778,
                            "#fb9f3a"
                          ],
                          [
                            0.8888888888888888,
                            "#fdca26"
                          ],
                          [
                            1,
                            "#f0f921"
                          ]
                        ],
                        "type": "histogram2dcontour"
                      }
                    ],
                    "mesh3d": [
                      {
                        "colorbar": {
                          "outlinewidth": 0,
                          "ticks": ""
                        },
                        "type": "mesh3d"
                      }
                    ],
                    "parcoords": [
                      {
                        "line": {
                          "colorbar": {
                            "outlinewidth": 0,
                            "ticks": ""
                          }
                        },
                        "type": "parcoords"
                      }
                    ],
                    "pie": [
                      {
                        "automargin": true,
                        "type": "pie"
                      }
                    ],
                    "scatter": [
                      {
                        "fillpattern": {
                          "fillmode": "overlay",
                          "size": 10,
                          "solidity": 0.2
                        },
                        "type": "scatter"
                      }
                    ],
                    "scatter3d": [
                      {
                        "line": {
                          "colorbar": {
                            "outlinewidth": 0,
                            "ticks": ""
                          }
                        },
                        "marker": {
                          "colorbar": {
                            "outlinewidth": 0,
                            "ticks": ""
                          }
                        },
                        "type": "scatter3d"
                      }
                    ],
                    "scattercarpet": [
                      {
                        "marker": {
                          "colorbar": {
                            "outlinewidth": 0,
                            "ticks": ""
                          }
                        },
                        "type": "scattercarpet"
                      }
                    ],
                    "scattergeo": [
                      {
                        "marker": {
                          "colorbar": {
                            "outlinewidth": 0,
                            "ticks": ""
                          }
                        },
                        "type": "scattergeo"
                      }
                    ],
                    "scattergl": [
                      {
                        "marker": {
                          "colorbar": {
                            "outlinewidth": 0,
                            "ticks": ""
                          }
                        },
                        "type": "scattergl"
                      }
                    ],
                    "scattermapbox": [
                      {
                        "marker": {
                          "colorbar": {
                            "outlinewidth": 0,
                            "ticks": ""
                          }
                        },
                        "type": "scattermapbox"
                      }
                    ],
                    "scatterpolar": [
                      {
                        "marker": {
                          "colorbar": {
                            "outlinewidth": 0,
                            "ticks": ""
                          }
                        },
                        "type": "scatterpolar"
                      }
                    ],
                    "scatterpolargl": [
                      {
                        "marker": {
                          "colorbar": {
                            "outlinewidth": 0,
                            "ticks": ""
                          }
                        },
                        "type": "scatterpolargl"
                      }
                    ],
                    "scatterternary": [
                      {
                        "marker": {
                          "colorbar": {
                            "outlinewidth": 0,
                            "ticks": ""
                          }
                        },
                        "type": "scatterternary"
                      }
                    ],
                    "surface": [
                      {
                        "colorbar": {
                          "outlinewidth": 0,
                          "ticks": ""
                        },
                        "colorscale": [
                          [
                            0,
                            "#0d0887"
                          ],
                          [
                            0.1111111111111111,
                            "#46039f"
                          ],
                          [
                            0.2222222222222222,
                            "#7201a8"
                          ],
                          [
                            0.3333333333333333,
                            "#9c179e"
                          ],
                          [
                            0.4444444444444444,
                            "#bd3786"
                          ],
                          [
                            0.5555555555555556,
                            "#d8576b"
                          ],
                          [
                            0.6666666666666666,
                            "#ed7953"
                          ],
                          [
                            0.7777777777777778,
                            "#fb9f3a"
                          ],
                          [
                            0.8888888888888888,
                            "#fdca26"
                          ],
                          [
                            1,
                            "#f0f921"
                          ]
                        ],
                        "type": "surface"
                      }
                    ],
                    "table": [
                      {
                        "cells": {
                          "fill": {
                            "color": "#EBF0F8"
                          },
                          "line": {
                            "color": "white"
                          }
                        },
                        "header": {
                          "fill": {
                            "color": "#C8D4E3"
                          },
                          "line": {
                            "color": "white"
                          }
                        },
                        "type": "table"
                      }
                    ]
                  },
                  "layout": {
                    "annotationdefaults": {
                      "arrowcolor": "#2a3f5f",
                      "arrowhead": 0,
                      "arrowwidth": 1
                    },
                    "autotypenumbers": "strict",
                    "coloraxis": {
                      "colorbar": {
                        "outlinewidth": 0,
                        "ticks": ""
                      }
                    },
                    "colorscale": {
                      "diverging": [
                        [
                          0,
                          "#8e0152"
                        ],
                        [
                          0.1,
                          "#c51b7d"
                        ],
                        [
                          0.2,
                          "#de77ae"
                        ],
                        [
                          0.3,
                          "#f1b6da"
                        ],
                        [
                          0.4,
                          "#fde0ef"
                        ],
                        [
                          0.5,
                          "#f7f7f7"
                        ],
                        [
                          0.6,
                          "#e6f5d0"
                        ],
                        [
                          0.7,
                          "#b8e186"
                        ],
                        [
                          0.8,
                          "#7fbc41"
                        ],
                        [
                          0.9,
                          "#4d9221"
                        ],
                        [
                          1,
                          "#276419"
                        ]
                      ],
                      "sequential": [
                        [
                          0,
                          "#0d0887"
                        ],
                        [
                          0.1111111111111111,
                          "#46039f"
                        ],
                        [
                          0.2222222222222222,
                          "#7201a8"
                        ],
                        [
                          0.3333333333333333,
                          "#9c179e"
                        ],
                        [
                          0.4444444444444444,
                          "#bd3786"
                        ],
                        [
                          0.5555555555555556,
                          "#d8576b"
                        ],
                        [
                          0.6666666666666666,
                          "#ed7953"
                        ],
                        [
                          0.7777777777777778,
                          "#fb9f3a"
                        ],
                        [
                          0.8888888888888888,
                          "#fdca26"
                        ],
                        [
                          1,
                          "#f0f921"
                        ]
                      ],
                      "sequentialminus": [
                        [
                          0,
                          "#0d0887"
                        ],
                        [
                          0.1111111111111111,
                          "#46039f"
                        ],
                        [
                          0.2222222222222222,
                          "#7201a8"
                        ],
                        [
                          0.3333333333333333,
                          "#9c179e"
                        ],
                        [
                          0.4444444444444444,
                          "#bd3786"
                        ],
                        [
                          0.5555555555555556,
                          "#d8576b"
                        ],
                        [
                          0.6666666666666666,
                          "#ed7953"
                        ],
                        [
                          0.7777777777777778,
                          "#fb9f3a"
                        ],
                        [
                          0.8888888888888888,
                          "#fdca26"
                        ],
                        [
                          1,
                          "#f0f921"
                        ]
                      ]
                    },
                    "colorway": [
                      "#636efa",
                      "#EF553B",
                      "#00cc96",
                      "#ab63fa",
                      "#FFA15A",
                      "#19d3f3",
                      "#FF6692",
                      "#B6E880",
                      "#FF97FF",
                      "#FECB52"
                    ],
                    "font": {
                      "color": "#2a3f5f"
                    },
                    "geo": {
                      "bgcolor": "white",
                      "lakecolor": "white",
                      "landcolor": "#E5ECF6",
                      "showlakes": true,
                      "showland": true,
                      "subunitcolor": "white"
                    },
                    "hoverlabel": {
                      "align": "left"
                    },
                    "hovermode": "closest",
                    "mapbox": {
                      "style": "light"
                    },
                    "paper_bgcolor": "white",
                    "plot_bgcolor": "#E5ECF6",
                    "polar": {
                      "angularaxis": {
                        "gridcolor": "white",
                        "linecolor": "white",
                        "ticks": ""
                      },
                      "bgcolor": "#E5ECF6",
                      "radialaxis": {
                        "gridcolor": "white",
                        "linecolor": "white",
                        "ticks": ""
                      }
                    },
                    "scene": {
                      "xaxis": {
                        "backgroundcolor": "#E5ECF6",
                        "gridcolor": "white",
                        "gridwidth": 2,
                        "linecolor": "white",
                        "showbackground": true,
                        "ticks": "",
                        "zerolinecolor": "white"
                      },
                      "yaxis": {
                        "backgroundcolor": "#E5ECF6",
                        "gridcolor": "white",
                        "gridwidth": 2,
                        "linecolor": "white",
                        "showbackground": true,
                        "ticks": "",
                        "zerolinecolor": "white"
                      },
                      "zaxis": {
                        "backgroundcolor": "#E5ECF6",
                        "gridcolor": "white",
                        "gridwidth": 2,
                        "linecolor": "white",
                        "showbackground": true,
                        "ticks": "",
                        "zerolinecolor": "white"
                      }
                    },
                    "shapedefaults": {
                      "line": {
                        "color": "#2a3f5f"
                      }
                    },
                    "ternary": {
                      "aaxis": {
                        "gridcolor": "white",
                        "linecolor": "white",
                        "ticks": ""
                      },
                      "baxis": {
                        "gridcolor": "white",
                        "linecolor": "white",
                        "ticks": ""
                      },
                      "bgcolor": "#E5ECF6",
                      "caxis": {
                        "gridcolor": "white",
                        "linecolor": "white",
                        "ticks": ""
                      }
                    },
                    "title": {
                      "x": 0.05
                    },
                    "xaxis": {
                      "automargin": true,
                      "gridcolor": "white",
                      "linecolor": "white",
                      "ticks": "",
                      "title": {
                        "standoff": 15
                      },
                      "zerolinecolor": "white",
                      "zerolinewidth": 2
                    },
                    "yaxis": {
                      "automargin": true,
                      "gridcolor": "white",
                      "linecolor": "white",
                      "ticks": "",
                      "title": {
                        "standoff": 15
                      },
                      "zerolinecolor": "white",
                      "zerolinewidth": 2
                    }
                  }
                },
                "title": {
                  "text": "Original function f1 (red)",
                  "x": 0.5,
                  "xanchor": "center",
                  "y": 0.95,
                  "yanchor": "top"
                },
                "xaxis": {
                  "range": [
                    -5,
                    7
                  ],
                  "title": {
                    "text": "x"
                  }
                },
                "yaxis": {
                  "range": [
                    -40,
                    40
                  ],
                  "title": {
                    "text": "y"
                  }
                }
              }
            }
          },
          "metadata": {},
          "output_type": "display_data"
        },
        {
          "data": {
            "application/vnd.plotly.v1+json": {
              "config": {
                "plotlyServerURL": "https://plot.ly"
              },
              "data": [
                {
                  "line": {
                    "color": "red"
                  },
                  "mode": "lines",
                  "name": "f1",
                  "showlegend": true,
                  "type": "scatter",
                  "x": [
                    0,
                    0.10526315789473684,
                    0.21052631578947367,
                    0.3157894736842105,
                    0.42105263157894735,
                    0.5263157894736842,
                    0.631578947368421,
                    0.7368421052631579,
                    0.8421052631578947,
                    0.9473684210526315,
                    1.0526315789473684,
                    1.1578947368421053,
                    1.263157894736842,
                    1.3684210526315788,
                    1.4736842105263157,
                    1.5789473684210527,
                    1.6842105263157894,
                    1.789473684210526,
                    1.894736842105263,
                    2
                  ],
                  "y": [
                    2,
                    2.2451909637195513,
                    2.520441231783964,
                    2.829435939093766,
                    3.1763120014383333,
                    3.565713501791654,
                    4.00285386671771,
                    4.493585665322235,
                    5.044478965240595,
                    5.662909294715768,
                    6.357156388429651,
                    7.136515039127136,
                    8.011419539148463,
                    8.99358337793119,
                    10.096156065794736,
                    11.33389918361234,
                    12.72338401537741,
                    14.283213409629571,
                    16.03427084008912,
                    18
                  ]
                },
                {
                  "line": {
                    "color": "orange"
                  },
                  "mode": "lines",
                  "name": "f2",
                  "showlegend": true,
                  "type": "scatter",
                  "x": [
                    0,
                    0.10526315789473684,
                    0.21052631578947367,
                    0.3157894736842105,
                    0.42105263157894735,
                    0.5263157894736842,
                    0.631578947368421,
                    0.7368421052631579,
                    0.8421052631578947,
                    0.9473684210526315,
                    1.0526315789473684,
                    1.1578947368421053,
                    1.263157894736842,
                    1.3684210526315788,
                    1.4736842105263157,
                    1.5789473684210527,
                    1.6842105263157894,
                    1.789473684210526,
                    1.894736842105263,
                    2
                  ],
                  "y": [
                    -2,
                    -2.2451909637195513,
                    -2.520441231783964,
                    -2.829435939093766,
                    -3.1763120014383333,
                    -3.565713501791654,
                    -4.00285386671771,
                    -4.493585665322235,
                    -5.044478965240595,
                    -5.662909294715768,
                    -6.357156388429651,
                    -7.136515039127136,
                    -8.011419539148463,
                    -8.99358337793119,
                    -10.096156065794736,
                    -11.33389918361234,
                    -12.72338401537741,
                    -14.283213409629571,
                    -16.03427084008912,
                    -18
                  ]
                }
              ],
              "layout": {
                "autosize": false,
                "template": {
                  "data": {
                    "bar": [
                      {
                        "error_x": {
                          "color": "#2a3f5f"
                        },
                        "error_y": {
                          "color": "#2a3f5f"
                        },
                        "marker": {
                          "line": {
                            "color": "#E5ECF6",
                            "width": 0.5
                          },
                          "pattern": {
                            "fillmode": "overlay",
                            "size": 10,
                            "solidity": 0.2
                          }
                        },
                        "type": "bar"
                      }
                    ],
                    "barpolar": [
                      {
                        "marker": {
                          "line": {
                            "color": "#E5ECF6",
                            "width": 0.5
                          },
                          "pattern": {
                            "fillmode": "overlay",
                            "size": 10,
                            "solidity": 0.2
                          }
                        },
                        "type": "barpolar"
                      }
                    ],
                    "carpet": [
                      {
                        "aaxis": {
                          "endlinecolor": "#2a3f5f",
                          "gridcolor": "white",
                          "linecolor": "white",
                          "minorgridcolor": "white",
                          "startlinecolor": "#2a3f5f"
                        },
                        "baxis": {
                          "endlinecolor": "#2a3f5f",
                          "gridcolor": "white",
                          "linecolor": "white",
                          "minorgridcolor": "white",
                          "startlinecolor": "#2a3f5f"
                        },
                        "type": "carpet"
                      }
                    ],
                    "choropleth": [
                      {
                        "colorbar": {
                          "outlinewidth": 0,
                          "ticks": ""
                        },
                        "type": "choropleth"
                      }
                    ],
                    "contour": [
                      {
                        "colorbar": {
                          "outlinewidth": 0,
                          "ticks": ""
                        },
                        "colorscale": [
                          [
                            0,
                            "#0d0887"
                          ],
                          [
                            0.1111111111111111,
                            "#46039f"
                          ],
                          [
                            0.2222222222222222,
                            "#7201a8"
                          ],
                          [
                            0.3333333333333333,
                            "#9c179e"
                          ],
                          [
                            0.4444444444444444,
                            "#bd3786"
                          ],
                          [
                            0.5555555555555556,
                            "#d8576b"
                          ],
                          [
                            0.6666666666666666,
                            "#ed7953"
                          ],
                          [
                            0.7777777777777778,
                            "#fb9f3a"
                          ],
                          [
                            0.8888888888888888,
                            "#fdca26"
                          ],
                          [
                            1,
                            "#f0f921"
                          ]
                        ],
                        "type": "contour"
                      }
                    ],
                    "contourcarpet": [
                      {
                        "colorbar": {
                          "outlinewidth": 0,
                          "ticks": ""
                        },
                        "type": "contourcarpet"
                      }
                    ],
                    "heatmap": [
                      {
                        "colorbar": {
                          "outlinewidth": 0,
                          "ticks": ""
                        },
                        "colorscale": [
                          [
                            0,
                            "#0d0887"
                          ],
                          [
                            0.1111111111111111,
                            "#46039f"
                          ],
                          [
                            0.2222222222222222,
                            "#7201a8"
                          ],
                          [
                            0.3333333333333333,
                            "#9c179e"
                          ],
                          [
                            0.4444444444444444,
                            "#bd3786"
                          ],
                          [
                            0.5555555555555556,
                            "#d8576b"
                          ],
                          [
                            0.6666666666666666,
                            "#ed7953"
                          ],
                          [
                            0.7777777777777778,
                            "#fb9f3a"
                          ],
                          [
                            0.8888888888888888,
                            "#fdca26"
                          ],
                          [
                            1,
                            "#f0f921"
                          ]
                        ],
                        "type": "heatmap"
                      }
                    ],
                    "heatmapgl": [
                      {
                        "colorbar": {
                          "outlinewidth": 0,
                          "ticks": ""
                        },
                        "colorscale": [
                          [
                            0,
                            "#0d0887"
                          ],
                          [
                            0.1111111111111111,
                            "#46039f"
                          ],
                          [
                            0.2222222222222222,
                            "#7201a8"
                          ],
                          [
                            0.3333333333333333,
                            "#9c179e"
                          ],
                          [
                            0.4444444444444444,
                            "#bd3786"
                          ],
                          [
                            0.5555555555555556,
                            "#d8576b"
                          ],
                          [
                            0.6666666666666666,
                            "#ed7953"
                          ],
                          [
                            0.7777777777777778,
                            "#fb9f3a"
                          ],
                          [
                            0.8888888888888888,
                            "#fdca26"
                          ],
                          [
                            1,
                            "#f0f921"
                          ]
                        ],
                        "type": "heatmapgl"
                      }
                    ],
                    "histogram": [
                      {
                        "marker": {
                          "pattern": {
                            "fillmode": "overlay",
                            "size": 10,
                            "solidity": 0.2
                          }
                        },
                        "type": "histogram"
                      }
                    ],
                    "histogram2d": [
                      {
                        "colorbar": {
                          "outlinewidth": 0,
                          "ticks": ""
                        },
                        "colorscale": [
                          [
                            0,
                            "#0d0887"
                          ],
                          [
                            0.1111111111111111,
                            "#46039f"
                          ],
                          [
                            0.2222222222222222,
                            "#7201a8"
                          ],
                          [
                            0.3333333333333333,
                            "#9c179e"
                          ],
                          [
                            0.4444444444444444,
                            "#bd3786"
                          ],
                          [
                            0.5555555555555556,
                            "#d8576b"
                          ],
                          [
                            0.6666666666666666,
                            "#ed7953"
                          ],
                          [
                            0.7777777777777778,
                            "#fb9f3a"
                          ],
                          [
                            0.8888888888888888,
                            "#fdca26"
                          ],
                          [
                            1,
                            "#f0f921"
                          ]
                        ],
                        "type": "histogram2d"
                      }
                    ],
                    "histogram2dcontour": [
                      {
                        "colorbar": {
                          "outlinewidth": 0,
                          "ticks": ""
                        },
                        "colorscale": [
                          [
                            0,
                            "#0d0887"
                          ],
                          [
                            0.1111111111111111,
                            "#46039f"
                          ],
                          [
                            0.2222222222222222,
                            "#7201a8"
                          ],
                          [
                            0.3333333333333333,
                            "#9c179e"
                          ],
                          [
                            0.4444444444444444,
                            "#bd3786"
                          ],
                          [
                            0.5555555555555556,
                            "#d8576b"
                          ],
                          [
                            0.6666666666666666,
                            "#ed7953"
                          ],
                          [
                            0.7777777777777778,
                            "#fb9f3a"
                          ],
                          [
                            0.8888888888888888,
                            "#fdca26"
                          ],
                          [
                            1,
                            "#f0f921"
                          ]
                        ],
                        "type": "histogram2dcontour"
                      }
                    ],
                    "mesh3d": [
                      {
                        "colorbar": {
                          "outlinewidth": 0,
                          "ticks": ""
                        },
                        "type": "mesh3d"
                      }
                    ],
                    "parcoords": [
                      {
                        "line": {
                          "colorbar": {
                            "outlinewidth": 0,
                            "ticks": ""
                          }
                        },
                        "type": "parcoords"
                      }
                    ],
                    "pie": [
                      {
                        "automargin": true,
                        "type": "pie"
                      }
                    ],
                    "scatter": [
                      {
                        "fillpattern": {
                          "fillmode": "overlay",
                          "size": 10,
                          "solidity": 0.2
                        },
                        "type": "scatter"
                      }
                    ],
                    "scatter3d": [
                      {
                        "line": {
                          "colorbar": {
                            "outlinewidth": 0,
                            "ticks": ""
                          }
                        },
                        "marker": {
                          "colorbar": {
                            "outlinewidth": 0,
                            "ticks": ""
                          }
                        },
                        "type": "scatter3d"
                      }
                    ],
                    "scattercarpet": [
                      {
                        "marker": {
                          "colorbar": {
                            "outlinewidth": 0,
                            "ticks": ""
                          }
                        },
                        "type": "scattercarpet"
                      }
                    ],
                    "scattergeo": [
                      {
                        "marker": {
                          "colorbar": {
                            "outlinewidth": 0,
                            "ticks": ""
                          }
                        },
                        "type": "scattergeo"
                      }
                    ],
                    "scattergl": [
                      {
                        "marker": {
                          "colorbar": {
                            "outlinewidth": 0,
                            "ticks": ""
                          }
                        },
                        "type": "scattergl"
                      }
                    ],
                    "scattermapbox": [
                      {
                        "marker": {
                          "colorbar": {
                            "outlinewidth": 0,
                            "ticks": ""
                          }
                        },
                        "type": "scattermapbox"
                      }
                    ],
                    "scatterpolar": [
                      {
                        "marker": {
                          "colorbar": {
                            "outlinewidth": 0,
                            "ticks": ""
                          }
                        },
                        "type": "scatterpolar"
                      }
                    ],
                    "scatterpolargl": [
                      {
                        "marker": {
                          "colorbar": {
                            "outlinewidth": 0,
                            "ticks": ""
                          }
                        },
                        "type": "scatterpolargl"
                      }
                    ],
                    "scatterternary": [
                      {
                        "marker": {
                          "colorbar": {
                            "outlinewidth": 0,
                            "ticks": ""
                          }
                        },
                        "type": "scatterternary"
                      }
                    ],
                    "surface": [
                      {
                        "colorbar": {
                          "outlinewidth": 0,
                          "ticks": ""
                        },
                        "colorscale": [
                          [
                            0,
                            "#0d0887"
                          ],
                          [
                            0.1111111111111111,
                            "#46039f"
                          ],
                          [
                            0.2222222222222222,
                            "#7201a8"
                          ],
                          [
                            0.3333333333333333,
                            "#9c179e"
                          ],
                          [
                            0.4444444444444444,
                            "#bd3786"
                          ],
                          [
                            0.5555555555555556,
                            "#d8576b"
                          ],
                          [
                            0.6666666666666666,
                            "#ed7953"
                          ],
                          [
                            0.7777777777777778,
                            "#fb9f3a"
                          ],
                          [
                            0.8888888888888888,
                            "#fdca26"
                          ],
                          [
                            1,
                            "#f0f921"
                          ]
                        ],
                        "type": "surface"
                      }
                    ],
                    "table": [
                      {
                        "cells": {
                          "fill": {
                            "color": "#EBF0F8"
                          },
                          "line": {
                            "color": "white"
                          }
                        },
                        "header": {
                          "fill": {
                            "color": "#C8D4E3"
                          },
                          "line": {
                            "color": "white"
                          }
                        },
                        "type": "table"
                      }
                    ]
                  },
                  "layout": {
                    "annotationdefaults": {
                      "arrowcolor": "#2a3f5f",
                      "arrowhead": 0,
                      "arrowwidth": 1
                    },
                    "autotypenumbers": "strict",
                    "coloraxis": {
                      "colorbar": {
                        "outlinewidth": 0,
                        "ticks": ""
                      }
                    },
                    "colorscale": {
                      "diverging": [
                        [
                          0,
                          "#8e0152"
                        ],
                        [
                          0.1,
                          "#c51b7d"
                        ],
                        [
                          0.2,
                          "#de77ae"
                        ],
                        [
                          0.3,
                          "#f1b6da"
                        ],
                        [
                          0.4,
                          "#fde0ef"
                        ],
                        [
                          0.5,
                          "#f7f7f7"
                        ],
                        [
                          0.6,
                          "#e6f5d0"
                        ],
                        [
                          0.7,
                          "#b8e186"
                        ],
                        [
                          0.8,
                          "#7fbc41"
                        ],
                        [
                          0.9,
                          "#4d9221"
                        ],
                        [
                          1,
                          "#276419"
                        ]
                      ],
                      "sequential": [
                        [
                          0,
                          "#0d0887"
                        ],
                        [
                          0.1111111111111111,
                          "#46039f"
                        ],
                        [
                          0.2222222222222222,
                          "#7201a8"
                        ],
                        [
                          0.3333333333333333,
                          "#9c179e"
                        ],
                        [
                          0.4444444444444444,
                          "#bd3786"
                        ],
                        [
                          0.5555555555555556,
                          "#d8576b"
                        ],
                        [
                          0.6666666666666666,
                          "#ed7953"
                        ],
                        [
                          0.7777777777777778,
                          "#fb9f3a"
                        ],
                        [
                          0.8888888888888888,
                          "#fdca26"
                        ],
                        [
                          1,
                          "#f0f921"
                        ]
                      ],
                      "sequentialminus": [
                        [
                          0,
                          "#0d0887"
                        ],
                        [
                          0.1111111111111111,
                          "#46039f"
                        ],
                        [
                          0.2222222222222222,
                          "#7201a8"
                        ],
                        [
                          0.3333333333333333,
                          "#9c179e"
                        ],
                        [
                          0.4444444444444444,
                          "#bd3786"
                        ],
                        [
                          0.5555555555555556,
                          "#d8576b"
                        ],
                        [
                          0.6666666666666666,
                          "#ed7953"
                        ],
                        [
                          0.7777777777777778,
                          "#fb9f3a"
                        ],
                        [
                          0.8888888888888888,
                          "#fdca26"
                        ],
                        [
                          1,
                          "#f0f921"
                        ]
                      ]
                    },
                    "colorway": [
                      "#636efa",
                      "#EF553B",
                      "#00cc96",
                      "#ab63fa",
                      "#FFA15A",
                      "#19d3f3",
                      "#FF6692",
                      "#B6E880",
                      "#FF97FF",
                      "#FECB52"
                    ],
                    "font": {
                      "color": "#2a3f5f"
                    },
                    "geo": {
                      "bgcolor": "white",
                      "lakecolor": "white",
                      "landcolor": "#E5ECF6",
                      "showlakes": true,
                      "showland": true,
                      "subunitcolor": "white"
                    },
                    "hoverlabel": {
                      "align": "left"
                    },
                    "hovermode": "closest",
                    "mapbox": {
                      "style": "light"
                    },
                    "paper_bgcolor": "white",
                    "plot_bgcolor": "#E5ECF6",
                    "polar": {
                      "angularaxis": {
                        "gridcolor": "white",
                        "linecolor": "white",
                        "ticks": ""
                      },
                      "bgcolor": "#E5ECF6",
                      "radialaxis": {
                        "gridcolor": "white",
                        "linecolor": "white",
                        "ticks": ""
                      }
                    },
                    "scene": {
                      "xaxis": {
                        "backgroundcolor": "#E5ECF6",
                        "gridcolor": "white",
                        "gridwidth": 2,
                        "linecolor": "white",
                        "showbackground": true,
                        "ticks": "",
                        "zerolinecolor": "white"
                      },
                      "yaxis": {
                        "backgroundcolor": "#E5ECF6",
                        "gridcolor": "white",
                        "gridwidth": 2,
                        "linecolor": "white",
                        "showbackground": true,
                        "ticks": "",
                        "zerolinecolor": "white"
                      },
                      "zaxis": {
                        "backgroundcolor": "#E5ECF6",
                        "gridcolor": "white",
                        "gridwidth": 2,
                        "linecolor": "white",
                        "showbackground": true,
                        "ticks": "",
                        "zerolinecolor": "white"
                      }
                    },
                    "shapedefaults": {
                      "line": {
                        "color": "#2a3f5f"
                      }
                    },
                    "ternary": {
                      "aaxis": {
                        "gridcolor": "white",
                        "linecolor": "white",
                        "ticks": ""
                      },
                      "baxis": {
                        "gridcolor": "white",
                        "linecolor": "white",
                        "ticks": ""
                      },
                      "bgcolor": "#E5ECF6",
                      "caxis": {
                        "gridcolor": "white",
                        "linecolor": "white",
                        "ticks": ""
                      }
                    },
                    "title": {
                      "x": 0.05
                    },
                    "xaxis": {
                      "automargin": true,
                      "gridcolor": "white",
                      "linecolor": "white",
                      "ticks": "",
                      "title": {
                        "standoff": 15
                      },
                      "zerolinecolor": "white",
                      "zerolinewidth": 2
                    },
                    "yaxis": {
                      "automargin": true,
                      "gridcolor": "white",
                      "linecolor": "white",
                      "ticks": "",
                      "title": {
                        "standoff": 15
                      },
                      "zerolinecolor": "white",
                      "zerolinewidth": 2
                    }
                  }
                },
                "title": {
                  "text": "Added f2: reflection of f1 across x (orange)",
                  "x": 0.5,
                  "xanchor": "center",
                  "y": 0.95,
                  "yanchor": "top"
                },
                "xaxis": {
                  "range": [
                    -5,
                    7
                  ],
                  "title": {
                    "text": "x"
                  }
                },
                "yaxis": {
                  "range": [
                    -40,
                    40
                  ],
                  "title": {
                    "text": "y"
                  }
                }
              }
            }
          },
          "metadata": {},
          "output_type": "display_data"
        },
        {
          "data": {
            "application/vnd.plotly.v1+json": {
              "config": {
                "plotlyServerURL": "https://plot.ly"
              },
              "data": [
                {
                  "line": {
                    "color": "red"
                  },
                  "mode": "lines",
                  "name": "f1",
                  "showlegend": true,
                  "type": "scatter",
                  "x": [
                    0,
                    0.10526315789473684,
                    0.21052631578947367,
                    0.3157894736842105,
                    0.42105263157894735,
                    0.5263157894736842,
                    0.631578947368421,
                    0.7368421052631579,
                    0.8421052631578947,
                    0.9473684210526315,
                    1.0526315789473684,
                    1.1578947368421053,
                    1.263157894736842,
                    1.3684210526315788,
                    1.4736842105263157,
                    1.5789473684210527,
                    1.6842105263157894,
                    1.789473684210526,
                    1.894736842105263,
                    2
                  ],
                  "y": [
                    2,
                    2.2451909637195513,
                    2.520441231783964,
                    2.829435939093766,
                    3.1763120014383333,
                    3.565713501791654,
                    4.00285386671771,
                    4.493585665322235,
                    5.044478965240595,
                    5.662909294715768,
                    6.357156388429651,
                    7.136515039127136,
                    8.011419539148463,
                    8.99358337793119,
                    10.096156065794736,
                    11.33389918361234,
                    12.72338401537741,
                    14.283213409629571,
                    16.03427084008912,
                    18
                  ]
                },
                {
                  "line": {
                    "color": "orange"
                  },
                  "mode": "lines",
                  "name": "f2",
                  "showlegend": true,
                  "type": "scatter",
                  "x": [
                    0,
                    0.10526315789473684,
                    0.21052631578947367,
                    0.3157894736842105,
                    0.42105263157894735,
                    0.5263157894736842,
                    0.631578947368421,
                    0.7368421052631579,
                    0.8421052631578947,
                    0.9473684210526315,
                    1.0526315789473684,
                    1.1578947368421053,
                    1.263157894736842,
                    1.3684210526315788,
                    1.4736842105263157,
                    1.5789473684210527,
                    1.6842105263157894,
                    1.789473684210526,
                    1.894736842105263,
                    2
                  ],
                  "y": [
                    -2,
                    -2.2451909637195513,
                    -2.520441231783964,
                    -2.829435939093766,
                    -3.1763120014383333,
                    -3.565713501791654,
                    -4.00285386671771,
                    -4.493585665322235,
                    -5.044478965240595,
                    -5.662909294715768,
                    -6.357156388429651,
                    -7.136515039127136,
                    -8.011419539148463,
                    -8.99358337793119,
                    -10.096156065794736,
                    -11.33389918361234,
                    -12.72338401537741,
                    -14.283213409629571,
                    -16.03427084008912,
                    -18
                  ]
                },
                {
                  "line": {
                    "color": "yellow"
                  },
                  "mode": "lines",
                  "name": "f3",
                  "showlegend": true,
                  "type": "scatter",
                  "x": [
                    -2,
                    -1.8947368421052633,
                    -1.7894736842105263,
                    -1.6842105263157894,
                    -1.5789473684210527,
                    -1.473684210526316,
                    -1.368421052631579,
                    -1.263157894736842,
                    -1.1578947368421053,
                    -1.0526315789473686,
                    -0.9473684210526316,
                    -0.8421052631578947,
                    -0.736842105263158,
                    -0.6315789473684212,
                    -0.5263157894736843,
                    -0.42105263157894735,
                    -0.3157894736842106,
                    -0.2105263157894739,
                    -0.10526315789473695,
                    0
                  ],
                  "y": [
                    18,
                    16.034270840089125,
                    14.283213409629575,
                    12.72338401537741,
                    11.33389918361234,
                    10.096156065794737,
                    8.993583377931191,
                    8.011419539148463,
                    7.136515039127136,
                    6.357156388429653,
                    5.662909294715769,
                    5.044478965240595,
                    4.493585665322235,
                    4.002853866717712,
                    3.5657135017916546,
                    3.1763120014383333,
                    2.829435939093766,
                    2.520441231783965,
                    2.2451909637195517,
                    2
                  ]
                }
              ],
              "layout": {
                "autosize": false,
                "template": {
                  "data": {
                    "bar": [
                      {
                        "error_x": {
                          "color": "#2a3f5f"
                        },
                        "error_y": {
                          "color": "#2a3f5f"
                        },
                        "marker": {
                          "line": {
                            "color": "#E5ECF6",
                            "width": 0.5
                          },
                          "pattern": {
                            "fillmode": "overlay",
                            "size": 10,
                            "solidity": 0.2
                          }
                        },
                        "type": "bar"
                      }
                    ],
                    "barpolar": [
                      {
                        "marker": {
                          "line": {
                            "color": "#E5ECF6",
                            "width": 0.5
                          },
                          "pattern": {
                            "fillmode": "overlay",
                            "size": 10,
                            "solidity": 0.2
                          }
                        },
                        "type": "barpolar"
                      }
                    ],
                    "carpet": [
                      {
                        "aaxis": {
                          "endlinecolor": "#2a3f5f",
                          "gridcolor": "white",
                          "linecolor": "white",
                          "minorgridcolor": "white",
                          "startlinecolor": "#2a3f5f"
                        },
                        "baxis": {
                          "endlinecolor": "#2a3f5f",
                          "gridcolor": "white",
                          "linecolor": "white",
                          "minorgridcolor": "white",
                          "startlinecolor": "#2a3f5f"
                        },
                        "type": "carpet"
                      }
                    ],
                    "choropleth": [
                      {
                        "colorbar": {
                          "outlinewidth": 0,
                          "ticks": ""
                        },
                        "type": "choropleth"
                      }
                    ],
                    "contour": [
                      {
                        "colorbar": {
                          "outlinewidth": 0,
                          "ticks": ""
                        },
                        "colorscale": [
                          [
                            0,
                            "#0d0887"
                          ],
                          [
                            0.1111111111111111,
                            "#46039f"
                          ],
                          [
                            0.2222222222222222,
                            "#7201a8"
                          ],
                          [
                            0.3333333333333333,
                            "#9c179e"
                          ],
                          [
                            0.4444444444444444,
                            "#bd3786"
                          ],
                          [
                            0.5555555555555556,
                            "#d8576b"
                          ],
                          [
                            0.6666666666666666,
                            "#ed7953"
                          ],
                          [
                            0.7777777777777778,
                            "#fb9f3a"
                          ],
                          [
                            0.8888888888888888,
                            "#fdca26"
                          ],
                          [
                            1,
                            "#f0f921"
                          ]
                        ],
                        "type": "contour"
                      }
                    ],
                    "contourcarpet": [
                      {
                        "colorbar": {
                          "outlinewidth": 0,
                          "ticks": ""
                        },
                        "type": "contourcarpet"
                      }
                    ],
                    "heatmap": [
                      {
                        "colorbar": {
                          "outlinewidth": 0,
                          "ticks": ""
                        },
                        "colorscale": [
                          [
                            0,
                            "#0d0887"
                          ],
                          [
                            0.1111111111111111,
                            "#46039f"
                          ],
                          [
                            0.2222222222222222,
                            "#7201a8"
                          ],
                          [
                            0.3333333333333333,
                            "#9c179e"
                          ],
                          [
                            0.4444444444444444,
                            "#bd3786"
                          ],
                          [
                            0.5555555555555556,
                            "#d8576b"
                          ],
                          [
                            0.6666666666666666,
                            "#ed7953"
                          ],
                          [
                            0.7777777777777778,
                            "#fb9f3a"
                          ],
                          [
                            0.8888888888888888,
                            "#fdca26"
                          ],
                          [
                            1,
                            "#f0f921"
                          ]
                        ],
                        "type": "heatmap"
                      }
                    ],
                    "heatmapgl": [
                      {
                        "colorbar": {
                          "outlinewidth": 0,
                          "ticks": ""
                        },
                        "colorscale": [
                          [
                            0,
                            "#0d0887"
                          ],
                          [
                            0.1111111111111111,
                            "#46039f"
                          ],
                          [
                            0.2222222222222222,
                            "#7201a8"
                          ],
                          [
                            0.3333333333333333,
                            "#9c179e"
                          ],
                          [
                            0.4444444444444444,
                            "#bd3786"
                          ],
                          [
                            0.5555555555555556,
                            "#d8576b"
                          ],
                          [
                            0.6666666666666666,
                            "#ed7953"
                          ],
                          [
                            0.7777777777777778,
                            "#fb9f3a"
                          ],
                          [
                            0.8888888888888888,
                            "#fdca26"
                          ],
                          [
                            1,
                            "#f0f921"
                          ]
                        ],
                        "type": "heatmapgl"
                      }
                    ],
                    "histogram": [
                      {
                        "marker": {
                          "pattern": {
                            "fillmode": "overlay",
                            "size": 10,
                            "solidity": 0.2
                          }
                        },
                        "type": "histogram"
                      }
                    ],
                    "histogram2d": [
                      {
                        "colorbar": {
                          "outlinewidth": 0,
                          "ticks": ""
                        },
                        "colorscale": [
                          [
                            0,
                            "#0d0887"
                          ],
                          [
                            0.1111111111111111,
                            "#46039f"
                          ],
                          [
                            0.2222222222222222,
                            "#7201a8"
                          ],
                          [
                            0.3333333333333333,
                            "#9c179e"
                          ],
                          [
                            0.4444444444444444,
                            "#bd3786"
                          ],
                          [
                            0.5555555555555556,
                            "#d8576b"
                          ],
                          [
                            0.6666666666666666,
                            "#ed7953"
                          ],
                          [
                            0.7777777777777778,
                            "#fb9f3a"
                          ],
                          [
                            0.8888888888888888,
                            "#fdca26"
                          ],
                          [
                            1,
                            "#f0f921"
                          ]
                        ],
                        "type": "histogram2d"
                      }
                    ],
                    "histogram2dcontour": [
                      {
                        "colorbar": {
                          "outlinewidth": 0,
                          "ticks": ""
                        },
                        "colorscale": [
                          [
                            0,
                            "#0d0887"
                          ],
                          [
                            0.1111111111111111,
                            "#46039f"
                          ],
                          [
                            0.2222222222222222,
                            "#7201a8"
                          ],
                          [
                            0.3333333333333333,
                            "#9c179e"
                          ],
                          [
                            0.4444444444444444,
                            "#bd3786"
                          ],
                          [
                            0.5555555555555556,
                            "#d8576b"
                          ],
                          [
                            0.6666666666666666,
                            "#ed7953"
                          ],
                          [
                            0.7777777777777778,
                            "#fb9f3a"
                          ],
                          [
                            0.8888888888888888,
                            "#fdca26"
                          ],
                          [
                            1,
                            "#f0f921"
                          ]
                        ],
                        "type": "histogram2dcontour"
                      }
                    ],
                    "mesh3d": [
                      {
                        "colorbar": {
                          "outlinewidth": 0,
                          "ticks": ""
                        },
                        "type": "mesh3d"
                      }
                    ],
                    "parcoords": [
                      {
                        "line": {
                          "colorbar": {
                            "outlinewidth": 0,
                            "ticks": ""
                          }
                        },
                        "type": "parcoords"
                      }
                    ],
                    "pie": [
                      {
                        "automargin": true,
                        "type": "pie"
                      }
                    ],
                    "scatter": [
                      {
                        "fillpattern": {
                          "fillmode": "overlay",
                          "size": 10,
                          "solidity": 0.2
                        },
                        "type": "scatter"
                      }
                    ],
                    "scatter3d": [
                      {
                        "line": {
                          "colorbar": {
                            "outlinewidth": 0,
                            "ticks": ""
                          }
                        },
                        "marker": {
                          "colorbar": {
                            "outlinewidth": 0,
                            "ticks": ""
                          }
                        },
                        "type": "scatter3d"
                      }
                    ],
                    "scattercarpet": [
                      {
                        "marker": {
                          "colorbar": {
                            "outlinewidth": 0,
                            "ticks": ""
                          }
                        },
                        "type": "scattercarpet"
                      }
                    ],
                    "scattergeo": [
                      {
                        "marker": {
                          "colorbar": {
                            "outlinewidth": 0,
                            "ticks": ""
                          }
                        },
                        "type": "scattergeo"
                      }
                    ],
                    "scattergl": [
                      {
                        "marker": {
                          "colorbar": {
                            "outlinewidth": 0,
                            "ticks": ""
                          }
                        },
                        "type": "scattergl"
                      }
                    ],
                    "scattermapbox": [
                      {
                        "marker": {
                          "colorbar": {
                            "outlinewidth": 0,
                            "ticks": ""
                          }
                        },
                        "type": "scattermapbox"
                      }
                    ],
                    "scatterpolar": [
                      {
                        "marker": {
                          "colorbar": {
                            "outlinewidth": 0,
                            "ticks": ""
                          }
                        },
                        "type": "scatterpolar"
                      }
                    ],
                    "scatterpolargl": [
                      {
                        "marker": {
                          "colorbar": {
                            "outlinewidth": 0,
                            "ticks": ""
                          }
                        },
                        "type": "scatterpolargl"
                      }
                    ],
                    "scatterternary": [
                      {
                        "marker": {
                          "colorbar": {
                            "outlinewidth": 0,
                            "ticks": ""
                          }
                        },
                        "type": "scatterternary"
                      }
                    ],
                    "surface": [
                      {
                        "colorbar": {
                          "outlinewidth": 0,
                          "ticks": ""
                        },
                        "colorscale": [
                          [
                            0,
                            "#0d0887"
                          ],
                          [
                            0.1111111111111111,
                            "#46039f"
                          ],
                          [
                            0.2222222222222222,
                            "#7201a8"
                          ],
                          [
                            0.3333333333333333,
                            "#9c179e"
                          ],
                          [
                            0.4444444444444444,
                            "#bd3786"
                          ],
                          [
                            0.5555555555555556,
                            "#d8576b"
                          ],
                          [
                            0.6666666666666666,
                            "#ed7953"
                          ],
                          [
                            0.7777777777777778,
                            "#fb9f3a"
                          ],
                          [
                            0.8888888888888888,
                            "#fdca26"
                          ],
                          [
                            1,
                            "#f0f921"
                          ]
                        ],
                        "type": "surface"
                      }
                    ],
                    "table": [
                      {
                        "cells": {
                          "fill": {
                            "color": "#EBF0F8"
                          },
                          "line": {
                            "color": "white"
                          }
                        },
                        "header": {
                          "fill": {
                            "color": "#C8D4E3"
                          },
                          "line": {
                            "color": "white"
                          }
                        },
                        "type": "table"
                      }
                    ]
                  },
                  "layout": {
                    "annotationdefaults": {
                      "arrowcolor": "#2a3f5f",
                      "arrowhead": 0,
                      "arrowwidth": 1
                    },
                    "autotypenumbers": "strict",
                    "coloraxis": {
                      "colorbar": {
                        "outlinewidth": 0,
                        "ticks": ""
                      }
                    },
                    "colorscale": {
                      "diverging": [
                        [
                          0,
                          "#8e0152"
                        ],
                        [
                          0.1,
                          "#c51b7d"
                        ],
                        [
                          0.2,
                          "#de77ae"
                        ],
                        [
                          0.3,
                          "#f1b6da"
                        ],
                        [
                          0.4,
                          "#fde0ef"
                        ],
                        [
                          0.5,
                          "#f7f7f7"
                        ],
                        [
                          0.6,
                          "#e6f5d0"
                        ],
                        [
                          0.7,
                          "#b8e186"
                        ],
                        [
                          0.8,
                          "#7fbc41"
                        ],
                        [
                          0.9,
                          "#4d9221"
                        ],
                        [
                          1,
                          "#276419"
                        ]
                      ],
                      "sequential": [
                        [
                          0,
                          "#0d0887"
                        ],
                        [
                          0.1111111111111111,
                          "#46039f"
                        ],
                        [
                          0.2222222222222222,
                          "#7201a8"
                        ],
                        [
                          0.3333333333333333,
                          "#9c179e"
                        ],
                        [
                          0.4444444444444444,
                          "#bd3786"
                        ],
                        [
                          0.5555555555555556,
                          "#d8576b"
                        ],
                        [
                          0.6666666666666666,
                          "#ed7953"
                        ],
                        [
                          0.7777777777777778,
                          "#fb9f3a"
                        ],
                        [
                          0.8888888888888888,
                          "#fdca26"
                        ],
                        [
                          1,
                          "#f0f921"
                        ]
                      ],
                      "sequentialminus": [
                        [
                          0,
                          "#0d0887"
                        ],
                        [
                          0.1111111111111111,
                          "#46039f"
                        ],
                        [
                          0.2222222222222222,
                          "#7201a8"
                        ],
                        [
                          0.3333333333333333,
                          "#9c179e"
                        ],
                        [
                          0.4444444444444444,
                          "#bd3786"
                        ],
                        [
                          0.5555555555555556,
                          "#d8576b"
                        ],
                        [
                          0.6666666666666666,
                          "#ed7953"
                        ],
                        [
                          0.7777777777777778,
                          "#fb9f3a"
                        ],
                        [
                          0.8888888888888888,
                          "#fdca26"
                        ],
                        [
                          1,
                          "#f0f921"
                        ]
                      ]
                    },
                    "colorway": [
                      "#636efa",
                      "#EF553B",
                      "#00cc96",
                      "#ab63fa",
                      "#FFA15A",
                      "#19d3f3",
                      "#FF6692",
                      "#B6E880",
                      "#FF97FF",
                      "#FECB52"
                    ],
                    "font": {
                      "color": "#2a3f5f"
                    },
                    "geo": {
                      "bgcolor": "white",
                      "lakecolor": "white",
                      "landcolor": "#E5ECF6",
                      "showlakes": true,
                      "showland": true,
                      "subunitcolor": "white"
                    },
                    "hoverlabel": {
                      "align": "left"
                    },
                    "hovermode": "closest",
                    "mapbox": {
                      "style": "light"
                    },
                    "paper_bgcolor": "white",
                    "plot_bgcolor": "#E5ECF6",
                    "polar": {
                      "angularaxis": {
                        "gridcolor": "white",
                        "linecolor": "white",
                        "ticks": ""
                      },
                      "bgcolor": "#E5ECF6",
                      "radialaxis": {
                        "gridcolor": "white",
                        "linecolor": "white",
                        "ticks": ""
                      }
                    },
                    "scene": {
                      "xaxis": {
                        "backgroundcolor": "#E5ECF6",
                        "gridcolor": "white",
                        "gridwidth": 2,
                        "linecolor": "white",
                        "showbackground": true,
                        "ticks": "",
                        "zerolinecolor": "white"
                      },
                      "yaxis": {
                        "backgroundcolor": "#E5ECF6",
                        "gridcolor": "white",
                        "gridwidth": 2,
                        "linecolor": "white",
                        "showbackground": true,
                        "ticks": "",
                        "zerolinecolor": "white"
                      },
                      "zaxis": {
                        "backgroundcolor": "#E5ECF6",
                        "gridcolor": "white",
                        "gridwidth": 2,
                        "linecolor": "white",
                        "showbackground": true,
                        "ticks": "",
                        "zerolinecolor": "white"
                      }
                    },
                    "shapedefaults": {
                      "line": {
                        "color": "#2a3f5f"
                      }
                    },
                    "ternary": {
                      "aaxis": {
                        "gridcolor": "white",
                        "linecolor": "white",
                        "ticks": ""
                      },
                      "baxis": {
                        "gridcolor": "white",
                        "linecolor": "white",
                        "ticks": ""
                      },
                      "bgcolor": "#E5ECF6",
                      "caxis": {
                        "gridcolor": "white",
                        "linecolor": "white",
                        "ticks": ""
                      }
                    },
                    "title": {
                      "x": 0.05
                    },
                    "xaxis": {
                      "automargin": true,
                      "gridcolor": "white",
                      "linecolor": "white",
                      "ticks": "",
                      "title": {
                        "standoff": 15
                      },
                      "zerolinecolor": "white",
                      "zerolinewidth": 2
                    },
                    "yaxis": {
                      "automargin": true,
                      "gridcolor": "white",
                      "linecolor": "white",
                      "ticks": "",
                      "title": {
                        "standoff": 15
                      },
                      "zerolinecolor": "white",
                      "zerolinewidth": 2
                    }
                  }
                },
                "title": {
                  "text": "Added f3: reflection of f1 across y (yellow)",
                  "x": 0.5,
                  "xanchor": "center",
                  "y": 0.95,
                  "yanchor": "top"
                },
                "xaxis": {
                  "range": [
                    -5,
                    7
                  ],
                  "title": {
                    "text": "x"
                  }
                },
                "yaxis": {
                  "range": [
                    -40,
                    40
                  ],
                  "title": {
                    "text": "y"
                  }
                }
              }
            }
          },
          "metadata": {},
          "output_type": "display_data"
        },
        {
          "data": {
            "application/vnd.plotly.v1+json": {
              "config": {
                "plotlyServerURL": "https://plot.ly"
              },
              "data": [
                {
                  "line": {
                    "color": "red"
                  },
                  "mode": "lines",
                  "name": "f1",
                  "showlegend": true,
                  "type": "scatter",
                  "x": [
                    0,
                    0.10526315789473684,
                    0.21052631578947367,
                    0.3157894736842105,
                    0.42105263157894735,
                    0.5263157894736842,
                    0.631578947368421,
                    0.7368421052631579,
                    0.8421052631578947,
                    0.9473684210526315,
                    1.0526315789473684,
                    1.1578947368421053,
                    1.263157894736842,
                    1.3684210526315788,
                    1.4736842105263157,
                    1.5789473684210527,
                    1.6842105263157894,
                    1.789473684210526,
                    1.894736842105263,
                    2
                  ],
                  "y": [
                    2,
                    2.2451909637195513,
                    2.520441231783964,
                    2.829435939093766,
                    3.1763120014383333,
                    3.565713501791654,
                    4.00285386671771,
                    4.493585665322235,
                    5.044478965240595,
                    5.662909294715768,
                    6.357156388429651,
                    7.136515039127136,
                    8.011419539148463,
                    8.99358337793119,
                    10.096156065794736,
                    11.33389918361234,
                    12.72338401537741,
                    14.283213409629571,
                    16.03427084008912,
                    18
                  ]
                },
                {
                  "line": {
                    "color": "orange"
                  },
                  "mode": "lines",
                  "name": "f2",
                  "showlegend": true,
                  "type": "scatter",
                  "x": [
                    0,
                    0.10526315789473684,
                    0.21052631578947367,
                    0.3157894736842105,
                    0.42105263157894735,
                    0.5263157894736842,
                    0.631578947368421,
                    0.7368421052631579,
                    0.8421052631578947,
                    0.9473684210526315,
                    1.0526315789473684,
                    1.1578947368421053,
                    1.263157894736842,
                    1.3684210526315788,
                    1.4736842105263157,
                    1.5789473684210527,
                    1.6842105263157894,
                    1.789473684210526,
                    1.894736842105263,
                    2
                  ],
                  "y": [
                    -2,
                    -2.2451909637195513,
                    -2.520441231783964,
                    -2.829435939093766,
                    -3.1763120014383333,
                    -3.565713501791654,
                    -4.00285386671771,
                    -4.493585665322235,
                    -5.044478965240595,
                    -5.662909294715768,
                    -6.357156388429651,
                    -7.136515039127136,
                    -8.011419539148463,
                    -8.99358337793119,
                    -10.096156065794736,
                    -11.33389918361234,
                    -12.72338401537741,
                    -14.283213409629571,
                    -16.03427084008912,
                    -18
                  ]
                },
                {
                  "line": {
                    "color": "yellow"
                  },
                  "mode": "lines",
                  "name": "f3",
                  "showlegend": true,
                  "type": "scatter",
                  "x": [
                    -2,
                    -1.8947368421052633,
                    -1.7894736842105263,
                    -1.6842105263157894,
                    -1.5789473684210527,
                    -1.473684210526316,
                    -1.368421052631579,
                    -1.263157894736842,
                    -1.1578947368421053,
                    -1.0526315789473686,
                    -0.9473684210526316,
                    -0.8421052631578947,
                    -0.736842105263158,
                    -0.6315789473684212,
                    -0.5263157894736843,
                    -0.42105263157894735,
                    -0.3157894736842106,
                    -0.2105263157894739,
                    -0.10526315789473695,
                    0
                  ],
                  "y": [
                    18,
                    16.034270840089125,
                    14.283213409629575,
                    12.72338401537741,
                    11.33389918361234,
                    10.096156065794737,
                    8.993583377931191,
                    8.011419539148463,
                    7.136515039127136,
                    6.357156388429653,
                    5.662909294715769,
                    5.044478965240595,
                    4.493585665322235,
                    4.002853866717712,
                    3.5657135017916546,
                    3.1763120014383333,
                    2.829435939093766,
                    2.520441231783965,
                    2.2451909637195517,
                    2
                  ]
                },
                {
                  "line": {
                    "color": "green"
                  },
                  "mode": "lines",
                  "name": "f4",
                  "showlegend": true,
                  "type": "scatter",
                  "x": [
                    -2,
                    -1.8947368421052633,
                    -1.7894736842105263,
                    -1.6842105263157894,
                    -1.5789473684210527,
                    -1.473684210526316,
                    -1.368421052631579,
                    -1.263157894736842,
                    -1.1578947368421053,
                    -1.0526315789473686,
                    -0.9473684210526316,
                    -0.8421052631578947,
                    -0.736842105263158,
                    -0.6315789473684212,
                    -0.5263157894736843,
                    -0.42105263157894735,
                    -0.3157894736842106,
                    -0.2105263157894739,
                    -0.10526315789473695,
                    0
                  ],
                  "y": [
                    -18,
                    -16.034270840089125,
                    -14.283213409629575,
                    -12.72338401537741,
                    -11.33389918361234,
                    -10.096156065794737,
                    -8.993583377931191,
                    -8.011419539148463,
                    -7.136515039127136,
                    -6.357156388429653,
                    -5.662909294715769,
                    -5.044478965240595,
                    -4.493585665322235,
                    -4.002853866717712,
                    -3.5657135017916546,
                    -3.1763120014383333,
                    -2.829435939093766,
                    -2.520441231783965,
                    -2.2451909637195517,
                    -2
                  ]
                }
              ],
              "layout": {
                "autosize": false,
                "template": {
                  "data": {
                    "bar": [
                      {
                        "error_x": {
                          "color": "#2a3f5f"
                        },
                        "error_y": {
                          "color": "#2a3f5f"
                        },
                        "marker": {
                          "line": {
                            "color": "#E5ECF6",
                            "width": 0.5
                          },
                          "pattern": {
                            "fillmode": "overlay",
                            "size": 10,
                            "solidity": 0.2
                          }
                        },
                        "type": "bar"
                      }
                    ],
                    "barpolar": [
                      {
                        "marker": {
                          "line": {
                            "color": "#E5ECF6",
                            "width": 0.5
                          },
                          "pattern": {
                            "fillmode": "overlay",
                            "size": 10,
                            "solidity": 0.2
                          }
                        },
                        "type": "barpolar"
                      }
                    ],
                    "carpet": [
                      {
                        "aaxis": {
                          "endlinecolor": "#2a3f5f",
                          "gridcolor": "white",
                          "linecolor": "white",
                          "minorgridcolor": "white",
                          "startlinecolor": "#2a3f5f"
                        },
                        "baxis": {
                          "endlinecolor": "#2a3f5f",
                          "gridcolor": "white",
                          "linecolor": "white",
                          "minorgridcolor": "white",
                          "startlinecolor": "#2a3f5f"
                        },
                        "type": "carpet"
                      }
                    ],
                    "choropleth": [
                      {
                        "colorbar": {
                          "outlinewidth": 0,
                          "ticks": ""
                        },
                        "type": "choropleth"
                      }
                    ],
                    "contour": [
                      {
                        "colorbar": {
                          "outlinewidth": 0,
                          "ticks": ""
                        },
                        "colorscale": [
                          [
                            0,
                            "#0d0887"
                          ],
                          [
                            0.1111111111111111,
                            "#46039f"
                          ],
                          [
                            0.2222222222222222,
                            "#7201a8"
                          ],
                          [
                            0.3333333333333333,
                            "#9c179e"
                          ],
                          [
                            0.4444444444444444,
                            "#bd3786"
                          ],
                          [
                            0.5555555555555556,
                            "#d8576b"
                          ],
                          [
                            0.6666666666666666,
                            "#ed7953"
                          ],
                          [
                            0.7777777777777778,
                            "#fb9f3a"
                          ],
                          [
                            0.8888888888888888,
                            "#fdca26"
                          ],
                          [
                            1,
                            "#f0f921"
                          ]
                        ],
                        "type": "contour"
                      }
                    ],
                    "contourcarpet": [
                      {
                        "colorbar": {
                          "outlinewidth": 0,
                          "ticks": ""
                        },
                        "type": "contourcarpet"
                      }
                    ],
                    "heatmap": [
                      {
                        "colorbar": {
                          "outlinewidth": 0,
                          "ticks": ""
                        },
                        "colorscale": [
                          [
                            0,
                            "#0d0887"
                          ],
                          [
                            0.1111111111111111,
                            "#46039f"
                          ],
                          [
                            0.2222222222222222,
                            "#7201a8"
                          ],
                          [
                            0.3333333333333333,
                            "#9c179e"
                          ],
                          [
                            0.4444444444444444,
                            "#bd3786"
                          ],
                          [
                            0.5555555555555556,
                            "#d8576b"
                          ],
                          [
                            0.6666666666666666,
                            "#ed7953"
                          ],
                          [
                            0.7777777777777778,
                            "#fb9f3a"
                          ],
                          [
                            0.8888888888888888,
                            "#fdca26"
                          ],
                          [
                            1,
                            "#f0f921"
                          ]
                        ],
                        "type": "heatmap"
                      }
                    ],
                    "heatmapgl": [
                      {
                        "colorbar": {
                          "outlinewidth": 0,
                          "ticks": ""
                        },
                        "colorscale": [
                          [
                            0,
                            "#0d0887"
                          ],
                          [
                            0.1111111111111111,
                            "#46039f"
                          ],
                          [
                            0.2222222222222222,
                            "#7201a8"
                          ],
                          [
                            0.3333333333333333,
                            "#9c179e"
                          ],
                          [
                            0.4444444444444444,
                            "#bd3786"
                          ],
                          [
                            0.5555555555555556,
                            "#d8576b"
                          ],
                          [
                            0.6666666666666666,
                            "#ed7953"
                          ],
                          [
                            0.7777777777777778,
                            "#fb9f3a"
                          ],
                          [
                            0.8888888888888888,
                            "#fdca26"
                          ],
                          [
                            1,
                            "#f0f921"
                          ]
                        ],
                        "type": "heatmapgl"
                      }
                    ],
                    "histogram": [
                      {
                        "marker": {
                          "pattern": {
                            "fillmode": "overlay",
                            "size": 10,
                            "solidity": 0.2
                          }
                        },
                        "type": "histogram"
                      }
                    ],
                    "histogram2d": [
                      {
                        "colorbar": {
                          "outlinewidth": 0,
                          "ticks": ""
                        },
                        "colorscale": [
                          [
                            0,
                            "#0d0887"
                          ],
                          [
                            0.1111111111111111,
                            "#46039f"
                          ],
                          [
                            0.2222222222222222,
                            "#7201a8"
                          ],
                          [
                            0.3333333333333333,
                            "#9c179e"
                          ],
                          [
                            0.4444444444444444,
                            "#bd3786"
                          ],
                          [
                            0.5555555555555556,
                            "#d8576b"
                          ],
                          [
                            0.6666666666666666,
                            "#ed7953"
                          ],
                          [
                            0.7777777777777778,
                            "#fb9f3a"
                          ],
                          [
                            0.8888888888888888,
                            "#fdca26"
                          ],
                          [
                            1,
                            "#f0f921"
                          ]
                        ],
                        "type": "histogram2d"
                      }
                    ],
                    "histogram2dcontour": [
                      {
                        "colorbar": {
                          "outlinewidth": 0,
                          "ticks": ""
                        },
                        "colorscale": [
                          [
                            0,
                            "#0d0887"
                          ],
                          [
                            0.1111111111111111,
                            "#46039f"
                          ],
                          [
                            0.2222222222222222,
                            "#7201a8"
                          ],
                          [
                            0.3333333333333333,
                            "#9c179e"
                          ],
                          [
                            0.4444444444444444,
                            "#bd3786"
                          ],
                          [
                            0.5555555555555556,
                            "#d8576b"
                          ],
                          [
                            0.6666666666666666,
                            "#ed7953"
                          ],
                          [
                            0.7777777777777778,
                            "#fb9f3a"
                          ],
                          [
                            0.8888888888888888,
                            "#fdca26"
                          ],
                          [
                            1,
                            "#f0f921"
                          ]
                        ],
                        "type": "histogram2dcontour"
                      }
                    ],
                    "mesh3d": [
                      {
                        "colorbar": {
                          "outlinewidth": 0,
                          "ticks": ""
                        },
                        "type": "mesh3d"
                      }
                    ],
                    "parcoords": [
                      {
                        "line": {
                          "colorbar": {
                            "outlinewidth": 0,
                            "ticks": ""
                          }
                        },
                        "type": "parcoords"
                      }
                    ],
                    "pie": [
                      {
                        "automargin": true,
                        "type": "pie"
                      }
                    ],
                    "scatter": [
                      {
                        "fillpattern": {
                          "fillmode": "overlay",
                          "size": 10,
                          "solidity": 0.2
                        },
                        "type": "scatter"
                      }
                    ],
                    "scatter3d": [
                      {
                        "line": {
                          "colorbar": {
                            "outlinewidth": 0,
                            "ticks": ""
                          }
                        },
                        "marker": {
                          "colorbar": {
                            "outlinewidth": 0,
                            "ticks": ""
                          }
                        },
                        "type": "scatter3d"
                      }
                    ],
                    "scattercarpet": [
                      {
                        "marker": {
                          "colorbar": {
                            "outlinewidth": 0,
                            "ticks": ""
                          }
                        },
                        "type": "scattercarpet"
                      }
                    ],
                    "scattergeo": [
                      {
                        "marker": {
                          "colorbar": {
                            "outlinewidth": 0,
                            "ticks": ""
                          }
                        },
                        "type": "scattergeo"
                      }
                    ],
                    "scattergl": [
                      {
                        "marker": {
                          "colorbar": {
                            "outlinewidth": 0,
                            "ticks": ""
                          }
                        },
                        "type": "scattergl"
                      }
                    ],
                    "scattermapbox": [
                      {
                        "marker": {
                          "colorbar": {
                            "outlinewidth": 0,
                            "ticks": ""
                          }
                        },
                        "type": "scattermapbox"
                      }
                    ],
                    "scatterpolar": [
                      {
                        "marker": {
                          "colorbar": {
                            "outlinewidth": 0,
                            "ticks": ""
                          }
                        },
                        "type": "scatterpolar"
                      }
                    ],
                    "scatterpolargl": [
                      {
                        "marker": {
                          "colorbar": {
                            "outlinewidth": 0,
                            "ticks": ""
                          }
                        },
                        "type": "scatterpolargl"
                      }
                    ],
                    "scatterternary": [
                      {
                        "marker": {
                          "colorbar": {
                            "outlinewidth": 0,
                            "ticks": ""
                          }
                        },
                        "type": "scatterternary"
                      }
                    ],
                    "surface": [
                      {
                        "colorbar": {
                          "outlinewidth": 0,
                          "ticks": ""
                        },
                        "colorscale": [
                          [
                            0,
                            "#0d0887"
                          ],
                          [
                            0.1111111111111111,
                            "#46039f"
                          ],
                          [
                            0.2222222222222222,
                            "#7201a8"
                          ],
                          [
                            0.3333333333333333,
                            "#9c179e"
                          ],
                          [
                            0.4444444444444444,
                            "#bd3786"
                          ],
                          [
                            0.5555555555555556,
                            "#d8576b"
                          ],
                          [
                            0.6666666666666666,
                            "#ed7953"
                          ],
                          [
                            0.7777777777777778,
                            "#fb9f3a"
                          ],
                          [
                            0.8888888888888888,
                            "#fdca26"
                          ],
                          [
                            1,
                            "#f0f921"
                          ]
                        ],
                        "type": "surface"
                      }
                    ],
                    "table": [
                      {
                        "cells": {
                          "fill": {
                            "color": "#EBF0F8"
                          },
                          "line": {
                            "color": "white"
                          }
                        },
                        "header": {
                          "fill": {
                            "color": "#C8D4E3"
                          },
                          "line": {
                            "color": "white"
                          }
                        },
                        "type": "table"
                      }
                    ]
                  },
                  "layout": {
                    "annotationdefaults": {
                      "arrowcolor": "#2a3f5f",
                      "arrowhead": 0,
                      "arrowwidth": 1
                    },
                    "autotypenumbers": "strict",
                    "coloraxis": {
                      "colorbar": {
                        "outlinewidth": 0,
                        "ticks": ""
                      }
                    },
                    "colorscale": {
                      "diverging": [
                        [
                          0,
                          "#8e0152"
                        ],
                        [
                          0.1,
                          "#c51b7d"
                        ],
                        [
                          0.2,
                          "#de77ae"
                        ],
                        [
                          0.3,
                          "#f1b6da"
                        ],
                        [
                          0.4,
                          "#fde0ef"
                        ],
                        [
                          0.5,
                          "#f7f7f7"
                        ],
                        [
                          0.6,
                          "#e6f5d0"
                        ],
                        [
                          0.7,
                          "#b8e186"
                        ],
                        [
                          0.8,
                          "#7fbc41"
                        ],
                        [
                          0.9,
                          "#4d9221"
                        ],
                        [
                          1,
                          "#276419"
                        ]
                      ],
                      "sequential": [
                        [
                          0,
                          "#0d0887"
                        ],
                        [
                          0.1111111111111111,
                          "#46039f"
                        ],
                        [
                          0.2222222222222222,
                          "#7201a8"
                        ],
                        [
                          0.3333333333333333,
                          "#9c179e"
                        ],
                        [
                          0.4444444444444444,
                          "#bd3786"
                        ],
                        [
                          0.5555555555555556,
                          "#d8576b"
                        ],
                        [
                          0.6666666666666666,
                          "#ed7953"
                        ],
                        [
                          0.7777777777777778,
                          "#fb9f3a"
                        ],
                        [
                          0.8888888888888888,
                          "#fdca26"
                        ],
                        [
                          1,
                          "#f0f921"
                        ]
                      ],
                      "sequentialminus": [
                        [
                          0,
                          "#0d0887"
                        ],
                        [
                          0.1111111111111111,
                          "#46039f"
                        ],
                        [
                          0.2222222222222222,
                          "#7201a8"
                        ],
                        [
                          0.3333333333333333,
                          "#9c179e"
                        ],
                        [
                          0.4444444444444444,
                          "#bd3786"
                        ],
                        [
                          0.5555555555555556,
                          "#d8576b"
                        ],
                        [
                          0.6666666666666666,
                          "#ed7953"
                        ],
                        [
                          0.7777777777777778,
                          "#fb9f3a"
                        ],
                        [
                          0.8888888888888888,
                          "#fdca26"
                        ],
                        [
                          1,
                          "#f0f921"
                        ]
                      ]
                    },
                    "colorway": [
                      "#636efa",
                      "#EF553B",
                      "#00cc96",
                      "#ab63fa",
                      "#FFA15A",
                      "#19d3f3",
                      "#FF6692",
                      "#B6E880",
                      "#FF97FF",
                      "#FECB52"
                    ],
                    "font": {
                      "color": "#2a3f5f"
                    },
                    "geo": {
                      "bgcolor": "white",
                      "lakecolor": "white",
                      "landcolor": "#E5ECF6",
                      "showlakes": true,
                      "showland": true,
                      "subunitcolor": "white"
                    },
                    "hoverlabel": {
                      "align": "left"
                    },
                    "hovermode": "closest",
                    "mapbox": {
                      "style": "light"
                    },
                    "paper_bgcolor": "white",
                    "plot_bgcolor": "#E5ECF6",
                    "polar": {
                      "angularaxis": {
                        "gridcolor": "white",
                        "linecolor": "white",
                        "ticks": ""
                      },
                      "bgcolor": "#E5ECF6",
                      "radialaxis": {
                        "gridcolor": "white",
                        "linecolor": "white",
                        "ticks": ""
                      }
                    },
                    "scene": {
                      "xaxis": {
                        "backgroundcolor": "#E5ECF6",
                        "gridcolor": "white",
                        "gridwidth": 2,
                        "linecolor": "white",
                        "showbackground": true,
                        "ticks": "",
                        "zerolinecolor": "white"
                      },
                      "yaxis": {
                        "backgroundcolor": "#E5ECF6",
                        "gridcolor": "white",
                        "gridwidth": 2,
                        "linecolor": "white",
                        "showbackground": true,
                        "ticks": "",
                        "zerolinecolor": "white"
                      },
                      "zaxis": {
                        "backgroundcolor": "#E5ECF6",
                        "gridcolor": "white",
                        "gridwidth": 2,
                        "linecolor": "white",
                        "showbackground": true,
                        "ticks": "",
                        "zerolinecolor": "white"
                      }
                    },
                    "shapedefaults": {
                      "line": {
                        "color": "#2a3f5f"
                      }
                    },
                    "ternary": {
                      "aaxis": {
                        "gridcolor": "white",
                        "linecolor": "white",
                        "ticks": ""
                      },
                      "baxis": {
                        "gridcolor": "white",
                        "linecolor": "white",
                        "ticks": ""
                      },
                      "bgcolor": "#E5ECF6",
                      "caxis": {
                        "gridcolor": "white",
                        "linecolor": "white",
                        "ticks": ""
                      }
                    },
                    "title": {
                      "x": 0.05
                    },
                    "xaxis": {
                      "automargin": true,
                      "gridcolor": "white",
                      "linecolor": "white",
                      "ticks": "",
                      "title": {
                        "standoff": 15
                      },
                      "zerolinecolor": "white",
                      "zerolinewidth": 2
                    },
                    "yaxis": {
                      "automargin": true,
                      "gridcolor": "white",
                      "linecolor": "white",
                      "ticks": "",
                      "title": {
                        "standoff": 15
                      },
                      "zerolinecolor": "white",
                      "zerolinewidth": 2
                    }
                  }
                },
                "title": {
                  "text": "Added f4: reflection of f2 across x (green)",
                  "x": 0.5,
                  "xanchor": "center",
                  "y": 0.95,
                  "yanchor": "top"
                },
                "xaxis": {
                  "range": [
                    -5,
                    7
                  ],
                  "title": {
                    "text": "x"
                  }
                },
                "yaxis": {
                  "range": [
                    -40,
                    40
                  ],
                  "title": {
                    "text": "y"
                  }
                }
              }
            }
          },
          "metadata": {},
          "output_type": "display_data"
        },
        {
          "data": {
            "application/vnd.plotly.v1+json": {
              "config": {
                "plotlyServerURL": "https://plot.ly"
              },
              "data": [
                {
                  "line": {
                    "color": "red"
                  },
                  "mode": "lines",
                  "name": "f1",
                  "showlegend": true,
                  "type": "scatter",
                  "x": [
                    0,
                    0.10526315789473684,
                    0.21052631578947367,
                    0.3157894736842105,
                    0.42105263157894735,
                    0.5263157894736842,
                    0.631578947368421,
                    0.7368421052631579,
                    0.8421052631578947,
                    0.9473684210526315,
                    1.0526315789473684,
                    1.1578947368421053,
                    1.263157894736842,
                    1.3684210526315788,
                    1.4736842105263157,
                    1.5789473684210527,
                    1.6842105263157894,
                    1.789473684210526,
                    1.894736842105263,
                    2
                  ],
                  "y": [
                    2,
                    2.2451909637195513,
                    2.520441231783964,
                    2.829435939093766,
                    3.1763120014383333,
                    3.565713501791654,
                    4.00285386671771,
                    4.493585665322235,
                    5.044478965240595,
                    5.662909294715768,
                    6.357156388429651,
                    7.136515039127136,
                    8.011419539148463,
                    8.99358337793119,
                    10.096156065794736,
                    11.33389918361234,
                    12.72338401537741,
                    14.283213409629571,
                    16.03427084008912,
                    18
                  ]
                },
                {
                  "line": {
                    "color": "orange"
                  },
                  "mode": "lines",
                  "name": "f2",
                  "showlegend": true,
                  "type": "scatter",
                  "x": [
                    0,
                    0.10526315789473684,
                    0.21052631578947367,
                    0.3157894736842105,
                    0.42105263157894735,
                    0.5263157894736842,
                    0.631578947368421,
                    0.7368421052631579,
                    0.8421052631578947,
                    0.9473684210526315,
                    1.0526315789473684,
                    1.1578947368421053,
                    1.263157894736842,
                    1.3684210526315788,
                    1.4736842105263157,
                    1.5789473684210527,
                    1.6842105263157894,
                    1.789473684210526,
                    1.894736842105263,
                    2
                  ],
                  "y": [
                    -2,
                    -2.2451909637195513,
                    -2.520441231783964,
                    -2.829435939093766,
                    -3.1763120014383333,
                    -3.565713501791654,
                    -4.00285386671771,
                    -4.493585665322235,
                    -5.044478965240595,
                    -5.662909294715768,
                    -6.357156388429651,
                    -7.136515039127136,
                    -8.011419539148463,
                    -8.99358337793119,
                    -10.096156065794736,
                    -11.33389918361234,
                    -12.72338401537741,
                    -14.283213409629571,
                    -16.03427084008912,
                    -18
                  ]
                },
                {
                  "line": {
                    "color": "yellow"
                  },
                  "mode": "lines",
                  "name": "f3",
                  "showlegend": true,
                  "type": "scatter",
                  "x": [
                    -2,
                    -1.8947368421052633,
                    -1.7894736842105263,
                    -1.6842105263157894,
                    -1.5789473684210527,
                    -1.473684210526316,
                    -1.368421052631579,
                    -1.263157894736842,
                    -1.1578947368421053,
                    -1.0526315789473686,
                    -0.9473684210526316,
                    -0.8421052631578947,
                    -0.736842105263158,
                    -0.6315789473684212,
                    -0.5263157894736843,
                    -0.42105263157894735,
                    -0.3157894736842106,
                    -0.2105263157894739,
                    -0.10526315789473695,
                    0
                  ],
                  "y": [
                    18,
                    16.034270840089125,
                    14.283213409629575,
                    12.72338401537741,
                    11.33389918361234,
                    10.096156065794737,
                    8.993583377931191,
                    8.011419539148463,
                    7.136515039127136,
                    6.357156388429653,
                    5.662909294715769,
                    5.044478965240595,
                    4.493585665322235,
                    4.002853866717712,
                    3.5657135017916546,
                    3.1763120014383333,
                    2.829435939093766,
                    2.520441231783965,
                    2.2451909637195517,
                    2
                  ]
                },
                {
                  "line": {
                    "color": "green"
                  },
                  "mode": "lines",
                  "name": "f4",
                  "showlegend": true,
                  "type": "scatter",
                  "x": [
                    -2,
                    -1.8947368421052633,
                    -1.7894736842105263,
                    -1.6842105263157894,
                    -1.5789473684210527,
                    -1.473684210526316,
                    -1.368421052631579,
                    -1.263157894736842,
                    -1.1578947368421053,
                    -1.0526315789473686,
                    -0.9473684210526316,
                    -0.8421052631578947,
                    -0.736842105263158,
                    -0.6315789473684212,
                    -0.5263157894736843,
                    -0.42105263157894735,
                    -0.3157894736842106,
                    -0.2105263157894739,
                    -0.10526315789473695,
                    0
                  ],
                  "y": [
                    -18,
                    -16.034270840089125,
                    -14.283213409629575,
                    -12.72338401537741,
                    -11.33389918361234,
                    -10.096156065794737,
                    -8.993583377931191,
                    -8.011419539148463,
                    -7.136515039127136,
                    -6.357156388429653,
                    -5.662909294715769,
                    -5.044478965240595,
                    -4.493585665322235,
                    -4.002853866717712,
                    -3.5657135017916546,
                    -3.1763120014383333,
                    -2.829435939093766,
                    -2.520441231783965,
                    -2.2451909637195517,
                    -2
                  ]
                },
                {
                  "line": {
                    "color": "blue"
                  },
                  "mode": "lines",
                  "name": "f5",
                  "showlegend": true,
                  "type": "scatter",
                  "x": [
                    0,
                    0.10526315789473684,
                    0.21052631578947367,
                    0.3157894736842105,
                    0.42105263157894735,
                    0.5263157894736842,
                    0.631578947368421,
                    0.7368421052631579,
                    0.8421052631578947,
                    0.9473684210526315,
                    1.0526315789473684,
                    1.1578947368421053,
                    1.263157894736842,
                    1.3684210526315788,
                    1.4736842105263157,
                    1.5789473684210527,
                    1.6842105263157894,
                    1.789473684210526,
                    1.894736842105263,
                    2
                  ],
                  "y": [
                    34,
                    33.75480903628045,
                    33.47955876821604,
                    33.17056406090624,
                    32.82368799856167,
                    32.434286498208344,
                    31.99714613328229,
                    31.506414334677764,
                    30.955521034759407,
                    30.337090705284233,
                    29.64284361157035,
                    28.863484960872864,
                    27.988580460851537,
                    27.006416622068812,
                    25.903843934205263,
                    24.66610081638766,
                    23.276615984622588,
                    21.71678659037043,
                    19.96572915991088,
                    18
                  ]
                },
                {
                  "line": {
                    "color": "blue"
                  },
                  "mode": "lines",
                  "name": "f6",
                  "showlegend": true,
                  "type": "scatter",
                  "x": [
                    -2,
                    -1.8947368421052633,
                    -1.7894736842105263,
                    -1.6842105263157894,
                    -1.5789473684210527,
                    -1.473684210526316,
                    -1.368421052631579,
                    -1.263157894736842,
                    -1.1578947368421053,
                    -1.0526315789473686,
                    -0.9473684210526316,
                    -0.8421052631578947,
                    -0.736842105263158,
                    -0.6315789473684212,
                    -0.5263157894736843,
                    -0.42105263157894735,
                    -0.3157894736842106,
                    -0.2105263157894739,
                    -0.10526315789473695,
                    0
                  ],
                  "y": [
                    18,
                    19.965729159910875,
                    21.716786590370425,
                    23.276615984622588,
                    24.66610081638766,
                    25.903843934205263,
                    27.00641662206881,
                    27.988580460851537,
                    28.863484960872864,
                    29.64284361157035,
                    30.337090705284233,
                    30.955521034759407,
                    31.506414334677764,
                    31.99714613328229,
                    32.434286498208344,
                    32.82368799856167,
                    33.17056406090624,
                    33.47955876821604,
                    33.75480903628045,
                    34
                  ]
                }
              ],
              "layout": {
                "autosize": false,
                "template": {
                  "data": {
                    "bar": [
                      {
                        "error_x": {
                          "color": "#2a3f5f"
                        },
                        "error_y": {
                          "color": "#2a3f5f"
                        },
                        "marker": {
                          "line": {
                            "color": "#E5ECF6",
                            "width": 0.5
                          },
                          "pattern": {
                            "fillmode": "overlay",
                            "size": 10,
                            "solidity": 0.2
                          }
                        },
                        "type": "bar"
                      }
                    ],
                    "barpolar": [
                      {
                        "marker": {
                          "line": {
                            "color": "#E5ECF6",
                            "width": 0.5
                          },
                          "pattern": {
                            "fillmode": "overlay",
                            "size": 10,
                            "solidity": 0.2
                          }
                        },
                        "type": "barpolar"
                      }
                    ],
                    "carpet": [
                      {
                        "aaxis": {
                          "endlinecolor": "#2a3f5f",
                          "gridcolor": "white",
                          "linecolor": "white",
                          "minorgridcolor": "white",
                          "startlinecolor": "#2a3f5f"
                        },
                        "baxis": {
                          "endlinecolor": "#2a3f5f",
                          "gridcolor": "white",
                          "linecolor": "white",
                          "minorgridcolor": "white",
                          "startlinecolor": "#2a3f5f"
                        },
                        "type": "carpet"
                      }
                    ],
                    "choropleth": [
                      {
                        "colorbar": {
                          "outlinewidth": 0,
                          "ticks": ""
                        },
                        "type": "choropleth"
                      }
                    ],
                    "contour": [
                      {
                        "colorbar": {
                          "outlinewidth": 0,
                          "ticks": ""
                        },
                        "colorscale": [
                          [
                            0,
                            "#0d0887"
                          ],
                          [
                            0.1111111111111111,
                            "#46039f"
                          ],
                          [
                            0.2222222222222222,
                            "#7201a8"
                          ],
                          [
                            0.3333333333333333,
                            "#9c179e"
                          ],
                          [
                            0.4444444444444444,
                            "#bd3786"
                          ],
                          [
                            0.5555555555555556,
                            "#d8576b"
                          ],
                          [
                            0.6666666666666666,
                            "#ed7953"
                          ],
                          [
                            0.7777777777777778,
                            "#fb9f3a"
                          ],
                          [
                            0.8888888888888888,
                            "#fdca26"
                          ],
                          [
                            1,
                            "#f0f921"
                          ]
                        ],
                        "type": "contour"
                      }
                    ],
                    "contourcarpet": [
                      {
                        "colorbar": {
                          "outlinewidth": 0,
                          "ticks": ""
                        },
                        "type": "contourcarpet"
                      }
                    ],
                    "heatmap": [
                      {
                        "colorbar": {
                          "outlinewidth": 0,
                          "ticks": ""
                        },
                        "colorscale": [
                          [
                            0,
                            "#0d0887"
                          ],
                          [
                            0.1111111111111111,
                            "#46039f"
                          ],
                          [
                            0.2222222222222222,
                            "#7201a8"
                          ],
                          [
                            0.3333333333333333,
                            "#9c179e"
                          ],
                          [
                            0.4444444444444444,
                            "#bd3786"
                          ],
                          [
                            0.5555555555555556,
                            "#d8576b"
                          ],
                          [
                            0.6666666666666666,
                            "#ed7953"
                          ],
                          [
                            0.7777777777777778,
                            "#fb9f3a"
                          ],
                          [
                            0.8888888888888888,
                            "#fdca26"
                          ],
                          [
                            1,
                            "#f0f921"
                          ]
                        ],
                        "type": "heatmap"
                      }
                    ],
                    "heatmapgl": [
                      {
                        "colorbar": {
                          "outlinewidth": 0,
                          "ticks": ""
                        },
                        "colorscale": [
                          [
                            0,
                            "#0d0887"
                          ],
                          [
                            0.1111111111111111,
                            "#46039f"
                          ],
                          [
                            0.2222222222222222,
                            "#7201a8"
                          ],
                          [
                            0.3333333333333333,
                            "#9c179e"
                          ],
                          [
                            0.4444444444444444,
                            "#bd3786"
                          ],
                          [
                            0.5555555555555556,
                            "#d8576b"
                          ],
                          [
                            0.6666666666666666,
                            "#ed7953"
                          ],
                          [
                            0.7777777777777778,
                            "#fb9f3a"
                          ],
                          [
                            0.8888888888888888,
                            "#fdca26"
                          ],
                          [
                            1,
                            "#f0f921"
                          ]
                        ],
                        "type": "heatmapgl"
                      }
                    ],
                    "histogram": [
                      {
                        "marker": {
                          "pattern": {
                            "fillmode": "overlay",
                            "size": 10,
                            "solidity": 0.2
                          }
                        },
                        "type": "histogram"
                      }
                    ],
                    "histogram2d": [
                      {
                        "colorbar": {
                          "outlinewidth": 0,
                          "ticks": ""
                        },
                        "colorscale": [
                          [
                            0,
                            "#0d0887"
                          ],
                          [
                            0.1111111111111111,
                            "#46039f"
                          ],
                          [
                            0.2222222222222222,
                            "#7201a8"
                          ],
                          [
                            0.3333333333333333,
                            "#9c179e"
                          ],
                          [
                            0.4444444444444444,
                            "#bd3786"
                          ],
                          [
                            0.5555555555555556,
                            "#d8576b"
                          ],
                          [
                            0.6666666666666666,
                            "#ed7953"
                          ],
                          [
                            0.7777777777777778,
                            "#fb9f3a"
                          ],
                          [
                            0.8888888888888888,
                            "#fdca26"
                          ],
                          [
                            1,
                            "#f0f921"
                          ]
                        ],
                        "type": "histogram2d"
                      }
                    ],
                    "histogram2dcontour": [
                      {
                        "colorbar": {
                          "outlinewidth": 0,
                          "ticks": ""
                        },
                        "colorscale": [
                          [
                            0,
                            "#0d0887"
                          ],
                          [
                            0.1111111111111111,
                            "#46039f"
                          ],
                          [
                            0.2222222222222222,
                            "#7201a8"
                          ],
                          [
                            0.3333333333333333,
                            "#9c179e"
                          ],
                          [
                            0.4444444444444444,
                            "#bd3786"
                          ],
                          [
                            0.5555555555555556,
                            "#d8576b"
                          ],
                          [
                            0.6666666666666666,
                            "#ed7953"
                          ],
                          [
                            0.7777777777777778,
                            "#fb9f3a"
                          ],
                          [
                            0.8888888888888888,
                            "#fdca26"
                          ],
                          [
                            1,
                            "#f0f921"
                          ]
                        ],
                        "type": "histogram2dcontour"
                      }
                    ],
                    "mesh3d": [
                      {
                        "colorbar": {
                          "outlinewidth": 0,
                          "ticks": ""
                        },
                        "type": "mesh3d"
                      }
                    ],
                    "parcoords": [
                      {
                        "line": {
                          "colorbar": {
                            "outlinewidth": 0,
                            "ticks": ""
                          }
                        },
                        "type": "parcoords"
                      }
                    ],
                    "pie": [
                      {
                        "automargin": true,
                        "type": "pie"
                      }
                    ],
                    "scatter": [
                      {
                        "fillpattern": {
                          "fillmode": "overlay",
                          "size": 10,
                          "solidity": 0.2
                        },
                        "type": "scatter"
                      }
                    ],
                    "scatter3d": [
                      {
                        "line": {
                          "colorbar": {
                            "outlinewidth": 0,
                            "ticks": ""
                          }
                        },
                        "marker": {
                          "colorbar": {
                            "outlinewidth": 0,
                            "ticks": ""
                          }
                        },
                        "type": "scatter3d"
                      }
                    ],
                    "scattercarpet": [
                      {
                        "marker": {
                          "colorbar": {
                            "outlinewidth": 0,
                            "ticks": ""
                          }
                        },
                        "type": "scattercarpet"
                      }
                    ],
                    "scattergeo": [
                      {
                        "marker": {
                          "colorbar": {
                            "outlinewidth": 0,
                            "ticks": ""
                          }
                        },
                        "type": "scattergeo"
                      }
                    ],
                    "scattergl": [
                      {
                        "marker": {
                          "colorbar": {
                            "outlinewidth": 0,
                            "ticks": ""
                          }
                        },
                        "type": "scattergl"
                      }
                    ],
                    "scattermapbox": [
                      {
                        "marker": {
                          "colorbar": {
                            "outlinewidth": 0,
                            "ticks": ""
                          }
                        },
                        "type": "scattermapbox"
                      }
                    ],
                    "scatterpolar": [
                      {
                        "marker": {
                          "colorbar": {
                            "outlinewidth": 0,
                            "ticks": ""
                          }
                        },
                        "type": "scatterpolar"
                      }
                    ],
                    "scatterpolargl": [
                      {
                        "marker": {
                          "colorbar": {
                            "outlinewidth": 0,
                            "ticks": ""
                          }
                        },
                        "type": "scatterpolargl"
                      }
                    ],
                    "scatterternary": [
                      {
                        "marker": {
                          "colorbar": {
                            "outlinewidth": 0,
                            "ticks": ""
                          }
                        },
                        "type": "scatterternary"
                      }
                    ],
                    "surface": [
                      {
                        "colorbar": {
                          "outlinewidth": 0,
                          "ticks": ""
                        },
                        "colorscale": [
                          [
                            0,
                            "#0d0887"
                          ],
                          [
                            0.1111111111111111,
                            "#46039f"
                          ],
                          [
                            0.2222222222222222,
                            "#7201a8"
                          ],
                          [
                            0.3333333333333333,
                            "#9c179e"
                          ],
                          [
                            0.4444444444444444,
                            "#bd3786"
                          ],
                          [
                            0.5555555555555556,
                            "#d8576b"
                          ],
                          [
                            0.6666666666666666,
                            "#ed7953"
                          ],
                          [
                            0.7777777777777778,
                            "#fb9f3a"
                          ],
                          [
                            0.8888888888888888,
                            "#fdca26"
                          ],
                          [
                            1,
                            "#f0f921"
                          ]
                        ],
                        "type": "surface"
                      }
                    ],
                    "table": [
                      {
                        "cells": {
                          "fill": {
                            "color": "#EBF0F8"
                          },
                          "line": {
                            "color": "white"
                          }
                        },
                        "header": {
                          "fill": {
                            "color": "#C8D4E3"
                          },
                          "line": {
                            "color": "white"
                          }
                        },
                        "type": "table"
                      }
                    ]
                  },
                  "layout": {
                    "annotationdefaults": {
                      "arrowcolor": "#2a3f5f",
                      "arrowhead": 0,
                      "arrowwidth": 1
                    },
                    "autotypenumbers": "strict",
                    "coloraxis": {
                      "colorbar": {
                        "outlinewidth": 0,
                        "ticks": ""
                      }
                    },
                    "colorscale": {
                      "diverging": [
                        [
                          0,
                          "#8e0152"
                        ],
                        [
                          0.1,
                          "#c51b7d"
                        ],
                        [
                          0.2,
                          "#de77ae"
                        ],
                        [
                          0.3,
                          "#f1b6da"
                        ],
                        [
                          0.4,
                          "#fde0ef"
                        ],
                        [
                          0.5,
                          "#f7f7f7"
                        ],
                        [
                          0.6,
                          "#e6f5d0"
                        ],
                        [
                          0.7,
                          "#b8e186"
                        ],
                        [
                          0.8,
                          "#7fbc41"
                        ],
                        [
                          0.9,
                          "#4d9221"
                        ],
                        [
                          1,
                          "#276419"
                        ]
                      ],
                      "sequential": [
                        [
                          0,
                          "#0d0887"
                        ],
                        [
                          0.1111111111111111,
                          "#46039f"
                        ],
                        [
                          0.2222222222222222,
                          "#7201a8"
                        ],
                        [
                          0.3333333333333333,
                          "#9c179e"
                        ],
                        [
                          0.4444444444444444,
                          "#bd3786"
                        ],
                        [
                          0.5555555555555556,
                          "#d8576b"
                        ],
                        [
                          0.6666666666666666,
                          "#ed7953"
                        ],
                        [
                          0.7777777777777778,
                          "#fb9f3a"
                        ],
                        [
                          0.8888888888888888,
                          "#fdca26"
                        ],
                        [
                          1,
                          "#f0f921"
                        ]
                      ],
                      "sequentialminus": [
                        [
                          0,
                          "#0d0887"
                        ],
                        [
                          0.1111111111111111,
                          "#46039f"
                        ],
                        [
                          0.2222222222222222,
                          "#7201a8"
                        ],
                        [
                          0.3333333333333333,
                          "#9c179e"
                        ],
                        [
                          0.4444444444444444,
                          "#bd3786"
                        ],
                        [
                          0.5555555555555556,
                          "#d8576b"
                        ],
                        [
                          0.6666666666666666,
                          "#ed7953"
                        ],
                        [
                          0.7777777777777778,
                          "#fb9f3a"
                        ],
                        [
                          0.8888888888888888,
                          "#fdca26"
                        ],
                        [
                          1,
                          "#f0f921"
                        ]
                      ]
                    },
                    "colorway": [
                      "#636efa",
                      "#EF553B",
                      "#00cc96",
                      "#ab63fa",
                      "#FFA15A",
                      "#19d3f3",
                      "#FF6692",
                      "#B6E880",
                      "#FF97FF",
                      "#FECB52"
                    ],
                    "font": {
                      "color": "#2a3f5f"
                    },
                    "geo": {
                      "bgcolor": "white",
                      "lakecolor": "white",
                      "landcolor": "#E5ECF6",
                      "showlakes": true,
                      "showland": true,
                      "subunitcolor": "white"
                    },
                    "hoverlabel": {
                      "align": "left"
                    },
                    "hovermode": "closest",
                    "mapbox": {
                      "style": "light"
                    },
                    "paper_bgcolor": "white",
                    "plot_bgcolor": "#E5ECF6",
                    "polar": {
                      "angularaxis": {
                        "gridcolor": "white",
                        "linecolor": "white",
                        "ticks": ""
                      },
                      "bgcolor": "#E5ECF6",
                      "radialaxis": {
                        "gridcolor": "white",
                        "linecolor": "white",
                        "ticks": ""
                      }
                    },
                    "scene": {
                      "xaxis": {
                        "backgroundcolor": "#E5ECF6",
                        "gridcolor": "white",
                        "gridwidth": 2,
                        "linecolor": "white",
                        "showbackground": true,
                        "ticks": "",
                        "zerolinecolor": "white"
                      },
                      "yaxis": {
                        "backgroundcolor": "#E5ECF6",
                        "gridcolor": "white",
                        "gridwidth": 2,
                        "linecolor": "white",
                        "showbackground": true,
                        "ticks": "",
                        "zerolinecolor": "white"
                      },
                      "zaxis": {
                        "backgroundcolor": "#E5ECF6",
                        "gridcolor": "white",
                        "gridwidth": 2,
                        "linecolor": "white",
                        "showbackground": true,
                        "ticks": "",
                        "zerolinecolor": "white"
                      }
                    },
                    "shapedefaults": {
                      "line": {
                        "color": "#2a3f5f"
                      }
                    },
                    "ternary": {
                      "aaxis": {
                        "gridcolor": "white",
                        "linecolor": "white",
                        "ticks": ""
                      },
                      "baxis": {
                        "gridcolor": "white",
                        "linecolor": "white",
                        "ticks": ""
                      },
                      "bgcolor": "#E5ECF6",
                      "caxis": {
                        "gridcolor": "white",
                        "linecolor": "white",
                        "ticks": ""
                      }
                    },
                    "title": {
                      "x": 0.05
                    },
                    "xaxis": {
                      "automargin": true,
                      "gridcolor": "white",
                      "linecolor": "white",
                      "ticks": "",
                      "title": {
                        "standoff": 15
                      },
                      "zerolinecolor": "white",
                      "zerolinewidth": 2
                    },
                    "yaxis": {
                      "automargin": true,
                      "gridcolor": "white",
                      "linecolor": "white",
                      "ticks": "",
                      "title": {
                        "standoff": 15
                      },
                      "zerolinecolor": "white",
                      "zerolinewidth": 2
                    }
                  }
                },
                "title": {
                  "text": "Added f5, f6: translations of f2, f4 (blue)",
                  "x": 0.5,
                  "xanchor": "center",
                  "y": 0.95,
                  "yanchor": "top"
                },
                "xaxis": {
                  "range": [
                    -5,
                    7
                  ],
                  "title": {
                    "text": "x"
                  }
                },
                "yaxis": {
                  "range": [
                    -40,
                    40
                  ],
                  "title": {
                    "text": "y"
                  }
                }
              }
            }
          },
          "metadata": {},
          "output_type": "display_data"
        },
        {
          "data": {
            "application/vnd.plotly.v1+json": {
              "config": {
                "plotlyServerURL": "https://plot.ly"
              },
              "data": [
                {
                  "line": {
                    "color": "red"
                  },
                  "mode": "lines",
                  "name": "f1",
                  "showlegend": true,
                  "type": "scatter",
                  "x": [
                    0,
                    0.10526315789473684,
                    0.21052631578947367,
                    0.3157894736842105,
                    0.42105263157894735,
                    0.5263157894736842,
                    0.631578947368421,
                    0.7368421052631579,
                    0.8421052631578947,
                    0.9473684210526315,
                    1.0526315789473684,
                    1.1578947368421053,
                    1.263157894736842,
                    1.3684210526315788,
                    1.4736842105263157,
                    1.5789473684210527,
                    1.6842105263157894,
                    1.789473684210526,
                    1.894736842105263,
                    2
                  ],
                  "y": [
                    2,
                    2.2451909637195513,
                    2.520441231783964,
                    2.829435939093766,
                    3.1763120014383333,
                    3.565713501791654,
                    4.00285386671771,
                    4.493585665322235,
                    5.044478965240595,
                    5.662909294715768,
                    6.357156388429651,
                    7.136515039127136,
                    8.011419539148463,
                    8.99358337793119,
                    10.096156065794736,
                    11.33389918361234,
                    12.72338401537741,
                    14.283213409629571,
                    16.03427084008912,
                    18
                  ]
                },
                {
                  "line": {
                    "color": "orange"
                  },
                  "mode": "lines",
                  "name": "f2",
                  "showlegend": true,
                  "type": "scatter",
                  "x": [
                    0,
                    0.10526315789473684,
                    0.21052631578947367,
                    0.3157894736842105,
                    0.42105263157894735,
                    0.5263157894736842,
                    0.631578947368421,
                    0.7368421052631579,
                    0.8421052631578947,
                    0.9473684210526315,
                    1.0526315789473684,
                    1.1578947368421053,
                    1.263157894736842,
                    1.3684210526315788,
                    1.4736842105263157,
                    1.5789473684210527,
                    1.6842105263157894,
                    1.789473684210526,
                    1.894736842105263,
                    2
                  ],
                  "y": [
                    -2,
                    -2.2451909637195513,
                    -2.520441231783964,
                    -2.829435939093766,
                    -3.1763120014383333,
                    -3.565713501791654,
                    -4.00285386671771,
                    -4.493585665322235,
                    -5.044478965240595,
                    -5.662909294715768,
                    -6.357156388429651,
                    -7.136515039127136,
                    -8.011419539148463,
                    -8.99358337793119,
                    -10.096156065794736,
                    -11.33389918361234,
                    -12.72338401537741,
                    -14.283213409629571,
                    -16.03427084008912,
                    -18
                  ]
                },
                {
                  "line": {
                    "color": "yellow"
                  },
                  "mode": "lines",
                  "name": "f3",
                  "showlegend": true,
                  "type": "scatter",
                  "x": [
                    -2,
                    -1.8947368421052633,
                    -1.7894736842105263,
                    -1.6842105263157894,
                    -1.5789473684210527,
                    -1.473684210526316,
                    -1.368421052631579,
                    -1.263157894736842,
                    -1.1578947368421053,
                    -1.0526315789473686,
                    -0.9473684210526316,
                    -0.8421052631578947,
                    -0.736842105263158,
                    -0.6315789473684212,
                    -0.5263157894736843,
                    -0.42105263157894735,
                    -0.3157894736842106,
                    -0.2105263157894739,
                    -0.10526315789473695,
                    0
                  ],
                  "y": [
                    18,
                    16.034270840089125,
                    14.283213409629575,
                    12.72338401537741,
                    11.33389918361234,
                    10.096156065794737,
                    8.993583377931191,
                    8.011419539148463,
                    7.136515039127136,
                    6.357156388429653,
                    5.662909294715769,
                    5.044478965240595,
                    4.493585665322235,
                    4.002853866717712,
                    3.5657135017916546,
                    3.1763120014383333,
                    2.829435939093766,
                    2.520441231783965,
                    2.2451909637195517,
                    2
                  ]
                },
                {
                  "line": {
                    "color": "green"
                  },
                  "mode": "lines",
                  "name": "f4",
                  "showlegend": true,
                  "type": "scatter",
                  "x": [
                    -2,
                    -1.8947368421052633,
                    -1.7894736842105263,
                    -1.6842105263157894,
                    -1.5789473684210527,
                    -1.473684210526316,
                    -1.368421052631579,
                    -1.263157894736842,
                    -1.1578947368421053,
                    -1.0526315789473686,
                    -0.9473684210526316,
                    -0.8421052631578947,
                    -0.736842105263158,
                    -0.6315789473684212,
                    -0.5263157894736843,
                    -0.42105263157894735,
                    -0.3157894736842106,
                    -0.2105263157894739,
                    -0.10526315789473695,
                    0
                  ],
                  "y": [
                    -18,
                    -16.034270840089125,
                    -14.283213409629575,
                    -12.72338401537741,
                    -11.33389918361234,
                    -10.096156065794737,
                    -8.993583377931191,
                    -8.011419539148463,
                    -7.136515039127136,
                    -6.357156388429653,
                    -5.662909294715769,
                    -5.044478965240595,
                    -4.493585665322235,
                    -4.002853866717712,
                    -3.5657135017916546,
                    -3.1763120014383333,
                    -2.829435939093766,
                    -2.520441231783965,
                    -2.2451909637195517,
                    -2
                  ]
                },
                {
                  "line": {
                    "color": "blue"
                  },
                  "mode": "lines",
                  "name": "f5",
                  "showlegend": true,
                  "type": "scatter",
                  "x": [
                    0,
                    0.10526315789473684,
                    0.21052631578947367,
                    0.3157894736842105,
                    0.42105263157894735,
                    0.5263157894736842,
                    0.631578947368421,
                    0.7368421052631579,
                    0.8421052631578947,
                    0.9473684210526315,
                    1.0526315789473684,
                    1.1578947368421053,
                    1.263157894736842,
                    1.3684210526315788,
                    1.4736842105263157,
                    1.5789473684210527,
                    1.6842105263157894,
                    1.789473684210526,
                    1.894736842105263,
                    2
                  ],
                  "y": [
                    34,
                    33.75480903628045,
                    33.47955876821604,
                    33.17056406090624,
                    32.82368799856167,
                    32.434286498208344,
                    31.99714613328229,
                    31.506414334677764,
                    30.955521034759407,
                    30.337090705284233,
                    29.64284361157035,
                    28.863484960872864,
                    27.988580460851537,
                    27.006416622068812,
                    25.903843934205263,
                    24.66610081638766,
                    23.276615984622588,
                    21.71678659037043,
                    19.96572915991088,
                    18
                  ]
                },
                {
                  "line": {
                    "color": "blue"
                  },
                  "mode": "lines",
                  "name": "f6",
                  "showlegend": true,
                  "type": "scatter",
                  "x": [
                    -2,
                    -1.8947368421052633,
                    -1.7894736842105263,
                    -1.6842105263157894,
                    -1.5789473684210527,
                    -1.473684210526316,
                    -1.368421052631579,
                    -1.263157894736842,
                    -1.1578947368421053,
                    -1.0526315789473686,
                    -0.9473684210526316,
                    -0.8421052631578947,
                    -0.736842105263158,
                    -0.6315789473684212,
                    -0.5263157894736843,
                    -0.42105263157894735,
                    -0.3157894736842106,
                    -0.2105263157894739,
                    -0.10526315789473695,
                    0
                  ],
                  "y": [
                    18,
                    19.965729159910875,
                    21.716786590370425,
                    23.276615984622588,
                    24.66610081638766,
                    25.903843934205263,
                    27.00641662206881,
                    27.988580460851537,
                    28.863484960872864,
                    29.64284361157035,
                    30.337090705284233,
                    30.955521034759407,
                    31.506414334677764,
                    31.99714613328229,
                    32.434286498208344,
                    32.82368799856167,
                    33.17056406090624,
                    33.47955876821604,
                    33.75480903628045,
                    34
                  ]
                },
                {
                  "line": {
                    "color": "indigo"
                  },
                  "mode": "lines",
                  "name": "f7",
                  "showlegend": true,
                  "type": "scatter",
                  "x": [
                    0,
                    0.10526315789473684,
                    0.21052631578947367,
                    0.3157894736842105,
                    0.42105263157894735,
                    0.5263157894736842,
                    0.631578947368421,
                    0.7368421052631579,
                    0.8421052631578947,
                    0.9473684210526315,
                    1.0526315789473684,
                    1.1578947368421053,
                    1.263157894736842,
                    1.3684210526315788,
                    1.4736842105263157,
                    1.5789473684210527,
                    1.6842105263157894,
                    1.789473684210526,
                    1.894736842105263,
                    2
                  ],
                  "y": [
                    -34,
                    -33.75480903628045,
                    -33.47955876821604,
                    -33.17056406090624,
                    -32.82368799856167,
                    -32.434286498208344,
                    -31.99714613328229,
                    -31.506414334677764,
                    -30.955521034759407,
                    -30.337090705284233,
                    -29.64284361157035,
                    -28.863484960872864,
                    -27.988580460851537,
                    -27.006416622068812,
                    -25.903843934205263,
                    -24.66610081638766,
                    -23.276615984622588,
                    -21.71678659037043,
                    -19.96572915991088,
                    -18
                  ]
                },
                {
                  "line": {
                    "color": "indigo"
                  },
                  "mode": "lines",
                  "name": "f6",
                  "showlegend": true,
                  "type": "scatter",
                  "x": [
                    -2,
                    -1.8947368421052633,
                    -1.7894736842105263,
                    -1.6842105263157894,
                    -1.5789473684210527,
                    -1.473684210526316,
                    -1.368421052631579,
                    -1.263157894736842,
                    -1.1578947368421053,
                    -1.0526315789473686,
                    -0.9473684210526316,
                    -0.8421052631578947,
                    -0.736842105263158,
                    -0.6315789473684212,
                    -0.5263157894736843,
                    -0.42105263157894735,
                    -0.3157894736842106,
                    -0.2105263157894739,
                    -0.10526315789473695,
                    0
                  ],
                  "y": [
                    -18,
                    -19.965729159910875,
                    -21.716786590370425,
                    -23.276615984622588,
                    -24.66610081638766,
                    -25.903843934205263,
                    -27.00641662206881,
                    -27.988580460851537,
                    -28.863484960872864,
                    -29.64284361157035,
                    -30.337090705284233,
                    -30.955521034759407,
                    -31.506414334677764,
                    -31.99714613328229,
                    -32.434286498208344,
                    -32.82368799856167,
                    -33.17056406090624,
                    -33.47955876821604,
                    -33.75480903628045,
                    -34
                  ]
                }
              ],
              "layout": {
                "autosize": false,
                "template": {
                  "data": {
                    "bar": [
                      {
                        "error_x": {
                          "color": "#2a3f5f"
                        },
                        "error_y": {
                          "color": "#2a3f5f"
                        },
                        "marker": {
                          "line": {
                            "color": "#E5ECF6",
                            "width": 0.5
                          },
                          "pattern": {
                            "fillmode": "overlay",
                            "size": 10,
                            "solidity": 0.2
                          }
                        },
                        "type": "bar"
                      }
                    ],
                    "barpolar": [
                      {
                        "marker": {
                          "line": {
                            "color": "#E5ECF6",
                            "width": 0.5
                          },
                          "pattern": {
                            "fillmode": "overlay",
                            "size": 10,
                            "solidity": 0.2
                          }
                        },
                        "type": "barpolar"
                      }
                    ],
                    "carpet": [
                      {
                        "aaxis": {
                          "endlinecolor": "#2a3f5f",
                          "gridcolor": "white",
                          "linecolor": "white",
                          "minorgridcolor": "white",
                          "startlinecolor": "#2a3f5f"
                        },
                        "baxis": {
                          "endlinecolor": "#2a3f5f",
                          "gridcolor": "white",
                          "linecolor": "white",
                          "minorgridcolor": "white",
                          "startlinecolor": "#2a3f5f"
                        },
                        "type": "carpet"
                      }
                    ],
                    "choropleth": [
                      {
                        "colorbar": {
                          "outlinewidth": 0,
                          "ticks": ""
                        },
                        "type": "choropleth"
                      }
                    ],
                    "contour": [
                      {
                        "colorbar": {
                          "outlinewidth": 0,
                          "ticks": ""
                        },
                        "colorscale": [
                          [
                            0,
                            "#0d0887"
                          ],
                          [
                            0.1111111111111111,
                            "#46039f"
                          ],
                          [
                            0.2222222222222222,
                            "#7201a8"
                          ],
                          [
                            0.3333333333333333,
                            "#9c179e"
                          ],
                          [
                            0.4444444444444444,
                            "#bd3786"
                          ],
                          [
                            0.5555555555555556,
                            "#d8576b"
                          ],
                          [
                            0.6666666666666666,
                            "#ed7953"
                          ],
                          [
                            0.7777777777777778,
                            "#fb9f3a"
                          ],
                          [
                            0.8888888888888888,
                            "#fdca26"
                          ],
                          [
                            1,
                            "#f0f921"
                          ]
                        ],
                        "type": "contour"
                      }
                    ],
                    "contourcarpet": [
                      {
                        "colorbar": {
                          "outlinewidth": 0,
                          "ticks": ""
                        },
                        "type": "contourcarpet"
                      }
                    ],
                    "heatmap": [
                      {
                        "colorbar": {
                          "outlinewidth": 0,
                          "ticks": ""
                        },
                        "colorscale": [
                          [
                            0,
                            "#0d0887"
                          ],
                          [
                            0.1111111111111111,
                            "#46039f"
                          ],
                          [
                            0.2222222222222222,
                            "#7201a8"
                          ],
                          [
                            0.3333333333333333,
                            "#9c179e"
                          ],
                          [
                            0.4444444444444444,
                            "#bd3786"
                          ],
                          [
                            0.5555555555555556,
                            "#d8576b"
                          ],
                          [
                            0.6666666666666666,
                            "#ed7953"
                          ],
                          [
                            0.7777777777777778,
                            "#fb9f3a"
                          ],
                          [
                            0.8888888888888888,
                            "#fdca26"
                          ],
                          [
                            1,
                            "#f0f921"
                          ]
                        ],
                        "type": "heatmap"
                      }
                    ],
                    "heatmapgl": [
                      {
                        "colorbar": {
                          "outlinewidth": 0,
                          "ticks": ""
                        },
                        "colorscale": [
                          [
                            0,
                            "#0d0887"
                          ],
                          [
                            0.1111111111111111,
                            "#46039f"
                          ],
                          [
                            0.2222222222222222,
                            "#7201a8"
                          ],
                          [
                            0.3333333333333333,
                            "#9c179e"
                          ],
                          [
                            0.4444444444444444,
                            "#bd3786"
                          ],
                          [
                            0.5555555555555556,
                            "#d8576b"
                          ],
                          [
                            0.6666666666666666,
                            "#ed7953"
                          ],
                          [
                            0.7777777777777778,
                            "#fb9f3a"
                          ],
                          [
                            0.8888888888888888,
                            "#fdca26"
                          ],
                          [
                            1,
                            "#f0f921"
                          ]
                        ],
                        "type": "heatmapgl"
                      }
                    ],
                    "histogram": [
                      {
                        "marker": {
                          "pattern": {
                            "fillmode": "overlay",
                            "size": 10,
                            "solidity": 0.2
                          }
                        },
                        "type": "histogram"
                      }
                    ],
                    "histogram2d": [
                      {
                        "colorbar": {
                          "outlinewidth": 0,
                          "ticks": ""
                        },
                        "colorscale": [
                          [
                            0,
                            "#0d0887"
                          ],
                          [
                            0.1111111111111111,
                            "#46039f"
                          ],
                          [
                            0.2222222222222222,
                            "#7201a8"
                          ],
                          [
                            0.3333333333333333,
                            "#9c179e"
                          ],
                          [
                            0.4444444444444444,
                            "#bd3786"
                          ],
                          [
                            0.5555555555555556,
                            "#d8576b"
                          ],
                          [
                            0.6666666666666666,
                            "#ed7953"
                          ],
                          [
                            0.7777777777777778,
                            "#fb9f3a"
                          ],
                          [
                            0.8888888888888888,
                            "#fdca26"
                          ],
                          [
                            1,
                            "#f0f921"
                          ]
                        ],
                        "type": "histogram2d"
                      }
                    ],
                    "histogram2dcontour": [
                      {
                        "colorbar": {
                          "outlinewidth": 0,
                          "ticks": ""
                        },
                        "colorscale": [
                          [
                            0,
                            "#0d0887"
                          ],
                          [
                            0.1111111111111111,
                            "#46039f"
                          ],
                          [
                            0.2222222222222222,
                            "#7201a8"
                          ],
                          [
                            0.3333333333333333,
                            "#9c179e"
                          ],
                          [
                            0.4444444444444444,
                            "#bd3786"
                          ],
                          [
                            0.5555555555555556,
                            "#d8576b"
                          ],
                          [
                            0.6666666666666666,
                            "#ed7953"
                          ],
                          [
                            0.7777777777777778,
                            "#fb9f3a"
                          ],
                          [
                            0.8888888888888888,
                            "#fdca26"
                          ],
                          [
                            1,
                            "#f0f921"
                          ]
                        ],
                        "type": "histogram2dcontour"
                      }
                    ],
                    "mesh3d": [
                      {
                        "colorbar": {
                          "outlinewidth": 0,
                          "ticks": ""
                        },
                        "type": "mesh3d"
                      }
                    ],
                    "parcoords": [
                      {
                        "line": {
                          "colorbar": {
                            "outlinewidth": 0,
                            "ticks": ""
                          }
                        },
                        "type": "parcoords"
                      }
                    ],
                    "pie": [
                      {
                        "automargin": true,
                        "type": "pie"
                      }
                    ],
                    "scatter": [
                      {
                        "fillpattern": {
                          "fillmode": "overlay",
                          "size": 10,
                          "solidity": 0.2
                        },
                        "type": "scatter"
                      }
                    ],
                    "scatter3d": [
                      {
                        "line": {
                          "colorbar": {
                            "outlinewidth": 0,
                            "ticks": ""
                          }
                        },
                        "marker": {
                          "colorbar": {
                            "outlinewidth": 0,
                            "ticks": ""
                          }
                        },
                        "type": "scatter3d"
                      }
                    ],
                    "scattercarpet": [
                      {
                        "marker": {
                          "colorbar": {
                            "outlinewidth": 0,
                            "ticks": ""
                          }
                        },
                        "type": "scattercarpet"
                      }
                    ],
                    "scattergeo": [
                      {
                        "marker": {
                          "colorbar": {
                            "outlinewidth": 0,
                            "ticks": ""
                          }
                        },
                        "type": "scattergeo"
                      }
                    ],
                    "scattergl": [
                      {
                        "marker": {
                          "colorbar": {
                            "outlinewidth": 0,
                            "ticks": ""
                          }
                        },
                        "type": "scattergl"
                      }
                    ],
                    "scattermapbox": [
                      {
                        "marker": {
                          "colorbar": {
                            "outlinewidth": 0,
                            "ticks": ""
                          }
                        },
                        "type": "scattermapbox"
                      }
                    ],
                    "scatterpolar": [
                      {
                        "marker": {
                          "colorbar": {
                            "outlinewidth": 0,
                            "ticks": ""
                          }
                        },
                        "type": "scatterpolar"
                      }
                    ],
                    "scatterpolargl": [
                      {
                        "marker": {
                          "colorbar": {
                            "outlinewidth": 0,
                            "ticks": ""
                          }
                        },
                        "type": "scatterpolargl"
                      }
                    ],
                    "scatterternary": [
                      {
                        "marker": {
                          "colorbar": {
                            "outlinewidth": 0,
                            "ticks": ""
                          }
                        },
                        "type": "scatterternary"
                      }
                    ],
                    "surface": [
                      {
                        "colorbar": {
                          "outlinewidth": 0,
                          "ticks": ""
                        },
                        "colorscale": [
                          [
                            0,
                            "#0d0887"
                          ],
                          [
                            0.1111111111111111,
                            "#46039f"
                          ],
                          [
                            0.2222222222222222,
                            "#7201a8"
                          ],
                          [
                            0.3333333333333333,
                            "#9c179e"
                          ],
                          [
                            0.4444444444444444,
                            "#bd3786"
                          ],
                          [
                            0.5555555555555556,
                            "#d8576b"
                          ],
                          [
                            0.6666666666666666,
                            "#ed7953"
                          ],
                          [
                            0.7777777777777778,
                            "#fb9f3a"
                          ],
                          [
                            0.8888888888888888,
                            "#fdca26"
                          ],
                          [
                            1,
                            "#f0f921"
                          ]
                        ],
                        "type": "surface"
                      }
                    ],
                    "table": [
                      {
                        "cells": {
                          "fill": {
                            "color": "#EBF0F8"
                          },
                          "line": {
                            "color": "white"
                          }
                        },
                        "header": {
                          "fill": {
                            "color": "#C8D4E3"
                          },
                          "line": {
                            "color": "white"
                          }
                        },
                        "type": "table"
                      }
                    ]
                  },
                  "layout": {
                    "annotationdefaults": {
                      "arrowcolor": "#2a3f5f",
                      "arrowhead": 0,
                      "arrowwidth": 1
                    },
                    "autotypenumbers": "strict",
                    "coloraxis": {
                      "colorbar": {
                        "outlinewidth": 0,
                        "ticks": ""
                      }
                    },
                    "colorscale": {
                      "diverging": [
                        [
                          0,
                          "#8e0152"
                        ],
                        [
                          0.1,
                          "#c51b7d"
                        ],
                        [
                          0.2,
                          "#de77ae"
                        ],
                        [
                          0.3,
                          "#f1b6da"
                        ],
                        [
                          0.4,
                          "#fde0ef"
                        ],
                        [
                          0.5,
                          "#f7f7f7"
                        ],
                        [
                          0.6,
                          "#e6f5d0"
                        ],
                        [
                          0.7,
                          "#b8e186"
                        ],
                        [
                          0.8,
                          "#7fbc41"
                        ],
                        [
                          0.9,
                          "#4d9221"
                        ],
                        [
                          1,
                          "#276419"
                        ]
                      ],
                      "sequential": [
                        [
                          0,
                          "#0d0887"
                        ],
                        [
                          0.1111111111111111,
                          "#46039f"
                        ],
                        [
                          0.2222222222222222,
                          "#7201a8"
                        ],
                        [
                          0.3333333333333333,
                          "#9c179e"
                        ],
                        [
                          0.4444444444444444,
                          "#bd3786"
                        ],
                        [
                          0.5555555555555556,
                          "#d8576b"
                        ],
                        [
                          0.6666666666666666,
                          "#ed7953"
                        ],
                        [
                          0.7777777777777778,
                          "#fb9f3a"
                        ],
                        [
                          0.8888888888888888,
                          "#fdca26"
                        ],
                        [
                          1,
                          "#f0f921"
                        ]
                      ],
                      "sequentialminus": [
                        [
                          0,
                          "#0d0887"
                        ],
                        [
                          0.1111111111111111,
                          "#46039f"
                        ],
                        [
                          0.2222222222222222,
                          "#7201a8"
                        ],
                        [
                          0.3333333333333333,
                          "#9c179e"
                        ],
                        [
                          0.4444444444444444,
                          "#bd3786"
                        ],
                        [
                          0.5555555555555556,
                          "#d8576b"
                        ],
                        [
                          0.6666666666666666,
                          "#ed7953"
                        ],
                        [
                          0.7777777777777778,
                          "#fb9f3a"
                        ],
                        [
                          0.8888888888888888,
                          "#fdca26"
                        ],
                        [
                          1,
                          "#f0f921"
                        ]
                      ]
                    },
                    "colorway": [
                      "#636efa",
                      "#EF553B",
                      "#00cc96",
                      "#ab63fa",
                      "#FFA15A",
                      "#19d3f3",
                      "#FF6692",
                      "#B6E880",
                      "#FF97FF",
                      "#FECB52"
                    ],
                    "font": {
                      "color": "#2a3f5f"
                    },
                    "geo": {
                      "bgcolor": "white",
                      "lakecolor": "white",
                      "landcolor": "#E5ECF6",
                      "showlakes": true,
                      "showland": true,
                      "subunitcolor": "white"
                    },
                    "hoverlabel": {
                      "align": "left"
                    },
                    "hovermode": "closest",
                    "mapbox": {
                      "style": "light"
                    },
                    "paper_bgcolor": "white",
                    "plot_bgcolor": "#E5ECF6",
                    "polar": {
                      "angularaxis": {
                        "gridcolor": "white",
                        "linecolor": "white",
                        "ticks": ""
                      },
                      "bgcolor": "#E5ECF6",
                      "radialaxis": {
                        "gridcolor": "white",
                        "linecolor": "white",
                        "ticks": ""
                      }
                    },
                    "scene": {
                      "xaxis": {
                        "backgroundcolor": "#E5ECF6",
                        "gridcolor": "white",
                        "gridwidth": 2,
                        "linecolor": "white",
                        "showbackground": true,
                        "ticks": "",
                        "zerolinecolor": "white"
                      },
                      "yaxis": {
                        "backgroundcolor": "#E5ECF6",
                        "gridcolor": "white",
                        "gridwidth": 2,
                        "linecolor": "white",
                        "showbackground": true,
                        "ticks": "",
                        "zerolinecolor": "white"
                      },
                      "zaxis": {
                        "backgroundcolor": "#E5ECF6",
                        "gridcolor": "white",
                        "gridwidth": 2,
                        "linecolor": "white",
                        "showbackground": true,
                        "ticks": "",
                        "zerolinecolor": "white"
                      }
                    },
                    "shapedefaults": {
                      "line": {
                        "color": "#2a3f5f"
                      }
                    },
                    "ternary": {
                      "aaxis": {
                        "gridcolor": "white",
                        "linecolor": "white",
                        "ticks": ""
                      },
                      "baxis": {
                        "gridcolor": "white",
                        "linecolor": "white",
                        "ticks": ""
                      },
                      "bgcolor": "#E5ECF6",
                      "caxis": {
                        "gridcolor": "white",
                        "linecolor": "white",
                        "ticks": ""
                      }
                    },
                    "title": {
                      "x": 0.05
                    },
                    "xaxis": {
                      "automargin": true,
                      "gridcolor": "white",
                      "linecolor": "white",
                      "ticks": "",
                      "title": {
                        "standoff": 15
                      },
                      "zerolinecolor": "white",
                      "zerolinewidth": 2
                    },
                    "yaxis": {
                      "automargin": true,
                      "gridcolor": "white",
                      "linecolor": "white",
                      "ticks": "",
                      "title": {
                        "standoff": 15
                      },
                      "zerolinecolor": "white",
                      "zerolinewidth": 2
                    }
                  }
                },
                "title": {
                  "text": "Added f7, f8: translations of f6, f7 (indigo)",
                  "x": 0.5,
                  "xanchor": "center",
                  "y": 0.95,
                  "yanchor": "top"
                },
                "xaxis": {
                  "range": [
                    -5,
                    7
                  ],
                  "title": {
                    "text": "x"
                  }
                },
                "yaxis": {
                  "range": [
                    -40,
                    40
                  ],
                  "title": {
                    "text": "y"
                  }
                }
              }
            }
          },
          "metadata": {},
          "output_type": "display_data"
        },
        {
          "data": {
            "application/vnd.plotly.v1+json": {
              "config": {
                "plotlyServerURL": "https://plot.ly"
              },
              "data": [
                {
                  "line": {
                    "color": "red"
                  },
                  "mode": "lines",
                  "name": "f1",
                  "showlegend": true,
                  "type": "scatter",
                  "x": [
                    0,
                    0.10526315789473684,
                    0.21052631578947367,
                    0.3157894736842105,
                    0.42105263157894735,
                    0.5263157894736842,
                    0.631578947368421,
                    0.7368421052631579,
                    0.8421052631578947,
                    0.9473684210526315,
                    1.0526315789473684,
                    1.1578947368421053,
                    1.263157894736842,
                    1.3684210526315788,
                    1.4736842105263157,
                    1.5789473684210527,
                    1.6842105263157894,
                    1.789473684210526,
                    1.894736842105263,
                    2
                  ],
                  "y": [
                    2,
                    2.2451909637195513,
                    2.520441231783964,
                    2.829435939093766,
                    3.1763120014383333,
                    3.565713501791654,
                    4.00285386671771,
                    4.493585665322235,
                    5.044478965240595,
                    5.662909294715768,
                    6.357156388429651,
                    7.136515039127136,
                    8.011419539148463,
                    8.99358337793119,
                    10.096156065794736,
                    11.33389918361234,
                    12.72338401537741,
                    14.283213409629571,
                    16.03427084008912,
                    18
                  ]
                },
                {
                  "line": {
                    "color": "orange"
                  },
                  "mode": "lines",
                  "name": "f2",
                  "showlegend": true,
                  "type": "scatter",
                  "x": [
                    0,
                    0.10526315789473684,
                    0.21052631578947367,
                    0.3157894736842105,
                    0.42105263157894735,
                    0.5263157894736842,
                    0.631578947368421,
                    0.7368421052631579,
                    0.8421052631578947,
                    0.9473684210526315,
                    1.0526315789473684,
                    1.1578947368421053,
                    1.263157894736842,
                    1.3684210526315788,
                    1.4736842105263157,
                    1.5789473684210527,
                    1.6842105263157894,
                    1.789473684210526,
                    1.894736842105263,
                    2
                  ],
                  "y": [
                    -2,
                    -2.2451909637195513,
                    -2.520441231783964,
                    -2.829435939093766,
                    -3.1763120014383333,
                    -3.565713501791654,
                    -4.00285386671771,
                    -4.493585665322235,
                    -5.044478965240595,
                    -5.662909294715768,
                    -6.357156388429651,
                    -7.136515039127136,
                    -8.011419539148463,
                    -8.99358337793119,
                    -10.096156065794736,
                    -11.33389918361234,
                    -12.72338401537741,
                    -14.283213409629571,
                    -16.03427084008912,
                    -18
                  ]
                },
                {
                  "line": {
                    "color": "yellow"
                  },
                  "mode": "lines",
                  "name": "f3",
                  "showlegend": true,
                  "type": "scatter",
                  "x": [
                    -2,
                    -1.8947368421052633,
                    -1.7894736842105263,
                    -1.6842105263157894,
                    -1.5789473684210527,
                    -1.473684210526316,
                    -1.368421052631579,
                    -1.263157894736842,
                    -1.1578947368421053,
                    -1.0526315789473686,
                    -0.9473684210526316,
                    -0.8421052631578947,
                    -0.736842105263158,
                    -0.6315789473684212,
                    -0.5263157894736843,
                    -0.42105263157894735,
                    -0.3157894736842106,
                    -0.2105263157894739,
                    -0.10526315789473695,
                    0
                  ],
                  "y": [
                    18,
                    16.034270840089125,
                    14.283213409629575,
                    12.72338401537741,
                    11.33389918361234,
                    10.096156065794737,
                    8.993583377931191,
                    8.011419539148463,
                    7.136515039127136,
                    6.357156388429653,
                    5.662909294715769,
                    5.044478965240595,
                    4.493585665322235,
                    4.002853866717712,
                    3.5657135017916546,
                    3.1763120014383333,
                    2.829435939093766,
                    2.520441231783965,
                    2.2451909637195517,
                    2
                  ]
                },
                {
                  "line": {
                    "color": "green"
                  },
                  "mode": "lines",
                  "name": "f4",
                  "showlegend": true,
                  "type": "scatter",
                  "x": [
                    -2,
                    -1.8947368421052633,
                    -1.7894736842105263,
                    -1.6842105263157894,
                    -1.5789473684210527,
                    -1.473684210526316,
                    -1.368421052631579,
                    -1.263157894736842,
                    -1.1578947368421053,
                    -1.0526315789473686,
                    -0.9473684210526316,
                    -0.8421052631578947,
                    -0.736842105263158,
                    -0.6315789473684212,
                    -0.5263157894736843,
                    -0.42105263157894735,
                    -0.3157894736842106,
                    -0.2105263157894739,
                    -0.10526315789473695,
                    0
                  ],
                  "y": [
                    -18,
                    -16.034270840089125,
                    -14.283213409629575,
                    -12.72338401537741,
                    -11.33389918361234,
                    -10.096156065794737,
                    -8.993583377931191,
                    -8.011419539148463,
                    -7.136515039127136,
                    -6.357156388429653,
                    -5.662909294715769,
                    -5.044478965240595,
                    -4.493585665322235,
                    -4.002853866717712,
                    -3.5657135017916546,
                    -3.1763120014383333,
                    -2.829435939093766,
                    -2.520441231783965,
                    -2.2451909637195517,
                    -2
                  ]
                },
                {
                  "line": {
                    "color": "blue"
                  },
                  "mode": "lines",
                  "name": "f5",
                  "showlegend": true,
                  "type": "scatter",
                  "x": [
                    0,
                    0.10526315789473684,
                    0.21052631578947367,
                    0.3157894736842105,
                    0.42105263157894735,
                    0.5263157894736842,
                    0.631578947368421,
                    0.7368421052631579,
                    0.8421052631578947,
                    0.9473684210526315,
                    1.0526315789473684,
                    1.1578947368421053,
                    1.263157894736842,
                    1.3684210526315788,
                    1.4736842105263157,
                    1.5789473684210527,
                    1.6842105263157894,
                    1.789473684210526,
                    1.894736842105263,
                    2
                  ],
                  "y": [
                    34,
                    33.75480903628045,
                    33.47955876821604,
                    33.17056406090624,
                    32.82368799856167,
                    32.434286498208344,
                    31.99714613328229,
                    31.506414334677764,
                    30.955521034759407,
                    30.337090705284233,
                    29.64284361157035,
                    28.863484960872864,
                    27.988580460851537,
                    27.006416622068812,
                    25.903843934205263,
                    24.66610081638766,
                    23.276615984622588,
                    21.71678659037043,
                    19.96572915991088,
                    18
                  ]
                },
                {
                  "line": {
                    "color": "blue"
                  },
                  "mode": "lines",
                  "name": "f6",
                  "showlegend": true,
                  "type": "scatter",
                  "x": [
                    -2,
                    -1.8947368421052633,
                    -1.7894736842105263,
                    -1.6842105263157894,
                    -1.5789473684210527,
                    -1.473684210526316,
                    -1.368421052631579,
                    -1.263157894736842,
                    -1.1578947368421053,
                    -1.0526315789473686,
                    -0.9473684210526316,
                    -0.8421052631578947,
                    -0.736842105263158,
                    -0.6315789473684212,
                    -0.5263157894736843,
                    -0.42105263157894735,
                    -0.3157894736842106,
                    -0.2105263157894739,
                    -0.10526315789473695,
                    0
                  ],
                  "y": [
                    18,
                    19.965729159910875,
                    21.716786590370425,
                    23.276615984622588,
                    24.66610081638766,
                    25.903843934205263,
                    27.00641662206881,
                    27.988580460851537,
                    28.863484960872864,
                    29.64284361157035,
                    30.337090705284233,
                    30.955521034759407,
                    31.506414334677764,
                    31.99714613328229,
                    32.434286498208344,
                    32.82368799856167,
                    33.17056406090624,
                    33.47955876821604,
                    33.75480903628045,
                    34
                  ]
                },
                {
                  "line": {
                    "color": "indigo"
                  },
                  "mode": "lines",
                  "name": "f7",
                  "showlegend": true,
                  "type": "scatter",
                  "x": [
                    0,
                    0.10526315789473684,
                    0.21052631578947367,
                    0.3157894736842105,
                    0.42105263157894735,
                    0.5263157894736842,
                    0.631578947368421,
                    0.7368421052631579,
                    0.8421052631578947,
                    0.9473684210526315,
                    1.0526315789473684,
                    1.1578947368421053,
                    1.263157894736842,
                    1.3684210526315788,
                    1.4736842105263157,
                    1.5789473684210527,
                    1.6842105263157894,
                    1.789473684210526,
                    1.894736842105263,
                    2
                  ],
                  "y": [
                    -34,
                    -33.75480903628045,
                    -33.47955876821604,
                    -33.17056406090624,
                    -32.82368799856167,
                    -32.434286498208344,
                    -31.99714613328229,
                    -31.506414334677764,
                    -30.955521034759407,
                    -30.337090705284233,
                    -29.64284361157035,
                    -28.863484960872864,
                    -27.988580460851537,
                    -27.006416622068812,
                    -25.903843934205263,
                    -24.66610081638766,
                    -23.276615984622588,
                    -21.71678659037043,
                    -19.96572915991088,
                    -18
                  ]
                },
                {
                  "line": {
                    "color": "indigo"
                  },
                  "mode": "lines",
                  "name": "f6",
                  "showlegend": true,
                  "type": "scatter",
                  "x": [
                    -2,
                    -1.8947368421052633,
                    -1.7894736842105263,
                    -1.6842105263157894,
                    -1.5789473684210527,
                    -1.473684210526316,
                    -1.368421052631579,
                    -1.263157894736842,
                    -1.1578947368421053,
                    -1.0526315789473686,
                    -0.9473684210526316,
                    -0.8421052631578947,
                    -0.736842105263158,
                    -0.6315789473684212,
                    -0.5263157894736843,
                    -0.42105263157894735,
                    -0.3157894736842106,
                    -0.2105263157894739,
                    -0.10526315789473695,
                    0
                  ],
                  "y": [
                    -18,
                    -19.965729159910875,
                    -21.716786590370425,
                    -23.276615984622588,
                    -24.66610081638766,
                    -25.903843934205263,
                    -27.00641662206881,
                    -27.988580460851537,
                    -28.863484960872864,
                    -29.64284361157035,
                    -30.337090705284233,
                    -30.955521034759407,
                    -31.506414334677764,
                    -31.99714613328229,
                    -32.434286498208344,
                    -32.82368799856167,
                    -33.17056406090624,
                    -33.47955876821604,
                    -33.75480903628045,
                    -34
                  ]
                },
                {
                  "line": {
                    "color": "olive"
                  },
                  "mode": "lines",
                  "name": "f9",
                  "showlegend": true,
                  "type": "scatter",
                  "x": [
                    4,
                    4.105263157894737,
                    4.2105263157894735,
                    4.315789473684211,
                    4.421052631578947,
                    4.526315789473684,
                    4.631578947368421,
                    4.7368421052631575,
                    4.842105263157895,
                    4.947368421052632,
                    5.052631578947368,
                    5.157894736842105,
                    5.2631578947368425,
                    5.368421052631579,
                    5.473684210526316,
                    5.578947368421053,
                    5.684210526315789,
                    5.789473684210526,
                    5.894736842105263,
                    6
                  ],
                  "y": [
                    2,
                    2.245190963719552,
                    2.5204412317839635,
                    2.829435939093766,
                    3.1763120014383315,
                    3.5657135017916537,
                    4.002853866717712,
                    4.493585665322233,
                    5.044478965240595,
                    5.662909294715771,
                    6.357156388429649,
                    7.136515039127136,
                    8.011419539148466,
                    8.99358337793119,
                    10.096156065794737,
                    11.333899183612345,
                    12.72338401537741,
                    14.283213409629564,
                    16.034270840089118,
                    18
                  ]
                },
                {
                  "line": {
                    "color": "olive"
                  },
                  "mode": "lines",
                  "name": "f10",
                  "showlegend": true,
                  "type": "scatter",
                  "x": [
                    2,
                    2.1052631578947367,
                    2.2105263157894735,
                    2.3157894736842106,
                    2.4210526315789473,
                    2.526315789473684,
                    2.6315789473684212,
                    2.736842105263158,
                    2.8421052631578947,
                    2.9473684210526314,
                    3.052631578947368,
                    3.1578947368421053,
                    3.263157894736842,
                    3.3684210526315788,
                    3.473684210526316,
                    3.5789473684210527,
                    3.6842105263157894,
                    3.789473684210526,
                    3.894736842105263,
                    4
                  ],
                  "y": [
                    18,
                    16.034270840089125,
                    14.283213409629578,
                    12.72338401537741,
                    11.33389918361234,
                    10.096156065794737,
                    8.99358337793119,
                    8.011419539148463,
                    7.136515039127136,
                    6.357156388429653,
                    5.662909294715771,
                    5.044478965240595,
                    4.493585665322235,
                    4.002853866717712,
                    3.5657135017916537,
                    3.1763120014383333,
                    2.829435939093766,
                    2.520441231783965,
                    2.245190963719552,
                    2
                  ]
                },
                {
                  "line": {
                    "color": "olive"
                  },
                  "mode": "lines",
                  "name": "f11",
                  "showlegend": true,
                  "type": "scatter",
                  "x": [
                    2,
                    2.1052631578947367,
                    2.2105263157894735,
                    2.3157894736842106,
                    2.4210526315789473,
                    2.526315789473684,
                    2.6315789473684212,
                    2.736842105263158,
                    2.8421052631578947,
                    2.9473684210526314,
                    3.052631578947368,
                    3.1578947368421053,
                    3.263157894736842,
                    3.3684210526315788,
                    3.473684210526316,
                    3.5789473684210527,
                    3.6842105263157894,
                    3.789473684210526,
                    3.894736842105263,
                    4
                  ],
                  "y": [
                    18,
                    19.965729159910875,
                    21.716786590370422,
                    23.276615984622588,
                    24.66610081638766,
                    25.903843934205263,
                    27.006416622068812,
                    27.988580460851537,
                    28.863484960872864,
                    29.64284361157035,
                    30.33709070528423,
                    30.955521034759407,
                    31.506414334677764,
                    31.99714613328229,
                    32.434286498208344,
                    32.82368799856167,
                    33.17056406090624,
                    33.47955876821604,
                    33.75480903628045,
                    34
                  ]
                },
                {
                  "line": {
                    "color": "olive"
                  },
                  "mode": "lines",
                  "name": "f12",
                  "showlegend": true,
                  "type": "scatter",
                  "x": [
                    4,
                    4.105263157894737,
                    4.2105263157894735,
                    4.315789473684211,
                    4.421052631578947,
                    4.526315789473684,
                    4.631578947368421,
                    4.7368421052631575,
                    4.842105263157895,
                    4.947368421052632,
                    5.052631578947368,
                    5.157894736842105,
                    5.2631578947368425,
                    5.368421052631579,
                    5.473684210526316,
                    5.578947368421053,
                    5.684210526315789,
                    5.789473684210526,
                    5.894736842105263,
                    6
                  ],
                  "y": [
                    34,
                    33.75480903628045,
                    33.47955876821604,
                    33.17056406090624,
                    32.82368799856167,
                    32.434286498208344,
                    31.99714613328229,
                    31.506414334677768,
                    30.955521034759407,
                    30.33709070528423,
                    29.64284361157035,
                    28.863484960872864,
                    27.988580460851534,
                    27.006416622068812,
                    25.903843934205263,
                    24.666100816387655,
                    23.276615984622588,
                    21.716786590370436,
                    19.965729159910882,
                    18
                  ]
                },
                {
                  "line": {
                    "color": "olive"
                  },
                  "mode": "lines",
                  "name": "f13",
                  "showlegend": true,
                  "type": "scatter",
                  "x": [
                    4,
                    4.105263157894737,
                    4.2105263157894735,
                    4.315789473684211,
                    4.421052631578947,
                    4.526315789473684,
                    4.631578947368421,
                    4.7368421052631575,
                    4.842105263157895,
                    4.947368421052632,
                    5.052631578947368,
                    5.157894736842105,
                    5.2631578947368425,
                    5.368421052631579,
                    5.473684210526316,
                    5.578947368421053,
                    5.684210526315789,
                    5.789473684210526,
                    5.894736842105263,
                    6
                  ],
                  "y": [
                    -2,
                    -2.245190963719552,
                    -2.5204412317839635,
                    -2.829435939093766,
                    -3.1763120014383315,
                    -3.5657135017916537,
                    -4.002853866717712,
                    -4.493585665322233,
                    -5.044478965240595,
                    -5.662909294715771,
                    -6.357156388429649,
                    -7.136515039127136,
                    -8.011419539148466,
                    -8.99358337793119,
                    -10.096156065794737,
                    -11.333899183612345,
                    -12.72338401537741,
                    -14.283213409629564,
                    -16.034270840089118,
                    -18
                  ]
                },
                {
                  "line": {
                    "color": "olive"
                  },
                  "mode": "lines",
                  "name": "f14",
                  "showlegend": true,
                  "type": "scatter",
                  "x": [
                    2,
                    2.1052631578947367,
                    2.2105263157894735,
                    2.3157894736842106,
                    2.4210526315789473,
                    2.526315789473684,
                    2.6315789473684212,
                    2.736842105263158,
                    2.8421052631578947,
                    2.9473684210526314,
                    3.052631578947368,
                    3.1578947368421053,
                    3.263157894736842,
                    3.3684210526315788,
                    3.473684210526316,
                    3.5789473684210527,
                    3.6842105263157894,
                    3.789473684210526,
                    3.894736842105263,
                    4
                  ],
                  "y": [
                    -18,
                    -16.034270840089125,
                    -14.283213409629578,
                    -12.72338401537741,
                    -11.33389918361234,
                    -10.096156065794737,
                    -8.99358337793119,
                    -8.011419539148463,
                    -7.136515039127136,
                    -6.357156388429653,
                    -5.662909294715771,
                    -5.044478965240595,
                    -4.493585665322235,
                    -4.002853866717712,
                    -3.5657135017916537,
                    -3.1763120014383333,
                    -2.829435939093766,
                    -2.520441231783965,
                    -2.245190963719552,
                    -2
                  ]
                },
                {
                  "line": {
                    "color": "olive"
                  },
                  "mode": "lines",
                  "name": "f15",
                  "showlegend": true,
                  "type": "scatter",
                  "x": [
                    4,
                    4.105263157894737,
                    4.2105263157894735,
                    4.315789473684211,
                    4.421052631578947,
                    4.526315789473684,
                    4.631578947368421,
                    4.7368421052631575,
                    4.842105263157895,
                    4.947368421052632,
                    5.052631578947368,
                    5.157894736842105,
                    5.2631578947368425,
                    5.368421052631579,
                    5.473684210526316,
                    5.578947368421053,
                    5.684210526315789,
                    5.789473684210526,
                    5.894736842105263,
                    6
                  ],
                  "y": [
                    -34,
                    -33.75480903628045,
                    -33.47955876821604,
                    -33.17056406090624,
                    -32.82368799856167,
                    -32.434286498208344,
                    -31.99714613328229,
                    -31.506414334677768,
                    -30.955521034759407,
                    -30.33709070528423,
                    -29.64284361157035,
                    -28.863484960872864,
                    -27.988580460851534,
                    -27.006416622068812,
                    -25.903843934205263,
                    -24.666100816387655,
                    -23.276615984622588,
                    -21.716786590370436,
                    -19.965729159910882,
                    -18
                  ]
                },
                {
                  "line": {
                    "color": "olive"
                  },
                  "mode": "lines",
                  "name": "f16",
                  "showlegend": true,
                  "type": "scatter",
                  "x": [
                    2,
                    2.1052631578947367,
                    2.2105263157894735,
                    2.3157894736842106,
                    2.4210526315789473,
                    2.526315789473684,
                    2.6315789473684212,
                    2.736842105263158,
                    2.8421052631578947,
                    2.9473684210526314,
                    3.052631578947368,
                    3.1578947368421053,
                    3.263157894736842,
                    3.3684210526315788,
                    3.473684210526316,
                    3.5789473684210527,
                    3.6842105263157894,
                    3.789473684210526,
                    3.894736842105263,
                    4
                  ],
                  "y": [
                    -18,
                    -19.965729159910875,
                    -21.716786590370422,
                    -23.276615984622588,
                    -24.66610081638766,
                    -25.903843934205263,
                    -27.006416622068812,
                    -27.988580460851537,
                    -28.863484960872864,
                    -29.64284361157035,
                    -30.33709070528423,
                    -30.955521034759407,
                    -31.506414334677764,
                    -31.99714613328229,
                    -32.434286498208344,
                    -32.82368799856167,
                    -33.17056406090624,
                    -33.47955876821604,
                    -33.75480903628045,
                    -34
                  ]
                }
              ],
              "layout": {
                "autosize": false,
                "template": {
                  "data": {
                    "bar": [
                      {
                        "error_x": {
                          "color": "#2a3f5f"
                        },
                        "error_y": {
                          "color": "#2a3f5f"
                        },
                        "marker": {
                          "line": {
                            "color": "#E5ECF6",
                            "width": 0.5
                          },
                          "pattern": {
                            "fillmode": "overlay",
                            "size": 10,
                            "solidity": 0.2
                          }
                        },
                        "type": "bar"
                      }
                    ],
                    "barpolar": [
                      {
                        "marker": {
                          "line": {
                            "color": "#E5ECF6",
                            "width": 0.5
                          },
                          "pattern": {
                            "fillmode": "overlay",
                            "size": 10,
                            "solidity": 0.2
                          }
                        },
                        "type": "barpolar"
                      }
                    ],
                    "carpet": [
                      {
                        "aaxis": {
                          "endlinecolor": "#2a3f5f",
                          "gridcolor": "white",
                          "linecolor": "white",
                          "minorgridcolor": "white",
                          "startlinecolor": "#2a3f5f"
                        },
                        "baxis": {
                          "endlinecolor": "#2a3f5f",
                          "gridcolor": "white",
                          "linecolor": "white",
                          "minorgridcolor": "white",
                          "startlinecolor": "#2a3f5f"
                        },
                        "type": "carpet"
                      }
                    ],
                    "choropleth": [
                      {
                        "colorbar": {
                          "outlinewidth": 0,
                          "ticks": ""
                        },
                        "type": "choropleth"
                      }
                    ],
                    "contour": [
                      {
                        "colorbar": {
                          "outlinewidth": 0,
                          "ticks": ""
                        },
                        "colorscale": [
                          [
                            0,
                            "#0d0887"
                          ],
                          [
                            0.1111111111111111,
                            "#46039f"
                          ],
                          [
                            0.2222222222222222,
                            "#7201a8"
                          ],
                          [
                            0.3333333333333333,
                            "#9c179e"
                          ],
                          [
                            0.4444444444444444,
                            "#bd3786"
                          ],
                          [
                            0.5555555555555556,
                            "#d8576b"
                          ],
                          [
                            0.6666666666666666,
                            "#ed7953"
                          ],
                          [
                            0.7777777777777778,
                            "#fb9f3a"
                          ],
                          [
                            0.8888888888888888,
                            "#fdca26"
                          ],
                          [
                            1,
                            "#f0f921"
                          ]
                        ],
                        "type": "contour"
                      }
                    ],
                    "contourcarpet": [
                      {
                        "colorbar": {
                          "outlinewidth": 0,
                          "ticks": ""
                        },
                        "type": "contourcarpet"
                      }
                    ],
                    "heatmap": [
                      {
                        "colorbar": {
                          "outlinewidth": 0,
                          "ticks": ""
                        },
                        "colorscale": [
                          [
                            0,
                            "#0d0887"
                          ],
                          [
                            0.1111111111111111,
                            "#46039f"
                          ],
                          [
                            0.2222222222222222,
                            "#7201a8"
                          ],
                          [
                            0.3333333333333333,
                            "#9c179e"
                          ],
                          [
                            0.4444444444444444,
                            "#bd3786"
                          ],
                          [
                            0.5555555555555556,
                            "#d8576b"
                          ],
                          [
                            0.6666666666666666,
                            "#ed7953"
                          ],
                          [
                            0.7777777777777778,
                            "#fb9f3a"
                          ],
                          [
                            0.8888888888888888,
                            "#fdca26"
                          ],
                          [
                            1,
                            "#f0f921"
                          ]
                        ],
                        "type": "heatmap"
                      }
                    ],
                    "heatmapgl": [
                      {
                        "colorbar": {
                          "outlinewidth": 0,
                          "ticks": ""
                        },
                        "colorscale": [
                          [
                            0,
                            "#0d0887"
                          ],
                          [
                            0.1111111111111111,
                            "#46039f"
                          ],
                          [
                            0.2222222222222222,
                            "#7201a8"
                          ],
                          [
                            0.3333333333333333,
                            "#9c179e"
                          ],
                          [
                            0.4444444444444444,
                            "#bd3786"
                          ],
                          [
                            0.5555555555555556,
                            "#d8576b"
                          ],
                          [
                            0.6666666666666666,
                            "#ed7953"
                          ],
                          [
                            0.7777777777777778,
                            "#fb9f3a"
                          ],
                          [
                            0.8888888888888888,
                            "#fdca26"
                          ],
                          [
                            1,
                            "#f0f921"
                          ]
                        ],
                        "type": "heatmapgl"
                      }
                    ],
                    "histogram": [
                      {
                        "marker": {
                          "pattern": {
                            "fillmode": "overlay",
                            "size": 10,
                            "solidity": 0.2
                          }
                        },
                        "type": "histogram"
                      }
                    ],
                    "histogram2d": [
                      {
                        "colorbar": {
                          "outlinewidth": 0,
                          "ticks": ""
                        },
                        "colorscale": [
                          [
                            0,
                            "#0d0887"
                          ],
                          [
                            0.1111111111111111,
                            "#46039f"
                          ],
                          [
                            0.2222222222222222,
                            "#7201a8"
                          ],
                          [
                            0.3333333333333333,
                            "#9c179e"
                          ],
                          [
                            0.4444444444444444,
                            "#bd3786"
                          ],
                          [
                            0.5555555555555556,
                            "#d8576b"
                          ],
                          [
                            0.6666666666666666,
                            "#ed7953"
                          ],
                          [
                            0.7777777777777778,
                            "#fb9f3a"
                          ],
                          [
                            0.8888888888888888,
                            "#fdca26"
                          ],
                          [
                            1,
                            "#f0f921"
                          ]
                        ],
                        "type": "histogram2d"
                      }
                    ],
                    "histogram2dcontour": [
                      {
                        "colorbar": {
                          "outlinewidth": 0,
                          "ticks": ""
                        },
                        "colorscale": [
                          [
                            0,
                            "#0d0887"
                          ],
                          [
                            0.1111111111111111,
                            "#46039f"
                          ],
                          [
                            0.2222222222222222,
                            "#7201a8"
                          ],
                          [
                            0.3333333333333333,
                            "#9c179e"
                          ],
                          [
                            0.4444444444444444,
                            "#bd3786"
                          ],
                          [
                            0.5555555555555556,
                            "#d8576b"
                          ],
                          [
                            0.6666666666666666,
                            "#ed7953"
                          ],
                          [
                            0.7777777777777778,
                            "#fb9f3a"
                          ],
                          [
                            0.8888888888888888,
                            "#fdca26"
                          ],
                          [
                            1,
                            "#f0f921"
                          ]
                        ],
                        "type": "histogram2dcontour"
                      }
                    ],
                    "mesh3d": [
                      {
                        "colorbar": {
                          "outlinewidth": 0,
                          "ticks": ""
                        },
                        "type": "mesh3d"
                      }
                    ],
                    "parcoords": [
                      {
                        "line": {
                          "colorbar": {
                            "outlinewidth": 0,
                            "ticks": ""
                          }
                        },
                        "type": "parcoords"
                      }
                    ],
                    "pie": [
                      {
                        "automargin": true,
                        "type": "pie"
                      }
                    ],
                    "scatter": [
                      {
                        "fillpattern": {
                          "fillmode": "overlay",
                          "size": 10,
                          "solidity": 0.2
                        },
                        "type": "scatter"
                      }
                    ],
                    "scatter3d": [
                      {
                        "line": {
                          "colorbar": {
                            "outlinewidth": 0,
                            "ticks": ""
                          }
                        },
                        "marker": {
                          "colorbar": {
                            "outlinewidth": 0,
                            "ticks": ""
                          }
                        },
                        "type": "scatter3d"
                      }
                    ],
                    "scattercarpet": [
                      {
                        "marker": {
                          "colorbar": {
                            "outlinewidth": 0,
                            "ticks": ""
                          }
                        },
                        "type": "scattercarpet"
                      }
                    ],
                    "scattergeo": [
                      {
                        "marker": {
                          "colorbar": {
                            "outlinewidth": 0,
                            "ticks": ""
                          }
                        },
                        "type": "scattergeo"
                      }
                    ],
                    "scattergl": [
                      {
                        "marker": {
                          "colorbar": {
                            "outlinewidth": 0,
                            "ticks": ""
                          }
                        },
                        "type": "scattergl"
                      }
                    ],
                    "scattermapbox": [
                      {
                        "marker": {
                          "colorbar": {
                            "outlinewidth": 0,
                            "ticks": ""
                          }
                        },
                        "type": "scattermapbox"
                      }
                    ],
                    "scatterpolar": [
                      {
                        "marker": {
                          "colorbar": {
                            "outlinewidth": 0,
                            "ticks": ""
                          }
                        },
                        "type": "scatterpolar"
                      }
                    ],
                    "scatterpolargl": [
                      {
                        "marker": {
                          "colorbar": {
                            "outlinewidth": 0,
                            "ticks": ""
                          }
                        },
                        "type": "scatterpolargl"
                      }
                    ],
                    "scatterternary": [
                      {
                        "marker": {
                          "colorbar": {
                            "outlinewidth": 0,
                            "ticks": ""
                          }
                        },
                        "type": "scatterternary"
                      }
                    ],
                    "surface": [
                      {
                        "colorbar": {
                          "outlinewidth": 0,
                          "ticks": ""
                        },
                        "colorscale": [
                          [
                            0,
                            "#0d0887"
                          ],
                          [
                            0.1111111111111111,
                            "#46039f"
                          ],
                          [
                            0.2222222222222222,
                            "#7201a8"
                          ],
                          [
                            0.3333333333333333,
                            "#9c179e"
                          ],
                          [
                            0.4444444444444444,
                            "#bd3786"
                          ],
                          [
                            0.5555555555555556,
                            "#d8576b"
                          ],
                          [
                            0.6666666666666666,
                            "#ed7953"
                          ],
                          [
                            0.7777777777777778,
                            "#fb9f3a"
                          ],
                          [
                            0.8888888888888888,
                            "#fdca26"
                          ],
                          [
                            1,
                            "#f0f921"
                          ]
                        ],
                        "type": "surface"
                      }
                    ],
                    "table": [
                      {
                        "cells": {
                          "fill": {
                            "color": "#EBF0F8"
                          },
                          "line": {
                            "color": "white"
                          }
                        },
                        "header": {
                          "fill": {
                            "color": "#C8D4E3"
                          },
                          "line": {
                            "color": "white"
                          }
                        },
                        "type": "table"
                      }
                    ]
                  },
                  "layout": {
                    "annotationdefaults": {
                      "arrowcolor": "#2a3f5f",
                      "arrowhead": 0,
                      "arrowwidth": 1
                    },
                    "autotypenumbers": "strict",
                    "coloraxis": {
                      "colorbar": {
                        "outlinewidth": 0,
                        "ticks": ""
                      }
                    },
                    "colorscale": {
                      "diverging": [
                        [
                          0,
                          "#8e0152"
                        ],
                        [
                          0.1,
                          "#c51b7d"
                        ],
                        [
                          0.2,
                          "#de77ae"
                        ],
                        [
                          0.3,
                          "#f1b6da"
                        ],
                        [
                          0.4,
                          "#fde0ef"
                        ],
                        [
                          0.5,
                          "#f7f7f7"
                        ],
                        [
                          0.6,
                          "#e6f5d0"
                        ],
                        [
                          0.7,
                          "#b8e186"
                        ],
                        [
                          0.8,
                          "#7fbc41"
                        ],
                        [
                          0.9,
                          "#4d9221"
                        ],
                        [
                          1,
                          "#276419"
                        ]
                      ],
                      "sequential": [
                        [
                          0,
                          "#0d0887"
                        ],
                        [
                          0.1111111111111111,
                          "#46039f"
                        ],
                        [
                          0.2222222222222222,
                          "#7201a8"
                        ],
                        [
                          0.3333333333333333,
                          "#9c179e"
                        ],
                        [
                          0.4444444444444444,
                          "#bd3786"
                        ],
                        [
                          0.5555555555555556,
                          "#d8576b"
                        ],
                        [
                          0.6666666666666666,
                          "#ed7953"
                        ],
                        [
                          0.7777777777777778,
                          "#fb9f3a"
                        ],
                        [
                          0.8888888888888888,
                          "#fdca26"
                        ],
                        [
                          1,
                          "#f0f921"
                        ]
                      ],
                      "sequentialminus": [
                        [
                          0,
                          "#0d0887"
                        ],
                        [
                          0.1111111111111111,
                          "#46039f"
                        ],
                        [
                          0.2222222222222222,
                          "#7201a8"
                        ],
                        [
                          0.3333333333333333,
                          "#9c179e"
                        ],
                        [
                          0.4444444444444444,
                          "#bd3786"
                        ],
                        [
                          0.5555555555555556,
                          "#d8576b"
                        ],
                        [
                          0.6666666666666666,
                          "#ed7953"
                        ],
                        [
                          0.7777777777777778,
                          "#fb9f3a"
                        ],
                        [
                          0.8888888888888888,
                          "#fdca26"
                        ],
                        [
                          1,
                          "#f0f921"
                        ]
                      ]
                    },
                    "colorway": [
                      "#636efa",
                      "#EF553B",
                      "#00cc96",
                      "#ab63fa",
                      "#FFA15A",
                      "#19d3f3",
                      "#FF6692",
                      "#B6E880",
                      "#FF97FF",
                      "#FECB52"
                    ],
                    "font": {
                      "color": "#2a3f5f"
                    },
                    "geo": {
                      "bgcolor": "white",
                      "lakecolor": "white",
                      "landcolor": "#E5ECF6",
                      "showlakes": true,
                      "showland": true,
                      "subunitcolor": "white"
                    },
                    "hoverlabel": {
                      "align": "left"
                    },
                    "hovermode": "closest",
                    "mapbox": {
                      "style": "light"
                    },
                    "paper_bgcolor": "white",
                    "plot_bgcolor": "#E5ECF6",
                    "polar": {
                      "angularaxis": {
                        "gridcolor": "white",
                        "linecolor": "white",
                        "ticks": ""
                      },
                      "bgcolor": "#E5ECF6",
                      "radialaxis": {
                        "gridcolor": "white",
                        "linecolor": "white",
                        "ticks": ""
                      }
                    },
                    "scene": {
                      "xaxis": {
                        "backgroundcolor": "#E5ECF6",
                        "gridcolor": "white",
                        "gridwidth": 2,
                        "linecolor": "white",
                        "showbackground": true,
                        "ticks": "",
                        "zerolinecolor": "white"
                      },
                      "yaxis": {
                        "backgroundcolor": "#E5ECF6",
                        "gridcolor": "white",
                        "gridwidth": 2,
                        "linecolor": "white",
                        "showbackground": true,
                        "ticks": "",
                        "zerolinecolor": "white"
                      },
                      "zaxis": {
                        "backgroundcolor": "#E5ECF6",
                        "gridcolor": "white",
                        "gridwidth": 2,
                        "linecolor": "white",
                        "showbackground": true,
                        "ticks": "",
                        "zerolinecolor": "white"
                      }
                    },
                    "shapedefaults": {
                      "line": {
                        "color": "#2a3f5f"
                      }
                    },
                    "ternary": {
                      "aaxis": {
                        "gridcolor": "white",
                        "linecolor": "white",
                        "ticks": ""
                      },
                      "baxis": {
                        "gridcolor": "white",
                        "linecolor": "white",
                        "ticks": ""
                      },
                      "bgcolor": "#E5ECF6",
                      "caxis": {
                        "gridcolor": "white",
                        "linecolor": "white",
                        "ticks": ""
                      }
                    },
                    "title": {
                      "x": 0.05
                    },
                    "xaxis": {
                      "automargin": true,
                      "gridcolor": "white",
                      "linecolor": "white",
                      "ticks": "",
                      "title": {
                        "standoff": 15
                      },
                      "zerolinecolor": "white",
                      "zerolinewidth": 2
                    },
                    "yaxis": {
                      "automargin": true,
                      "gridcolor": "white",
                      "linecolor": "white",
                      "ticks": "",
                      "title": {
                        "standoff": 15
                      },
                      "zerolinecolor": "white",
                      "zerolinewidth": 2
                    }
                  }
                },
                "title": {
                  "text": "Added f9-f16: translations of f1-f8 to the right",
                  "x": 0.5,
                  "xanchor": "center",
                  "y": 0.95,
                  "yanchor": "top"
                },
                "xaxis": {
                  "range": [
                    -5,
                    7
                  ],
                  "title": {
                    "text": "x"
                  }
                },
                "yaxis": {
                  "range": [
                    -40,
                    40
                  ],
                  "title": {
                    "text": "y"
                  }
                }
              }
            }
          },
          "metadata": {},
          "output_type": "display_data"
        }
      ],
      "source": [
        "# MODIFY to add multiple transformations\n",
        "\n",
        "# Define x as a symbolic variable\n",
        "x = sp.symbols('x')\n",
        "\n",
        "# Define exponential function\n",
        "f1 = 2*(3.0)**x\n",
        "\n",
        "# Create a graph object\n",
        "plot = graph_funs()\n",
        "\n",
        "# Setup the grid\n",
        "# Determine the range for X based on reflections and translations.\n",
        "# Determine the range for Y based on reflections and translations (look at maximum values).\n",
        "plot.set_XY(minX=-5, maxX=+7, minY=-40, maxY=+40)\n",
        "\n",
        "# Add to the list of functions:\n",
        "domain1 = [0, 2, 20]\n",
        "\n",
        "# Show the table for the function:\n",
        "fun_table = table()\n",
        "fun_table.showTable(f1, domain1, 'f1_table.png')\n",
        "\n",
        "# Plot it\n",
        "plot.add_fun(f1, domain1, 'f1', 'red')  # Add the original function.\n",
        "plot.plot_funs(plot_title=\"Original function f1 (red)\", img_name=\"frame1.png\")\n",
        "\n",
        "f2, domain2 = plot.add_refl_across_x(f1, domain1, 'f2', 'orange') # Add its reflection.\n",
        "plot.plot_funs(plot_title=\"Added f2: reflection of f1 across x (orange)\", img_name=\"frame2.png\")\n",
        "\n",
        "f3, domain3 = plot.add_refl_across_y(f1, domain1, 'f3', 'yellow') # Add its reflection.\n",
        "plot.plot_funs(plot_title=\"Added f3: reflection of f1 across y (yellow)\", img_name=\"frame3.png\")\n",
        "\n",
        "# Let us transform the reflected graphs:\n",
        "f4, domain4 = plot.add_refl_across_y(f2, domain2, 'f4', 'green') # Add its reflection.\n",
        "plot.plot_funs(plot_title=\"Added f4: reflection of f2 across x (green)\", img_name=\"frame4.png\")\n",
        "\n",
        "# Translate up\n",
        "f5, domain5 = plot.add_vert_translation(f2, domain2, 2*(2*3**2), 'f5', 'blue')\n",
        "f6, domain6 = plot.add_vert_translation(f4, domain4, +36, 'f6', 'blue')\n",
        "plot.plot_funs(plot_title=\"Added f5, f6: translations of f2, f4 (blue)\", img_name=\"frame5.png\")\n",
        "\n",
        "# Translate down\n",
        "f7, domain7 = plot.add_vert_translation(f1, domain1, -36, 'f7', \"indigo\")\n",
        "f8, domain8 = plot.add_vert_translation(f3, domain3, -36, 'f6', \"indigo\")\n",
        "plot.plot_funs(plot_title=\"Added f7, f8: translations of f6, f7 (indigo)\", img_name=\"frame6.png\")\n",
        "\n",
        "# Translate right:\n",
        "dx=4\n",
        "f9, domain9   = plot.add_hor_translation(f1, domain1, dx, 'f9', 'olive') \n",
        "f10, domain10 = plot.add_hor_translation(f3, domain3, dx, 'f10', 'olive')\n",
        "f11, domain11 = plot.add_hor_translation(f6, domain6, dx, 'f11', 'olive')\n",
        "f12, domain12 = plot.add_hor_translation(f5, domain5, dx, 'f12', 'olive')\n",
        "\n",
        "f13, domain13 = plot.add_hor_translation(f2, domain2, dx, 'f13', 'olive') \n",
        "f14, domain14 = plot.add_hor_translation(f4, domain4, dx, 'f14', 'olive')\n",
        "f15, domain15 = plot.add_hor_translation(f7, domain7, dx, 'f15', 'olive')\n",
        "f16, domain16 = plot.add_hor_translation(f8, domain8, dx, 'f16', 'olive')\n",
        "\n",
        "plot.plot_funs(plot_title=\"Added f9-f16: translations of f1-f8 to the right\", img_name=\"frame7.png\")"
      ]
    },
    {
      "cell_type": "code",
      "execution_count": 12,
      "metadata": {},
      "outputs": [
        {
          "name": "stdout",
          "output_type": "stream",
          "text": [
            "Opening  title.png\n",
            "Opening  f1_table.png\n",
            "Opening  frame1.png\n",
            "Opening  frame2.png\n",
            "Opening  frame3.png\n",
            "Opening  frame4.png\n",
            "Opening  frame5.png\n",
            "Opening  frame6.png\n",
            "Opening  frame7.png\n",
            "video: height =  500  width =  700\n",
            "File 'all.mp4' has been removed.\n"
          ]
        },
        {
          "name": "stderr",
          "output_type": "stream",
          "text": [
            "[ WARN:0@7.558] global /private/var/folders/sy/f16zz6x50xz3113nwtb9bvq00000gp/T/abs_506zufg7xt/croots/recipe/opencv-suite_1664548331847/work/modules/videoio/src/cap_gstreamer.cpp (2180) open OpenCV | GStreamer warning: cannot link elements\n"
          ]
        },
        {
          "name": "stdout",
          "output_type": "stream",
          "text": [
            "VideoWriter initialized successfully.\n"
          ]
        },
        {
          "name": "stderr",
          "output_type": "stream",
          "text": [
            "OpenCV: AVF: waiting to write video data.\n",
            "OpenCV: AVF: waiting to write video data.\n",
            "OpenCV: AVF: waiting to write video data.\n",
            "OpenCV: AVF: waiting to write video data.\n",
            "OpenCV: AVF: waiting to write video data.\n",
            "OpenCV: AVF: waiting to write video data.\n",
            "OpenCV: AVF: waiting to write video data.\n",
            "OpenCV: AVF: waiting to write video data.\n",
            "OpenCV: AVF: waiting to write video data.\n",
            "OpenCV: AVF: waiting to write video data.\n",
            "OpenCV: AVF: waiting to write video data.\n",
            "OpenCV: AVF: waiting to write video data.\n",
            "OpenCV: AVF: waiting to write video data.\n",
            "OpenCV: AVF: waiting to write video data.\n",
            "OpenCV: AVF: waiting to write video data.\n",
            "OpenCV: AVF: waiting to write video data.\n",
            "OpenCV: AVF: waiting to write video data.\n",
            "OpenCV: AVF: waiting to write video data.\n",
            "OpenCV: AVF: waiting to write video data.\n",
            "OpenCV: AVF: waiting to write video data.\n",
            "OpenCV: AVF: waiting to write video data.\n",
            "OpenCV: AVF: waiting to write video data.\n",
            "OpenCV: AVF: waiting to write video data.\n",
            "OpenCV: AVF: waiting to write video data.\n",
            "OpenCV: AVF: waiting to write video data.\n",
            "OpenCV: AVF: waiting to write video data.\n",
            "OpenCV: AVF: waiting to write video data.\n",
            "OpenCV: AVF: waiting to write video data.\n",
            "OpenCV: AVF: waiting to write video data.\n",
            "OpenCV: AVF: waiting to write video data.\n",
            "OpenCV: AVF: waiting to write video data.\n",
            "OpenCV: AVF: waiting to write video data.\n",
            "OpenCV: AVF: waiting to write video data.\n",
            "OpenCV: AVF: waiting to write video data.\n",
            "OpenCV: AVF: waiting to write video data.\n",
            "OpenCV: AVF: waiting to write video data.\n",
            "OpenCV: AVF: waiting to write video data.\n",
            "OpenCV: AVF: waiting to write video data.\n",
            "OpenCV: AVF: waiting to write video data.\n",
            "OpenCV: AVF: waiting to write video data.\n",
            "OpenCV: AVF: waiting to write video data.\n",
            "OpenCV: AVF: waiting to write video data.\n",
            "OpenCV: AVF: waiting to write video data.\n",
            "OpenCV: AVF: waiting to write video data.\n",
            "OpenCV: AVF: waiting to write video data.\n",
            "OpenCV: AVF: waiting to write video data.\n",
            "OpenCV: AVF: waiting to write video data.\n",
            "OpenCV: AVF: waiting to write video data.\n",
            "OpenCV: AVF: waiting to write video data.\n",
            "OpenCV: AVF: waiting to write video data.\n",
            "OpenCV: AVF: waiting to write video data.\n",
            "OpenCV: AVF: waiting to write video data.\n",
            "OpenCV: AVF: waiting to write video data.\n",
            "OpenCV: AVF: waiting to write video data.\n",
            "OpenCV: AVF: waiting to write video data.\n",
            "OpenCV: AVF: waiting to write video data.\n",
            "OpenCV: AVF: waiting to write video data.\n",
            "OpenCV: AVF: waiting to write video data.\n",
            "OpenCV: AVF: waiting to write video data.\n",
            "OpenCV: AVF: waiting to write video data.\n",
            "OpenCV: AVF: waiting to write video data.\n",
            "OpenCV: AVF: waiting to write video data.\n",
            "OpenCV: AVF: waiting to write video data.\n",
            "OpenCV: AVF: waiting to write video data.\n",
            "OpenCV: AVF: waiting to write video data.\n",
            "OpenCV: AVF: waiting to write video data.\n",
            "OpenCV: AVF: waiting to write video data.\n",
            "OpenCV: AVF: waiting to write video data.\n",
            "OpenCV: AVF: waiting to write video data.\n",
            "OpenCV: AVF: waiting to write video data.\n",
            "OpenCV: AVF: waiting to write video data.\n",
            "OpenCV: AVF: waiting to write video data.\n",
            "OpenCV: AVF: waiting to write video data.\n",
            "OpenCV: AVF: waiting to write video data.\n",
            "OpenCV: AVF: waiting to write video data.\n",
            "OpenCV: AVF: waiting to write video data.\n",
            "OpenCV: AVF: waiting to write video data.\n",
            "OpenCV: AVF: waiting to write video data.\n",
            "OpenCV: AVF: waiting to write video data.\n",
            "OpenCV: AVF: waiting to write video data.\n",
            "OpenCV: AVF: waiting to write video data.\n",
            "OpenCV: AVF: waiting to write video data.\n",
            "OpenCV: AVF: waiting to write video data.\n",
            "OpenCV: AVF: waiting to write video data.\n",
            "OpenCV: AVF: waiting to write video data.\n",
            "OpenCV: AVF: waiting to write video data.\n",
            "OpenCV: AVF: waiting to write video data.\n",
            "OpenCV: AVF: waiting to write video data.\n",
            "OpenCV: AVF: waiting to write video data.\n",
            "OpenCV: AVF: waiting to write video data.\n",
            "OpenCV: AVF: waiting to write video data.\n",
            "OpenCV: AVF: waiting to write video data.\n",
            "OpenCV: AVF: waiting to write video data.\n",
            "OpenCV: AVF: waiting to write video data.\n",
            "OpenCV: AVF: waiting to write video data.\n",
            "OpenCV: AVF: waiting to write video data.\n",
            "OpenCV: AVF: waiting to write video data.\n",
            "OpenCV: AVF: waiting to write video data.\n",
            "OpenCV: AVF: waiting to write video data.\n",
            "OpenCV: AVF: waiting to write video data.\n",
            "OpenCV: AVF: waiting to write video data.\n",
            "OpenCV: AVF: waiting to write video data.\n",
            "OpenCV: AVF: waiting to write video data.\n",
            "OpenCV: AVF: waiting to write video data.\n",
            "OpenCV: AVF: waiting to write video data.\n",
            "OpenCV: AVF: waiting to write video data.\n",
            "OpenCV: AVF: waiting to write video data.\n",
            "OpenCV: AVF: waiting to write video data.\n",
            "OpenCV: AVF: waiting to write video data.\n",
            "OpenCV: AVF: waiting to write video data.\n",
            "OpenCV: AVF: waiting to write video data.\n",
            "OpenCV: AVF: waiting to write video data.\n",
            "OpenCV: AVF: waiting to write video data.\n",
            "OpenCV: AVF: waiting to write video data.\n",
            "OpenCV: AVF: waiting to write video data.\n",
            "OpenCV: AVF: waiting to write video data.\n",
            "OpenCV: AVF: waiting to write video data.\n",
            "OpenCV: AVF: waiting to write video data.\n",
            "OpenCV: AVF: waiting to write video data.\n",
            "OpenCV: AVF: waiting to write video data.\n",
            "OpenCV: AVF: waiting to write video data.\n",
            "OpenCV: AVF: waiting to write video data.\n",
            "OpenCV: AVF: waiting to write video data.\n",
            "OpenCV: AVF: waiting to write video data.\n",
            "OpenCV: AVF: waiting to write video data.\n",
            "OpenCV: AVF: waiting to write video data.\n",
            "OpenCV: AVF: waiting to write video data.\n",
            "OpenCV: AVF: waiting to write video data.\n",
            "OpenCV: AVF: waiting to write video data.\n",
            "OpenCV: AVF: waiting to write video data.\n",
            "OpenCV: AVF: waiting to write video data.\n",
            "OpenCV: AVF: waiting to write video data.\n",
            "OpenCV: AVF: waiting to write video data.\n",
            "OpenCV: AVF: waiting to write video data.\n",
            "OpenCV: AVF: waiting to write video data.\n",
            "OpenCV: AVF: waiting to write video data.\n",
            "OpenCV: AVF: waiting to write video data.\n",
            "OpenCV: AVF: waiting to write video data.\n",
            "OpenCV: AVF: waiting to write video data.\n",
            "OpenCV: AVF: waiting to write video data.\n",
            "OpenCV: AVF: waiting to write video data.\n",
            "OpenCV: AVF: waiting to write video data.\n",
            "OpenCV: AVF: waiting to write video data.\n",
            "OpenCV: AVF: waiting to write video data.\n",
            "OpenCV: AVF: waiting to write video data.\n",
            "OpenCV: AVF: waiting to write video data.\n",
            "OpenCV: AVF: waiting to write video data.\n",
            "OpenCV: AVF: waiting to write video data.\n",
            "OpenCV: AVF: waiting to write video data.\n",
            "OpenCV: AVF: waiting to write video data.\n",
            "OpenCV: AVF: waiting to write video data.\n",
            "OpenCV: AVF: waiting to write video data.\n",
            "OpenCV: AVF: waiting to write video data.\n",
            "OpenCV: AVF: waiting to write video data.\n",
            "OpenCV: AVF: waiting to write video data.\n",
            "OpenCV: AVF: waiting to write video data.\n",
            "OpenCV: AVF: waiting to write video data.\n",
            "OpenCV: AVF: waiting to write video data.\n",
            "OpenCV: AVF: waiting to write video data.\n",
            "OpenCV: AVF: waiting to write video data.\n",
            "OpenCV: AVF: waiting to write video data.\n",
            "OpenCV: AVF: waiting to write video data.\n",
            "OpenCV: AVF: waiting to write video data.\n",
            "OpenCV: AVF: waiting to write video data.\n",
            "OpenCV: AVF: waiting to write video data.\n",
            "OpenCV: AVF: waiting to write video data.\n",
            "OpenCV: AVF: waiting to write video data.\n",
            "OpenCV: AVF: waiting to write video data.\n",
            "OpenCV: AVF: waiting to write video data.\n",
            "OpenCV: AVF: waiting to write video data.\n",
            "OpenCV: AVF: waiting to write video data.\n",
            "OpenCV: AVF: waiting to write video data.\n",
            "OpenCV: AVF: waiting to write video data.\n",
            "OpenCV: AVF: waiting to write video data.\n",
            "OpenCV: AVF: waiting to write video data.\n",
            "OpenCV: AVF: waiting to write video data.\n",
            "OpenCV: AVF: waiting to write video data.\n",
            "OpenCV: AVF: waiting to write video data.\n",
            "OpenCV: AVF: waiting to write video data.\n",
            "OpenCV: AVF: waiting to write video data.\n",
            "OpenCV: AVF: waiting to write video data.\n",
            "OpenCV: AVF: waiting to write video data.\n",
            "OpenCV: AVF: waiting to write video data.\n",
            "OpenCV: AVF: waiting to write video data.\n",
            "OpenCV: AVF: waiting to write video data.\n",
            "OpenCV: AVF: waiting to write video data.\n",
            "OpenCV: AVF: waiting to write video data.\n",
            "OpenCV: AVF: waiting to write video data.\n",
            "OpenCV: AVF: waiting to write video data.\n",
            "OpenCV: AVF: waiting to write video data.\n",
            "OpenCV: AVF: waiting to write video data.\n",
            "OpenCV: AVF: waiting to write video data.\n",
            "OpenCV: AVF: waiting to write video data.\n",
            "OpenCV: AVF: waiting to write video data.\n",
            "OpenCV: AVF: waiting to write video data.\n",
            "OpenCV: AVF: waiting to write video data.\n",
            "OpenCV: AVF: waiting to write video data.\n",
            "OpenCV: AVF: waiting to write video data.\n",
            "OpenCV: AVF: waiting to write video data.\n",
            "OpenCV: AVF: waiting to write video data.\n",
            "OpenCV: AVF: waiting to write video data.\n",
            "OpenCV: AVF: waiting to write video data.\n",
            "OpenCV: AVF: waiting to write video data.\n",
            "OpenCV: AVF: waiting to write video data.\n",
            "OpenCV: AVF: waiting to write video data.\n",
            "OpenCV: AVF: waiting to write video data.\n",
            "OpenCV: AVF: waiting to write video data.\n",
            "OpenCV: AVF: waiting to write video data.\n",
            "OpenCV: AVF: waiting to write video data.\n",
            "OpenCV: AVF: waiting to write video data.\n",
            "OpenCV: AVF: waiting to write video data.\n",
            "OpenCV: AVF: waiting to write video data.\n",
            "OpenCV: AVF: waiting to write video data.\n",
            "OpenCV: AVF: waiting to write video data.\n",
            "OpenCV: AVF: waiting to write video data.\n",
            "OpenCV: AVF: waiting to write video data.\n",
            "OpenCV: AVF: waiting to write video data.\n",
            "OpenCV: AVF: waiting to write video data.\n",
            "OpenCV: AVF: waiting to write video data.\n",
            "OpenCV: AVF: waiting to write video data.\n",
            "OpenCV: AVF: waiting to write video data.\n",
            "OpenCV: AVF: waiting to write video data.\n",
            "OpenCV: AVF: waiting to write video data.\n",
            "OpenCV: AVF: waiting to write video data.\n",
            "OpenCV: AVF: waiting to write video data.\n",
            "OpenCV: AVF: waiting to write video data.\n",
            "OpenCV: AVF: waiting to write video data.\n",
            "OpenCV: AVF: waiting to write video data.\n",
            "OpenCV: AVF: waiting to write video data.\n",
            "OpenCV: AVF: waiting to write video data.\n",
            "OpenCV: AVF: waiting to write video data.\n",
            "OpenCV: AVF: waiting to write video data.\n",
            "OpenCV: AVF: waiting to write video data.\n",
            "OpenCV: AVF: waiting to write video data.\n",
            "OpenCV: AVF: waiting to write video data.\n",
            "OpenCV: AVF: waiting to write video data.\n",
            "OpenCV: AVF: waiting to write video data.\n",
            "OpenCV: AVF: waiting to write video data.\n",
            "OpenCV: AVF: waiting to write video data.\n",
            "OpenCV: AVF: waiting to write video data.\n",
            "OpenCV: AVF: waiting to write video data.\n",
            "OpenCV: AVF: waiting to write video data.\n",
            "OpenCV: AVF: waiting to write video data.\n",
            "OpenCV: AVF: waiting to write video data.\n",
            "OpenCV: AVF: waiting to write video data.\n",
            "OpenCV: AVF: waiting to write video data.\n",
            "OpenCV: AVF: waiting to write video data.\n",
            "OpenCV: AVF: waiting to write video data.\n",
            "OpenCV: AVF: waiting to write video data.\n",
            "OpenCV: AVF: waiting to write video data.\n",
            "OpenCV: AVF: waiting to write video data.\n",
            "OpenCV: AVF: waiting to write video data.\n",
            "OpenCV: AVF: waiting to write video data.\n",
            "OpenCV: AVF: waiting to write video data.\n",
            "OpenCV: AVF: waiting to write video data.\n",
            "OpenCV: AVF: waiting to write video data.\n",
            "OpenCV: AVF: waiting to write video data.\n",
            "OpenCV: AVF: waiting to write video data.\n",
            "OpenCV: AVF: waiting to write video data.\n",
            "OpenCV: AVF: waiting to write video data.\n",
            "OpenCV: AVF: waiting to write video data.\n",
            "OpenCV: AVF: waiting to write video data.\n",
            "2024-02-15 14:53:03.739 python[64065:4547017] WARNING: -finishWriting should not be called on the main thread.\n"
          ]
        },
        {
          "name": "stdout",
          "output_type": "stream",
          "text": [
            "Moviepy - Building video __temp__.mp4.\n",
            "Moviepy - Writing video __temp__.mp4\n",
            "\n"
          ]
        },
        {
          "name": "stderr",
          "output_type": "stream",
          "text": [
            "                                                               \r"
          ]
        },
        {
          "name": "stdout",
          "output_type": "stream",
          "text": [
            "Moviepy - Done !\n",
            "Moviepy - video ready __temp__.mp4\n"
          ]
        },
        {
          "data": {
            "text/html": [
              "<div align=middle><video src='data:video/mp4;base64,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' controls>Sorry, seems like your browser doesn't support HTML5 audio/video</video></div>"
            ],
            "text/plain": [
              "<moviepy.video.io.html_tools.HTML2 object>"
            ]
          },
          "execution_count": 12,
          "metadata": {},
          "output_type": "execute_result"
        }
      ],
      "source": [
        "# Create a video\n",
        "\n",
        "# Decide which images and videos you want to put together:\n",
        "img_list = [\"title.png\", 'f1_table.png', \"frame1.png\", \n",
        "            \"frame2.png\", \"frame3.png\", \"frame4.png\", \"frame5.png\", \"frame6.png\", \"frame7.png\"]\n",
        "\n",
        "# Set the duration for each one in seconds. \n",
        "durations_list = [2.0,   # duration in seconds for title.png\n",
        "                  5.0,   # duration for the table \n",
        "                  2.0,   # duration for frame1.png\n",
        "                  2.0,   # frame2.png\n",
        "                  2.0,   # frame3.png\n",
        "                  2.0,   # frame4.png\n",
        "                  2.0,   # frame5.png\n",
        "                  2.0,   # frame6.png \n",
        "                  2.0]   # frame7.png \n",
        "\n",
        "# Create the video:\n",
        "video=CreateVideo(video_name=\"all.mp4\",       # This is file name of the final video.\n",
        "                  file_list=img_list,         # This the list of images and files to combine.\n",
        "                  fps=10,                     # The number of frames per second.\n",
        "                  durations=durations_list)   # The duration for each one.\n",
        "\n",
        "# Display the video:\n",
        "video.ipython_display()"
      ]
    },
    {
      "cell_type": "markdown",
      "metadata": {
        "id": "xr03ZcmVTnKx"
      },
      "source": [
        "# Visualizing vertical asymptotes"
      ]
    },
    {
      "cell_type": "markdown",
      "metadata": {
        "id": "-OwbhWuGTnKx"
      },
      "source": [
        "Vertical asymptotes cannot be visualized as functions.<br>\n",
        "\n",
        "Instead, they can be added to any function by specifying the x-values.\n",
        "This is done using:\n",
        "```\n",
        "plot.add_vert_dilations(f, domain=[-1, 3, 20], a_range=[1, 5, 3])\n",
        "```\n"
      ]
    },
    {
      "cell_type": "code",
      "execution_count": 13,
      "metadata": {
        "colab": {
          "base_uri": "https://localhost:8080/",
          "height": 542
        },
        "id": "nYPU2pJ8TnKy",
        "outputId": "f13b0597-87f6-42ab-f524-1dddaa57bf19"
      },
      "outputs": [
        {
          "data": {
            "application/vnd.plotly.v1+json": {
              "config": {
                "plotlyServerURL": "https://plot.ly"
              },
              "data": [
                {
                  "mode": "lines+markers",
                  "name": "2*3^x",
                  "showlegend": true,
                  "type": "scatter",
                  "x": [
                    0,
                    0.10526315789473684,
                    0.21052631578947367,
                    0.3157894736842105,
                    0.42105263157894735,
                    0.5263157894736842,
                    0.631578947368421,
                    0.7368421052631579,
                    0.8421052631578947,
                    0.9473684210526315,
                    1.0526315789473684,
                    1.1578947368421053,
                    1.263157894736842,
                    1.3684210526315788,
                    1.4736842105263157,
                    1.5789473684210527,
                    1.6842105263157894,
                    1.789473684210526,
                    1.894736842105263,
                    2
                  ],
                  "y": [
                    2,
                    2.2451909637195513,
                    2.520441231783964,
                    2.829435939093766,
                    3.1763120014383333,
                    3.565713501791654,
                    4.00285386671771,
                    4.493585665322235,
                    5.044478965240595,
                    5.662909294715768,
                    6.357156388429651,
                    7.136515039127136,
                    8.011419539148463,
                    8.99358337793119,
                    10.096156065794736,
                    11.33389918361234,
                    12.72338401537741,
                    14.283213409629571,
                    16.03427084008912,
                    18
                  ]
                }
              ],
              "layout": {
                "autosize": false,
                "shapes": [
                  {
                    "line": {
                      "color": "red",
                      "width": 2
                    },
                    "type": "line",
                    "x0": -1,
                    "x1": -1,
                    "y0": 0,
                    "y1": 18
                  },
                  {
                    "line": {
                      "color": "red",
                      "width": 2
                    },
                    "type": "line",
                    "x0": 3,
                    "x1": 3,
                    "y0": 0,
                    "y1": 18
                  }
                ],
                "template": {
                  "data": {
                    "bar": [
                      {
                        "error_x": {
                          "color": "#2a3f5f"
                        },
                        "error_y": {
                          "color": "#2a3f5f"
                        },
                        "marker": {
                          "line": {
                            "color": "#E5ECF6",
                            "width": 0.5
                          },
                          "pattern": {
                            "fillmode": "overlay",
                            "size": 10,
                            "solidity": 0.2
                          }
                        },
                        "type": "bar"
                      }
                    ],
                    "barpolar": [
                      {
                        "marker": {
                          "line": {
                            "color": "#E5ECF6",
                            "width": 0.5
                          },
                          "pattern": {
                            "fillmode": "overlay",
                            "size": 10,
                            "solidity": 0.2
                          }
                        },
                        "type": "barpolar"
                      }
                    ],
                    "carpet": [
                      {
                        "aaxis": {
                          "endlinecolor": "#2a3f5f",
                          "gridcolor": "white",
                          "linecolor": "white",
                          "minorgridcolor": "white",
                          "startlinecolor": "#2a3f5f"
                        },
                        "baxis": {
                          "endlinecolor": "#2a3f5f",
                          "gridcolor": "white",
                          "linecolor": "white",
                          "minorgridcolor": "white",
                          "startlinecolor": "#2a3f5f"
                        },
                        "type": "carpet"
                      }
                    ],
                    "choropleth": [
                      {
                        "colorbar": {
                          "outlinewidth": 0,
                          "ticks": ""
                        },
                        "type": "choropleth"
                      }
                    ],
                    "contour": [
                      {
                        "colorbar": {
                          "outlinewidth": 0,
                          "ticks": ""
                        },
                        "colorscale": [
                          [
                            0,
                            "#0d0887"
                          ],
                          [
                            0.1111111111111111,
                            "#46039f"
                          ],
                          [
                            0.2222222222222222,
                            "#7201a8"
                          ],
                          [
                            0.3333333333333333,
                            "#9c179e"
                          ],
                          [
                            0.4444444444444444,
                            "#bd3786"
                          ],
                          [
                            0.5555555555555556,
                            "#d8576b"
                          ],
                          [
                            0.6666666666666666,
                            "#ed7953"
                          ],
                          [
                            0.7777777777777778,
                            "#fb9f3a"
                          ],
                          [
                            0.8888888888888888,
                            "#fdca26"
                          ],
                          [
                            1,
                            "#f0f921"
                          ]
                        ],
                        "type": "contour"
                      }
                    ],
                    "contourcarpet": [
                      {
                        "colorbar": {
                          "outlinewidth": 0,
                          "ticks": ""
                        },
                        "type": "contourcarpet"
                      }
                    ],
                    "heatmap": [
                      {
                        "colorbar": {
                          "outlinewidth": 0,
                          "ticks": ""
                        },
                        "colorscale": [
                          [
                            0,
                            "#0d0887"
                          ],
                          [
                            0.1111111111111111,
                            "#46039f"
                          ],
                          [
                            0.2222222222222222,
                            "#7201a8"
                          ],
                          [
                            0.3333333333333333,
                            "#9c179e"
                          ],
                          [
                            0.4444444444444444,
                            "#bd3786"
                          ],
                          [
                            0.5555555555555556,
                            "#d8576b"
                          ],
                          [
                            0.6666666666666666,
                            "#ed7953"
                          ],
                          [
                            0.7777777777777778,
                            "#fb9f3a"
                          ],
                          [
                            0.8888888888888888,
                            "#fdca26"
                          ],
                          [
                            1,
                            "#f0f921"
                          ]
                        ],
                        "type": "heatmap"
                      }
                    ],
                    "heatmapgl": [
                      {
                        "colorbar": {
                          "outlinewidth": 0,
                          "ticks": ""
                        },
                        "colorscale": [
                          [
                            0,
                            "#0d0887"
                          ],
                          [
                            0.1111111111111111,
                            "#46039f"
                          ],
                          [
                            0.2222222222222222,
                            "#7201a8"
                          ],
                          [
                            0.3333333333333333,
                            "#9c179e"
                          ],
                          [
                            0.4444444444444444,
                            "#bd3786"
                          ],
                          [
                            0.5555555555555556,
                            "#d8576b"
                          ],
                          [
                            0.6666666666666666,
                            "#ed7953"
                          ],
                          [
                            0.7777777777777778,
                            "#fb9f3a"
                          ],
                          [
                            0.8888888888888888,
                            "#fdca26"
                          ],
                          [
                            1,
                            "#f0f921"
                          ]
                        ],
                        "type": "heatmapgl"
                      }
                    ],
                    "histogram": [
                      {
                        "marker": {
                          "pattern": {
                            "fillmode": "overlay",
                            "size": 10,
                            "solidity": 0.2
                          }
                        },
                        "type": "histogram"
                      }
                    ],
                    "histogram2d": [
                      {
                        "colorbar": {
                          "outlinewidth": 0,
                          "ticks": ""
                        },
                        "colorscale": [
                          [
                            0,
                            "#0d0887"
                          ],
                          [
                            0.1111111111111111,
                            "#46039f"
                          ],
                          [
                            0.2222222222222222,
                            "#7201a8"
                          ],
                          [
                            0.3333333333333333,
                            "#9c179e"
                          ],
                          [
                            0.4444444444444444,
                            "#bd3786"
                          ],
                          [
                            0.5555555555555556,
                            "#d8576b"
                          ],
                          [
                            0.6666666666666666,
                            "#ed7953"
                          ],
                          [
                            0.7777777777777778,
                            "#fb9f3a"
                          ],
                          [
                            0.8888888888888888,
                            "#fdca26"
                          ],
                          [
                            1,
                            "#f0f921"
                          ]
                        ],
                        "type": "histogram2d"
                      }
                    ],
                    "histogram2dcontour": [
                      {
                        "colorbar": {
                          "outlinewidth": 0,
                          "ticks": ""
                        },
                        "colorscale": [
                          [
                            0,
                            "#0d0887"
                          ],
                          [
                            0.1111111111111111,
                            "#46039f"
                          ],
                          [
                            0.2222222222222222,
                            "#7201a8"
                          ],
                          [
                            0.3333333333333333,
                            "#9c179e"
                          ],
                          [
                            0.4444444444444444,
                            "#bd3786"
                          ],
                          [
                            0.5555555555555556,
                            "#d8576b"
                          ],
                          [
                            0.6666666666666666,
                            "#ed7953"
                          ],
                          [
                            0.7777777777777778,
                            "#fb9f3a"
                          ],
                          [
                            0.8888888888888888,
                            "#fdca26"
                          ],
                          [
                            1,
                            "#f0f921"
                          ]
                        ],
                        "type": "histogram2dcontour"
                      }
                    ],
                    "mesh3d": [
                      {
                        "colorbar": {
                          "outlinewidth": 0,
                          "ticks": ""
                        },
                        "type": "mesh3d"
                      }
                    ],
                    "parcoords": [
                      {
                        "line": {
                          "colorbar": {
                            "outlinewidth": 0,
                            "ticks": ""
                          }
                        },
                        "type": "parcoords"
                      }
                    ],
                    "pie": [
                      {
                        "automargin": true,
                        "type": "pie"
                      }
                    ],
                    "scatter": [
                      {
                        "fillpattern": {
                          "fillmode": "overlay",
                          "size": 10,
                          "solidity": 0.2
                        },
                        "type": "scatter"
                      }
                    ],
                    "scatter3d": [
                      {
                        "line": {
                          "colorbar": {
                            "outlinewidth": 0,
                            "ticks": ""
                          }
                        },
                        "marker": {
                          "colorbar": {
                            "outlinewidth": 0,
                            "ticks": ""
                          }
                        },
                        "type": "scatter3d"
                      }
                    ],
                    "scattercarpet": [
                      {
                        "marker": {
                          "colorbar": {
                            "outlinewidth": 0,
                            "ticks": ""
                          }
                        },
                        "type": "scattercarpet"
                      }
                    ],
                    "scattergeo": [
                      {
                        "marker": {
                          "colorbar": {
                            "outlinewidth": 0,
                            "ticks": ""
                          }
                        },
                        "type": "scattergeo"
                      }
                    ],
                    "scattergl": [
                      {
                        "marker": {
                          "colorbar": {
                            "outlinewidth": 0,
                            "ticks": ""
                          }
                        },
                        "type": "scattergl"
                      }
                    ],
                    "scattermapbox": [
                      {
                        "marker": {
                          "colorbar": {
                            "outlinewidth": 0,
                            "ticks": ""
                          }
                        },
                        "type": "scattermapbox"
                      }
                    ],
                    "scatterpolar": [
                      {
                        "marker": {
                          "colorbar": {
                            "outlinewidth": 0,
                            "ticks": ""
                          }
                        },
                        "type": "scatterpolar"
                      }
                    ],
                    "scatterpolargl": [
                      {
                        "marker": {
                          "colorbar": {
                            "outlinewidth": 0,
                            "ticks": ""
                          }
                        },
                        "type": "scatterpolargl"
                      }
                    ],
                    "scatterternary": [
                      {
                        "marker": {
                          "colorbar": {
                            "outlinewidth": 0,
                            "ticks": ""
                          }
                        },
                        "type": "scatterternary"
                      }
                    ],
                    "surface": [
                      {
                        "colorbar": {
                          "outlinewidth": 0,
                          "ticks": ""
                        },
                        "colorscale": [
                          [
                            0,
                            "#0d0887"
                          ],
                          [
                            0.1111111111111111,
                            "#46039f"
                          ],
                          [
                            0.2222222222222222,
                            "#7201a8"
                          ],
                          [
                            0.3333333333333333,
                            "#9c179e"
                          ],
                          [
                            0.4444444444444444,
                            "#bd3786"
                          ],
                          [
                            0.5555555555555556,
                            "#d8576b"
                          ],
                          [
                            0.6666666666666666,
                            "#ed7953"
                          ],
                          [
                            0.7777777777777778,
                            "#fb9f3a"
                          ],
                          [
                            0.8888888888888888,
                            "#fdca26"
                          ],
                          [
                            1,
                            "#f0f921"
                          ]
                        ],
                        "type": "surface"
                      }
                    ],
                    "table": [
                      {
                        "cells": {
                          "fill": {
                            "color": "#EBF0F8"
                          },
                          "line": {
                            "color": "white"
                          }
                        },
                        "header": {
                          "fill": {
                            "color": "#C8D4E3"
                          },
                          "line": {
                            "color": "white"
                          }
                        },
                        "type": "table"
                      }
                    ]
                  },
                  "layout": {
                    "annotationdefaults": {
                      "arrowcolor": "#2a3f5f",
                      "arrowhead": 0,
                      "arrowwidth": 1
                    },
                    "autotypenumbers": "strict",
                    "coloraxis": {
                      "colorbar": {
                        "outlinewidth": 0,
                        "ticks": ""
                      }
                    },
                    "colorscale": {
                      "diverging": [
                        [
                          0,
                          "#8e0152"
                        ],
                        [
                          0.1,
                          "#c51b7d"
                        ],
                        [
                          0.2,
                          "#de77ae"
                        ],
                        [
                          0.3,
                          "#f1b6da"
                        ],
                        [
                          0.4,
                          "#fde0ef"
                        ],
                        [
                          0.5,
                          "#f7f7f7"
                        ],
                        [
                          0.6,
                          "#e6f5d0"
                        ],
                        [
                          0.7,
                          "#b8e186"
                        ],
                        [
                          0.8,
                          "#7fbc41"
                        ],
                        [
                          0.9,
                          "#4d9221"
                        ],
                        [
                          1,
                          "#276419"
                        ]
                      ],
                      "sequential": [
                        [
                          0,
                          "#0d0887"
                        ],
                        [
                          0.1111111111111111,
                          "#46039f"
                        ],
                        [
                          0.2222222222222222,
                          "#7201a8"
                        ],
                        [
                          0.3333333333333333,
                          "#9c179e"
                        ],
                        [
                          0.4444444444444444,
                          "#bd3786"
                        ],
                        [
                          0.5555555555555556,
                          "#d8576b"
                        ],
                        [
                          0.6666666666666666,
                          "#ed7953"
                        ],
                        [
                          0.7777777777777778,
                          "#fb9f3a"
                        ],
                        [
                          0.8888888888888888,
                          "#fdca26"
                        ],
                        [
                          1,
                          "#f0f921"
                        ]
                      ],
                      "sequentialminus": [
                        [
                          0,
                          "#0d0887"
                        ],
                        [
                          0.1111111111111111,
                          "#46039f"
                        ],
                        [
                          0.2222222222222222,
                          "#7201a8"
                        ],
                        [
                          0.3333333333333333,
                          "#9c179e"
                        ],
                        [
                          0.4444444444444444,
                          "#bd3786"
                        ],
                        [
                          0.5555555555555556,
                          "#d8576b"
                        ],
                        [
                          0.6666666666666666,
                          "#ed7953"
                        ],
                        [
                          0.7777777777777778,
                          "#fb9f3a"
                        ],
                        [
                          0.8888888888888888,
                          "#fdca26"
                        ],
                        [
                          1,
                          "#f0f921"
                        ]
                      ]
                    },
                    "colorway": [
                      "#636efa",
                      "#EF553B",
                      "#00cc96",
                      "#ab63fa",
                      "#FFA15A",
                      "#19d3f3",
                      "#FF6692",
                      "#B6E880",
                      "#FF97FF",
                      "#FECB52"
                    ],
                    "font": {
                      "color": "#2a3f5f"
                    },
                    "geo": {
                      "bgcolor": "white",
                      "lakecolor": "white",
                      "landcolor": "#E5ECF6",
                      "showlakes": true,
                      "showland": true,
                      "subunitcolor": "white"
                    },
                    "hoverlabel": {
                      "align": "left"
                    },
                    "hovermode": "closest",
                    "mapbox": {
                      "style": "light"
                    },
                    "paper_bgcolor": "white",
                    "plot_bgcolor": "#E5ECF6",
                    "polar": {
                      "angularaxis": {
                        "gridcolor": "white",
                        "linecolor": "white",
                        "ticks": ""
                      },
                      "bgcolor": "#E5ECF6",
                      "radialaxis": {
                        "gridcolor": "white",
                        "linecolor": "white",
                        "ticks": ""
                      }
                    },
                    "scene": {
                      "xaxis": {
                        "backgroundcolor": "#E5ECF6",
                        "gridcolor": "white",
                        "gridwidth": 2,
                        "linecolor": "white",
                        "showbackground": true,
                        "ticks": "",
                        "zerolinecolor": "white"
                      },
                      "yaxis": {
                        "backgroundcolor": "#E5ECF6",
                        "gridcolor": "white",
                        "gridwidth": 2,
                        "linecolor": "white",
                        "showbackground": true,
                        "ticks": "",
                        "zerolinecolor": "white"
                      },
                      "zaxis": {
                        "backgroundcolor": "#E5ECF6",
                        "gridcolor": "white",
                        "gridwidth": 2,
                        "linecolor": "white",
                        "showbackground": true,
                        "ticks": "",
                        "zerolinecolor": "white"
                      }
                    },
                    "shapedefaults": {
                      "line": {
                        "color": "#2a3f5f"
                      }
                    },
                    "ternary": {
                      "aaxis": {
                        "gridcolor": "white",
                        "linecolor": "white",
                        "ticks": ""
                      },
                      "baxis": {
                        "gridcolor": "white",
                        "linecolor": "white",
                        "ticks": ""
                      },
                      "bgcolor": "#E5ECF6",
                      "caxis": {
                        "gridcolor": "white",
                        "linecolor": "white",
                        "ticks": ""
                      }
                    },
                    "title": {
                      "x": 0.05
                    },
                    "xaxis": {
                      "automargin": true,
                      "gridcolor": "white",
                      "linecolor": "white",
                      "ticks": "",
                      "title": {
                        "standoff": 15
                      },
                      "zerolinecolor": "white",
                      "zerolinewidth": 2
                    },
                    "yaxis": {
                      "automargin": true,
                      "gridcolor": "white",
                      "linecolor": "white",
                      "ticks": "",
                      "title": {
                        "standoff": 15
                      },
                      "zerolinecolor": "white",
                      "zerolinewidth": 2
                    }
                  }
                },
                "title": {
                  "text": "Horizontal Dilations",
                  "x": 0.5,
                  "xanchor": "center",
                  "y": 0.95,
                  "yanchor": "top"
                },
                "xaxis": {
                  "title": {
                    "text": "x"
                  }
                },
                "yaxis": {
                  "title": {
                    "text": "y"
                  }
                }
              }
            }
          },
          "metadata": {},
          "output_type": "display_data"
        },
        {
          "ename": "",
          "evalue": "",
          "output_type": "error",
          "traceback": [
            "\u001b[1;31mThe Kernel crashed while executing code in the current cell or a previous cell. \n",
            "\u001b[1;31mPlease review the code in the cell(s) to identify a possible cause of the failure. \n",
            "\u001b[1;31mClick <a href='https://aka.ms/vscodeJupyterKernelCrash'>here</a> for more info. \n",
            "\u001b[1;31mView Jupyter <a href='command:jupyter.viewOutput'>log</a> for further details."
          ]
        }
      ],
      "source": [
        "# Visualize tables from their domains\n",
        "\n",
        "\n",
        "# MODIFY to add multiple transformations\n",
        "\n",
        "# Define x as a symbolic variable\n",
        "x = sp.symbols('x')\n",
        "\n",
        "# Define exponential function\n",
        "f = 2*(3)**x\n",
        "\n",
        "# Create a graph object\n",
        "plot = graph_funs()\n",
        "\n",
        "# Add to the list of functions:\n",
        "plot.add_fun(f, domain = [0, 2, 20])  # Add the original function.\n",
        "plot.add_vert_asymptotes(x_vals = [-1, 3])\n",
        "\n",
        "# Plot everything\n",
        "plot.plot_funs(plot_title=\"Horizontal Dilations\")"
      ]
    }
  ],
  "metadata": {
    "colab": {
      "include_colab_link": true,
      "provenance": [],
      "toc_visible": true
    },
    "kernelspec": {
      "display_name": "pytorch",
      "language": "python",
      "name": "python3"
    },
    "language_info": {
      "codemirror_mode": {
        "name": "ipython",
        "version": 3
      },
      "file_extension": ".py",
      "mimetype": "text/x-python",
      "name": "python",
      "nbconvert_exporter": "python",
      "pygments_lexer": "ipython3",
      "version": "3.10.13"
    }
  },
  "nbformat": 4,
  "nbformat_minor": 0
}

{
  "cells": [
    {
      "cell_type": "markdown",
      "metadata": {},
      "source": [
        "# Basic Instructions\n",
        "<dl>\n",
        "  <dt><h3>Saving your file</h3></dt>\n",
        "  <dd><ol type=\"1\">\n",
        "      <li>Click on <b>File</b> on the upper left</li>\n",
        "      <li>Click on <b>Save</b></li>\n",
        "  </ol></dd>\n",
        "\n",
        "  <dt><h3>Running your code</h3></dt>\n",
        "  <dd><ol type=\"1\">\n",
        "      <li>Move your cursor over <tt>[ ]</tt></li>\n",
        "      <li>With your mouse over <tt>[ ]</tt>, you will see the play button</li>\n",
        "      <li>Click on the play button</li>\n",
        "      <li>You should see output below</li>\n",
        "  </ol></dd>\n",
        "\n",
        "  <dt><h3>Printing your code</h3></dt>\n",
        "  <dd><ol type=\"1\">\n",
        "      <li>Click on <b>File</b> on the upper left</li>\n",
        "      <li>Click on <b>Print</b></li>\n",
        "  </ol></dd>\n",
        "</dl>\n"
      ]
    },
    {
      "cell_type": "markdown",
      "metadata": {},
      "source": [
        "# Setup\n",
        "The following code sets up the system by downloading the library from the web."
      ]
    },
    {
      "cell_type": "code",
      "execution_count": null,
      "metadata": {},
      "outputs": [],
      "source": [
        "# Remove existing files\n",
        "import os\n",
        "\n",
        "# os.chdir(\"/content/\")\n",
        "#!find './' -maxdepth 1 -type f -delete\n",
        "\n",
        "# Stop pygame to open a window\n",
        "os.environ[\"SDL_VIDEODRIVER\"] = \"dummy\"\n",
        "\n",
        "# Download the library and the images from the internet\n",
        "!wget -nc https://raw.githubusercontent.com/pattichis/GraphSpeeds/main/lineart_v3.py\n",
        "!wget -nc 'https://raw.githubusercontent.com/ugeshe/lineart/fall_2023/equations.py'\n",
        "\n",
        "# Import functions and library\n",
        "from lineart_v3 import table, plotTablesLines, CreateVideo\n",
        "\n",
        "# Import plotting functions\n",
        "from equations import plot_function_list\n",
        "import numpy as np\n",
        "from sympy import sympify\n",
        "\n",
        "from sympy.interactive.printing import init_printing\n",
        "init_printing(use_unicode=True)"
      ]
    },
    {
      "cell_type": "markdown",
      "metadata": {
        "id": "rbk-KSk6jo4D"
      },
      "source": [
        "# Introduction to Variables\n",
        "\n",
        "Run the following code by clicking on the play button inside [ ].\n",
        "\n",
        "What can you see?\n",
        "\n",
        "Comments are used for making notes:\n",
        "\n",
        "```\n",
        "# After this special character, computer ignores the text.\n",
        "```\n",
        "\n",
        "A variable is created using the following line:\n",
        "```\n",
        "x = 3\n",
        "```\n",
        "Thus, the variable <tt>x</tt> stores the value 3.</br>\n",
        "<b>Whenever we see <tt>x</tt>, remember that <tt>x</tt> holds the value of 3.</b>\n",
        "\n",
        "Note the special format</br>\n",
        "- The name of the variable is on the left of <tt>=</tt>.\n",
        "- On the right of <tt>=</tt>, we have an expression.\n",
        "- The computer will not understand <tt>3 = x</tt>, eventhough this is valid mathematically!\n",
        "\n",
        "We can see what <tt>x</tt> holds using:\n",
        "```\n",
        "print(x)\n",
        "```\n",
        "\n",
        "In programming, we say that <tt>print()</tt> is a\n",
        " <b>function</b>.\n",
        "\n",
        "We say that the variable <tt>x</tt> is an argument to\n",
        "   <tt>print()</tt>.\n",
        "\n",
        "We can change what we print by changing the variable <tt>a</tt>.   \n",
        "\n",
        "Carefully review the code line-by-line to understand how it works.\n",
        "\n",
        "## Assignment: understanding comments and variables\n",
        "Study the code and answer the following:\n",
        "1. Does the output change if you change a comment?\n",
        "2. Note the () after print. What happens when you remove one of them or both?\n",
        "3. What is the variable in the code?\n",
        "4. Can you change the code so that it will print 5?\n",
        "\n"
      ]
    },
    {
      "cell_type": "code",
      "execution_count": null,
      "metadata": {
        "colab": {
          "base_uri": "https://localhost:8080/"
        },
        "id": "fDX4Rl0PjqJQ",
        "outputId": "26b91d78-415b-4a00-814e-5868f73a50f0"
      },
      "outputs": [],
      "source": [
        "# Hello. This line is for humans to read.\n",
        "# It is not to be executed.\n",
        "# When you first type #, we have a comment. Typing here does not affect anything\n",
        "# Comments are used to explain programs to humans.\n",
        "# Computers do not execute the comments.\n",
        "\n",
        "# Computers use variables to store information.\n",
        "# In the following line, we store the number 3 in the variable \"x\"\n",
        "\n",
        "# What do you understand by saying that \"x\" is a variable?\n",
        "# Run this cell. Try a different value for \"x\".\n",
        "\n",
        "# Create another variable and experiment with different values.\n",
        "\n",
        "x = 5\n",
        "\n",
        "# print the value of x\n",
        "print(x)\n"
      ]
    },
    {
      "cell_type": "markdown",
      "metadata": {},
      "source": [
        "# Mathematical functions\n",
        "Once you have a variable, you can define functions to use them.</br>\n",
        "This is done by substituting variable values into expressions as given by:\n",
        "```\n",
        "x = 3\n",
        "y = 5*x+2\n",
        "```\n",
        "You can print multiple values using commas:\n",
        "```\n",
        "print(x, y)\n",
        "```\n",
        "\n",
        "## Assignment: Building mathematical functions\n",
        "Study the code below.</br>\n",
        "Modify the code so that:\n",
        "1. Change the function to $y = 3*x+5$.\n",
        "2. Evaluate the function at $x=1, 2, 3$."
      ]
    },
    {
      "cell_type": "code",
      "execution_count": null,
      "metadata": {},
      "outputs": [],
      "source": [
        "# Define variable\n",
        "x = 3\n",
        "\n",
        "# Equation that uses x\n",
        "y = 5*x+2\n",
        "\n",
        "# Print the output\n",
        "print(x, y)"
      ]
    },
    {
      "cell_type": "markdown",
      "metadata": {
        "id": "8lwSSFW5wTu2"
      },
      "source": []
    },
    {
      "cell_type": "markdown",
      "metadata": {
        "id": "Rtuf2z61h0G_"
      },
      "source": [
        "# Strings\n",
        "\n",
        "You can use variables to store characters.\n",
        "\n",
        "A collection of characters forms a string.\n",
        "\n",
        "So the following code stores your name in a variable:\n",
        "\n",
        "\n",
        "```\n",
        "MyString = \"A short phrase\"\n",
        "```\n",
        "From now on, MyString holds \"A short phrase\".\n",
        "\n",
        "\n",
        "Run the following code by clicking on the play button on the left.\n",
        "\n",
        "What can you see?\n",
        "\n",
        "Carefully read the code line-by-line to understand how it works.\n",
        "\n",
        "## Assignment: understanding strings\n",
        "Modify the code and answer the following questions:\n",
        "1. Can you change the code so that it will print your favorite food?\n",
        "2. Can you change the name of the variable to <tt>food</tt> and then <tt>print(food)</tt>?\n"
      ]
    },
    {
      "cell_type": "code",
      "execution_count": null,
      "metadata": {
        "colab": {
          "base_uri": "https://localhost:8080/"
        },
        "id": "hfSVgnVKd6SO",
        "outputId": "c21cc102-344c-439d-e397-7027d9b4235e"
      },
      "outputs": [],
      "source": [
        "# STRINGS\n",
        "# Computers understand strings.\n",
        "# The following line creates a string and stores it in the variable MyString\n",
        "MyString = \"Hello World!\"\n",
        "\n",
        "# PRINTING\n",
        "# You can now see the string in a:\n",
        "print(MyString)"
      ]
    },
    {
      "cell_type": "markdown",
      "metadata": {},
      "source": [
        "# Concatenating = Putting two strings together\n",
        "\n",
        "Run the following code by clicking on the play button on the left.\n",
        "\n",
        "What can you see?\n",
        "\n",
        "Carefully read the code line-by-line to understand how it works.\n",
        "\n",
        "What does it mean to use + with two strings?\n",
        "\n",
        "## Assignment\n",
        "\n",
        "Can you change the code so that it prints \"Hello Marios\"?\n",
        "\n",
        "Can you change the code so that it prints \"Hello dog\"?"
      ]
    },
    {
      "cell_type": "code",
      "execution_count": null,
      "metadata": {},
      "outputs": [],
      "source": [
        "MyName = \"Marios\"                 # Store \"Marios\" in MyName\n",
        "String = \"My name is \" + MyName   # Create a string by concatenating\n",
        "print(String)                     # Print the string"
      ]
    },
    {
      "cell_type": "markdown",
      "metadata": {
        "id": "eL2wg2O8uqp8"
      },
      "source": [
        "# Working with a list of values\n",
        "\n",
        "Python allows us to create lists of numbers.\n",
        "You can store each list in a variable.\n",
        "\n",
        "We put the numbers inside [ ], each separated by a ,\n",
        "```\n",
        "x_values = [-4, -3, -2, -1, 0, 1, 2, 3, 4]\n",
        "```\n",
        "\n",
        "We can print the values:\n",
        "```\n",
        "print(x_values)\n",
        "```\n",
        "\n",
        "## Assignment: Print a list\n",
        "Create and print a list of 0, 2, 4, 6, 8."
      ]
    },
    {
      "cell_type": "code",
      "execution_count": null,
      "metadata": {
        "colab": {
          "base_uri": "https://localhost:8080/"
        },
        "id": "x88_QGSCgATE",
        "outputId": "93d7f1db-bf27-4927-f383-79324aa85cf9"
      },
      "outputs": [],
      "source": [
        "# Create a list of numbers and store in x_values:\n",
        "x_values = [-4, -3, -2, -1, 0, 1, 2, 3, 4]\n",
        "\n",
        "# We can see the list using print(.)\n",
        "print(x_values)"
      ]
    },
    {
      "cell_type": "code",
      "execution_count": null,
      "metadata": {
        "id": "JCWVjCvmZdUM"
      },
      "outputs": [],
      "source": [
        "# Create and print a list of the numbers 0, 2, 4, 6, 8.\n"
      ]
    },
    {
      "cell_type": "markdown",
      "metadata": {},
      "source": [
        "# Object oriented programming using lists\n",
        "In Python, we can start with an empty list and keep adding elements.<br>\n",
        "We can do this using:\n",
        "```\n",
        "x_values = []\n",
        "```\n",
        "We think of a list as an <tt>object</tt>.<br>\n",
        "An <tt>object</tt> has its own functions (called <b>methods</b>) and data.<br>\n",
        "To add an element to the list, we use the <tt>append</tt> <b>method</b>:\n",
        "```\n",
        "x_values.append(1)\n",
        "```\n",
        "\n",
        "## Assignment: Build lists using append\n",
        "Study and run the code below.</br>\n",
        "Then modify the code to create the list <tt>[1, 2, 3]</tt> using <tt>append</tt>.\n",
        "\n"
      ]
    },
    {
      "cell_type": "code",
      "execution_count": null,
      "metadata": {},
      "outputs": [],
      "source": [
        "# MODIFY the example to create the list of [1, 2, 3]\n",
        "x_values = []       # Empty list\n",
        "x_values.append(1)  # x = [1]\n",
        "print(x_values)"
      ]
    },
    {
      "cell_type": "markdown",
      "metadata": {
        "id": "LKUKCbLFftCn"
      },
      "source": [
        "# List of strings\n",
        "We can also create a list of strings in the same way:\n",
        "```\n",
        "Strings = [\"tortilla\", \"breakfast burrito\"]\n",
        "```\n",
        "\n",
        "## Assignment: Print a list of strings\n",
        "Run and study the following code.<br>\n",
        "Then, modify the code so that:\n",
        "1. Enter three favorite foods.\n",
        "2. Print all of the elements in the list."
      ]
    },
    {
      "cell_type": "code",
      "execution_count": null,
      "metadata": {
        "colab": {
          "base_uri": "https://localhost:8080/"
        },
        "id": "6gsIgGU9grxW",
        "outputId": "736312be-77f9-4939-efd7-56af23a8f86a"
      },
      "outputs": [],
      "source": [
        "Strings = [\"tortilla\", \"breakfast burrito\"]\n",
        "print(Strings)"
      ]
    },
    {
      "cell_type": "code",
      "execution_count": null,
      "metadata": {
        "id": "_N-OefN_Z1JY"
      },
      "outputs": [],
      "source": [
        "# Print a list of your favorite foods.\n"
      ]
    },
    {
      "cell_type": "markdown",
      "metadata": {},
      "source": [
        "# Counting using loops\n",
        "Suppose that we want to count 1, 2, 3.\n",
        "\n",
        "We can use variables to do the counting.\n",
        "\n",
        "We first assign 1 to <tt>i</tt> using\n",
        "```\n",
        "i = 1\n",
        "print(i)\n",
        "```\n",
        "We then repeat for 2 and 3:\n",
        "```\n",
        "i = 2\n",
        "print(i)\n",
        "\n",
        "i = 3\n",
        "print(i)\n",
        "```\n",
        "\n",
        "## Assignment for introduction to for loops\n",
        "\n",
        "Modify the code to print 3, 5, 7"
      ]
    },
    {
      "cell_type": "code",
      "execution_count": null,
      "metadata": {},
      "outputs": [],
      "source": [
        "i = 1\n",
        "print(i)\n",
        "\n",
        "i = 2\n",
        "print(i)\n",
        "\n",
        "i = 3\n",
        "print(i)"
      ]
    },
    {
      "cell_type": "markdown",
      "metadata": {},
      "source": [
        "## Using for loops\n",
        "Suppose that we want to count to 100.\n",
        "\n",
        "We would have to repeat these statements 100 times!\n",
        "\n",
        "<tt>for</tt> loops allow us to use only one <tt>print()</tt> function statement.\n",
        "\n",
        "To use a <tt>for</tt>, we need to define the starting number and when to stop counting.\n",
        "\n",
        "Let us redo the code for counting to 1, 2, 3:\n",
        "```\n",
        "startNumber = 1\n",
        "stopNumber  = 3 + 1\n",
        "```\n",
        "Here, <tt>stopNumber = 3 + 1</tt> means that we should stop counting to avoid going past 3.\n",
        "\n",
        "To count 1, 2, 3, we use the <tt>for</tt> loop as given below:\n",
        "```\n",
        "for i in range(startNumber, stopNumber):\n",
        "  print(i)\n",
        "```\n",
        "Here, <tt>range(startNumber, stopNumber)</tt> generates the numbers 1, 2, 3. \n",
        "\n",
        "It starts with 1 (=<tt>startNumber</tt>), then 2, 3, but because <tt>stopNumber=4</tt>, it does not generate 4.\n",
        "\n",
        "Then the line <tt>i in range(startNumber, stopNumber)</tt> copies these numbers into <tt>i</tt>, one by one.\n",
        "\n",
        "After copying the numbers, it executes <tt>print(i)</tt> to print the numbers.\n",
        "\n",
        "## Assignment for counting to different values\n",
        "\n",
        "Modify the code to count to 100!\n",
        "\n",
        "\n",
        "\n",
        "\n",
        "\n"
      ]
    },
    {
      "cell_type": "code",
      "execution_count": null,
      "metadata": {},
      "outputs": [],
      "source": [
        "startNumber = 1\n",
        "stopNumber  = 3+1\n",
        "for i in range(startNumber, stopNumber):\n",
        "  print(i)"
      ]
    },
    {
      "cell_type": "markdown",
      "metadata": {},
      "source": [
        "## Using for loops to count by different steps\n",
        "We can use <tt>for</tt> loops to count by different steps.\n",
        "\n",
        "For example, we can use a <tt>for</tt> loop to count\n",
        "5, 10, 15.\n",
        "\n",
        "We only need to specify that we are counting by 5s instead of just adding 1 every time.\n",
        "\n",
        "This is done using a <tt>step</tt> as follows:\n",
        "\n",
        "\n",
        "```\n",
        "step = 5\n",
        "startNumber = 5\n",
        "stopNumber  = 15 + step\n",
        "for i in range(startNumber, stopNumber, step):\n",
        "  print(i)\n",
        "```\n",
        "\n",
        "## Assignment for counting by different steps\n",
        "\n",
        "Change the code so that you can count\n",
        "3, 9, 15.\n",
        "\n",
        "\n",
        "\n",
        "\n"
      ]
    },
    {
      "cell_type": "code",
      "execution_count": null,
      "metadata": {},
      "outputs": [],
      "source": [
        "step = 5\n",
        "startNumber = 5\n",
        "stopNumber  = 15 + step \n",
        "for i in range(startNumber, stopNumber, step):\n",
        "  print(i)"
      ]
    },
    {
      "cell_type": "markdown",
      "metadata": {},
      "source": [
        "# Evaluate a function using a for loop\n",
        "We can combine <tt>for</tt> loops with functions"
      ]
    },
    {
      "cell_type": "code",
      "execution_count": null,
      "metadata": {},
      "outputs": [],
      "source": [
        "step = 1\n",
        "startNumber = -2\n",
        "stopNumber  = 4 + step \n",
        "for x in range(startNumber, stopNumber, step):\n",
        "  y = 0.05*(2)**x\n",
        "  print(\"x=\", x, \"y=0.05*(2)**\", x, \" y=\", y)"
      ]
    },
    {
      "cell_type": "code",
      "execution_count": null,
      "metadata": {},
      "outputs": [],
      "source": [
        "step = 1\n",
        "startNumber = -2\n",
        "stopNumber  = 4 + step \n",
        "\n",
        "x_vals   = []\n",
        "y_vals   = []\n",
        "str_vals = []\n",
        "for x in range(startNumber, stopNumber, step):\n",
        "  y = 0.05*(2)**x\n",
        "\n",
        "  str_val = \"y=0.05*(2)**\"+str(x)\n",
        "\n",
        "  print(\"x=\", x, str_val, x, \" y=\", y)\n",
        "\n",
        "  x_vals.append(x)\n",
        "  y_vals.append(y) \n",
        "  str_vals.append(str_val)\n",
        "\n",
        "\n",
        "my_table = table()\n",
        "my_table.column_labels = [\"x\", \"y=0.05*(2)**x\", \"y\"]\n",
        "my_table.data_values   = [x_vals, str_vals, y_vals]\n",
        "my_table.plotTable()"
      ]
    },
    {
      "cell_type": "code",
      "execution_count": null,
      "metadata": {},
      "outputs": [],
      "source": [
        "\n",
        "my_table = table()\n",
        "my_table.column_labels = [\"x\", \"y=0.05*(2)**x\", \"y\"]\n",
        "my_table.data_values   = [x_vals, str_vals, y_vals]\n",
        "my_table.plotTable()"
      ]
    }
  ],
  "metadata": {
    "colab": {
      "include_colab_link": true,
      "provenance": [],
      "toc_visible": true
    },
    "kernelspec": {
      "display_name": "Python 3",
      "name": "python3"
    },
    "language_info": {
      "codemirror_mode": {
        "name": "ipython",
        "version": 3
      },
      "file_extension": ".py",
      "mimetype": "text/x-python",
      "name": "python",
      "nbconvert_exporter": "python",
      "pygments_lexer": "ipython3",
      "version": "3.10.13"
    }
  },
  "nbformat": 4,
  "nbformat_minor": 0
}

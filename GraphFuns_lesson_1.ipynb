{
  "cells": [
    {
      "cell_type": "markdown",
      "metadata": {
        "colab_type": "text",
        "id": "view-in-github"
      },
      "source": [
        "<a href=\"https://colab.research.google.com/github/pattichis/GraphFuns/blob/main/GraphFuns_lesson_1.ipynb\" target=\"_parent\"><img src=\"https://colab.research.google.com/assets/colab-badge.svg\" alt=\"Open In Colab\"/></a>"
      ]
    },
    {
      "cell_type": "markdown",
      "metadata": {
        "id": "c4PnfCIRFtB6"
      },
      "source": [
        "# Basic Instructions\n",
        "<dl>\n",
        "  <dt><h3>Saving your file</h3></dt>\n",
        "  <dd><ol type=\"1\">\n",
        "      <li>Click on <b>File</b> on the upper left</li>\n",
        "      <li>Click on <b>Save</b></li>\n",
        "  </ol></dd>\n",
        "\n",
        "  <dt><h3>Running your code</h3></dt>\n",
        "  <dd><ol type=\"1\">\n",
        "      <li>Move your cursor over <tt>[ ]</tt></li>\n",
        "      <li>With your mouse over <tt>[ ]</tt>, you will see the play button</li>\n",
        "      <li>Click on the play button</li>\n",
        "      <li>You should see output below</li>\n",
        "  </ol></dd>\n",
        "\n",
        "  <dt><h3>Printing your code</h3></dt>\n",
        "  <dd><ol type=\"1\">\n",
        "      <li>Click on <b>File</b> on the upper left</li>\n",
        "      <li>Click on <b>Print</b></li>\n",
        "  </ol></dd>\n",
        "</dl>\n"
      ]
    },
    {
      "cell_type": "markdown",
      "metadata": {
        "id": "AnmgRMuvFtB8"
      },
      "source": [
        "# Setup\n",
        "The following code sets up the system by downloading the library from the web."
      ]
    },
    {
      "cell_type": "code",
      "execution_count": 1,
      "metadata": {
        "colab": {
          "base_uri": "https://localhost:8080/"
        },
        "id": "4V-jAv4-FtB8",
        "outputId": "99fa9692-8e58-464f-c4fb-accc57d88f04"
      },
      "outputs": [
        {
          "name": "stdout",
          "output_type": "stream",
          "text": [
            "File ‘lineart_v3.py’ already there; not retrieving.\n",
            "\n",
            "File ‘equations.py’ already there; not retrieving.\n",
            "\n"
          ]
        },
        {
          "name": "stdout",
          "output_type": "stream",
          "text": [
            "pygame 2.5.2 (SDL 2.28.3, Python 3.10.13)\n",
            "Hello from the pygame community. https://www.pygame.org/contribute.html\n"
          ]
        }
      ],
      "source": [
        "# Remove existing files\n",
        "import os\n",
        "\n",
        "# os.chdir(\"/content/\")\n",
        "#!find './' -maxdepth 1 -type f -delete\n",
        "\n",
        "# Stop pygame to open a window\n",
        "os.environ[\"SDL_VIDEODRIVER\"] = \"dummy\"\n",
        "\n",
        "# Download the library and the images from the internet\n",
        "!wget -nc https://raw.githubusercontent.com/pattichis/GraphSpeeds/main/lineart_v3.py\n",
        "!wget -nc 'https://raw.githubusercontent.com/ugeshe/lineart/fall_2023/equations.py'\n",
        "\n",
        "# Import functions and library\n",
        "from lineart_v3 import table, plotTablesLines, CreateVideo\n",
        "\n",
        "# Import plotting functions\n",
        "from equations import plot_function_list\n",
        "import numpy as np\n",
        "from sympy import sympify\n",
        "\n",
        "from sympy.interactive.printing import init_printing\n",
        "init_printing(use_unicode=True)"
      ]
    },
    {
      "cell_type": "markdown",
      "metadata": {
        "id": "rbk-KSk6jo4D"
      },
      "source": [
        "# Introduction to Variables\n",
        "\n",
        "Run the following code by clicking on the play button inside [ ].\n",
        "\n",
        "What can you see?\n",
        "\n",
        "Comments are used for making notes:\n",
        "\n",
        "```\n",
        "# After this special character, computer ignores the text.\n",
        "```\n",
        "\n",
        "A variable is created using the following line:\n",
        "```\n",
        "x = 3\n",
        "```\n",
        "Thus, the variable <tt>x</tt> stores the value 3.</br>\n",
        "<b>Whenever we see <tt>x</tt>, remember that <tt>x</tt> holds the value of 3.</b>\n",
        "\n",
        "Note the special format</br>\n",
        "- The name of the variable is on the left of <tt>=</tt>.\n",
        "- On the right of <tt>=</tt>, we have an expression.\n",
        "- The computer will not understand <tt>3 = x</tt>, eventhough this is valid mathematically!\n",
        "\n",
        "We can see what <tt>x</tt> holds using:\n",
        "```\n",
        "print(x)\n",
        "```\n",
        "\n",
        "In programming, we say that <tt>print()</tt> is a\n",
        " <b>function</b>.\n",
        "\n",
        "We say that the variable <tt>x</tt> is an argument to\n",
        "   <tt>print()</tt>.\n",
        "\n",
        "We can change what we print by changing the variable <tt>a</tt>.   \n",
        "\n",
        "Carefully review the code line-by-line to understand how it works.\n",
        "\n",
        "## Assignment: understanding comments and variables\n",
        "Study the code and answer the following:\n",
        "1. Does the output change if you change a comment?\n",
        "2. Note the () after print. What happens when you remove one of them or both?\n",
        "3. What is the variable in the code?\n",
        "4. Can you change the code so that it will print 5?\n",
        "\n"
      ]
    },
    {
      "cell_type": "code",
      "execution_count": 2,
      "metadata": {
        "colab": {
          "base_uri": "https://localhost:8080/"
        },
        "id": "fDX4Rl0PjqJQ",
        "outputId": "4cfcf9af-b6b6-42bc-da88-dbf60e5db8d0"
      },
      "outputs": [
        {
          "name": "stdout",
          "output_type": "stream",
          "text": [
            "5\n"
          ]
        }
      ],
      "source": [
        "# Hello. This line is for humans to read.\n",
        "# It is not to be executed.\n",
        "# When you first type #, we have a comment. Typing here does not affect anything\n",
        "# Comments are used to explain programs to humans.\n",
        "# Computers do not execute the comments.\n",
        "\n",
        "# Computers use variables to store information.\n",
        "# In the following line, we store the number 3 in the variable \"x\"\n",
        "\n",
        "# What do you understand by saying that \"x\" is a variable?\n",
        "# Run this cell. Try a different value for \"x\".\n",
        "\n",
        "# Create another variable and experiment with different values.\n",
        "\n",
        "x = 5\n",
        "\n",
        "# print the value of x\n",
        "print(x)\n"
      ]
    },
    {
      "cell_type": "markdown",
      "metadata": {
        "id": "2Lcad7YQFtB9"
      },
      "source": [
        "# Mathematical functions\n",
        "Once you have a variable, you can define functions to use them.</br>\n",
        "This is done by substituting variable values into expressions as given by:\n",
        "```\n",
        "x = 3\n",
        "y = 5*x+2\n",
        "```\n",
        "You can print multiple values using commas:\n",
        "```\n",
        "print(x, y)\n",
        "```\n",
        "\n",
        "## Assignment: Building mathematical functions\n",
        "Study the code below.</br>\n",
        "Modify the code so that:\n",
        "1. Change the function to $y = 3*x+5$.\n",
        "2. Evaluate the function at $x=1, 2, 3$."
      ]
    },
    {
      "cell_type": "code",
      "execution_count": 3,
      "metadata": {
        "colab": {
          "base_uri": "https://localhost:8080/"
        },
        "id": "caSyz6NuFtB-",
        "outputId": "5ad9c343-a30d-473e-bba4-5240c7a24ac2"
      },
      "outputs": [
        {
          "name": "stdout",
          "output_type": "stream",
          "text": [
            "3 17\n"
          ]
        }
      ],
      "source": [
        "# Define variable\n",
        "x = 3\n",
        "\n",
        "# Equation that uses x\n",
        "y = 5*x+2\n",
        "\n",
        "# Print the output\n",
        "print(x, y)"
      ]
    },
    {
      "cell_type": "markdown",
      "metadata": {
        "id": "8lwSSFW5wTu2"
      },
      "source": []
    },
    {
      "cell_type": "markdown",
      "metadata": {
        "id": "Rtuf2z61h0G_"
      },
      "source": [
        "# Strings\n",
        "\n",
        "You can use variables to store characters.\n",
        "\n",
        "A collection of characters forms a string.\n",
        "\n",
        "So the following code stores your name in a variable:\n",
        "\n",
        "\n",
        "```\n",
        "MyString = \"A short phrase\"\n",
        "```\n",
        "From now on, MyString holds \"A short phrase\".\n",
        "\n",
        "\n",
        "Run the following code by clicking on the play button on the left.\n",
        "\n",
        "What can you see?\n",
        "\n",
        "Carefully read the code line-by-line to understand how it works.\n",
        "\n",
        "## Assignment: understanding strings\n",
        "Modify the code and answer the following questions:\n",
        "1. Can you change the code so that it will print your favorite food?\n",
        "2. Can you change the name of the variable to <tt>food</tt> and then <tt>print(food)</tt>?\n"
      ]
    },
    {
      "cell_type": "code",
      "execution_count": 4,
      "metadata": {
        "colab": {
          "base_uri": "https://localhost:8080/"
        },
        "id": "hfSVgnVKd6SO",
        "outputId": "1f728c49-5550-4bd8-e597-25aaed0e70a4"
      },
      "outputs": [
        {
          "name": "stdout",
          "output_type": "stream",
          "text": [
            "Hello World!\n"
          ]
        }
      ],
      "source": [
        "# STRINGS\n",
        "# Computers understand strings.\n",
        "# The following line creates a string and stores it in the variable MyString\n",
        "MyString = \"Hello World!\"\n",
        "\n",
        "# PRINTING\n",
        "# You can now see the string in a:\n",
        "print(MyString)"
      ]
    },
    {
      "cell_type": "markdown",
      "metadata": {
        "id": "8vKZrbMWFtB-"
      },
      "source": [
        "# Concatenating = Putting two strings together\n",
        "\n",
        "Run the following code by clicking on the play button on the left.\n",
        "\n",
        "What can you see?\n",
        "\n",
        "Carefully read the code line-by-line to understand how it works.\n",
        "\n",
        "What does it mean to use + with two strings?\n",
        "\n",
        "## Assignment\n",
        "\n",
        "Can you change the code so that it prints \"Hello Marios\"?\n",
        "\n",
        "Can you change the code so that it prints \"Hello dog\"?"
      ]
    },
    {
      "cell_type": "code",
      "execution_count": 5,
      "metadata": {
        "colab": {
          "base_uri": "https://localhost:8080/"
        },
        "id": "N36wCOVcFtB_",
        "outputId": "b53599e7-63c4-4632-a8a1-9fe19e711732"
      },
      "outputs": [
        {
          "name": "stdout",
          "output_type": "stream",
          "text": [
            "My name is Marios\n"
          ]
        }
      ],
      "source": [
        "MyName = \"Marios\"                 # Store \"Marios\" in MyName\n",
        "String = \"My name is \" + MyName   # Create a string by concatenating\n",
        "print(String)                     # Print the string"
      ]
    },
    {
      "cell_type": "markdown",
      "metadata": {
        "id": "eL2wg2O8uqp8"
      },
      "source": [
        "# Working with a list of values\n",
        "\n",
        "Python allows us to create lists of numbers.\n",
        "You can store each list in a variable.\n",
        "\n",
        "We put the numbers inside [ ], each separated by a ,\n",
        "```\n",
        "x_values = [-4, -3, -2, -1, 0, 1, 2, 3, 4]\n",
        "```\n",
        "\n",
        "We can print the values:\n",
        "```\n",
        "print(x_values)\n",
        "```\n",
        "\n",
        "## Assignment: Print a list\n",
        "Create and print a list of 0, 2, 4, 6, 8."
      ]
    },
    {
      "cell_type": "code",
      "execution_count": 6,
      "metadata": {
        "colab": {
          "base_uri": "https://localhost:8080/"
        },
        "id": "x88_QGSCgATE",
        "outputId": "931a34ef-03fe-4db9-f505-8ecc6e3b7e58"
      },
      "outputs": [
        {
          "name": "stdout",
          "output_type": "stream",
          "text": [
            "[-4, -3, -2, -1, 0, 1, 2, 3, 4]\n"
          ]
        }
      ],
      "source": [
        "# Create a list of numbers and store in x_values:\n",
        "x_values = [-4, -3, -2, -1, 0, 1, 2, 3, 4]\n",
        "\n",
        "# We can see the list using print(.)\n",
        "print(x_values)"
      ]
    },
    {
      "cell_type": "code",
      "execution_count": 7,
      "metadata": {
        "id": "JCWVjCvmZdUM"
      },
      "outputs": [],
      "source": [
        "# Create and print a list of the numbers 0, 2, 4, 6, 8.\n"
      ]
    },
    {
      "cell_type": "markdown",
      "metadata": {
        "id": "yogtiM20FtB_"
      },
      "source": [
        "# Object oriented programming using lists\n",
        "In Python, we can start with an empty list and keep adding elements.<br>\n",
        "We can do this using:\n",
        "```\n",
        "x_values = []\n",
        "```\n",
        "We think of a list as an <tt>object</tt>.<br>\n",
        "An <tt>object</tt> has its own functions (called <b>methods</b>) and data.<br>\n",
        "To add an element to the list, we use the <tt>append</tt> <b>method</b>:\n",
        "```\n",
        "x_values.append(1)\n",
        "```\n",
        "\n",
        "## Assignment: Build lists using append\n",
        "Study and run the code below.</br>\n",
        "Then modify the code to create the list <tt>[1, 2, 3]</tt> using <tt>append</tt>.\n",
        "\n"
      ]
    },
    {
      "cell_type": "code",
      "execution_count": 8,
      "metadata": {
        "colab": {
          "base_uri": "https://localhost:8080/"
        },
        "id": "jOOAny57FtB_",
        "outputId": "d3ab5b00-b358-4bcf-a9c9-c1888a061603"
      },
      "outputs": [
        {
          "name": "stdout",
          "output_type": "stream",
          "text": [
            "[1]\n"
          ]
        }
      ],
      "source": [
        "# MODIFY the example to create the list of [1, 2, 3]\n",
        "x_values = []       # Empty list\n",
        "x_values.append(1)  # x = [1]\n",
        "print(x_values)"
      ]
    },
    {
      "cell_type": "markdown",
      "metadata": {
        "id": "LKUKCbLFftCn"
      },
      "source": [
        "# List of strings\n",
        "We can also create a list of strings in the same way:\n",
        "```\n",
        "Strings = [\"tortilla\", \"breakfast burrito\"]\n",
        "```\n",
        "\n",
        "## Assignment: Print a list of strings\n",
        "Run and study the following code.<br>\n",
        "Then, modify the code so that:\n",
        "1. Enter three favorite foods.\n",
        "2. Print all of the elements in the list."
      ]
    },
    {
      "cell_type": "code",
      "execution_count": 9,
      "metadata": {
        "colab": {
          "base_uri": "https://localhost:8080/"
        },
        "id": "6gsIgGU9grxW",
        "outputId": "f74eac52-a648-4156-a509-2aca7852f824"
      },
      "outputs": [
        {
          "name": "stdout",
          "output_type": "stream",
          "text": [
            "['tortilla', 'breakfast burrito']\n"
          ]
        }
      ],
      "source": [
        "Strings = [\"tortilla\", \"breakfast burrito\"]\n",
        "print(Strings)"
      ]
    },
    {
      "cell_type": "code",
      "execution_count": 10,
      "metadata": {
        "id": "_N-OefN_Z1JY"
      },
      "outputs": [],
      "source": [
        "# Print a list of your favorite foods.\n"
      ]
    },
    {
      "cell_type": "markdown",
      "metadata": {
        "id": "cF_FwY6jFtB_"
      },
      "source": [
        "# Counting using loops\n",
        "Suppose that we want to count 1, 2, 3.\n",
        "\n",
        "We can use variables to do the counting.\n",
        "\n",
        "We first assign 1 to <tt>i</tt> using\n",
        "```\n",
        "i = 1\n",
        "print(i)\n",
        "```\n",
        "We then repeat for 2 and 3:\n",
        "```\n",
        "i = 2\n",
        "print(i)\n",
        "\n",
        "i = 3\n",
        "print(i)\n",
        "```\n",
        "\n",
        "## Assignment for introduction to for loops\n",
        "\n",
        "Modify the code to print 3, 5, 7"
      ]
    },
    {
      "cell_type": "code",
      "execution_count": 11,
      "metadata": {
        "colab": {
          "base_uri": "https://localhost:8080/"
        },
        "id": "_4wybyzlFtB_",
        "outputId": "c1d498f4-4c92-4bb9-9a61-d777895b2237"
      },
      "outputs": [
        {
          "name": "stdout",
          "output_type": "stream",
          "text": [
            "1\n",
            "2\n",
            "3\n"
          ]
        }
      ],
      "source": [
        "i = 1\n",
        "print(i)\n",
        "\n",
        "i = 2\n",
        "print(i)\n",
        "\n",
        "i = 3\n",
        "print(i)"
      ]
    },
    {
      "cell_type": "markdown",
      "metadata": {
        "id": "wHSyTUTMFtB_"
      },
      "source": [
        "## Using for loops\n",
        "Suppose that we want to count to 100.\n",
        "\n",
        "We would have to repeat these statements 100 times!\n",
        "\n",
        "<tt>for</tt> loops allow us to use only one <tt>print()</tt> function statement.\n",
        "\n",
        "To use a <tt>for</tt>, we need to define the starting number and when to stop counting.\n",
        "\n",
        "Let us redo the code for counting to 1, 2, 3:\n",
        "```\n",
        "startNumber = 1\n",
        "stopNumber  = 3 + 1\n",
        "```\n",
        "Here, <tt>stopNumber = 3 + 1</tt> means that we should stop counting to avoid going past 3.\n",
        "\n",
        "To count 1, 2, 3, we use the <tt>for</tt> loop as given below:\n",
        "```\n",
        "for i in range(startNumber, stopNumber):\n",
        "  print(i)\n",
        "```\n",
        "Here, <tt>range(startNumber, stopNumber)</tt> generates the numbers 1, 2, 3.\n",
        "\n",
        "It starts with 1 (=<tt>startNumber</tt>), then 2, 3, but because <tt>stopNumber=4</tt>, it does not generate 4.\n",
        "\n",
        "Then the line <tt>i in range(startNumber, stopNumber)</tt> copies these numbers into <tt>i</tt>, one by one.\n",
        "\n",
        "After copying the numbers, it executes <tt>print(i)</tt> to print the numbers.\n",
        "\n",
        "## Assignment for counting to different values\n",
        "\n",
        "Modify the code to count to 100!\n",
        "\n",
        "\n",
        "\n",
        "\n",
        "\n"
      ]
    },
    {
      "cell_type": "code",
      "execution_count": 12,
      "metadata": {
        "colab": {
          "base_uri": "https://localhost:8080/"
        },
        "id": "Yt9sAPE6FtB_",
        "outputId": "967eced0-6f6b-49fc-eceb-1a2e35fbf847"
      },
      "outputs": [
        {
          "name": "stdout",
          "output_type": "stream",
          "text": [
            "1\n",
            "2\n",
            "3\n"
          ]
        }
      ],
      "source": [
        "startNumber = 1\n",
        "stopNumber  = 3+1\n",
        "for i in range(startNumber, stopNumber):\n",
        "  print(i)"
      ]
    },
    {
      "cell_type": "markdown",
      "metadata": {
        "id": "RNOzWVmzFtCA"
      },
      "source": [
        "## Using for loops to count by different steps\n",
        "We can use <tt>for</tt> loops to count by different steps.\n",
        "\n",
        "For example, we can use a <tt>for</tt> loop to count\n",
        "5, 10, 15.\n",
        "\n",
        "We only need to specify that we are counting by 5s instead of just adding 1 every time.\n",
        "\n",
        "This is done using a <tt>step</tt> as follows:\n",
        "\n",
        "\n",
        "```\n",
        "step = 5\n",
        "startNumber = 5\n",
        "stopNumber  = 15 + step\n",
        "for i in range(startNumber, stopNumber, step):\n",
        "  print(i)\n",
        "```\n",
        "\n",
        "## Assignment for counting by different steps\n",
        "\n",
        "Change the code so that you can count\n",
        "3, 9, 15.\n",
        "\n",
        "\n",
        "\n",
        "\n"
      ]
    },
    {
      "cell_type": "code",
      "execution_count": 13,
      "metadata": {
        "colab": {
          "base_uri": "https://localhost:8080/"
        },
        "id": "f2eci_afFtCA",
        "outputId": "3df0f4f9-9e1d-4ca2-a413-edb3851aa0c2"
      },
      "outputs": [
        {
          "name": "stdout",
          "output_type": "stream",
          "text": [
            "5\n",
            "10\n",
            "15\n"
          ]
        }
      ],
      "source": [
        "step = 5\n",
        "startNumber = 5\n",
        "stopNumber  = 15 + step\n",
        "for i in range(startNumber, stopNumber, step):\n",
        "  print(i)"
      ]
    },
    {
      "cell_type": "markdown",
      "metadata": {
        "id": "RV5IxIyhFtCA"
      },
      "source": [
        "# Evaluate a mathematical function using a for loop\n",
        "We can combine <tt>for</tt> loops with functions.\n",
        "This is done by inserting the function evaluation inside a loop:\n",
        "```\n",
        "for x in range(startNumber, stopNumber, step):\n",
        "  y = 0.05*(2)**x\n",
        "  print(\"x=\", x, \"y=0.05*(2)**\", x, \" y=\", y)\n",
        "```\n",
        "\n",
        "\n",
        "\n",
        "## Assignment: using for-loops to evaluate functions\n",
        "Study the code below and then modify it as follows:\n",
        "1. Change the function to <tt>y=5*x+2</tt>\n",
        "2. Evaluate the function for <tt>x=0, 1, 2, 3.</tt>"
      ]
    },
    {
      "cell_type": "code",
      "execution_count": 14,
      "metadata": {
        "colab": {
          "base_uri": "https://localhost:8080/"
        },
        "id": "Y_XRfdB4FtCA",
        "outputId": "12e84af7-061d-4340-a56e-8d2eeef2f996"
      },
      "outputs": [
        {
          "name": "stdout",
          "output_type": "stream",
          "text": [
            "x= -2 y=0.05*(2)** -2  y= 0.0125\n",
            "x= -1 y=0.05*(2)** -1  y= 0.025\n",
            "x= 0 y=0.05*(2)** 0  y= 0.05\n",
            "x= 1 y=0.05*(2)** 1  y= 0.1\n",
            "x= 2 y=0.05*(2)** 2  y= 0.2\n",
            "x= 3 y=0.05*(2)** 3  y= 0.4\n",
            "x= 4 y=0.05*(2)** 4  y= 0.8\n"
          ]
        }
      ],
      "source": [
        "step = 1\n",
        "startNumber = -2\n",
        "stopNumber  = 4 + step\n",
        "for x in range(startNumber, stopNumber, step):\n",
        "  y = 0.05*(2)**x\n",
        "  print(\"x=\", x, \"y=0.05*(2)**\", x, \" y=\", y)"
      ]
    },
    {
      "cell_type": "markdown",
      "metadata": {
        "id": "u55AidX6HPL0"
      },
      "source": [
        "# Creating lists using loops\n",
        "We can store the results in lists.<br>\n",
        "To do this, we start with empty lists outside the loop:\n",
        "```\n",
        "x_vals = []\n",
        "```\n",
        "We then use an <tt>append</tt> inside the loop:\n",
        "```\n",
        "x_vals   = []\n",
        "for x in range(startNumber, stopNumber, step):\n",
        "  # loop code here ...\n",
        "  x_vals.append(x)\n",
        "```\n",
        "Similarly, we can keep track of the function evaluations and the ouputs\n",
        "by putting them in a list.<br>\n",
        "See the code below.\n",
        "\n",
        "## Assignment:\n",
        "Study the code that was provided to you.\n",
        "1. Print the three lists that were generated.\n",
        "2. Do they match the order in the output? Explain.\n",
        "\n",
        "\n",
        "\n"
      ]
    },
    {
      "cell_type": "code",
      "execution_count": 15,
      "metadata": {
        "colab": {
          "base_uri": "https://localhost:8080/"
        },
        "id": "jky_ugJbFtCA",
        "outputId": "79430dc6-932b-4c7f-89e9-5250235d4c34"
      },
      "outputs": [
        {
          "name": "stdout",
          "output_type": "stream",
          "text": [
            "x= -2 y=0.05*(2)**-2 -2  y= 0.0125\n",
            "x= -1 y=0.05*(2)**-1 -1  y= 0.025\n",
            "x= 0 y=0.05*(2)**0 0  y= 0.05\n",
            "x= 1 y=0.05*(2)**1 1  y= 0.1\n",
            "x= 2 y=0.05*(2)**2 2  y= 0.2\n",
            "x= 3 y=0.05*(2)**3 3  y= 0.4\n",
            "x= 4 y=0.05*(2)**4 4  y= 0.8\n"
          ]
        }
      ],
      "source": [
        "step = 1\n",
        "startNumber = -2\n",
        "stopNumber  = 4 + step\n",
        "\n",
        "x_vals   = []\n",
        "y_vals   = []\n",
        "str_vals = []\n",
        "for x in range(startNumber, stopNumber, step):\n",
        "  y = 0.05*(2)**x\n",
        "\n",
        "  str_val = \"y=0.05*(2)**\"+str(x)\n",
        "\n",
        "  print(\"x=\", x, str_val, x, \" y=\", y)\n",
        "\n",
        "  x_vals.append(x)\n",
        "  y_vals.append(y)\n",
        "  str_vals.append(str_val)"
      ]
    },
    {
      "cell_type": "markdown",
      "metadata": {
        "id": "pt8aXVf6Jhl2"
      },
      "source": [
        "# Creating tables using object oriented programming\n",
        "We can create a nice table of the output.<br>\n",
        "Here, we care a table object using:\n",
        "```\n",
        "my_table = table()\n",
        "```\n",
        "We can then store the column labels using a list of strings:\n",
        "```\n",
        "my_table.column_labels = [\"x\", \"y=0.05*(2)**x\", \"y\"]\n",
        "```\n",
        "The values can by stored using another list:\n",
        "```\n",
        "my_table.data_values   = [x_vals, str_vals, y_vals]\n",
        "```\n",
        "We can then print the table using:\n",
        "```\n",
        "my_table.plotTable()\n",
        "```\n",
        "\n",
        "## Assignment: Table manipulation\n",
        "Study and run the code below.<br>\n",
        "Then modify the code to change the labels to <tt>x values, function, y values</tt>.\n",
        "\n",
        "\n",
        "\n",
        "\n",
        "\n",
        "\n",
        "\n",
        "\n",
        "\n"
      ]
    },
    {
      "cell_type": "code",
      "execution_count": 17,
      "metadata": {
        "colab": {
          "base_uri": "https://localhost:8080/",
          "height": 542
        },
        "id": "z1TNOYAVFtCA",
        "outputId": "3382b66b-2353-4914-a828-626b5dfec97f"
      },
      "outputs": [
        {
          "name": "stdout",
          "output_type": "stream",
          "text": [
            "[[-2, -1, 0, 1, 2, 3, 4], ['y=0.05*(2)**-2', 'y=0.05*(2)**-1', 'y=0.05*(2)**0', 'y=0.05*(2)**1', 'y=0.05*(2)**2', 'y=0.05*(2)**3', 'y=0.05*(2)**4'], [0.0125, 0.025, 0.05, 0.1, 0.2, 0.4, 0.8]]\n"
          ]
        },
        {
          "data": {
            "application/vnd.plotly.v1+json": {
              "config": {
                "plotlyServerURL": "https://plot.ly"
              },
              "data": [
                {
                  "cells": {
                    "values": [
                      [
                        -2,
                        -1,
                        0,
                        1,
                        2,
                        3,
                        4
                      ],
                      [
                        "y=0.05*(2)**-2",
                        "y=0.05*(2)**-1",
                        "y=0.05*(2)**0",
                        "y=0.05*(2)**1",
                        "y=0.05*(2)**2",
                        "y=0.05*(2)**3",
                        "y=0.05*(2)**4"
                      ],
                      [
                        0.0125,
                        0.025,
                        0.05,
                        0.1,
                        0.2,
                        0.4,
                        0.8
                      ]
                    ]
                  },
                  "header": {
                    "values": [
                      "x",
                      "y=0.05*(2)**x",
                      "y"
                    ]
                  },
                  "type": "table"
                }
              ],
              "layout": {
                "autosize": false,
                "template": {
                  "data": {
                    "bar": [
                      {
                        "error_x": {
                          "color": "#2a3f5f"
                        },
                        "error_y": {
                          "color": "#2a3f5f"
                        },
                        "marker": {
                          "line": {
                            "color": "#E5ECF6",
                            "width": 0.5
                          },
                          "pattern": {
                            "fillmode": "overlay",
                            "size": 10,
                            "solidity": 0.2
                          }
                        },
                        "type": "bar"
                      }
                    ],
                    "barpolar": [
                      {
                        "marker": {
                          "line": {
                            "color": "#E5ECF6",
                            "width": 0.5
                          },
                          "pattern": {
                            "fillmode": "overlay",
                            "size": 10,
                            "solidity": 0.2
                          }
                        },
                        "type": "barpolar"
                      }
                    ],
                    "carpet": [
                      {
                        "aaxis": {
                          "endlinecolor": "#2a3f5f",
                          "gridcolor": "white",
                          "linecolor": "white",
                          "minorgridcolor": "white",
                          "startlinecolor": "#2a3f5f"
                        },
                        "baxis": {
                          "endlinecolor": "#2a3f5f",
                          "gridcolor": "white",
                          "linecolor": "white",
                          "minorgridcolor": "white",
                          "startlinecolor": "#2a3f5f"
                        },
                        "type": "carpet"
                      }
                    ],
                    "choropleth": [
                      {
                        "colorbar": {
                          "outlinewidth": 0,
                          "ticks": ""
                        },
                        "type": "choropleth"
                      }
                    ],
                    "contour": [
                      {
                        "colorbar": {
                          "outlinewidth": 0,
                          "ticks": ""
                        },
                        "colorscale": [
                          [
                            0,
                            "#0d0887"
                          ],
                          [
                            0.1111111111111111,
                            "#46039f"
                          ],
                          [
                            0.2222222222222222,
                            "#7201a8"
                          ],
                          [
                            0.3333333333333333,
                            "#9c179e"
                          ],
                          [
                            0.4444444444444444,
                            "#bd3786"
                          ],
                          [
                            0.5555555555555556,
                            "#d8576b"
                          ],
                          [
                            0.6666666666666666,
                            "#ed7953"
                          ],
                          [
                            0.7777777777777778,
                            "#fb9f3a"
                          ],
                          [
                            0.8888888888888888,
                            "#fdca26"
                          ],
                          [
                            1,
                            "#f0f921"
                          ]
                        ],
                        "type": "contour"
                      }
                    ],
                    "contourcarpet": [
                      {
                        "colorbar": {
                          "outlinewidth": 0,
                          "ticks": ""
                        },
                        "type": "contourcarpet"
                      }
                    ],
                    "heatmap": [
                      {
                        "colorbar": {
                          "outlinewidth": 0,
                          "ticks": ""
                        },
                        "colorscale": [
                          [
                            0,
                            "#0d0887"
                          ],
                          [
                            0.1111111111111111,
                            "#46039f"
                          ],
                          [
                            0.2222222222222222,
                            "#7201a8"
                          ],
                          [
                            0.3333333333333333,
                            "#9c179e"
                          ],
                          [
                            0.4444444444444444,
                            "#bd3786"
                          ],
                          [
                            0.5555555555555556,
                            "#d8576b"
                          ],
                          [
                            0.6666666666666666,
                            "#ed7953"
                          ],
                          [
                            0.7777777777777778,
                            "#fb9f3a"
                          ],
                          [
                            0.8888888888888888,
                            "#fdca26"
                          ],
                          [
                            1,
                            "#f0f921"
                          ]
                        ],
                        "type": "heatmap"
                      }
                    ],
                    "heatmapgl": [
                      {
                        "colorbar": {
                          "outlinewidth": 0,
                          "ticks": ""
                        },
                        "colorscale": [
                          [
                            0,
                            "#0d0887"
                          ],
                          [
                            0.1111111111111111,
                            "#46039f"
                          ],
                          [
                            0.2222222222222222,
                            "#7201a8"
                          ],
                          [
                            0.3333333333333333,
                            "#9c179e"
                          ],
                          [
                            0.4444444444444444,
                            "#bd3786"
                          ],
                          [
                            0.5555555555555556,
                            "#d8576b"
                          ],
                          [
                            0.6666666666666666,
                            "#ed7953"
                          ],
                          [
                            0.7777777777777778,
                            "#fb9f3a"
                          ],
                          [
                            0.8888888888888888,
                            "#fdca26"
                          ],
                          [
                            1,
                            "#f0f921"
                          ]
                        ],
                        "type": "heatmapgl"
                      }
                    ],
                    "histogram": [
                      {
                        "marker": {
                          "pattern": {
                            "fillmode": "overlay",
                            "size": 10,
                            "solidity": 0.2
                          }
                        },
                        "type": "histogram"
                      }
                    ],
                    "histogram2d": [
                      {
                        "colorbar": {
                          "outlinewidth": 0,
                          "ticks": ""
                        },
                        "colorscale": [
                          [
                            0,
                            "#0d0887"
                          ],
                          [
                            0.1111111111111111,
                            "#46039f"
                          ],
                          [
                            0.2222222222222222,
                            "#7201a8"
                          ],
                          [
                            0.3333333333333333,
                            "#9c179e"
                          ],
                          [
                            0.4444444444444444,
                            "#bd3786"
                          ],
                          [
                            0.5555555555555556,
                            "#d8576b"
                          ],
                          [
                            0.6666666666666666,
                            "#ed7953"
                          ],
                          [
                            0.7777777777777778,
                            "#fb9f3a"
                          ],
                          [
                            0.8888888888888888,
                            "#fdca26"
                          ],
                          [
                            1,
                            "#f0f921"
                          ]
                        ],
                        "type": "histogram2d"
                      }
                    ],
                    "histogram2dcontour": [
                      {
                        "colorbar": {
                          "outlinewidth": 0,
                          "ticks": ""
                        },
                        "colorscale": [
                          [
                            0,
                            "#0d0887"
                          ],
                          [
                            0.1111111111111111,
                            "#46039f"
                          ],
                          [
                            0.2222222222222222,
                            "#7201a8"
                          ],
                          [
                            0.3333333333333333,
                            "#9c179e"
                          ],
                          [
                            0.4444444444444444,
                            "#bd3786"
                          ],
                          [
                            0.5555555555555556,
                            "#d8576b"
                          ],
                          [
                            0.6666666666666666,
                            "#ed7953"
                          ],
                          [
                            0.7777777777777778,
                            "#fb9f3a"
                          ],
                          [
                            0.8888888888888888,
                            "#fdca26"
                          ],
                          [
                            1,
                            "#f0f921"
                          ]
                        ],
                        "type": "histogram2dcontour"
                      }
                    ],
                    "mesh3d": [
                      {
                        "colorbar": {
                          "outlinewidth": 0,
                          "ticks": ""
                        },
                        "type": "mesh3d"
                      }
                    ],
                    "parcoords": [
                      {
                        "line": {
                          "colorbar": {
                            "outlinewidth": 0,
                            "ticks": ""
                          }
                        },
                        "type": "parcoords"
                      }
                    ],
                    "pie": [
                      {
                        "automargin": true,
                        "type": "pie"
                      }
                    ],
                    "scatter": [
                      {
                        "fillpattern": {
                          "fillmode": "overlay",
                          "size": 10,
                          "solidity": 0.2
                        },
                        "type": "scatter"
                      }
                    ],
                    "scatter3d": [
                      {
                        "line": {
                          "colorbar": {
                            "outlinewidth": 0,
                            "ticks": ""
                          }
                        },
                        "marker": {
                          "colorbar": {
                            "outlinewidth": 0,
                            "ticks": ""
                          }
                        },
                        "type": "scatter3d"
                      }
                    ],
                    "scattercarpet": [
                      {
                        "marker": {
                          "colorbar": {
                            "outlinewidth": 0,
                            "ticks": ""
                          }
                        },
                        "type": "scattercarpet"
                      }
                    ],
                    "scattergeo": [
                      {
                        "marker": {
                          "colorbar": {
                            "outlinewidth": 0,
                            "ticks": ""
                          }
                        },
                        "type": "scattergeo"
                      }
                    ],
                    "scattergl": [
                      {
                        "marker": {
                          "colorbar": {
                            "outlinewidth": 0,
                            "ticks": ""
                          }
                        },
                        "type": "scattergl"
                      }
                    ],
                    "scattermapbox": [
                      {
                        "marker": {
                          "colorbar": {
                            "outlinewidth": 0,
                            "ticks": ""
                          }
                        },
                        "type": "scattermapbox"
                      }
                    ],
                    "scatterpolar": [
                      {
                        "marker": {
                          "colorbar": {
                            "outlinewidth": 0,
                            "ticks": ""
                          }
                        },
                        "type": "scatterpolar"
                      }
                    ],
                    "scatterpolargl": [
                      {
                        "marker": {
                          "colorbar": {
                            "outlinewidth": 0,
                            "ticks": ""
                          }
                        },
                        "type": "scatterpolargl"
                      }
                    ],
                    "scatterternary": [
                      {
                        "marker": {
                          "colorbar": {
                            "outlinewidth": 0,
                            "ticks": ""
                          }
                        },
                        "type": "scatterternary"
                      }
                    ],
                    "surface": [
                      {
                        "colorbar": {
                          "outlinewidth": 0,
                          "ticks": ""
                        },
                        "colorscale": [
                          [
                            0,
                            "#0d0887"
                          ],
                          [
                            0.1111111111111111,
                            "#46039f"
                          ],
                          [
                            0.2222222222222222,
                            "#7201a8"
                          ],
                          [
                            0.3333333333333333,
                            "#9c179e"
                          ],
                          [
                            0.4444444444444444,
                            "#bd3786"
                          ],
                          [
                            0.5555555555555556,
                            "#d8576b"
                          ],
                          [
                            0.6666666666666666,
                            "#ed7953"
                          ],
                          [
                            0.7777777777777778,
                            "#fb9f3a"
                          ],
                          [
                            0.8888888888888888,
                            "#fdca26"
                          ],
                          [
                            1,
                            "#f0f921"
                          ]
                        ],
                        "type": "surface"
                      }
                    ],
                    "table": [
                      {
                        "cells": {
                          "fill": {
                            "color": "#EBF0F8"
                          },
                          "line": {
                            "color": "white"
                          }
                        },
                        "header": {
                          "fill": {
                            "color": "#C8D4E3"
                          },
                          "line": {
                            "color": "white"
                          }
                        },
                        "type": "table"
                      }
                    ]
                  },
                  "layout": {
                    "annotationdefaults": {
                      "arrowcolor": "#2a3f5f",
                      "arrowhead": 0,
                      "arrowwidth": 1
                    },
                    "autotypenumbers": "strict",
                    "coloraxis": {
                      "colorbar": {
                        "outlinewidth": 0,
                        "ticks": ""
                      }
                    },
                    "colorscale": {
                      "diverging": [
                        [
                          0,
                          "#8e0152"
                        ],
                        [
                          0.1,
                          "#c51b7d"
                        ],
                        [
                          0.2,
                          "#de77ae"
                        ],
                        [
                          0.3,
                          "#f1b6da"
                        ],
                        [
                          0.4,
                          "#fde0ef"
                        ],
                        [
                          0.5,
                          "#f7f7f7"
                        ],
                        [
                          0.6,
                          "#e6f5d0"
                        ],
                        [
                          0.7,
                          "#b8e186"
                        ],
                        [
                          0.8,
                          "#7fbc41"
                        ],
                        [
                          0.9,
                          "#4d9221"
                        ],
                        [
                          1,
                          "#276419"
                        ]
                      ],
                      "sequential": [
                        [
                          0,
                          "#0d0887"
                        ],
                        [
                          0.1111111111111111,
                          "#46039f"
                        ],
                        [
                          0.2222222222222222,
                          "#7201a8"
                        ],
                        [
                          0.3333333333333333,
                          "#9c179e"
                        ],
                        [
                          0.4444444444444444,
                          "#bd3786"
                        ],
                        [
                          0.5555555555555556,
                          "#d8576b"
                        ],
                        [
                          0.6666666666666666,
                          "#ed7953"
                        ],
                        [
                          0.7777777777777778,
                          "#fb9f3a"
                        ],
                        [
                          0.8888888888888888,
                          "#fdca26"
                        ],
                        [
                          1,
                          "#f0f921"
                        ]
                      ],
                      "sequentialminus": [
                        [
                          0,
                          "#0d0887"
                        ],
                        [
                          0.1111111111111111,
                          "#46039f"
                        ],
                        [
                          0.2222222222222222,
                          "#7201a8"
                        ],
                        [
                          0.3333333333333333,
                          "#9c179e"
                        ],
                        [
                          0.4444444444444444,
                          "#bd3786"
                        ],
                        [
                          0.5555555555555556,
                          "#d8576b"
                        ],
                        [
                          0.6666666666666666,
                          "#ed7953"
                        ],
                        [
                          0.7777777777777778,
                          "#fb9f3a"
                        ],
                        [
                          0.8888888888888888,
                          "#fdca26"
                        ],
                        [
                          1,
                          "#f0f921"
                        ]
                      ]
                    },
                    "colorway": [
                      "#636efa",
                      "#EF553B",
                      "#00cc96",
                      "#ab63fa",
                      "#FFA15A",
                      "#19d3f3",
                      "#FF6692",
                      "#B6E880",
                      "#FF97FF",
                      "#FECB52"
                    ],
                    "font": {
                      "color": "#2a3f5f"
                    },
                    "geo": {
                      "bgcolor": "white",
                      "lakecolor": "white",
                      "landcolor": "#E5ECF6",
                      "showlakes": true,
                      "showland": true,
                      "subunitcolor": "white"
                    },
                    "hoverlabel": {
                      "align": "left"
                    },
                    "hovermode": "closest",
                    "mapbox": {
                      "style": "light"
                    },
                    "paper_bgcolor": "white",
                    "plot_bgcolor": "#E5ECF6",
                    "polar": {
                      "angularaxis": {
                        "gridcolor": "white",
                        "linecolor": "white",
                        "ticks": ""
                      },
                      "bgcolor": "#E5ECF6",
                      "radialaxis": {
                        "gridcolor": "white",
                        "linecolor": "white",
                        "ticks": ""
                      }
                    },
                    "scene": {
                      "xaxis": {
                        "backgroundcolor": "#E5ECF6",
                        "gridcolor": "white",
                        "gridwidth": 2,
                        "linecolor": "white",
                        "showbackground": true,
                        "ticks": "",
                        "zerolinecolor": "white"
                      },
                      "yaxis": {
                        "backgroundcolor": "#E5ECF6",
                        "gridcolor": "white",
                        "gridwidth": 2,
                        "linecolor": "white",
                        "showbackground": true,
                        "ticks": "",
                        "zerolinecolor": "white"
                      },
                      "zaxis": {
                        "backgroundcolor": "#E5ECF6",
                        "gridcolor": "white",
                        "gridwidth": 2,
                        "linecolor": "white",
                        "showbackground": true,
                        "ticks": "",
                        "zerolinecolor": "white"
                      }
                    },
                    "shapedefaults": {
                      "line": {
                        "color": "#2a3f5f"
                      }
                    },
                    "ternary": {
                      "aaxis": {
                        "gridcolor": "white",
                        "linecolor": "white",
                        "ticks": ""
                      },
                      "baxis": {
                        "gridcolor": "white",
                        "linecolor": "white",
                        "ticks": ""
                      },
                      "bgcolor": "#E5ECF6",
                      "caxis": {
                        "gridcolor": "white",
                        "linecolor": "white",
                        "ticks": ""
                      }
                    },
                    "title": {
                      "x": 0.05
                    },
                    "xaxis": {
                      "automargin": true,
                      "gridcolor": "white",
                      "linecolor": "white",
                      "ticks": "",
                      "title": {
                        "standoff": 15
                      },
                      "zerolinecolor": "white",
                      "zerolinewidth": 2
                    },
                    "yaxis": {
                      "automargin": true,
                      "gridcolor": "white",
                      "linecolor": "white",
                      "ticks": "",
                      "title": {
                        "standoff": 15
                      },
                      "zerolinecolor": "white",
                      "zerolinewidth": 2
                    }
                  }
                }
              }
            }
          },
          "metadata": {},
          "output_type": "display_data"
        }
      ],
      "source": [
        "# Create an instance of a table object\n",
        "my_table = table()\n",
        "\n",
        "# Labels\n",
        "my_table.column_labels = [\"x\", \"y=0.05*(2)**x\", \"y\"]\n",
        "\n",
        "# Data\n",
        "my_table.data_values   = [x_vals, str_vals, y_vals]\n",
        "\n",
        "print(my_table.data_values)\n",
        "\n",
        "# Plot the table\n",
        "my_table.plotTable()"
      ]
    }
  ],
  "metadata": {
    "colab": {
      "include_colab_link": true,
      "provenance": [],
      "toc_visible": true
    },
    "kernelspec": {
      "display_name": "Python 3",
      "name": "python3"
    },
    "language_info": {
      "codemirror_mode": {
        "name": "ipython",
        "version": 3
      },
      "file_extension": ".py",
      "mimetype": "text/x-python",
      "name": "python",
      "nbconvert_exporter": "python",
      "pygments_lexer": "ipython3",
      "version": "3.10.13"
    }
  },
  "nbformat": 4,
  "nbformat_minor": 0
}
